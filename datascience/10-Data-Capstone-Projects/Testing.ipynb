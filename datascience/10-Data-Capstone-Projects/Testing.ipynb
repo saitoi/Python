{
 "cells": [
  {
   "cell_type": "code",
   "execution_count": 1,
   "id": "704fa994-0498-46cf-aa23-76e8814c3ac0",
   "metadata": {},
   "outputs": [],
   "source": [
    "import pandas as pd\n",
    "import numpy as np\n",
    "import matplotlib.pyplot as plt\n",
    "%matplotlib inline"
   ]
  },
  {
   "cell_type": "code",
   "execution_count": 2,
   "id": "c8acbc1a-0d8b-4fef-bdbd-bd4538245e5d",
   "metadata": {},
   "outputs": [
    {
     "data": {
      "text/html": [
       "<div>\n",
       "<style scoped>\n",
       "    .dataframe tbody tr th:only-of-type {\n",
       "        vertical-align: middle;\n",
       "    }\n",
       "\n",
       "    .dataframe tbody tr th {\n",
       "        vertical-align: top;\n",
       "    }\n",
       "\n",
       "    .dataframe thead th {\n",
       "        text-align: right;\n",
       "    }\n",
       "</style>\n",
       "<table border=\"1\" class=\"dataframe\">\n",
       "  <thead>\n",
       "    <tr style=\"text-align: right;\">\n",
       "      <th></th>\n",
       "      <th>0</th>\n",
       "      <th>1</th>\n",
       "      <th>2</th>\n",
       "      <th>3</th>\n",
       "      <th>4</th>\n",
       "      <th>5</th>\n",
       "      <th>6</th>\n",
       "      <th>7</th>\n",
       "      <th>8</th>\n",
       "      <th>9</th>\n",
       "    </tr>\n",
       "  </thead>\n",
       "  <tbody>\n",
       "    <tr>\n",
       "      <th>0</th>\n",
       "      <td>0.770061</td>\n",
       "      <td>-0.972757</td>\n",
       "      <td>0.356423</td>\n",
       "      <td>-1.856671</td>\n",
       "      <td>-0.513761</td>\n",
       "      <td>0.495194</td>\n",
       "      <td>-0.978780</td>\n",
       "      <td>-0.669492</td>\n",
       "      <td>0.650596</td>\n",
       "      <td>-2.838625</td>\n",
       "    </tr>\n",
       "    <tr>\n",
       "      <th>1</th>\n",
       "      <td>0.504922</td>\n",
       "      <td>1.530797</td>\n",
       "      <td>1.256014</td>\n",
       "      <td>-0.182444</td>\n",
       "      <td>-1.366869</td>\n",
       "      <td>-0.710806</td>\n",
       "      <td>-0.417304</td>\n",
       "      <td>0.226614</td>\n",
       "      <td>-0.511290</td>\n",
       "      <td>0.357699</td>\n",
       "    </tr>\n",
       "    <tr>\n",
       "      <th>2</th>\n",
       "      <td>0.481491</td>\n",
       "      <td>-1.519298</td>\n",
       "      <td>0.338951</td>\n",
       "      <td>-0.971601</td>\n",
       "      <td>0.230688</td>\n",
       "      <td>2.236022</td>\n",
       "      <td>-0.769103</td>\n",
       "      <td>-0.492728</td>\n",
       "      <td>-0.627132</td>\n",
       "      <td>0.242883</td>\n",
       "    </tr>\n",
       "    <tr>\n",
       "      <th>3</th>\n",
       "      <td>0.995555</td>\n",
       "      <td>-1.065676</td>\n",
       "      <td>-0.508456</td>\n",
       "      <td>1.177786</td>\n",
       "      <td>-1.311897</td>\n",
       "      <td>0.769975</td>\n",
       "      <td>-1.617916</td>\n",
       "      <td>-0.532556</td>\n",
       "      <td>1.607755</td>\n",
       "      <td>-1.502769</td>\n",
       "    </tr>\n",
       "    <tr>\n",
       "      <th>4</th>\n",
       "      <td>-1.066581</td>\n",
       "      <td>-1.641023</td>\n",
       "      <td>-1.518961</td>\n",
       "      <td>0.255180</td>\n",
       "      <td>-1.370093</td>\n",
       "      <td>0.696172</td>\n",
       "      <td>1.197505</td>\n",
       "      <td>-0.703924</td>\n",
       "      <td>-1.048270</td>\n",
       "      <td>0.743251</td>\n",
       "    </tr>\n",
       "  </tbody>\n",
       "</table>\n",
       "</div>"
      ],
      "text/plain": [
       "          0         1         2         3         4         5         6  \\\n",
       "0  0.770061 -0.972757  0.356423 -1.856671 -0.513761  0.495194 -0.978780   \n",
       "1  0.504922  1.530797  1.256014 -0.182444 -1.366869 -0.710806 -0.417304   \n",
       "2  0.481491 -1.519298  0.338951 -0.971601  0.230688  2.236022 -0.769103   \n",
       "3  0.995555 -1.065676 -0.508456  1.177786 -1.311897  0.769975 -1.617916   \n",
       "4 -1.066581 -1.641023 -1.518961  0.255180 -1.370093  0.696172  1.197505   \n",
       "\n",
       "          7         8         9  \n",
       "0 -0.669492  0.650596 -2.838625  \n",
       "1  0.226614 -0.511290  0.357699  \n",
       "2 -0.492728 -0.627132  0.242883  \n",
       "3 -0.532556  1.607755 -1.502769  \n",
       "4 -0.703924 -1.048270  0.743251  "
      ]
     },
     "execution_count": 2,
     "metadata": {},
     "output_type": "execute_result"
    }
   ],
   "source": [
    "df = pd.DataFrame(np.random.randn(5, 10))\n",
    "df.head()"
   ]
  },
  {
   "cell_type": "code",
   "execution_count": 10,
   "id": "d090d17d-acc9-4366-97ed-061ab2d90fc9",
   "metadata": {},
   "outputs": [
    {
     "data": {
      "text/plain": [
       "0    5.770061\n",
       "1    5.504922\n",
       "2    5.481491\n",
       "3    5.995555\n",
       "4    3.933419\n",
       "Name: 0, dtype: float64"
      ]
     },
     "execution_count": 10,
     "metadata": {},
     "output_type": "execute_result"
    }
   ],
   "source": [
    "df[0].apply(lambda x: x+5)"
   ]
  },
  {
   "cell_type": "code",
   "execution_count": null,
   "id": "b38fe2e5-a9f0-4a74-86c3-f2a6dd645c93",
   "metadata": {},
   "outputs": [],
   "source": []
  }
 ],
 "metadata": {
  "kernelspec": {
   "display_name": "Python 3 (ipykernel)",
   "language": "python",
   "name": "python3"
  },
  "language_info": {
   "codemirror_mode": {
    "name": "ipython",
    "version": 3
   },
   "file_extension": ".py",
   "mimetype": "text/x-python",
   "name": "python",
   "nbconvert_exporter": "python",
   "pygments_lexer": "ipython3",
   "version": "3.12.1"
  }
 },
 "nbformat": 4,
 "nbformat_minor": 5
}
