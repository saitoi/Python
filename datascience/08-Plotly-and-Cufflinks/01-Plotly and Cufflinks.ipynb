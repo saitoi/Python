{
 "cells": [
  {
   "cell_type": "markdown",
   "metadata": {},
   "source": [
    "___\n",
    "\n",
    "<a href='http://www.pieriandata.com'> <img src='../Pierian_Data_Logo.png' /></a>\n",
    "___\n",
    "# Plotly and Cufflinks"
   ]
  },
  {
   "cell_type": "markdown",
   "metadata": {},
   "source": [
    "Plotly is a library that allows you to create interactive plots that you can use in dashboards or websites (you can save them as html files or static images).\n",
    "\n",
    "## Installation\n",
    "\n",
    "In order for this all to work, you'll need to install plotly and cufflinks to call plots directly off of a pandas dataframe. These libraries are not currently available through **conda** but are available through **pip**. Install the libraries at your command line/terminal using:\n",
    "\n",
    "    pip install plotly\n",
    "    pip install cufflinks\n",
    "\n",
    "** NOTE: Make sure you only have one installation of Python on your computer when you do this, otherwise the installation may not work. **\n",
    "\n",
    "## Imports and Set-up"
   ]
  },
  {
   "cell_type": "code",
   "execution_count": 2,
   "metadata": {},
   "outputs": [
    {
     "name": "stdout",
     "output_type": "stream",
     "text": [
      "5.18.0\n"
     ]
    },
    {
     "data": {
      "text/html": [
       "        <script type=\"text/javascript\">\n",
       "        window.PlotlyConfig = {MathJaxConfig: 'local'};\n",
       "        if (window.MathJax && window.MathJax.Hub && window.MathJax.Hub.Config) {window.MathJax.Hub.Config({SVG: {font: \"STIX-Web\"}});}\n",
       "        if (typeof require !== 'undefined') {\n",
       "        require.undef(\"plotly\");\n",
       "        requirejs.config({\n",
       "            paths: {\n",
       "                'plotly': ['https://cdn.plot.ly/plotly-2.27.0.min']\n",
       "            }\n",
       "        });\n",
       "        require(['plotly'], function(Plotly) {\n",
       "            window._Plotly = Plotly;\n",
       "        });\n",
       "        }\n",
       "        </script>\n",
       "        "
      ]
     },
     "metadata": {},
     "output_type": "display_data"
    },
    {
     "data": {
      "text/html": [
       "        <script type=\"text/javascript\">\n",
       "        window.PlotlyConfig = {MathJaxConfig: 'local'};\n",
       "        if (window.MathJax && window.MathJax.Hub && window.MathJax.Hub.Config) {window.MathJax.Hub.Config({SVG: {font: \"STIX-Web\"}});}\n",
       "        if (typeof require !== 'undefined') {\n",
       "        require.undef(\"plotly\");\n",
       "        requirejs.config({\n",
       "            paths: {\n",
       "                'plotly': ['https://cdn.plot.ly/plotly-2.27.0.min']\n",
       "            }\n",
       "        });\n",
       "        require(['plotly'], function(Plotly) {\n",
       "            window._Plotly = Plotly;\n",
       "        });\n",
       "        }\n",
       "        </script>\n",
       "        "
      ]
     },
     "metadata": {},
     "output_type": "display_data"
    },
    {
     "data": {
      "text/html": [
       "        <script type=\"text/javascript\">\n",
       "        window.PlotlyConfig = {MathJaxConfig: 'local'};\n",
       "        if (window.MathJax && window.MathJax.Hub && window.MathJax.Hub.Config) {window.MathJax.Hub.Config({SVG: {font: \"STIX-Web\"}});}\n",
       "        if (typeof require !== 'undefined') {\n",
       "        require.undef(\"plotly\");\n",
       "        requirejs.config({\n",
       "            paths: {\n",
       "                'plotly': ['https://cdn.plot.ly/plotly-2.27.0.min']\n",
       "            }\n",
       "        });\n",
       "        require(['plotly'], function(Plotly) {\n",
       "            window._Plotly = Plotly;\n",
       "        });\n",
       "        }\n",
       "        </script>\n",
       "        "
      ]
     },
     "metadata": {},
     "output_type": "display_data"
    }
   ],
   "source": [
    "import plotly\n",
    "import pandas as pd\n",
    "import numpy as np\n",
    "from plotly import __version__\n",
    "print(__version__)\n",
    "import cufflinks as cf\n",
    "%matplotlib inline\n",
    "from plotly.offline import download_plotlyjs, init_notebook_mode, plot, iplot\n",
    "\n",
    "init_notebook_mode(connected=True)\n",
    "cf.go_offline()\n",
    "\n"
   ]
  },
  {
   "cell_type": "code",
   "execution_count": 3,
   "metadata": {},
   "outputs": [],
   "source": [
    "import cufflinks as cf"
   ]
  },
  {
   "cell_type": "markdown",
   "metadata": {},
   "source": [
    "### Fake Data"
   ]
  },
  {
   "cell_type": "code",
   "execution_count": 4,
   "metadata": {
    "collapsed": false,
    "jupyter": {
     "outputs_hidden": false
    }
   },
   "outputs": [],
   "source": [
    "df = pd.DataFrame(np.random.randn(100,4),columns='A B C D'.split())"
   ]
  },
  {
   "cell_type": "code",
   "execution_count": 5,
   "metadata": {
    "collapsed": false,
    "jupyter": {
     "outputs_hidden": false
    }
   },
   "outputs": [
    {
     "data": {
      "text/html": [
       "<div>\n",
       "<style scoped>\n",
       "    .dataframe tbody tr th:only-of-type {\n",
       "        vertical-align: middle;\n",
       "    }\n",
       "\n",
       "    .dataframe tbody tr th {\n",
       "        vertical-align: top;\n",
       "    }\n",
       "\n",
       "    .dataframe thead th {\n",
       "        text-align: right;\n",
       "    }\n",
       "</style>\n",
       "<table border=\"1\" class=\"dataframe\">\n",
       "  <thead>\n",
       "    <tr style=\"text-align: right;\">\n",
       "      <th></th>\n",
       "      <th>A</th>\n",
       "      <th>B</th>\n",
       "      <th>C</th>\n",
       "      <th>D</th>\n",
       "    </tr>\n",
       "  </thead>\n",
       "  <tbody>\n",
       "    <tr>\n",
       "      <th>0</th>\n",
       "      <td>-0.851761</td>\n",
       "      <td>-1.241106</td>\n",
       "      <td>1.990749</td>\n",
       "      <td>-0.909528</td>\n",
       "    </tr>\n",
       "    <tr>\n",
       "      <th>1</th>\n",
       "      <td>-0.043422</td>\n",
       "      <td>0.028079</td>\n",
       "      <td>-0.004657</td>\n",
       "      <td>-0.190057</td>\n",
       "    </tr>\n",
       "    <tr>\n",
       "      <th>2</th>\n",
       "      <td>-0.521221</td>\n",
       "      <td>0.319370</td>\n",
       "      <td>-0.575545</td>\n",
       "      <td>0.269837</td>\n",
       "    </tr>\n",
       "    <tr>\n",
       "      <th>3</th>\n",
       "      <td>0.346311</td>\n",
       "      <td>-0.936624</td>\n",
       "      <td>0.538244</td>\n",
       "      <td>0.447943</td>\n",
       "    </tr>\n",
       "    <tr>\n",
       "      <th>4</th>\n",
       "      <td>-0.745882</td>\n",
       "      <td>-2.039736</td>\n",
       "      <td>0.170943</td>\n",
       "      <td>0.628876</td>\n",
       "    </tr>\n",
       "  </tbody>\n",
       "</table>\n",
       "</div>"
      ],
      "text/plain": [
       "          A         B         C         D\n",
       "0 -0.851761 -1.241106  1.990749 -0.909528\n",
       "1 -0.043422  0.028079 -0.004657 -0.190057\n",
       "2 -0.521221  0.319370 -0.575545  0.269837\n",
       "3  0.346311 -0.936624  0.538244  0.447943\n",
       "4 -0.745882 -2.039736  0.170943  0.628876"
      ]
     },
     "execution_count": 5,
     "metadata": {},
     "output_type": "execute_result"
    }
   ],
   "source": [
    "df.head()"
   ]
  },
  {
   "cell_type": "code",
   "execution_count": 6,
   "metadata": {},
   "outputs": [],
   "source": [
    "df2 = pd.DataFrame({'Category':['A','B','C'],'Values':[32,43,50]})"
   ]
  },
  {
   "cell_type": "code",
   "execution_count": 7,
   "metadata": {
    "collapsed": false,
    "jupyter": {
     "outputs_hidden": false
    }
   },
   "outputs": [
    {
     "data": {
      "text/html": [
       "<div>\n",
       "<style scoped>\n",
       "    .dataframe tbody tr th:only-of-type {\n",
       "        vertical-align: middle;\n",
       "    }\n",
       "\n",
       "    .dataframe tbody tr th {\n",
       "        vertical-align: top;\n",
       "    }\n",
       "\n",
       "    .dataframe thead th {\n",
       "        text-align: right;\n",
       "    }\n",
       "</style>\n",
       "<table border=\"1\" class=\"dataframe\">\n",
       "  <thead>\n",
       "    <tr style=\"text-align: right;\">\n",
       "      <th></th>\n",
       "      <th>Category</th>\n",
       "      <th>Values</th>\n",
       "    </tr>\n",
       "  </thead>\n",
       "  <tbody>\n",
       "    <tr>\n",
       "      <th>0</th>\n",
       "      <td>A</td>\n",
       "      <td>32</td>\n",
       "    </tr>\n",
       "    <tr>\n",
       "      <th>1</th>\n",
       "      <td>B</td>\n",
       "      <td>43</td>\n",
       "    </tr>\n",
       "    <tr>\n",
       "      <th>2</th>\n",
       "      <td>C</td>\n",
       "      <td>50</td>\n",
       "    </tr>\n",
       "  </tbody>\n",
       "</table>\n",
       "</div>"
      ],
      "text/plain": [
       "  Category  Values\n",
       "0        A      32\n",
       "1        B      43\n",
       "2        C      50"
      ]
     },
     "execution_count": 7,
     "metadata": {},
     "output_type": "execute_result"
    }
   ],
   "source": [
    "df2.head()"
   ]
  },
  {
   "cell_type": "markdown",
   "metadata": {},
   "source": [
    "## Using Cufflinks and iplot()\n",
    "\n",
    "* scatter\n",
    "* bar\n",
    "* box\n",
    "* spread\n",
    "* ratio\n",
    "* heatmap\n",
    "* surface\n",
    "* histogram\n",
    "* bubble"
   ]
  },
  {
   "cell_type": "code",
   "execution_count": null,
   "metadata": {},
   "outputs": [],
   "source": []
  },
  {
   "cell_type": "markdown",
   "metadata": {},
   "source": [
    "## Scatter"
   ]
  },
  {
   "cell_type": "code",
   "execution_count": 8,
   "metadata": {
    "collapsed": false,
    "jupyter": {
     "outputs_hidden": false
    }
   },
   "outputs": [
    {
     "data": {
      "application/vnd.plotly.v1+json": {
       "config": {
        "linkText": "Export to plot.ly",
        "plotlyServerURL": "https://plot.ly",
        "showLink": true
       },
       "data": [
        {
         "line": {
          "color": "rgba(255, 153, 51, 1.0)",
          "dash": "solid",
          "shape": "linear",
          "width": 1.3
         },
         "marker": {
          "size": 10,
          "symbol": "circle"
         },
         "mode": "markers",
         "name": "B",
         "text": "",
         "type": "scatter",
         "x": [
          -0.8517614455883655,
          -0.04342189052762476,
          -0.5212214967722162,
          0.3463107666807025,
          -0.745881714063798,
          -0.30058773176849457,
          -2.294340311312299,
          -0.6512596659917415,
          0.506280440778242,
          -0.009690230605172254,
          0.6878141235775956,
          0.9626477777248147,
          1.9166904602701855,
          -0.45669843310114844,
          -1.17050493216569,
          2.2448005418810375,
          -0.28437845271142315,
          2.20013599919316,
          -1.1618106024664825,
          -0.8567423458194338,
          -1.0208832664798144,
          0.5703772004588231,
          0.9500450320973882,
          -0.6157420152530569,
          -0.7506656628682755,
          -0.16251365544450222,
          -0.6594437150281366,
          -0.9953798842138176,
          -1.0214733410454175,
          0.9285981310725163,
          0.33397810418350543,
          2.004283613512989,
          -1.0553236237125618,
          2.2850752156538063,
          -1.3753565992764296,
          -0.16501944321362802,
          0.5859344727051908,
          -0.18337137906315976,
          0.5932397316914628,
          -1.0418591959561794,
          1.7492129420611109,
          -0.5817937909383222,
          1.2316994838318762,
          0.9294052760388295,
          0.3520482281449861,
          0.7995560104582256,
          -0.41303009169552846,
          0.6949404983860864,
          1.5221943621246272,
          0.9258134979345521,
          -0.9730478801948261,
          -0.6262233648414084,
          -0.7063907512266209,
          -0.5577707713737803,
          -1.115285461836506,
          0.14168470522696505,
          -0.5008846735922116,
          -2.132915473280724,
          -0.4274968629044933,
          -1.3049965129181547,
          0.1255639710172537,
          -0.5779084871828467,
          -2.3440688331691595,
          -0.9404043092856896,
          1.0113599002670215,
          -1.1581293656750085,
          -0.3209275331612879,
          -0.26558229431764846,
          0.5598700845574042,
          0.6541742521756773,
          -0.5044763013189157,
          1.2664555045492127,
          -0.7708413334932498,
          0.7605925642066997,
          -1.3641341420112059,
          -0.7014556822610499,
          0.11434435077903846,
          0.9554038286070254,
          -0.570544304958875,
          -1.073236016265232,
          -0.16185980233727848,
          -0.15574260103122203,
          0.009923580756196683,
          0.7915328220783816,
          -1.936094840968455,
          -0.08462248253141151,
          0.6989879597069288,
          -0.5783664463035025,
          0.29535472856846945,
          -0.9236655704169129,
          -2.0291032054275138,
          -0.34867755292168895,
          -0.8556589825027233,
          0.45736269533464113,
          1.6827814465839737,
          0.017887806579571335,
          0.7430841354778721,
          1.0473851610215101,
          -0.8759282168181415,
          0.7612861204776716
         ],
         "y": [
          -1.2411062397873414,
          0.02807914310972193,
          0.31936991465874937,
          -0.936624080293878,
          -2.0397357953994755,
          -1.2961599561491113,
          -2.4774472395187512,
          0.09931069506463953,
          0.26552531364527115,
          0.9335464940691652,
          0.8986794079209267,
          0.29622631233968777,
          0.6437623937325981,
          1.9277184697441778,
          -0.7036554347701831,
          0.2500502636911673,
          1.2350021110504927,
          1.0237531453705104,
          -0.6632947884834026,
          0.9868176338319913,
          1.3453311524356033,
          0.24952513249963243,
          -0.7082905967465567,
          1.2769871222507228,
          -1.9118975786051817,
          -0.8873715742413686,
          1.5378638040470454,
          -0.10710943967908983,
          0.7845777905330139,
          0.8270199278529797,
          0.41947638614534927,
          -0.6103461037142758,
          1.2832756709970892,
          -0.11416461232664675,
          -0.7392920699114925,
          -1.4637285693759212,
          -0.4677850468066235,
          -0.806834032956265,
          -0.3514224740201551,
          -0.08759108947064012,
          1.9604429088767352,
          -1.539498137166316,
          -0.7589306600245808,
          -1.3873313785163255,
          1.12307512963267,
          -1.0874744042664137,
          0.729226021155078,
          0.4351358751294404,
          -1.3587969148637427,
          1.6140817210918543,
          1.2660276312562755,
          -0.8082257649351985,
          0.69704454733331,
          0.4152703294264582,
          0.9034585114511574,
          -0.05924854849022004,
          2.0226182152394614,
          -0.07841380341378705,
          -0.3386092825470693,
          1.4156155845223164,
          -1.9797346660137547,
          -1.841984115363568,
          -0.5154841724459465,
          0.8939062610383636,
          -0.3489922837461976,
          -0.677196875864426,
          -1.0620264960449346,
          -1.1503882870014204,
          0.0042260410358588435,
          -0.5620865442747135,
          0.4115443926705976,
          0.7153717423546805,
          -1.5459819291841044,
          1.3252812663525808,
          0.7538124900180974,
          0.8547986901890187,
          -0.2795176870933874,
          0.763745158149344,
          0.2111943276448071,
          -0.7972437348540449,
          -0.393452740038313,
          0.9953585944717301,
          0.9534378275081842,
          0.052218086558350224,
          1.3181683198717666,
          0.2754614898008423,
          -0.8393112238396853,
          1.3546910993944914,
          0.4372159696747173,
          0.9136047664976019,
          1.443219930139496,
          0.046487522231139576,
          0.99988574453509,
          -0.0042272118759153045,
          -0.5630943395117491,
          -2.124339506586154,
          -0.22020744078220653,
          1.0475830922547424,
          0.14931168810186324,
          0.025470618198708817
         ]
        }
       ],
       "layout": {
        "autosize": true,
        "legend": {
         "bgcolor": "#F5F6F9",
         "font": {
          "color": "#4D5663"
         }
        },
        "paper_bgcolor": "#F5F6F9",
        "plot_bgcolor": "#F5F6F9",
        "template": {
         "data": {
          "bar": [
           {
            "error_x": {
             "color": "#2a3f5f"
            },
            "error_y": {
             "color": "#2a3f5f"
            },
            "marker": {
             "line": {
              "color": "#E5ECF6",
              "width": 0.5
             },
             "pattern": {
              "fillmode": "overlay",
              "size": 10,
              "solidity": 0.2
             }
            },
            "type": "bar"
           }
          ],
          "barpolar": [
           {
            "marker": {
             "line": {
              "color": "#E5ECF6",
              "width": 0.5
             },
             "pattern": {
              "fillmode": "overlay",
              "size": 10,
              "solidity": 0.2
             }
            },
            "type": "barpolar"
           }
          ],
          "carpet": [
           {
            "aaxis": {
             "endlinecolor": "#2a3f5f",
             "gridcolor": "white",
             "linecolor": "white",
             "minorgridcolor": "white",
             "startlinecolor": "#2a3f5f"
            },
            "baxis": {
             "endlinecolor": "#2a3f5f",
             "gridcolor": "white",
             "linecolor": "white",
             "minorgridcolor": "white",
             "startlinecolor": "#2a3f5f"
            },
            "type": "carpet"
           }
          ],
          "choropleth": [
           {
            "colorbar": {
             "outlinewidth": 0,
             "ticks": ""
            },
            "type": "choropleth"
           }
          ],
          "contour": [
           {
            "colorbar": {
             "outlinewidth": 0,
             "ticks": ""
            },
            "colorscale": [
             [
              0,
              "#0d0887"
             ],
             [
              0.1111111111111111,
              "#46039f"
             ],
             [
              0.2222222222222222,
              "#7201a8"
             ],
             [
              0.3333333333333333,
              "#9c179e"
             ],
             [
              0.4444444444444444,
              "#bd3786"
             ],
             [
              0.5555555555555556,
              "#d8576b"
             ],
             [
              0.6666666666666666,
              "#ed7953"
             ],
             [
              0.7777777777777778,
              "#fb9f3a"
             ],
             [
              0.8888888888888888,
              "#fdca26"
             ],
             [
              1,
              "#f0f921"
             ]
            ],
            "type": "contour"
           }
          ],
          "contourcarpet": [
           {
            "colorbar": {
             "outlinewidth": 0,
             "ticks": ""
            },
            "type": "contourcarpet"
           }
          ],
          "heatmap": [
           {
            "colorbar": {
             "outlinewidth": 0,
             "ticks": ""
            },
            "colorscale": [
             [
              0,
              "#0d0887"
             ],
             [
              0.1111111111111111,
              "#46039f"
             ],
             [
              0.2222222222222222,
              "#7201a8"
             ],
             [
              0.3333333333333333,
              "#9c179e"
             ],
             [
              0.4444444444444444,
              "#bd3786"
             ],
             [
              0.5555555555555556,
              "#d8576b"
             ],
             [
              0.6666666666666666,
              "#ed7953"
             ],
             [
              0.7777777777777778,
              "#fb9f3a"
             ],
             [
              0.8888888888888888,
              "#fdca26"
             ],
             [
              1,
              "#f0f921"
             ]
            ],
            "type": "heatmap"
           }
          ],
          "heatmapgl": [
           {
            "colorbar": {
             "outlinewidth": 0,
             "ticks": ""
            },
            "colorscale": [
             [
              0,
              "#0d0887"
             ],
             [
              0.1111111111111111,
              "#46039f"
             ],
             [
              0.2222222222222222,
              "#7201a8"
             ],
             [
              0.3333333333333333,
              "#9c179e"
             ],
             [
              0.4444444444444444,
              "#bd3786"
             ],
             [
              0.5555555555555556,
              "#d8576b"
             ],
             [
              0.6666666666666666,
              "#ed7953"
             ],
             [
              0.7777777777777778,
              "#fb9f3a"
             ],
             [
              0.8888888888888888,
              "#fdca26"
             ],
             [
              1,
              "#f0f921"
             ]
            ],
            "type": "heatmapgl"
           }
          ],
          "histogram": [
           {
            "marker": {
             "pattern": {
              "fillmode": "overlay",
              "size": 10,
              "solidity": 0.2
             }
            },
            "type": "histogram"
           }
          ],
          "histogram2d": [
           {
            "colorbar": {
             "outlinewidth": 0,
             "ticks": ""
            },
            "colorscale": [
             [
              0,
              "#0d0887"
             ],
             [
              0.1111111111111111,
              "#46039f"
             ],
             [
              0.2222222222222222,
              "#7201a8"
             ],
             [
              0.3333333333333333,
              "#9c179e"
             ],
             [
              0.4444444444444444,
              "#bd3786"
             ],
             [
              0.5555555555555556,
              "#d8576b"
             ],
             [
              0.6666666666666666,
              "#ed7953"
             ],
             [
              0.7777777777777778,
              "#fb9f3a"
             ],
             [
              0.8888888888888888,
              "#fdca26"
             ],
             [
              1,
              "#f0f921"
             ]
            ],
            "type": "histogram2d"
           }
          ],
          "histogram2dcontour": [
           {
            "colorbar": {
             "outlinewidth": 0,
             "ticks": ""
            },
            "colorscale": [
             [
              0,
              "#0d0887"
             ],
             [
              0.1111111111111111,
              "#46039f"
             ],
             [
              0.2222222222222222,
              "#7201a8"
             ],
             [
              0.3333333333333333,
              "#9c179e"
             ],
             [
              0.4444444444444444,
              "#bd3786"
             ],
             [
              0.5555555555555556,
              "#d8576b"
             ],
             [
              0.6666666666666666,
              "#ed7953"
             ],
             [
              0.7777777777777778,
              "#fb9f3a"
             ],
             [
              0.8888888888888888,
              "#fdca26"
             ],
             [
              1,
              "#f0f921"
             ]
            ],
            "type": "histogram2dcontour"
           }
          ],
          "mesh3d": [
           {
            "colorbar": {
             "outlinewidth": 0,
             "ticks": ""
            },
            "type": "mesh3d"
           }
          ],
          "parcoords": [
           {
            "line": {
             "colorbar": {
              "outlinewidth": 0,
              "ticks": ""
             }
            },
            "type": "parcoords"
           }
          ],
          "pie": [
           {
            "automargin": true,
            "type": "pie"
           }
          ],
          "scatter": [
           {
            "fillpattern": {
             "fillmode": "overlay",
             "size": 10,
             "solidity": 0.2
            },
            "type": "scatter"
           }
          ],
          "scatter3d": [
           {
            "line": {
             "colorbar": {
              "outlinewidth": 0,
              "ticks": ""
             }
            },
            "marker": {
             "colorbar": {
              "outlinewidth": 0,
              "ticks": ""
             }
            },
            "type": "scatter3d"
           }
          ],
          "scattercarpet": [
           {
            "marker": {
             "colorbar": {
              "outlinewidth": 0,
              "ticks": ""
             }
            },
            "type": "scattercarpet"
           }
          ],
          "scattergeo": [
           {
            "marker": {
             "colorbar": {
              "outlinewidth": 0,
              "ticks": ""
             }
            },
            "type": "scattergeo"
           }
          ],
          "scattergl": [
           {
            "marker": {
             "colorbar": {
              "outlinewidth": 0,
              "ticks": ""
             }
            },
            "type": "scattergl"
           }
          ],
          "scattermapbox": [
           {
            "marker": {
             "colorbar": {
              "outlinewidth": 0,
              "ticks": ""
             }
            },
            "type": "scattermapbox"
           }
          ],
          "scatterpolar": [
           {
            "marker": {
             "colorbar": {
              "outlinewidth": 0,
              "ticks": ""
             }
            },
            "type": "scatterpolar"
           }
          ],
          "scatterpolargl": [
           {
            "marker": {
             "colorbar": {
              "outlinewidth": 0,
              "ticks": ""
             }
            },
            "type": "scatterpolargl"
           }
          ],
          "scatterternary": [
           {
            "marker": {
             "colorbar": {
              "outlinewidth": 0,
              "ticks": ""
             }
            },
            "type": "scatterternary"
           }
          ],
          "surface": [
           {
            "colorbar": {
             "outlinewidth": 0,
             "ticks": ""
            },
            "colorscale": [
             [
              0,
              "#0d0887"
             ],
             [
              0.1111111111111111,
              "#46039f"
             ],
             [
              0.2222222222222222,
              "#7201a8"
             ],
             [
              0.3333333333333333,
              "#9c179e"
             ],
             [
              0.4444444444444444,
              "#bd3786"
             ],
             [
              0.5555555555555556,
              "#d8576b"
             ],
             [
              0.6666666666666666,
              "#ed7953"
             ],
             [
              0.7777777777777778,
              "#fb9f3a"
             ],
             [
              0.8888888888888888,
              "#fdca26"
             ],
             [
              1,
              "#f0f921"
             ]
            ],
            "type": "surface"
           }
          ],
          "table": [
           {
            "cells": {
             "fill": {
              "color": "#EBF0F8"
             },
             "line": {
              "color": "white"
             }
            },
            "header": {
             "fill": {
              "color": "#C8D4E3"
             },
             "line": {
              "color": "white"
             }
            },
            "type": "table"
           }
          ]
         },
         "layout": {
          "annotationdefaults": {
           "arrowcolor": "#2a3f5f",
           "arrowhead": 0,
           "arrowwidth": 1
          },
          "autotypenumbers": "strict",
          "coloraxis": {
           "colorbar": {
            "outlinewidth": 0,
            "ticks": ""
           }
          },
          "colorscale": {
           "diverging": [
            [
             0,
             "#8e0152"
            ],
            [
             0.1,
             "#c51b7d"
            ],
            [
             0.2,
             "#de77ae"
            ],
            [
             0.3,
             "#f1b6da"
            ],
            [
             0.4,
             "#fde0ef"
            ],
            [
             0.5,
             "#f7f7f7"
            ],
            [
             0.6,
             "#e6f5d0"
            ],
            [
             0.7,
             "#b8e186"
            ],
            [
             0.8,
             "#7fbc41"
            ],
            [
             0.9,
             "#4d9221"
            ],
            [
             1,
             "#276419"
            ]
           ],
           "sequential": [
            [
             0,
             "#0d0887"
            ],
            [
             0.1111111111111111,
             "#46039f"
            ],
            [
             0.2222222222222222,
             "#7201a8"
            ],
            [
             0.3333333333333333,
             "#9c179e"
            ],
            [
             0.4444444444444444,
             "#bd3786"
            ],
            [
             0.5555555555555556,
             "#d8576b"
            ],
            [
             0.6666666666666666,
             "#ed7953"
            ],
            [
             0.7777777777777778,
             "#fb9f3a"
            ],
            [
             0.8888888888888888,
             "#fdca26"
            ],
            [
             1,
             "#f0f921"
            ]
           ],
           "sequentialminus": [
            [
             0,
             "#0d0887"
            ],
            [
             0.1111111111111111,
             "#46039f"
            ],
            [
             0.2222222222222222,
             "#7201a8"
            ],
            [
             0.3333333333333333,
             "#9c179e"
            ],
            [
             0.4444444444444444,
             "#bd3786"
            ],
            [
             0.5555555555555556,
             "#d8576b"
            ],
            [
             0.6666666666666666,
             "#ed7953"
            ],
            [
             0.7777777777777778,
             "#fb9f3a"
            ],
            [
             0.8888888888888888,
             "#fdca26"
            ],
            [
             1,
             "#f0f921"
            ]
           ]
          },
          "colorway": [
           "#636efa",
           "#EF553B",
           "#00cc96",
           "#ab63fa",
           "#FFA15A",
           "#19d3f3",
           "#FF6692",
           "#B6E880",
           "#FF97FF",
           "#FECB52"
          ],
          "font": {
           "color": "#2a3f5f"
          },
          "geo": {
           "bgcolor": "white",
           "lakecolor": "white",
           "landcolor": "#E5ECF6",
           "showlakes": true,
           "showland": true,
           "subunitcolor": "white"
          },
          "hoverlabel": {
           "align": "left"
          },
          "hovermode": "closest",
          "mapbox": {
           "style": "light"
          },
          "paper_bgcolor": "white",
          "plot_bgcolor": "#E5ECF6",
          "polar": {
           "angularaxis": {
            "gridcolor": "white",
            "linecolor": "white",
            "ticks": ""
           },
           "bgcolor": "#E5ECF6",
           "radialaxis": {
            "gridcolor": "white",
            "linecolor": "white",
            "ticks": ""
           }
          },
          "scene": {
           "xaxis": {
            "backgroundcolor": "#E5ECF6",
            "gridcolor": "white",
            "gridwidth": 2,
            "linecolor": "white",
            "showbackground": true,
            "ticks": "",
            "zerolinecolor": "white"
           },
           "yaxis": {
            "backgroundcolor": "#E5ECF6",
            "gridcolor": "white",
            "gridwidth": 2,
            "linecolor": "white",
            "showbackground": true,
            "ticks": "",
            "zerolinecolor": "white"
           },
           "zaxis": {
            "backgroundcolor": "#E5ECF6",
            "gridcolor": "white",
            "gridwidth": 2,
            "linecolor": "white",
            "showbackground": true,
            "ticks": "",
            "zerolinecolor": "white"
           }
          },
          "shapedefaults": {
           "line": {
            "color": "#2a3f5f"
           }
          },
          "ternary": {
           "aaxis": {
            "gridcolor": "white",
            "linecolor": "white",
            "ticks": ""
           },
           "baxis": {
            "gridcolor": "white",
            "linecolor": "white",
            "ticks": ""
           },
           "bgcolor": "#E5ECF6",
           "caxis": {
            "gridcolor": "white",
            "linecolor": "white",
            "ticks": ""
           }
          },
          "title": {
           "x": 0.05
          },
          "xaxis": {
           "automargin": true,
           "gridcolor": "white",
           "linecolor": "white",
           "ticks": "",
           "title": {
            "standoff": 15
           },
           "zerolinecolor": "white",
           "zerolinewidth": 2
          },
          "yaxis": {
           "automargin": true,
           "gridcolor": "white",
           "linecolor": "white",
           "ticks": "",
           "title": {
            "standoff": 15
           },
           "zerolinecolor": "white",
           "zerolinewidth": 2
          }
         }
        },
        "title": {
         "font": {
          "color": "#4D5663"
         }
        },
        "xaxis": {
         "autorange": true,
         "gridcolor": "#E1E5ED",
         "range": [
          -2.6396874557560364,
          2.580693838240683
         ],
         "showgrid": true,
         "tickfont": {
          "color": "#4D5663"
         },
         "title": {
          "font": {
           "color": "#4D5663"
          },
          "text": ""
         },
         "type": "linear",
         "zerolinecolor": "#E1E5ED"
        },
        "yaxis": {
         "autorange": true,
         "gridcolor": "#E1E5ED",
         "range": [
          -2.9364840166763617,
          2.481654992397072
         ],
         "showgrid": true,
         "tickfont": {
          "color": "#4D5663"
         },
         "title": {
          "font": {
           "color": "#4D5663"
          },
          "text": ""
         },
         "type": "linear",
         "zerolinecolor": "#E1E5ED"
        }
       }
      },
      "image/png": "[encoded data removed]",
      "text/html": [
       "<div>                            <div id=\"69166b06-492c-4ddb-8379-780dc3d1c258\" class=\"plotly-graph-div\" style=\"height:525px; width:100%;\"></div>            <script type=\"text/javascript\">                require([\"plotly\"], function(Plotly) {                    window.PLOTLYENV=window.PLOTLYENV || {};\n",
       "                    window.PLOTLYENV.BASE_URL='https://plot.ly';                                    if (document.getElementById(\"69166b06-492c-4ddb-8379-780dc3d1c258\")) {                    Plotly.newPlot(                        \"69166b06-492c-4ddb-8379-780dc3d1c258\",                        [{\"line\":{\"color\":\"rgba(255, 153, 51, 1.0)\",\"dash\":\"solid\",\"shape\":\"linear\",\"width\":1.3},\"marker\":{\"size\":10,\"symbol\":\"circle\"},\"mode\":\"markers\",\"name\":\"B\",\"text\":\"\",\"x\":[-0.8517614455883655,-0.04342189052762476,-0.5212214967722162,0.3463107666807025,-0.745881714063798,-0.30058773176849457,-2.294340311312299,-0.6512596659917415,0.506280440778242,-0.009690230605172254,0.6878141235775956,0.9626477777248147,1.9166904602701855,-0.45669843310114844,-1.17050493216569,2.2448005418810375,-0.28437845271142315,2.20013599919316,-1.1618106024664825,-0.8567423458194338,-1.0208832664798144,0.5703772004588231,0.9500450320973882,-0.6157420152530569,-0.7506656628682755,-0.16251365544450222,-0.6594437150281366,-0.9953798842138176,-1.0214733410454175,0.9285981310725163,0.33397810418350543,2.004283613512989,-1.0553236237125618,2.2850752156538063,-1.3753565992764296,-0.16501944321362802,0.5859344727051908,-0.18337137906315976,0.5932397316914628,-1.0418591959561794,1.7492129420611109,-0.5817937909383222,1.2316994838318762,0.9294052760388295,0.3520482281449861,0.7995560104582256,-0.41303009169552846,0.6949404983860864,1.5221943621246272,0.9258134979345521,-0.9730478801948261,-0.6262233648414084,-0.7063907512266209,-0.5577707713737803,-1.115285461836506,0.14168470522696505,-0.5008846735922116,-2.132915473280724,-0.4274968629044933,-1.3049965129181547,0.1255639710172537,-0.5779084871828467,-2.3440688331691595,-0.9404043092856896,1.0113599002670215,-1.1581293656750085,-0.3209275331612879,-0.26558229431764846,0.5598700845574042,0.6541742521756773,-0.5044763013189157,1.2664555045492127,-0.7708413334932498,0.7605925642066997,-1.3641341420112059,-0.7014556822610499,0.11434435077903846,0.9554038286070254,-0.570544304958875,-1.073236016265232,-0.16185980233727848,-0.15574260103122203,0.009923580756196683,0.7915328220783816,-1.936094840968455,-0.08462248253141151,0.6989879597069288,-0.5783664463035025,0.29535472856846945,-0.9236655704169129,-2.0291032054275138,-0.34867755292168895,-0.8556589825027233,0.45736269533464113,1.6827814465839737,0.017887806579571335,0.7430841354778721,1.0473851610215101,-0.8759282168181415,0.7612861204776716],\"y\":[-1.2411062397873414,0.02807914310972193,0.31936991465874937,-0.936624080293878,-2.0397357953994755,-1.2961599561491113,-2.4774472395187512,0.09931069506463953,0.26552531364527115,0.9335464940691652,0.8986794079209267,0.29622631233968777,0.6437623937325981,1.9277184697441778,-0.7036554347701831,0.2500502636911673,1.2350021110504927,1.0237531453705104,-0.6632947884834026,0.9868176338319913,1.3453311524356033,0.24952513249963243,-0.7082905967465567,1.2769871222507228,-1.9118975786051817,-0.8873715742413686,1.5378638040470454,-0.10710943967908983,0.7845777905330139,0.8270199278529797,0.41947638614534927,-0.6103461037142758,1.2832756709970892,-0.11416461232664675,-0.7392920699114925,-1.4637285693759212,-0.4677850468066235,-0.806834032956265,-0.3514224740201551,-0.08759108947064012,1.9604429088767352,-1.539498137166316,-0.7589306600245808,-1.3873313785163255,1.12307512963267,-1.0874744042664137,0.729226021155078,0.4351358751294404,-1.3587969148637427,1.6140817210918543,1.2660276312562755,-0.8082257649351985,0.69704454733331,0.4152703294264582,0.9034585114511574,-0.05924854849022004,2.0226182152394614,-0.07841380341378705,-0.3386092825470693,1.4156155845223164,-1.9797346660137547,-1.841984115363568,-0.5154841724459465,0.8939062610383636,-0.3489922837461976,-0.677196875864426,-1.0620264960449346,-1.1503882870014204,0.0042260410358588435,-0.5620865442747135,0.4115443926705976,0.7153717423546805,-1.5459819291841044,1.3252812663525808,0.7538124900180974,0.8547986901890187,-0.2795176870933874,0.763745158149344,0.2111943276448071,-0.7972437348540449,-0.393452740038313,0.9953585944717301,0.9534378275081842,0.052218086558350224,1.3181683198717666,0.2754614898008423,-0.8393112238396853,1.3546910993944914,0.4372159696747173,0.9136047664976019,1.443219930139496,0.046487522231139576,0.99988574453509,-0.0042272118759153045,-0.5630943395117491,-2.124339506586154,-0.22020744078220653,1.0475830922547424,0.14931168810186324,0.025470618198708817],\"type\":\"scatter\"}],                        {\"legend\":{\"bgcolor\":\"#F5F6F9\",\"font\":{\"color\":\"#4D5663\"}},\"paper_bgcolor\":\"#F5F6F9\",\"plot_bgcolor\":\"#F5F6F9\",\"template\":{\"data\":{\"barpolar\":[{\"marker\":{\"line\":{\"color\":\"#E5ECF6\",\"width\":0.5},\"pattern\":{\"fillmode\":\"overlay\",\"size\":10,\"solidity\":0.2}},\"type\":\"barpolar\"}],\"bar\":[{\"error_x\":{\"color\":\"#2a3f5f\"},\"error_y\":{\"color\":\"#2a3f5f\"},\"marker\":{\"line\":{\"color\":\"#E5ECF6\",\"width\":0.5},\"pattern\":{\"fillmode\":\"overlay\",\"size\":10,\"solidity\":0.2}},\"type\":\"bar\"}],\"carpet\":[{\"aaxis\":{\"endlinecolor\":\"#2a3f5f\",\"gridcolor\":\"white\",\"linecolor\":\"white\",\"minorgridcolor\":\"white\",\"startlinecolor\":\"#2a3f5f\"},\"baxis\":{\"endlinecolor\":\"#2a3f5f\",\"gridcolor\":\"white\",\"linecolor\":\"white\",\"minorgridcolor\":\"white\",\"startlinecolor\":\"#2a3f5f\"},\"type\":\"carpet\"}],\"choropleth\":[{\"colorbar\":{\"outlinewidth\":0,\"ticks\":\"\"},\"type\":\"choropleth\"}],\"contourcarpet\":[{\"colorbar\":{\"outlinewidth\":0,\"ticks\":\"\"},\"type\":\"contourcarpet\"}],\"contour\":[{\"colorbar\":{\"outlinewidth\":0,\"ticks\":\"\"},\"colorscale\":[[0.0,\"#0d0887\"],[0.1111111111111111,\"#46039f\"],[0.2222222222222222,\"#7201a8\"],[0.3333333333333333,\"#9c179e\"],[0.4444444444444444,\"#bd3786\"],[0.5555555555555556,\"#d8576b\"],[0.6666666666666666,\"#ed7953\"],[0.7777777777777778,\"#fb9f3a\"],[0.8888888888888888,\"#fdca26\"],[1.0,\"#f0f921\"]],\"type\":\"contour\"}],\"heatmapgl\":[{\"colorbar\":{\"outlinewidth\":0,\"ticks\":\"\"},\"colorscale\":[[0.0,\"#0d0887\"],[0.1111111111111111,\"#46039f\"],[0.2222222222222222,\"#7201a8\"],[0.3333333333333333,\"#9c179e\"],[0.4444444444444444,\"#bd3786\"],[0.5555555555555556,\"#d8576b\"],[0.6666666666666666,\"#ed7953\"],[0.7777777777777778,\"#fb9f3a\"],[0.8888888888888888,\"#fdca26\"],[1.0,\"#f0f921\"]],\"type\":\"heatmapgl\"}],\"heatmap\":[{\"colorbar\":{\"outlinewidth\":0,\"ticks\":\"\"},\"colorscale\":[[0.0,\"#0d0887\"],[0.1111111111111111,\"#46039f\"],[0.2222222222222222,\"#7201a8\"],[0.3333333333333333,\"#9c179e\"],[0.4444444444444444,\"#bd3786\"],[0.5555555555555556,\"#d8576b\"],[0.6666666666666666,\"#ed7953\"],[0.7777777777777778,\"#fb9f3a\"],[0.8888888888888888,\"#fdca26\"],[1.0,\"#f0f921\"]],\"type\":\"heatmap\"}],\"histogram2dcontour\":[{\"colorbar\":{\"outlinewidth\":0,\"ticks\":\"\"},\"colorscale\":[[0.0,\"#0d0887\"],[0.1111111111111111,\"#46039f\"],[0.2222222222222222,\"#7201a8\"],[0.3333333333333333,\"#9c179e\"],[0.4444444444444444,\"#bd3786\"],[0.5555555555555556,\"#d8576b\"],[0.6666666666666666,\"#ed7953\"],[0.7777777777777778,\"#fb9f3a\"],[0.8888888888888888,\"#fdca26\"],[1.0,\"#f0f921\"]],\"type\":\"histogram2dcontour\"}],\"histogram2d\":[{\"colorbar\":{\"outlinewidth\":0,\"ticks\":\"\"},\"colorscale\":[[0.0,\"#0d0887\"],[0.1111111111111111,\"#46039f\"],[0.2222222222222222,\"#7201a8\"],[0.3333333333333333,\"#9c179e\"],[0.4444444444444444,\"#bd3786\"],[0.5555555555555556,\"#d8576b\"],[0.6666666666666666,\"#ed7953\"],[0.7777777777777778,\"#fb9f3a\"],[0.8888888888888888,\"#fdca26\"],[1.0,\"#f0f921\"]],\"type\":\"histogram2d\"}],\"histogram\":[{\"marker\":{\"pattern\":{\"fillmode\":\"overlay\",\"size\":10,\"solidity\":0.2}},\"type\":\"histogram\"}],\"mesh3d\":[{\"colorbar\":{\"outlinewidth\":0,\"ticks\":\"\"},\"type\":\"mesh3d\"}],\"parcoords\":[{\"line\":{\"colorbar\":{\"outlinewidth\":0,\"ticks\":\"\"}},\"type\":\"parcoords\"}],\"pie\":[{\"automargin\":true,\"type\":\"pie\"}],\"scatter3d\":[{\"line\":{\"colorbar\":{\"outlinewidth\":0,\"ticks\":\"\"}},\"marker\":{\"colorbar\":{\"outlinewidth\":0,\"ticks\":\"\"}},\"type\":\"scatter3d\"}],\"scattercarpet\":[{\"marker\":{\"colorbar\":{\"outlinewidth\":0,\"ticks\":\"\"}},\"type\":\"scattercarpet\"}],\"scattergeo\":[{\"marker\":{\"colorbar\":{\"outlinewidth\":0,\"ticks\":\"\"}},\"type\":\"scattergeo\"}],\"scattergl\":[{\"marker\":{\"colorbar\":{\"outlinewidth\":0,\"ticks\":\"\"}},\"type\":\"scattergl\"}],\"scattermapbox\":[{\"marker\":{\"colorbar\":{\"outlinewidth\":0,\"ticks\":\"\"}},\"type\":\"scattermapbox\"}],\"scatterpolargl\":[{\"marker\":{\"colorbar\":{\"outlinewidth\":0,\"ticks\":\"\"}},\"type\":\"scatterpolargl\"}],\"scatterpolar\":[{\"marker\":{\"colorbar\":{\"outlinewidth\":0,\"ticks\":\"\"}},\"type\":\"scatterpolar\"}],\"scatter\":[{\"fillpattern\":{\"fillmode\":\"overlay\",\"size\":10,\"solidity\":0.2},\"type\":\"scatter\"}],\"scatterternary\":[{\"marker\":{\"colorbar\":{\"outlinewidth\":0,\"ticks\":\"\"}},\"type\":\"scatterternary\"}],\"surface\":[{\"colorbar\":{\"outlinewidth\":0,\"ticks\":\"\"},\"colorscale\":[[0.0,\"#0d0887\"],[0.1111111111111111,\"#46039f\"],[0.2222222222222222,\"#7201a8\"],[0.3333333333333333,\"#9c179e\"],[0.4444444444444444,\"#bd3786\"],[0.5555555555555556,\"#d8576b\"],[0.6666666666666666,\"#ed7953\"],[0.7777777777777778,\"#fb9f3a\"],[0.8888888888888888,\"#fdca26\"],[1.0,\"#f0f921\"]],\"type\":\"surface\"}],\"table\":[{\"cells\":{\"fill\":{\"color\":\"#EBF0F8\"},\"line\":{\"color\":\"white\"}},\"header\":{\"fill\":{\"color\":\"#C8D4E3\"},\"line\":{\"color\":\"white\"}},\"type\":\"table\"}]},\"layout\":{\"annotationdefaults\":{\"arrowcolor\":\"#2a3f5f\",\"arrowhead\":0,\"arrowwidth\":1},\"autotypenumbers\":\"strict\",\"coloraxis\":{\"colorbar\":{\"outlinewidth\":0,\"ticks\":\"\"}},\"colorscale\":{\"diverging\":[[0,\"#8e0152\"],[0.1,\"#c51b7d\"],[0.2,\"#de77ae\"],[0.3,\"#f1b6da\"],[0.4,\"#fde0ef\"],[0.5,\"#f7f7f7\"],[0.6,\"#e6f5d0\"],[0.7,\"#b8e186\"],[0.8,\"#7fbc41\"],[0.9,\"#4d9221\"],[1,\"#276419\"]],\"sequential\":[[0.0,\"#0d0887\"],[0.1111111111111111,\"#46039f\"],[0.2222222222222222,\"#7201a8\"],[0.3333333333333333,\"#9c179e\"],[0.4444444444444444,\"#bd3786\"],[0.5555555555555556,\"#d8576b\"],[0.6666666666666666,\"#ed7953\"],[0.7777777777777778,\"#fb9f3a\"],[0.8888888888888888,\"#fdca26\"],[1.0,\"#f0f921\"]],\"sequentialminus\":[[0.0,\"#0d0887\"],[0.1111111111111111,\"#46039f\"],[0.2222222222222222,\"#7201a8\"],[0.3333333333333333,\"#9c179e\"],[0.4444444444444444,\"#bd3786\"],[0.5555555555555556,\"#d8576b\"],[0.6666666666666666,\"#ed7953\"],[0.7777777777777778,\"#fb9f3a\"],[0.8888888888888888,\"#fdca26\"],[1.0,\"#f0f921\"]]},\"colorway\":[\"#636efa\",\"#EF553B\",\"#00cc96\",\"#ab63fa\",\"#FFA15A\",\"#19d3f3\",\"#FF6692\",\"#B6E880\",\"#FF97FF\",\"#FECB52\"],\"font\":{\"color\":\"#2a3f5f\"},\"geo\":{\"bgcolor\":\"white\",\"lakecolor\":\"white\",\"landcolor\":\"#E5ECF6\",\"showlakes\":true,\"showland\":true,\"subunitcolor\":\"white\"},\"hoverlabel\":{\"align\":\"left\"},\"hovermode\":\"closest\",\"mapbox\":{\"style\":\"light\"},\"paper_bgcolor\":\"white\",\"plot_bgcolor\":\"#E5ECF6\",\"polar\":{\"angularaxis\":{\"gridcolor\":\"white\",\"linecolor\":\"white\",\"ticks\":\"\"},\"bgcolor\":\"#E5ECF6\",\"radialaxis\":{\"gridcolor\":\"white\",\"linecolor\":\"white\",\"ticks\":\"\"}},\"scene\":{\"xaxis\":{\"backgroundcolor\":\"#E5ECF6\",\"gridcolor\":\"white\",\"gridwidth\":2,\"linecolor\":\"white\",\"showbackground\":true,\"ticks\":\"\",\"zerolinecolor\":\"white\"},\"yaxis\":{\"backgroundcolor\":\"#E5ECF6\",\"gridcolor\":\"white\",\"gridwidth\":2,\"linecolor\":\"white\",\"showbackground\":true,\"ticks\":\"\",\"zerolinecolor\":\"white\"},\"zaxis\":{\"backgroundcolor\":\"#E5ECF6\",\"gridcolor\":\"white\",\"gridwidth\":2,\"linecolor\":\"white\",\"showbackground\":true,\"ticks\":\"\",\"zerolinecolor\":\"white\"}},\"shapedefaults\":{\"line\":{\"color\":\"#2a3f5f\"}},\"ternary\":{\"aaxis\":{\"gridcolor\":\"white\",\"linecolor\":\"white\",\"ticks\":\"\"},\"baxis\":{\"gridcolor\":\"white\",\"linecolor\":\"white\",\"ticks\":\"\"},\"bgcolor\":\"#E5ECF6\",\"caxis\":{\"gridcolor\":\"white\",\"linecolor\":\"white\",\"ticks\":\"\"}},\"title\":{\"x\":0.05},\"xaxis\":{\"automargin\":true,\"gridcolor\":\"white\",\"linecolor\":\"white\",\"ticks\":\"\",\"title\":{\"standoff\":15},\"zerolinecolor\":\"white\",\"zerolinewidth\":2},\"yaxis\":{\"automargin\":true,\"gridcolor\":\"white\",\"linecolor\":\"white\",\"ticks\":\"\",\"title\":{\"standoff\":15},\"zerolinecolor\":\"white\",\"zerolinewidth\":2}}},\"title\":{\"font\":{\"color\":\"#4D5663\"}},\"xaxis\":{\"gridcolor\":\"#E1E5ED\",\"showgrid\":true,\"tickfont\":{\"color\":\"#4D5663\"},\"title\":{\"font\":{\"color\":\"#4D5663\"},\"text\":\"\"},\"zerolinecolor\":\"#E1E5ED\"},\"yaxis\":{\"gridcolor\":\"#E1E5ED\",\"showgrid\":true,\"tickfont\":{\"color\":\"#4D5663\"},\"title\":{\"font\":{\"color\":\"#4D5663\"},\"text\":\"\"},\"zerolinecolor\":\"#E1E5ED\"}},                        {\"showLink\": true, \"linkText\": \"Export to plot.ly\", \"plotlyServerURL\": \"https://plot.ly\", \"responsive\": true}                    ).then(function(){\n",
       "                            \n",
       "var gd = document.getElementById('69166b06-492c-4ddb-8379-780dc3d1c258');\n",
       "var x = new MutationObserver(function (mutations, observer) {{\n",
       "        var display = window.getComputedStyle(gd).display;\n",
       "        if (!display || display === 'none') {{\n",
       "            console.log([gd, 'removed!']);\n",
       "            Plotly.purge(gd);\n",
       "            observer.disconnect();\n",
       "        }}\n",
       "}});\n",
       "\n",
       "// Listen for the removal of the full notebook cells\n",
       "var notebookContainer = gd.closest('#notebook-container');\n",
       "if (notebookContainer) {{\n",
       "    x.observe(notebookContainer, {childList: true});\n",
       "}}\n",
       "\n",
       "// Listen for the clearing of the current output cell\n",
       "var outputEl = gd.closest('.output');\n",
       "if (outputEl) {{\n",
       "    x.observe(outputEl, {childList: true});\n",
       "}}\n",
       "\n",
       "                        })                };                });            </script>        </div>"
      ]
     },
     "metadata": {},
     "output_type": "display_data"
    }
   ],
   "source": [
    "df.iplot(kind='scatter',x='A',y='B',mode='markers',size=10)"
   ]
  },
  {
   "cell_type": "markdown",
   "metadata": {},
   "source": [
    "## Bar Plots"
   ]
  },
  {
   "cell_type": "code",
   "execution_count": 9,
   "metadata": {
    "collapsed": false,
    "jupyter": {
     "outputs_hidden": false
    }
   },
   "outputs": [
    {
     "data": {
      "application/vnd.plotly.v1+json": {
       "config": {
        "linkText": "Export to plot.ly",
        "plotlyServerURL": "https://plot.ly",
        "showLink": true
       },
       "data": [
        {
         "marker": {
          "color": "rgba(255, 153, 51, 0.6)",
          "line": {
           "color": "rgba(255, 153, 51, 1.0)",
           "width": 1
          }
         },
         "name": "Values",
         "orientation": "v",
         "text": "",
         "type": "bar",
         "x": [
          "A",
          "B",
          "C"
         ],
         "y": [
          32,
          43,
          50
         ]
        }
       ],
       "layout": {
        "autosize": true,
        "legend": {
         "bgcolor": "#F5F6F9",
         "font": {
          "color": "#4D5663"
         }
        },
        "paper_bgcolor": "#F5F6F9",
        "plot_bgcolor": "#F5F6F9",
        "template": {
         "data": {
          "bar": [
           {
            "error_x": {
             "color": "#2a3f5f"
            },
            "error_y": {
             "color": "#2a3f5f"
            },
            "marker": {
             "line": {
              "color": "#E5ECF6",
              "width": 0.5
             },
             "pattern": {
              "fillmode": "overlay",
              "size": 10,
              "solidity": 0.2
             }
            },
            "type": "bar"
           }
          ],
          "barpolar": [
           {
            "marker": {
             "line": {
              "color": "#E5ECF6",
              "width": 0.5
             },
             "pattern": {
              "fillmode": "overlay",
              "size": 10,
              "solidity": 0.2
             }
            },
            "type": "barpolar"
           }
          ],
          "carpet": [
           {
            "aaxis": {
             "endlinecolor": "#2a3f5f",
             "gridcolor": "white",
             "linecolor": "white",
             "minorgridcolor": "white",
             "startlinecolor": "#2a3f5f"
            },
            "baxis": {
             "endlinecolor": "#2a3f5f",
             "gridcolor": "white",
             "linecolor": "white",
             "minorgridcolor": "white",
             "startlinecolor": "#2a3f5f"
            },
            "type": "carpet"
           }
          ],
          "choropleth": [
           {
            "colorbar": {
             "outlinewidth": 0,
             "ticks": ""
            },
            "type": "choropleth"
           }
          ],
          "contour": [
           {
            "colorbar": {
             "outlinewidth": 0,
             "ticks": ""
            },
            "colorscale": [
             [
              0,
              "#0d0887"
             ],
             [
              0.1111111111111111,
              "#46039f"
             ],
             [
              0.2222222222222222,
              "#7201a8"
             ],
             [
              0.3333333333333333,
              "#9c179e"
             ],
             [
              0.4444444444444444,
              "#bd3786"
             ],
             [
              0.5555555555555556,
              "#d8576b"
             ],
             [
              0.6666666666666666,
              "#ed7953"
             ],
             [
              0.7777777777777778,
              "#fb9f3a"
             ],
             [
              0.8888888888888888,
              "#fdca26"
             ],
             [
              1,
              "#f0f921"
             ]
            ],
            "type": "contour"
           }
          ],
          "contourcarpet": [
           {
            "colorbar": {
             "outlinewidth": 0,
             "ticks": ""
            },
            "type": "contourcarpet"
           }
          ],
          "heatmap": [
           {
            "colorbar": {
             "outlinewidth": 0,
             "ticks": ""
            },
            "colorscale": [
             [
              0,
              "#0d0887"
             ],
             [
              0.1111111111111111,
              "#46039f"
             ],
             [
              0.2222222222222222,
              "#7201a8"
             ],
             [
              0.3333333333333333,
              "#9c179e"
             ],
             [
              0.4444444444444444,
              "#bd3786"
             ],
             [
              0.5555555555555556,
              "#d8576b"
             ],
             [
              0.6666666666666666,
              "#ed7953"
             ],
             [
              0.7777777777777778,
              "#fb9f3a"
             ],
             [
              0.8888888888888888,
              "#fdca26"
             ],
             [
              1,
              "#f0f921"
             ]
            ],
            "type": "heatmap"
           }
          ],
          "heatmapgl": [
           {
            "colorbar": {
             "outlinewidth": 0,
             "ticks": ""
            },
            "colorscale": [
             [
              0,
              "#0d0887"
             ],
             [
              0.1111111111111111,
              "#46039f"
             ],
             [
              0.2222222222222222,
              "#7201a8"
             ],
             [
              0.3333333333333333,
              "#9c179e"
             ],
             [
              0.4444444444444444,
              "#bd3786"
             ],
             [
              0.5555555555555556,
              "#d8576b"
             ],
             [
              0.6666666666666666,
              "#ed7953"
             ],
             [
              0.7777777777777778,
              "#fb9f3a"
             ],
             [
              0.8888888888888888,
              "#fdca26"
             ],
             [
              1,
              "#f0f921"
             ]
            ],
            "type": "heatmapgl"
           }
          ],
          "histogram": [
           {
            "marker": {
             "pattern": {
              "fillmode": "overlay",
              "size": 10,
              "solidity": 0.2
             }
            },
            "type": "histogram"
           }
          ],
          "histogram2d": [
           {
            "colorbar": {
             "outlinewidth": 0,
             "ticks": ""
            },
            "colorscale": [
             [
              0,
              "#0d0887"
             ],
             [
              0.1111111111111111,
              "#46039f"
             ],
             [
              0.2222222222222222,
              "#7201a8"
             ],
             [
              0.3333333333333333,
              "#9c179e"
             ],
             [
              0.4444444444444444,
              "#bd3786"
             ],
             [
              0.5555555555555556,
              "#d8576b"
             ],
             [
              0.6666666666666666,
              "#ed7953"
             ],
             [
              0.7777777777777778,
              "#fb9f3a"
             ],
             [
              0.8888888888888888,
              "#fdca26"
             ],
             [
              1,
              "#f0f921"
             ]
            ],
            "type": "histogram2d"
           }
          ],
          "histogram2dcontour": [
           {
            "colorbar": {
             "outlinewidth": 0,
             "ticks": ""
            },
            "colorscale": [
             [
              0,
              "#0d0887"
             ],
             [
              0.1111111111111111,
              "#46039f"
             ],
             [
              0.2222222222222222,
              "#7201a8"
             ],
             [
              0.3333333333333333,
              "#9c179e"
             ],
             [
              0.4444444444444444,
              "#bd3786"
             ],
             [
              0.5555555555555556,
              "#d8576b"
             ],
             [
              0.6666666666666666,
              "#ed7953"
             ],
             [
              0.7777777777777778,
              "#fb9f3a"
             ],
             [
              0.8888888888888888,
              "#fdca26"
             ],
             [
              1,
              "#f0f921"
             ]
            ],
            "type": "histogram2dcontour"
           }
          ],
          "mesh3d": [
           {
            "colorbar": {
             "outlinewidth": 0,
             "ticks": ""
            },
            "type": "mesh3d"
           }
          ],
          "parcoords": [
           {
            "line": {
             "colorbar": {
              "outlinewidth": 0,
              "ticks": ""
             }
            },
            "type": "parcoords"
           }
          ],
          "pie": [
           {
            "automargin": true,
            "type": "pie"
           }
          ],
          "scatter": [
           {
            "fillpattern": {
             "fillmode": "overlay",
             "size": 10,
             "solidity": 0.2
            },
            "type": "scatter"
           }
          ],
          "scatter3d": [
           {
            "line": {
             "colorbar": {
              "outlinewidth": 0,
              "ticks": ""
             }
            },
            "marker": {
             "colorbar": {
              "outlinewidth": 0,
              "ticks": ""
             }
            },
            "type": "scatter3d"
           }
          ],
          "scattercarpet": [
           {
            "marker": {
             "colorbar": {
              "outlinewidth": 0,
              "ticks": ""
             }
            },
            "type": "scattercarpet"
           }
          ],
          "scattergeo": [
           {
            "marker": {
             "colorbar": {
              "outlinewidth": 0,
              "ticks": ""
             }
            },
            "type": "scattergeo"
           }
          ],
          "scattergl": [
           {
            "marker": {
             "colorbar": {
              "outlinewidth": 0,
              "ticks": ""
             }
            },
            "type": "scattergl"
           }
          ],
          "scattermapbox": [
           {
            "marker": {
             "colorbar": {
              "outlinewidth": 0,
              "ticks": ""
             }
            },
            "type": "scattermapbox"
           }
          ],
          "scatterpolar": [
           {
            "marker": {
             "colorbar": {
              "outlinewidth": 0,
              "ticks": ""
             }
            },
            "type": "scatterpolar"
           }
          ],
          "scatterpolargl": [
           {
            "marker": {
             "colorbar": {
              "outlinewidth": 0,
              "ticks": ""
             }
            },
            "type": "scatterpolargl"
           }
          ],
          "scatterternary": [
           {
            "marker": {
             "colorbar": {
              "outlinewidth": 0,
              "ticks": ""
             }
            },
            "type": "scatterternary"
           }
          ],
          "surface": [
           {
            "colorbar": {
             "outlinewidth": 0,
             "ticks": ""
            },
            "colorscale": [
             [
              0,
              "#0d0887"
             ],
             [
              0.1111111111111111,
              "#46039f"
             ],
             [
              0.2222222222222222,
              "#7201a8"
             ],
             [
              0.3333333333333333,
              "#9c179e"
             ],
             [
              0.4444444444444444,
              "#bd3786"
             ],
             [
              0.5555555555555556,
              "#d8576b"
             ],
             [
              0.6666666666666666,
              "#ed7953"
             ],
             [
              0.7777777777777778,
              "#fb9f3a"
             ],
             [
              0.8888888888888888,
              "#fdca26"
             ],
             [
              1,
              "#f0f921"
             ]
            ],
            "type": "surface"
           }
          ],
          "table": [
           {
            "cells": {
             "fill": {
              "color": "#EBF0F8"
             },
             "line": {
              "color": "white"
             }
            },
            "header": {
             "fill": {
              "color": "#C8D4E3"
             },
             "line": {
              "color": "white"
             }
            },
            "type": "table"
           }
          ]
         },
         "layout": {
          "annotationdefaults": {
           "arrowcolor": "#2a3f5f",
           "arrowhead": 0,
           "arrowwidth": 1
          },
          "autotypenumbers": "strict",
          "coloraxis": {
           "colorbar": {
            "outlinewidth": 0,
            "ticks": ""
           }
          },
          "colorscale": {
           "diverging": [
            [
             0,
             "#8e0152"
            ],
            [
             0.1,
             "#c51b7d"
            ],
            [
             0.2,
             "#de77ae"
            ],
            [
             0.3,
             "#f1b6da"
            ],
            [
             0.4,
             "#fde0ef"
            ],
            [
             0.5,
             "#f7f7f7"
            ],
            [
             0.6,
             "#e6f5d0"
            ],
            [
             0.7,
             "#b8e186"
            ],
            [
             0.8,
             "#7fbc41"
            ],
            [
             0.9,
             "#4d9221"
            ],
            [
             1,
             "#276419"
            ]
           ],
           "sequential": [
            [
             0,
             "#0d0887"
            ],
            [
             0.1111111111111111,
             "#46039f"
            ],
            [
             0.2222222222222222,
             "#7201a8"
            ],
            [
             0.3333333333333333,
             "#9c179e"
            ],
            [
             0.4444444444444444,
             "#bd3786"
            ],
            [
             0.5555555555555556,
             "#d8576b"
            ],
            [
             0.6666666666666666,
             "#ed7953"
            ],
            [
             0.7777777777777778,
             "#fb9f3a"
            ],
            [
             0.8888888888888888,
             "#fdca26"
            ],
            [
             1,
             "#f0f921"
            ]
           ],
           "sequentialminus": [
            [
             0,
             "#0d0887"
            ],
            [
             0.1111111111111111,
             "#46039f"
            ],
            [
             0.2222222222222222,
             "#7201a8"
            ],
            [
             0.3333333333333333,
             "#9c179e"
            ],
            [
             0.4444444444444444,
             "#bd3786"
            ],
            [
             0.5555555555555556,
             "#d8576b"
            ],
            [
             0.6666666666666666,
             "#ed7953"
            ],
            [
             0.7777777777777778,
             "#fb9f3a"
            ],
            [
             0.8888888888888888,
             "#fdca26"
            ],
            [
             1,
             "#f0f921"
            ]
           ]
          },
          "colorway": [
           "#636efa",
           "#EF553B",
           "#00cc96",
           "#ab63fa",
           "#FFA15A",
           "#19d3f3",
           "#FF6692",
           "#B6E880",
           "#FF97FF",
           "#FECB52"
          ],
          "font": {
           "color": "#2a3f5f"
          },
          "geo": {
           "bgcolor": "white",
           "lakecolor": "white",
           "landcolor": "#E5ECF6",
           "showlakes": true,
           "showland": true,
           "subunitcolor": "white"
          },
          "hoverlabel": {
           "align": "left"
          },
          "hovermode": "closest",
          "mapbox": {
           "style": "light"
          },
          "paper_bgcolor": "white",
          "plot_bgcolor": "#E5ECF6",
          "polar": {
           "angularaxis": {
            "gridcolor": "white",
            "linecolor": "white",
            "ticks": ""
           },
           "bgcolor": "#E5ECF6",
           "radialaxis": {
            "gridcolor": "white",
            "linecolor": "white",
            "ticks": ""
           }
          },
          "scene": {
           "xaxis": {
            "backgroundcolor": "#E5ECF6",
            "gridcolor": "white",
            "gridwidth": 2,
            "linecolor": "white",
            "showbackground": true,
            "ticks": "",
            "zerolinecolor": "white"
           },
           "yaxis": {
            "backgroundcolor": "#E5ECF6",
            "gridcolor": "white",
            "gridwidth": 2,
            "linecolor": "white",
            "showbackground": true,
            "ticks": "",
            "zerolinecolor": "white"
           },
           "zaxis": {
            "backgroundcolor": "#E5ECF6",
            "gridcolor": "white",
            "gridwidth": 2,
            "linecolor": "white",
            "showbackground": true,
            "ticks": "",
            "zerolinecolor": "white"
           }
          },
          "shapedefaults": {
           "line": {
            "color": "#2a3f5f"
           }
          },
          "ternary": {
           "aaxis": {
            "gridcolor": "white",
            "linecolor": "white",
            "ticks": ""
           },
           "baxis": {
            "gridcolor": "white",
            "linecolor": "white",
            "ticks": ""
           },
           "bgcolor": "#E5ECF6",
           "caxis": {
            "gridcolor": "white",
            "linecolor": "white",
            "ticks": ""
           }
          },
          "title": {
           "x": 0.05
          },
          "xaxis": {
           "automargin": true,
           "gridcolor": "white",
           "linecolor": "white",
           "ticks": "",
           "title": {
            "standoff": 15
           },
           "zerolinecolor": "white",
           "zerolinewidth": 2
          },
          "yaxis": {
           "automargin": true,
           "gridcolor": "white",
           "linecolor": "white",
           "ticks": "",
           "title": {
            "standoff": 15
           },
           "zerolinecolor": "white",
           "zerolinewidth": 2
          }
         }
        },
        "title": {
         "font": {
          "color": "#4D5663"
         }
        },
        "xaxis": {
         "autorange": true,
         "gridcolor": "#E1E5ED",
         "range": [
          -0.5,
          2.5
         ],
         "showgrid": true,
         "tickfont": {
          "color": "#4D5663"
         },
         "title": {
          "font": {
           "color": "#4D5663"
          },
          "text": ""
         },
         "type": "category",
         "zerolinecolor": "#E1E5ED"
        },
        "yaxis": {
         "autorange": true,
         "gridcolor": "#E1E5ED",
         "range": [
          0,
          52.63157894736842
         ],
         "showgrid": true,
         "tickfont": {
          "color": "#4D5663"
         },
         "title": {
          "font": {
           "color": "#4D5663"
          },
          "text": ""
         },
         "type": "linear",
         "zerolinecolor": "#E1E5ED"
        }
       }
      },
      "image/png": "[encoded data removed]",
      "text/html": [
       "<div>                            <div id=\"3e21870f-72e7-4096-813f-4cff4ceef3c0\" class=\"plotly-graph-div\" style=\"height:525px; width:100%;\"></div>            <script type=\"text/javascript\">                require([\"plotly\"], function(Plotly) {                    window.PLOTLYENV=window.PLOTLYENV || {};\n",
       "                    window.PLOTLYENV.BASE_URL='https://plot.ly';                                    if (document.getElementById(\"3e21870f-72e7-4096-813f-4cff4ceef3c0\")) {                    Plotly.newPlot(                        \"3e21870f-72e7-4096-813f-4cff4ceef3c0\",                        [{\"marker\":{\"color\":\"rgba(255, 153, 51, 0.6)\",\"line\":{\"color\":\"rgba(255, 153, 51, 1.0)\",\"width\":1}},\"name\":\"Values\",\"orientation\":\"v\",\"text\":\"\",\"x\":[\"A\",\"B\",\"C\"],\"y\":[32,43,50],\"type\":\"bar\"}],                        {\"legend\":{\"bgcolor\":\"#F5F6F9\",\"font\":{\"color\":\"#4D5663\"}},\"paper_bgcolor\":\"#F5F6F9\",\"plot_bgcolor\":\"#F5F6F9\",\"template\":{\"data\":{\"barpolar\":[{\"marker\":{\"line\":{\"color\":\"#E5ECF6\",\"width\":0.5},\"pattern\":{\"fillmode\":\"overlay\",\"size\":10,\"solidity\":0.2}},\"type\":\"barpolar\"}],\"bar\":[{\"error_x\":{\"color\":\"#2a3f5f\"},\"error_y\":{\"color\":\"#2a3f5f\"},\"marker\":{\"line\":{\"color\":\"#E5ECF6\",\"width\":0.5},\"pattern\":{\"fillmode\":\"overlay\",\"size\":10,\"solidity\":0.2}},\"type\":\"bar\"}],\"carpet\":[{\"aaxis\":{\"endlinecolor\":\"#2a3f5f\",\"gridcolor\":\"white\",\"linecolor\":\"white\",\"minorgridcolor\":\"white\",\"startlinecolor\":\"#2a3f5f\"},\"baxis\":{\"endlinecolor\":\"#2a3f5f\",\"gridcolor\":\"white\",\"linecolor\":\"white\",\"minorgridcolor\":\"white\",\"startlinecolor\":\"#2a3f5f\"},\"type\":\"carpet\"}],\"choropleth\":[{\"colorbar\":{\"outlinewidth\":0,\"ticks\":\"\"},\"type\":\"choropleth\"}],\"contourcarpet\":[{\"colorbar\":{\"outlinewidth\":0,\"ticks\":\"\"},\"type\":\"contourcarpet\"}],\"contour\":[{\"colorbar\":{\"outlinewidth\":0,\"ticks\":\"\"},\"colorscale\":[[0.0,\"#0d0887\"],[0.1111111111111111,\"#46039f\"],[0.2222222222222222,\"#7201a8\"],[0.3333333333333333,\"#9c179e\"],[0.4444444444444444,\"#bd3786\"],[0.5555555555555556,\"#d8576b\"],[0.6666666666666666,\"#ed7953\"],[0.7777777777777778,\"#fb9f3a\"],[0.8888888888888888,\"#fdca26\"],[1.0,\"#f0f921\"]],\"type\":\"contour\"}],\"heatmapgl\":[{\"colorbar\":{\"outlinewidth\":0,\"ticks\":\"\"},\"colorscale\":[[0.0,\"#0d0887\"],[0.1111111111111111,\"#46039f\"],[0.2222222222222222,\"#7201a8\"],[0.3333333333333333,\"#9c179e\"],[0.4444444444444444,\"#bd3786\"],[0.5555555555555556,\"#d8576b\"],[0.6666666666666666,\"#ed7953\"],[0.7777777777777778,\"#fb9f3a\"],[0.8888888888888888,\"#fdca26\"],[1.0,\"#f0f921\"]],\"type\":\"heatmapgl\"}],\"heatmap\":[{\"colorbar\":{\"outlinewidth\":0,\"ticks\":\"\"},\"colorscale\":[[0.0,\"#0d0887\"],[0.1111111111111111,\"#46039f\"],[0.2222222222222222,\"#7201a8\"],[0.3333333333333333,\"#9c179e\"],[0.4444444444444444,\"#bd3786\"],[0.5555555555555556,\"#d8576b\"],[0.6666666666666666,\"#ed7953\"],[0.7777777777777778,\"#fb9f3a\"],[0.8888888888888888,\"#fdca26\"],[1.0,\"#f0f921\"]],\"type\":\"heatmap\"}],\"histogram2dcontour\":[{\"colorbar\":{\"outlinewidth\":0,\"ticks\":\"\"},\"colorscale\":[[0.0,\"#0d0887\"],[0.1111111111111111,\"#46039f\"],[0.2222222222222222,\"#7201a8\"],[0.3333333333333333,\"#9c179e\"],[0.4444444444444444,\"#bd3786\"],[0.5555555555555556,\"#d8576b\"],[0.6666666666666666,\"#ed7953\"],[0.7777777777777778,\"#fb9f3a\"],[0.8888888888888888,\"#fdca26\"],[1.0,\"#f0f921\"]],\"type\":\"histogram2dcontour\"}],\"histogram2d\":[{\"colorbar\":{\"outlinewidth\":0,\"ticks\":\"\"},\"colorscale\":[[0.0,\"#0d0887\"],[0.1111111111111111,\"#46039f\"],[0.2222222222222222,\"#7201a8\"],[0.3333333333333333,\"#9c179e\"],[0.4444444444444444,\"#bd3786\"],[0.5555555555555556,\"#d8576b\"],[0.6666666666666666,\"#ed7953\"],[0.7777777777777778,\"#fb9f3a\"],[0.8888888888888888,\"#fdca26\"],[1.0,\"#f0f921\"]],\"type\":\"histogram2d\"}],\"histogram\":[{\"marker\":{\"pattern\":{\"fillmode\":\"overlay\",\"size\":10,\"solidity\":0.2}},\"type\":\"histogram\"}],\"mesh3d\":[{\"colorbar\":{\"outlinewidth\":0,\"ticks\":\"\"},\"type\":\"mesh3d\"}],\"parcoords\":[{\"line\":{\"colorbar\":{\"outlinewidth\":0,\"ticks\":\"\"}},\"type\":\"parcoords\"}],\"pie\":[{\"automargin\":true,\"type\":\"pie\"}],\"scatter3d\":[{\"line\":{\"colorbar\":{\"outlinewidth\":0,\"ticks\":\"\"}},\"marker\":{\"colorbar\":{\"outlinewidth\":0,\"ticks\":\"\"}},\"type\":\"scatter3d\"}],\"scattercarpet\":[{\"marker\":{\"colorbar\":{\"outlinewidth\":0,\"ticks\":\"\"}},\"type\":\"scattercarpet\"}],\"scattergeo\":[{\"marker\":{\"colorbar\":{\"outlinewidth\":0,\"ticks\":\"\"}},\"type\":\"scattergeo\"}],\"scattergl\":[{\"marker\":{\"colorbar\":{\"outlinewidth\":0,\"ticks\":\"\"}},\"type\":\"scattergl\"}],\"scattermapbox\":[{\"marker\":{\"colorbar\":{\"outlinewidth\":0,\"ticks\":\"\"}},\"type\":\"scattermapbox\"}],\"scatterpolargl\":[{\"marker\":{\"colorbar\":{\"outlinewidth\":0,\"ticks\":\"\"}},\"type\":\"scatterpolargl\"}],\"scatterpolar\":[{\"marker\":{\"colorbar\":{\"outlinewidth\":0,\"ticks\":\"\"}},\"type\":\"scatterpolar\"}],\"scatter\":[{\"fillpattern\":{\"fillmode\":\"overlay\",\"size\":10,\"solidity\":0.2},\"type\":\"scatter\"}],\"scatterternary\":[{\"marker\":{\"colorbar\":{\"outlinewidth\":0,\"ticks\":\"\"}},\"type\":\"scatterternary\"}],\"surface\":[{\"colorbar\":{\"outlinewidth\":0,\"ticks\":\"\"},\"colorscale\":[[0.0,\"#0d0887\"],[0.1111111111111111,\"#46039f\"],[0.2222222222222222,\"#7201a8\"],[0.3333333333333333,\"#9c179e\"],[0.4444444444444444,\"#bd3786\"],[0.5555555555555556,\"#d8576b\"],[0.6666666666666666,\"#ed7953\"],[0.7777777777777778,\"#fb9f3a\"],[0.8888888888888888,\"#fdca26\"],[1.0,\"#f0f921\"]],\"type\":\"surface\"}],\"table\":[{\"cells\":{\"fill\":{\"color\":\"#EBF0F8\"},\"line\":{\"color\":\"white\"}},\"header\":{\"fill\":{\"color\":\"#C8D4E3\"},\"line\":{\"color\":\"white\"}},\"type\":\"table\"}]},\"layout\":{\"annotationdefaults\":{\"arrowcolor\":\"#2a3f5f\",\"arrowhead\":0,\"arrowwidth\":1},\"autotypenumbers\":\"strict\",\"coloraxis\":{\"colorbar\":{\"outlinewidth\":0,\"ticks\":\"\"}},\"colorscale\":{\"diverging\":[[0,\"#8e0152\"],[0.1,\"#c51b7d\"],[0.2,\"#de77ae\"],[0.3,\"#f1b6da\"],[0.4,\"#fde0ef\"],[0.5,\"#f7f7f7\"],[0.6,\"#e6f5d0\"],[0.7,\"#b8e186\"],[0.8,\"#7fbc41\"],[0.9,\"#4d9221\"],[1,\"#276419\"]],\"sequential\":[[0.0,\"#0d0887\"],[0.1111111111111111,\"#46039f\"],[0.2222222222222222,\"#7201a8\"],[0.3333333333333333,\"#9c179e\"],[0.4444444444444444,\"#bd3786\"],[0.5555555555555556,\"#d8576b\"],[0.6666666666666666,\"#ed7953\"],[0.7777777777777778,\"#fb9f3a\"],[0.8888888888888888,\"#fdca26\"],[1.0,\"#f0f921\"]],\"sequentialminus\":[[0.0,\"#0d0887\"],[0.1111111111111111,\"#46039f\"],[0.2222222222222222,\"#7201a8\"],[0.3333333333333333,\"#9c179e\"],[0.4444444444444444,\"#bd3786\"],[0.5555555555555556,\"#d8576b\"],[0.6666666666666666,\"#ed7953\"],[0.7777777777777778,\"#fb9f3a\"],[0.8888888888888888,\"#fdca26\"],[1.0,\"#f0f921\"]]},\"colorway\":[\"#636efa\",\"#EF553B\",\"#00cc96\",\"#ab63fa\",\"#FFA15A\",\"#19d3f3\",\"#FF6692\",\"#B6E880\",\"#FF97FF\",\"#FECB52\"],\"font\":{\"color\":\"#2a3f5f\"},\"geo\":{\"bgcolor\":\"white\",\"lakecolor\":\"white\",\"landcolor\":\"#E5ECF6\",\"showlakes\":true,\"showland\":true,\"subunitcolor\":\"white\"},\"hoverlabel\":{\"align\":\"left\"},\"hovermode\":\"closest\",\"mapbox\":{\"style\":\"light\"},\"paper_bgcolor\":\"white\",\"plot_bgcolor\":\"#E5ECF6\",\"polar\":{\"angularaxis\":{\"gridcolor\":\"white\",\"linecolor\":\"white\",\"ticks\":\"\"},\"bgcolor\":\"#E5ECF6\",\"radialaxis\":{\"gridcolor\":\"white\",\"linecolor\":\"white\",\"ticks\":\"\"}},\"scene\":{\"xaxis\":{\"backgroundcolor\":\"#E5ECF6\",\"gridcolor\":\"white\",\"gridwidth\":2,\"linecolor\":\"white\",\"showbackground\":true,\"ticks\":\"\",\"zerolinecolor\":\"white\"},\"yaxis\":{\"backgroundcolor\":\"#E5ECF6\",\"gridcolor\":\"white\",\"gridwidth\":2,\"linecolor\":\"white\",\"showbackground\":true,\"ticks\":\"\",\"zerolinecolor\":\"white\"},\"zaxis\":{\"backgroundcolor\":\"#E5ECF6\",\"gridcolor\":\"white\",\"gridwidth\":2,\"linecolor\":\"white\",\"showbackground\":true,\"ticks\":\"\",\"zerolinecolor\":\"white\"}},\"shapedefaults\":{\"line\":{\"color\":\"#2a3f5f\"}},\"ternary\":{\"aaxis\":{\"gridcolor\":\"white\",\"linecolor\":\"white\",\"ticks\":\"\"},\"baxis\":{\"gridcolor\":\"white\",\"linecolor\":\"white\",\"ticks\":\"\"},\"bgcolor\":\"#E5ECF6\",\"caxis\":{\"gridcolor\":\"white\",\"linecolor\":\"white\",\"ticks\":\"\"}},\"title\":{\"x\":0.05},\"xaxis\":{\"automargin\":true,\"gridcolor\":\"white\",\"linecolor\":\"white\",\"ticks\":\"\",\"title\":{\"standoff\":15},\"zerolinecolor\":\"white\",\"zerolinewidth\":2},\"yaxis\":{\"automargin\":true,\"gridcolor\":\"white\",\"linecolor\":\"white\",\"ticks\":\"\",\"title\":{\"standoff\":15},\"zerolinecolor\":\"white\",\"zerolinewidth\":2}}},\"title\":{\"font\":{\"color\":\"#4D5663\"}},\"xaxis\":{\"gridcolor\":\"#E1E5ED\",\"showgrid\":true,\"tickfont\":{\"color\":\"#4D5663\"},\"title\":{\"font\":{\"color\":\"#4D5663\"},\"text\":\"\"},\"zerolinecolor\":\"#E1E5ED\"},\"yaxis\":{\"gridcolor\":\"#E1E5ED\",\"showgrid\":true,\"tickfont\":{\"color\":\"#4D5663\"},\"title\":{\"font\":{\"color\":\"#4D5663\"},\"text\":\"\"},\"zerolinecolor\":\"#E1E5ED\"}},                        {\"showLink\": true, \"linkText\": \"Export to plot.ly\", \"plotlyServerURL\": \"https://plot.ly\", \"responsive\": true}                    ).then(function(){\n",
       "                            \n",
       "var gd = document.getElementById('3e21870f-72e7-4096-813f-4cff4ceef3c0');\n",
       "var x = new MutationObserver(function (mutations, observer) {{\n",
       "        var display = window.getComputedStyle(gd).display;\n",
       "        if (!display || display === 'none') {{\n",
       "            console.log([gd, 'removed!']);\n",
       "            Plotly.purge(gd);\n",
       "            observer.disconnect();\n",
       "        }}\n",
       "}});\n",
       "\n",
       "// Listen for the removal of the full notebook cells\n",
       "var notebookContainer = gd.closest('#notebook-container');\n",
       "if (notebookContainer) {{\n",
       "    x.observe(notebookContainer, {childList: true});\n",
       "}}\n",
       "\n",
       "// Listen for the clearing of the current output cell\n",
       "var outputEl = gd.closest('.output');\n",
       "if (outputEl) {{\n",
       "    x.observe(outputEl, {childList: true});\n",
       "}}\n",
       "\n",
       "                        })                };                });            </script>        </div>"
      ]
     },
     "metadata": {},
     "output_type": "display_data"
    }
   ],
   "source": [
    "df2.iplot(kind='bar',x='Category',y='Values')"
   ]
  },
  {
   "cell_type": "code",
   "execution_count": 10,
   "metadata": {
    "collapsed": false,
    "jupyter": {
     "outputs_hidden": false
    }
   },
   "outputs": [
    {
     "data": {
      "application/vnd.plotly.v1+json": {
       "config": {
        "linkText": "Export to plot.ly",
        "plotlyServerURL": "https://plot.ly",
        "showLink": true
       },
       "data": [
        {
         "marker": {
          "color": "rgba(255, 153, 51, 0.6)",
          "line": {
           "color": "rgba(255, 153, 51, 1.0)",
           "width": 1
          }
         },
         "name": "None",
         "orientation": "v",
         "text": "",
         "type": "bar",
         "x": [
          "A",
          "B",
          "C",
          "D"
         ],
         "y": [
          100,
          100,
          100,
          100
         ]
        }
       ],
       "layout": {
        "autosize": true,
        "legend": {
         "bgcolor": "#F5F6F9",
         "font": {
          "color": "#4D5663"
         }
        },
        "paper_bgcolor": "#F5F6F9",
        "plot_bgcolor": "#F5F6F9",
        "template": {
         "data": {
          "bar": [
           {
            "error_x": {
             "color": "#2a3f5f"
            },
            "error_y": {
             "color": "#2a3f5f"
            },
            "marker": {
             "line": {
              "color": "#E5ECF6",
              "width": 0.5
             },
             "pattern": {
              "fillmode": "overlay",
              "size": 10,
              "solidity": 0.2
             }
            },
            "type": "bar"
           }
          ],
          "barpolar": [
           {
            "marker": {
             "line": {
              "color": "#E5ECF6",
              "width": 0.5
             },
             "pattern": {
              "fillmode": "overlay",
              "size": 10,
              "solidity": 0.2
             }
            },
            "type": "barpolar"
           }
          ],
          "carpet": [
           {
            "aaxis": {
             "endlinecolor": "#2a3f5f",
             "gridcolor": "white",
             "linecolor": "white",
             "minorgridcolor": "white",
             "startlinecolor": "#2a3f5f"
            },
            "baxis": {
             "endlinecolor": "#2a3f5f",
             "gridcolor": "white",
             "linecolor": "white",
             "minorgridcolor": "white",
             "startlinecolor": "#2a3f5f"
            },
            "type": "carpet"
           }
          ],
          "choropleth": [
           {
            "colorbar": {
             "outlinewidth": 0,
             "ticks": ""
            },
            "type": "choropleth"
           }
          ],
          "contour": [
           {
            "colorbar": {
             "outlinewidth": 0,
             "ticks": ""
            },
            "colorscale": [
             [
              0,
              "#0d0887"
             ],
             [
              0.1111111111111111,
              "#46039f"
             ],
             [
              0.2222222222222222,
              "#7201a8"
             ],
             [
              0.3333333333333333,
              "#9c179e"
             ],
             [
              0.4444444444444444,
              "#bd3786"
             ],
             [
              0.5555555555555556,
              "#d8576b"
             ],
             [
              0.6666666666666666,
              "#ed7953"
             ],
             [
              0.7777777777777778,
              "#fb9f3a"
             ],
             [
              0.8888888888888888,
              "#fdca26"
             ],
             [
              1,
              "#f0f921"
             ]
            ],
            "type": "contour"
           }
          ],
          "contourcarpet": [
           {
            "colorbar": {
             "outlinewidth": 0,
             "ticks": ""
            },
            "type": "contourcarpet"
           }
          ],
          "heatmap": [
           {
            "colorbar": {
             "outlinewidth": 0,
             "ticks": ""
            },
            "colorscale": [
             [
              0,
              "#0d0887"
             ],
             [
              0.1111111111111111,
              "#46039f"
             ],
             [
              0.2222222222222222,
              "#7201a8"
             ],
             [
              0.3333333333333333,
              "#9c179e"
             ],
             [
              0.4444444444444444,
              "#bd3786"
             ],
             [
              0.5555555555555556,
              "#d8576b"
             ],
             [
              0.6666666666666666,
              "#ed7953"
             ],
             [
              0.7777777777777778,
              "#fb9f3a"
             ],
             [
              0.8888888888888888,
              "#fdca26"
             ],
             [
              1,
              "#f0f921"
             ]
            ],
            "type": "heatmap"
           }
          ],
          "heatmapgl": [
           {
            "colorbar": {
             "outlinewidth": 0,
             "ticks": ""
            },
            "colorscale": [
             [
              0,
              "#0d0887"
             ],
             [
              0.1111111111111111,
              "#46039f"
             ],
             [
              0.2222222222222222,
              "#7201a8"
             ],
             [
              0.3333333333333333,
              "#9c179e"
             ],
             [
              0.4444444444444444,
              "#bd3786"
             ],
             [
              0.5555555555555556,
              "#d8576b"
             ],
             [
              0.6666666666666666,
              "#ed7953"
             ],
             [
              0.7777777777777778,
              "#fb9f3a"
             ],
             [
              0.8888888888888888,
              "#fdca26"
             ],
             [
              1,
              "#f0f921"
             ]
            ],
            "type": "heatmapgl"
           }
          ],
          "histogram": [
           {
            "marker": {
             "pattern": {
              "fillmode": "overlay",
              "size": 10,
              "solidity": 0.2
             }
            },
            "type": "histogram"
           }
          ],
          "histogram2d": [
           {
            "colorbar": {
             "outlinewidth": 0,
             "ticks": ""
            },
            "colorscale": [
             [
              0,
              "#0d0887"
             ],
             [
              0.1111111111111111,
              "#46039f"
             ],
             [
              0.2222222222222222,
              "#7201a8"
             ],
             [
              0.3333333333333333,
              "#9c179e"
             ],
             [
              0.4444444444444444,
              "#bd3786"
             ],
             [
              0.5555555555555556,
              "#d8576b"
             ],
             [
              0.6666666666666666,
              "#ed7953"
             ],
             [
              0.7777777777777778,
              "#fb9f3a"
             ],
             [
              0.8888888888888888,
              "#fdca26"
             ],
             [
              1,
              "#f0f921"
             ]
            ],
            "type": "histogram2d"
           }
          ],
          "histogram2dcontour": [
           {
            "colorbar": {
             "outlinewidth": 0,
             "ticks": ""
            },
            "colorscale": [
             [
              0,
              "#0d0887"
             ],
             [
              0.1111111111111111,
              "#46039f"
             ],
             [
              0.2222222222222222,
              "#7201a8"
             ],
             [
              0.3333333333333333,
              "#9c179e"
             ],
             [
              0.4444444444444444,
              "#bd3786"
             ],
             [
              0.5555555555555556,
              "#d8576b"
             ],
             [
              0.6666666666666666,
              "#ed7953"
             ],
             [
              0.7777777777777778,
              "#fb9f3a"
             ],
             [
              0.8888888888888888,
              "#fdca26"
             ],
             [
              1,
              "#f0f921"
             ]
            ],
            "type": "histogram2dcontour"
           }
          ],
          "mesh3d": [
           {
            "colorbar": {
             "outlinewidth": 0,
             "ticks": ""
            },
            "type": "mesh3d"
           }
          ],
          "parcoords": [
           {
            "line": {
             "colorbar": {
              "outlinewidth": 0,
              "ticks": ""
             }
            },
            "type": "parcoords"
           }
          ],
          "pie": [
           {
            "automargin": true,
            "type": "pie"
           }
          ],
          "scatter": [
           {
            "fillpattern": {
             "fillmode": "overlay",
             "size": 10,
             "solidity": 0.2
            },
            "type": "scatter"
           }
          ],
          "scatter3d": [
           {
            "line": {
             "colorbar": {
              "outlinewidth": 0,
              "ticks": ""
             }
            },
            "marker": {
             "colorbar": {
              "outlinewidth": 0,
              "ticks": ""
             }
            },
            "type": "scatter3d"
           }
          ],
          "scattercarpet": [
           {
            "marker": {
             "colorbar": {
              "outlinewidth": 0,
              "ticks": ""
             }
            },
            "type": "scattercarpet"
           }
          ],
          "scattergeo": [
           {
            "marker": {
             "colorbar": {
              "outlinewidth": 0,
              "ticks": ""
             }
            },
            "type": "scattergeo"
           }
          ],
          "scattergl": [
           {
            "marker": {
             "colorbar": {
              "outlinewidth": 0,
              "ticks": ""
             }
            },
            "type": "scattergl"
           }
          ],
          "scattermapbox": [
           {
            "marker": {
             "colorbar": {
              "outlinewidth": 0,
              "ticks": ""
             }
            },
            "type": "scattermapbox"
           }
          ],
          "scatterpolar": [
           {
            "marker": {
             "colorbar": {
              "outlinewidth": 0,
              "ticks": ""
             }
            },
            "type": "scatterpolar"
           }
          ],
          "scatterpolargl": [
           {
            "marker": {
             "colorbar": {
              "outlinewidth": 0,
              "ticks": ""
             }
            },
            "type": "scatterpolargl"
           }
          ],
          "scatterternary": [
           {
            "marker": {
             "colorbar": {
              "outlinewidth": 0,
              "ticks": ""
             }
            },
            "type": "scatterternary"
           }
          ],
          "surface": [
           {
            "colorbar": {
             "outlinewidth": 0,
             "ticks": ""
            },
            "colorscale": [
             [
              0,
              "#0d0887"
             ],
             [
              0.1111111111111111,
              "#46039f"
             ],
             [
              0.2222222222222222,
              "#7201a8"
             ],
             [
              0.3333333333333333,
              "#9c179e"
             ],
             [
              0.4444444444444444,
              "#bd3786"
             ],
             [
              0.5555555555555556,
              "#d8576b"
             ],
             [
              0.6666666666666666,
              "#ed7953"
             ],
             [
              0.7777777777777778,
              "#fb9f3a"
             ],
             [
              0.8888888888888888,
              "#fdca26"
             ],
             [
              1,
              "#f0f921"
             ]
            ],
            "type": "surface"
           }
          ],
          "table": [
           {
            "cells": {
             "fill": {
              "color": "#EBF0F8"
             },
             "line": {
              "color": "white"
             }
            },
            "header": {
             "fill": {
              "color": "#C8D4E3"
             },
             "line": {
              "color": "white"
             }
            },
            "type": "table"
           }
          ]
         },
         "layout": {
          "annotationdefaults": {
           "arrowcolor": "#2a3f5f",
           "arrowhead": 0,
           "arrowwidth": 1
          },
          "autotypenumbers": "strict",
          "coloraxis": {
           "colorbar": {
            "outlinewidth": 0,
            "ticks": ""
           }
          },
          "colorscale": {
           "diverging": [
            [
             0,
             "#8e0152"
            ],
            [
             0.1,
             "#c51b7d"
            ],
            [
             0.2,
             "#de77ae"
            ],
            [
             0.3,
             "#f1b6da"
            ],
            [
             0.4,
             "#fde0ef"
            ],
            [
             0.5,
             "#f7f7f7"
            ],
            [
             0.6,
             "#e6f5d0"
            ],
            [
             0.7,
             "#b8e186"
            ],
            [
             0.8,
             "#7fbc41"
            ],
            [
             0.9,
             "#4d9221"
            ],
            [
             1,
             "#276419"
            ]
           ],
           "sequential": [
            [
             0,
             "#0d0887"
            ],
            [
             0.1111111111111111,
             "#46039f"
            ],
            [
             0.2222222222222222,
             "#7201a8"
            ],
            [
             0.3333333333333333,
             "#9c179e"
            ],
            [
             0.4444444444444444,
             "#bd3786"
            ],
            [
             0.5555555555555556,
             "#d8576b"
            ],
            [
             0.6666666666666666,
             "#ed7953"
            ],
            [
             0.7777777777777778,
             "#fb9f3a"
            ],
            [
             0.8888888888888888,
             "#fdca26"
            ],
            [
             1,
             "#f0f921"
            ]
           ],
           "sequentialminus": [
            [
             0,
             "#0d0887"
            ],
            [
             0.1111111111111111,
             "#46039f"
            ],
            [
             0.2222222222222222,
             "#7201a8"
            ],
            [
             0.3333333333333333,
             "#9c179e"
            ],
            [
             0.4444444444444444,
             "#bd3786"
            ],
            [
             0.5555555555555556,
             "#d8576b"
            ],
            [
             0.6666666666666666,
             "#ed7953"
            ],
            [
             0.7777777777777778,
             "#fb9f3a"
            ],
            [
             0.8888888888888888,
             "#fdca26"
            ],
            [
             1,
             "#f0f921"
            ]
           ]
          },
          "colorway": [
           "#636efa",
           "#EF553B",
           "#00cc96",
           "#ab63fa",
           "#FFA15A",
           "#19d3f3",
           "#FF6692",
           "#B6E880",
           "#FF97FF",
           "#FECB52"
          ],
          "font": {
           "color": "#2a3f5f"
          },
          "geo": {
           "bgcolor": "white",
           "lakecolor": "white",
           "landcolor": "#E5ECF6",
           "showlakes": true,
           "showland": true,
           "subunitcolor": "white"
          },
          "hoverlabel": {
           "align": "left"
          },
          "hovermode": "closest",
          "mapbox": {
           "style": "light"
          },
          "paper_bgcolor": "white",
          "plot_bgcolor": "#E5ECF6",
          "polar": {
           "angularaxis": {
            "gridcolor": "white",
            "linecolor": "white",
            "ticks": ""
           },
           "bgcolor": "#E5ECF6",
           "radialaxis": {
            "gridcolor": "white",
            "linecolor": "white",
            "ticks": ""
           }
          },
          "scene": {
           "xaxis": {
            "backgroundcolor": "#E5ECF6",
            "gridcolor": "white",
            "gridwidth": 2,
            "linecolor": "white",
            "showbackground": true,
            "ticks": "",
            "zerolinecolor": "white"
           },
           "yaxis": {
            "backgroundcolor": "#E5ECF6",
            "gridcolor": "white",
            "gridwidth": 2,
            "linecolor": "white",
            "showbackground": true,
            "ticks": "",
            "zerolinecolor": "white"
           },
           "zaxis": {
            "backgroundcolor": "#E5ECF6",
            "gridcolor": "white",
            "gridwidth": 2,
            "linecolor": "white",
            "showbackground": true,
            "ticks": "",
            "zerolinecolor": "white"
           }
          },
          "shapedefaults": {
           "line": {
            "color": "#2a3f5f"
           }
          },
          "ternary": {
           "aaxis": {
            "gridcolor": "white",
            "linecolor": "white",
            "ticks": ""
           },
           "baxis": {
            "gridcolor": "white",
            "linecolor": "white",
            "ticks": ""
           },
           "bgcolor": "#E5ECF6",
           "caxis": {
            "gridcolor": "white",
            "linecolor": "white",
            "ticks": ""
           }
          },
          "title": {
           "x": 0.05
          },
          "xaxis": {
           "automargin": true,
           "gridcolor": "white",
           "linecolor": "white",
           "ticks": "",
           "title": {
            "standoff": 15
           },
           "zerolinecolor": "white",
           "zerolinewidth": 2
          },
          "yaxis": {
           "automargin": true,
           "gridcolor": "white",
           "linecolor": "white",
           "ticks": "",
           "title": {
            "standoff": 15
           },
           "zerolinecolor": "white",
           "zerolinewidth": 2
          }
         }
        },
        "title": {
         "font": {
          "color": "#4D5663"
         }
        },
        "xaxis": {
         "autorange": true,
         "gridcolor": "#E1E5ED",
         "range": [
          -0.5,
          3.5
         ],
         "showgrid": true,
         "tickfont": {
          "color": "#4D5663"
         },
         "title": {
          "font": {
           "color": "#4D5663"
          },
          "text": ""
         },
         "type": "category",
         "zerolinecolor": "#E1E5ED"
        },
        "yaxis": {
         "autorange": true,
         "gridcolor": "#E1E5ED",
         "range": [
          0,
          105.26315789473684
         ],
         "showgrid": true,
         "tickfont": {
          "color": "#4D5663"
         },
         "title": {
          "font": {
           "color": "#4D5663"
          },
          "text": ""
         },
         "type": "linear",
         "zerolinecolor": "#E1E5ED"
        }
       }
      },
      "image/png": "[encoded data removed]",
      "text/html": [
       "<div>                            <div id=\"11b11cdc-33b3-40d6-b102-315359f987fa\" class=\"plotly-graph-div\" style=\"height:525px; width:100%;\"></div>            <script type=\"text/javascript\">                require([\"plotly\"], function(Plotly) {                    window.PLOTLYENV=window.PLOTLYENV || {};\n",
       "                    window.PLOTLYENV.BASE_URL='https://plot.ly';                                    if (document.getElementById(\"11b11cdc-33b3-40d6-b102-315359f987fa\")) {                    Plotly.newPlot(                        \"11b11cdc-33b3-40d6-b102-315359f987fa\",                        [{\"marker\":{\"color\":\"rgba(255, 153, 51, 0.6)\",\"line\":{\"color\":\"rgba(255, 153, 51, 1.0)\",\"width\":1}},\"name\":\"None\",\"orientation\":\"v\",\"text\":\"\",\"x\":[\"A\",\"B\",\"C\",\"D\"],\"y\":[100,100,100,100],\"type\":\"bar\"}],                        {\"legend\":{\"bgcolor\":\"#F5F6F9\",\"font\":{\"color\":\"#4D5663\"}},\"paper_bgcolor\":\"#F5F6F9\",\"plot_bgcolor\":\"#F5F6F9\",\"template\":{\"data\":{\"barpolar\":[{\"marker\":{\"line\":{\"color\":\"#E5ECF6\",\"width\":0.5},\"pattern\":{\"fillmode\":\"overlay\",\"size\":10,\"solidity\":0.2}},\"type\":\"barpolar\"}],\"bar\":[{\"error_x\":{\"color\":\"#2a3f5f\"},\"error_y\":{\"color\":\"#2a3f5f\"},\"marker\":{\"line\":{\"color\":\"#E5ECF6\",\"width\":0.5},\"pattern\":{\"fillmode\":\"overlay\",\"size\":10,\"solidity\":0.2}},\"type\":\"bar\"}],\"carpet\":[{\"aaxis\":{\"endlinecolor\":\"#2a3f5f\",\"gridcolor\":\"white\",\"linecolor\":\"white\",\"minorgridcolor\":\"white\",\"startlinecolor\":\"#2a3f5f\"},\"baxis\":{\"endlinecolor\":\"#2a3f5f\",\"gridcolor\":\"white\",\"linecolor\":\"white\",\"minorgridcolor\":\"white\",\"startlinecolor\":\"#2a3f5f\"},\"type\":\"carpet\"}],\"choropleth\":[{\"colorbar\":{\"outlinewidth\":0,\"ticks\":\"\"},\"type\":\"choropleth\"}],\"contourcarpet\":[{\"colorbar\":{\"outlinewidth\":0,\"ticks\":\"\"},\"type\":\"contourcarpet\"}],\"contour\":[{\"colorbar\":{\"outlinewidth\":0,\"ticks\":\"\"},\"colorscale\":[[0.0,\"#0d0887\"],[0.1111111111111111,\"#46039f\"],[0.2222222222222222,\"#7201a8\"],[0.3333333333333333,\"#9c179e\"],[0.4444444444444444,\"#bd3786\"],[0.5555555555555556,\"#d8576b\"],[0.6666666666666666,\"#ed7953\"],[0.7777777777777778,\"#fb9f3a\"],[0.8888888888888888,\"#fdca26\"],[1.0,\"#f0f921\"]],\"type\":\"contour\"}],\"heatmapgl\":[{\"colorbar\":{\"outlinewidth\":0,\"ticks\":\"\"},\"colorscale\":[[0.0,\"#0d0887\"],[0.1111111111111111,\"#46039f\"],[0.2222222222222222,\"#7201a8\"],[0.3333333333333333,\"#9c179e\"],[0.4444444444444444,\"#bd3786\"],[0.5555555555555556,\"#d8576b\"],[0.6666666666666666,\"#ed7953\"],[0.7777777777777778,\"#fb9f3a\"],[0.8888888888888888,\"#fdca26\"],[1.0,\"#f0f921\"]],\"type\":\"heatmapgl\"}],\"heatmap\":[{\"colorbar\":{\"outlinewidth\":0,\"ticks\":\"\"},\"colorscale\":[[0.0,\"#0d0887\"],[0.1111111111111111,\"#46039f\"],[0.2222222222222222,\"#7201a8\"],[0.3333333333333333,\"#9c179e\"],[0.4444444444444444,\"#bd3786\"],[0.5555555555555556,\"#d8576b\"],[0.6666666666666666,\"#ed7953\"],[0.7777777777777778,\"#fb9f3a\"],[0.8888888888888888,\"#fdca26\"],[1.0,\"#f0f921\"]],\"type\":\"heatmap\"}],\"histogram2dcontour\":[{\"colorbar\":{\"outlinewidth\":0,\"ticks\":\"\"},\"colorscale\":[[0.0,\"#0d0887\"],[0.1111111111111111,\"#46039f\"],[0.2222222222222222,\"#7201a8\"],[0.3333333333333333,\"#9c179e\"],[0.4444444444444444,\"#bd3786\"],[0.5555555555555556,\"#d8576b\"],[0.6666666666666666,\"#ed7953\"],[0.7777777777777778,\"#fb9f3a\"],[0.8888888888888888,\"#fdca26\"],[1.0,\"#f0f921\"]],\"type\":\"histogram2dcontour\"}],\"histogram2d\":[{\"colorbar\":{\"outlinewidth\":0,\"ticks\":\"\"},\"colorscale\":[[0.0,\"#0d0887\"],[0.1111111111111111,\"#46039f\"],[0.2222222222222222,\"#7201a8\"],[0.3333333333333333,\"#9c179e\"],[0.4444444444444444,\"#bd3786\"],[0.5555555555555556,\"#d8576b\"],[0.6666666666666666,\"#ed7953\"],[0.7777777777777778,\"#fb9f3a\"],[0.8888888888888888,\"#fdca26\"],[1.0,\"#f0f921\"]],\"type\":\"histogram2d\"}],\"histogram\":[{\"marker\":{\"pattern\":{\"fillmode\":\"overlay\",\"size\":10,\"solidity\":0.2}},\"type\":\"histogram\"}],\"mesh3d\":[{\"colorbar\":{\"outlinewidth\":0,\"ticks\":\"\"},\"type\":\"mesh3d\"}],\"parcoords\":[{\"line\":{\"colorbar\":{\"outlinewidth\":0,\"ticks\":\"\"}},\"type\":\"parcoords\"}],\"pie\":[{\"automargin\":true,\"type\":\"pie\"}],\"scatter3d\":[{\"line\":{\"colorbar\":{\"outlinewidth\":0,\"ticks\":\"\"}},\"marker\":{\"colorbar\":{\"outlinewidth\":0,\"ticks\":\"\"}},\"type\":\"scatter3d\"}],\"scattercarpet\":[{\"marker\":{\"colorbar\":{\"outlinewidth\":0,\"ticks\":\"\"}},\"type\":\"scattercarpet\"}],\"scattergeo\":[{\"marker\":{\"colorbar\":{\"outlinewidth\":0,\"ticks\":\"\"}},\"type\":\"scattergeo\"}],\"scattergl\":[{\"marker\":{\"colorbar\":{\"outlinewidth\":0,\"ticks\":\"\"}},\"type\":\"scattergl\"}],\"scattermapbox\":[{\"marker\":{\"colorbar\":{\"outlinewidth\":0,\"ticks\":\"\"}},\"type\":\"scattermapbox\"}],\"scatterpolargl\":[{\"marker\":{\"colorbar\":{\"outlinewidth\":0,\"ticks\":\"\"}},\"type\":\"scatterpolargl\"}],\"scatterpolar\":[{\"marker\":{\"colorbar\":{\"outlinewidth\":0,\"ticks\":\"\"}},\"type\":\"scatterpolar\"}],\"scatter\":[{\"fillpattern\":{\"fillmode\":\"overlay\",\"size\":10,\"solidity\":0.2},\"type\":\"scatter\"}],\"scatterternary\":[{\"marker\":{\"colorbar\":{\"outlinewidth\":0,\"ticks\":\"\"}},\"type\":\"scatterternary\"}],\"surface\":[{\"colorbar\":{\"outlinewidth\":0,\"ticks\":\"\"},\"colorscale\":[[0.0,\"#0d0887\"],[0.1111111111111111,\"#46039f\"],[0.2222222222222222,\"#7201a8\"],[0.3333333333333333,\"#9c179e\"],[0.4444444444444444,\"#bd3786\"],[0.5555555555555556,\"#d8576b\"],[0.6666666666666666,\"#ed7953\"],[0.7777777777777778,\"#fb9f3a\"],[0.8888888888888888,\"#fdca26\"],[1.0,\"#f0f921\"]],\"type\":\"surface\"}],\"table\":[{\"cells\":{\"fill\":{\"color\":\"#EBF0F8\"},\"line\":{\"color\":\"white\"}},\"header\":{\"fill\":{\"color\":\"#C8D4E3\"},\"line\":{\"color\":\"white\"}},\"type\":\"table\"}]},\"layout\":{\"annotationdefaults\":{\"arrowcolor\":\"#2a3f5f\",\"arrowhead\":0,\"arrowwidth\":1},\"autotypenumbers\":\"strict\",\"coloraxis\":{\"colorbar\":{\"outlinewidth\":0,\"ticks\":\"\"}},\"colorscale\":{\"diverging\":[[0,\"#8e0152\"],[0.1,\"#c51b7d\"],[0.2,\"#de77ae\"],[0.3,\"#f1b6da\"],[0.4,\"#fde0ef\"],[0.5,\"#f7f7f7\"],[0.6,\"#e6f5d0\"],[0.7,\"#b8e186\"],[0.8,\"#7fbc41\"],[0.9,\"#4d9221\"],[1,\"#276419\"]],\"sequential\":[[0.0,\"#0d0887\"],[0.1111111111111111,\"#46039f\"],[0.2222222222222222,\"#7201a8\"],[0.3333333333333333,\"#9c179e\"],[0.4444444444444444,\"#bd3786\"],[0.5555555555555556,\"#d8576b\"],[0.6666666666666666,\"#ed7953\"],[0.7777777777777778,\"#fb9f3a\"],[0.8888888888888888,\"#fdca26\"],[1.0,\"#f0f921\"]],\"sequentialminus\":[[0.0,\"#0d0887\"],[0.1111111111111111,\"#46039f\"],[0.2222222222222222,\"#7201a8\"],[0.3333333333333333,\"#9c179e\"],[0.4444444444444444,\"#bd3786\"],[0.5555555555555556,\"#d8576b\"],[0.6666666666666666,\"#ed7953\"],[0.7777777777777778,\"#fb9f3a\"],[0.8888888888888888,\"#fdca26\"],[1.0,\"#f0f921\"]]},\"colorway\":[\"#636efa\",\"#EF553B\",\"#00cc96\",\"#ab63fa\",\"#FFA15A\",\"#19d3f3\",\"#FF6692\",\"#B6E880\",\"#FF97FF\",\"#FECB52\"],\"font\":{\"color\":\"#2a3f5f\"},\"geo\":{\"bgcolor\":\"white\",\"lakecolor\":\"white\",\"landcolor\":\"#E5ECF6\",\"showlakes\":true,\"showland\":true,\"subunitcolor\":\"white\"},\"hoverlabel\":{\"align\":\"left\"},\"hovermode\":\"closest\",\"mapbox\":{\"style\":\"light\"},\"paper_bgcolor\":\"white\",\"plot_bgcolor\":\"#E5ECF6\",\"polar\":{\"angularaxis\":{\"gridcolor\":\"white\",\"linecolor\":\"white\",\"ticks\":\"\"},\"bgcolor\":\"#E5ECF6\",\"radialaxis\":{\"gridcolor\":\"white\",\"linecolor\":\"white\",\"ticks\":\"\"}},\"scene\":{\"xaxis\":{\"backgroundcolor\":\"#E5ECF6\",\"gridcolor\":\"white\",\"gridwidth\":2,\"linecolor\":\"white\",\"showbackground\":true,\"ticks\":\"\",\"zerolinecolor\":\"white\"},\"yaxis\":{\"backgroundcolor\":\"#E5ECF6\",\"gridcolor\":\"white\",\"gridwidth\":2,\"linecolor\":\"white\",\"showbackground\":true,\"ticks\":\"\",\"zerolinecolor\":\"white\"},\"zaxis\":{\"backgroundcolor\":\"#E5ECF6\",\"gridcolor\":\"white\",\"gridwidth\":2,\"linecolor\":\"white\",\"showbackground\":true,\"ticks\":\"\",\"zerolinecolor\":\"white\"}},\"shapedefaults\":{\"line\":{\"color\":\"#2a3f5f\"}},\"ternary\":{\"aaxis\":{\"gridcolor\":\"white\",\"linecolor\":\"white\",\"ticks\":\"\"},\"baxis\":{\"gridcolor\":\"white\",\"linecolor\":\"white\",\"ticks\":\"\"},\"bgcolor\":\"#E5ECF6\",\"caxis\":{\"gridcolor\":\"white\",\"linecolor\":\"white\",\"ticks\":\"\"}},\"title\":{\"x\":0.05},\"xaxis\":{\"automargin\":true,\"gridcolor\":\"white\",\"linecolor\":\"white\",\"ticks\":\"\",\"title\":{\"standoff\":15},\"zerolinecolor\":\"white\",\"zerolinewidth\":2},\"yaxis\":{\"automargin\":true,\"gridcolor\":\"white\",\"linecolor\":\"white\",\"ticks\":\"\",\"title\":{\"standoff\":15},\"zerolinecolor\":\"white\",\"zerolinewidth\":2}}},\"title\":{\"font\":{\"color\":\"#4D5663\"}},\"xaxis\":{\"gridcolor\":\"#E1E5ED\",\"showgrid\":true,\"tickfont\":{\"color\":\"#4D5663\"},\"title\":{\"font\":{\"color\":\"#4D5663\"},\"text\":\"\"},\"zerolinecolor\":\"#E1E5ED\"},\"yaxis\":{\"gridcolor\":\"#E1E5ED\",\"showgrid\":true,\"tickfont\":{\"color\":\"#4D5663\"},\"title\":{\"font\":{\"color\":\"#4D5663\"},\"text\":\"\"},\"zerolinecolor\":\"#E1E5ED\"}},                        {\"showLink\": true, \"linkText\": \"Export to plot.ly\", \"plotlyServerURL\": \"https://plot.ly\", \"responsive\": true}                    ).then(function(){\n",
       "                            \n",
       "var gd = document.getElementById('11b11cdc-33b3-40d6-b102-315359f987fa');\n",
       "var x = new MutationObserver(function (mutations, observer) {{\n",
       "        var display = window.getComputedStyle(gd).display;\n",
       "        if (!display || display === 'none') {{\n",
       "            console.log([gd, 'removed!']);\n",
       "            Plotly.purge(gd);\n",
       "            observer.disconnect();\n",
       "        }}\n",
       "}});\n",
       "\n",
       "// Listen for the removal of the full notebook cells\n",
       "var notebookContainer = gd.closest('#notebook-container');\n",
       "if (notebookContainer) {{\n",
       "    x.observe(notebookContainer, {childList: true});\n",
       "}}\n",
       "\n",
       "// Listen for the clearing of the current output cell\n",
       "var outputEl = gd.closest('.output');\n",
       "if (outputEl) {{\n",
       "    x.observe(outputEl, {childList: true});\n",
       "}}\n",
       "\n",
       "                        })                };                });            </script>        </div>"
      ]
     },
     "metadata": {},
     "output_type": "display_data"
    }
   ],
   "source": [
    "df.count().iplot(kind='bar')"
   ]
  },
  {
   "cell_type": "markdown",
   "metadata": {},
   "source": [
    "## Boxplots"
   ]
  },
  {
   "cell_type": "code",
   "execution_count": 11,
   "metadata": {
    "collapsed": false,
    "jupyter": {
     "outputs_hidden": false
    }
   },
   "outputs": [
    {
     "data": {
      "application/vnd.plotly.v1+json": {
       "config": {
        "linkText": "Export to plot.ly",
        "plotlyServerURL": "https://plot.ly",
        "showLink": true
       },
       "data": [
        {
         "boxpoints": false,
         "line": {
          "width": 1.3
         },
         "marker": {
          "color": "rgba(255, 153, 51, 1.0)"
         },
         "name": "A",
         "orientation": "v",
         "type": "box",
         "y": [
          -0.8517614455883655,
          -0.04342189052762476,
          -0.5212214967722162,
          0.3463107666807025,
          -0.745881714063798,
          -0.30058773176849457,
          -2.294340311312299,
          -0.6512596659917415,
          0.506280440778242,
          -0.009690230605172254,
          0.6878141235775956,
          0.9626477777248147,
          1.9166904602701855,
          -0.45669843310114844,
          -1.17050493216569,
          2.2448005418810375,
          -0.28437845271142315,
          2.20013599919316,
          -1.1618106024664825,
          -0.8567423458194338,
          -1.0208832664798144,
          0.5703772004588231,
          0.9500450320973882,
          -0.6157420152530569,
          -0.7506656628682755,
          -0.16251365544450222,
          -0.6594437150281366,
          -0.9953798842138176,
          -1.0214733410454175,
          0.9285981310725163,
          0.33397810418350543,
          2.004283613512989,
          -1.0553236237125618,
          2.2850752156538063,
          -1.3753565992764296,
          -0.16501944321362802,
          0.5859344727051908,
          -0.18337137906315976,
          0.5932397316914628,
          -1.0418591959561794,
          1.7492129420611109,
          -0.5817937909383222,
          1.2316994838318762,
          0.9294052760388295,
          0.3520482281449861,
          0.7995560104582256,
          -0.41303009169552846,
          0.6949404983860864,
          1.5221943621246272,
          0.9258134979345521,
          -0.9730478801948261,
          -0.6262233648414084,
          -0.7063907512266209,
          -0.5577707713737803,
          -1.115285461836506,
          0.14168470522696505,
          -0.5008846735922116,
          -2.132915473280724,
          -0.4274968629044933,
          -1.3049965129181547,
          0.1255639710172537,
          -0.5779084871828467,
          -2.3440688331691595,
          -0.9404043092856896,
          1.0113599002670215,
          -1.1581293656750085,
          -0.3209275331612879,
          -0.26558229431764846,
          0.5598700845574042,
          0.6541742521756773,
          -0.5044763013189157,
          1.2664555045492127,
          -0.7708413334932498,
          0.7605925642066997,
          -1.3641341420112059,
          -0.7014556822610499,
          0.11434435077903846,
          0.9554038286070254,
          -0.570544304958875,
          -1.073236016265232,
          -0.16185980233727848,
          -0.15574260103122203,
          0.009923580756196683,
          0.7915328220783816,
          -1.936094840968455,
          -0.08462248253141151,
          0.6989879597069288,
          -0.5783664463035025,
          0.29535472856846945,
          -0.9236655704169129,
          -2.0291032054275138,
          -0.34867755292168895,
          -0.8556589825027233,
          0.45736269533464113,
          1.6827814465839737,
          0.017887806579571335,
          0.7430841354778721,
          1.0473851610215101,
          -0.8759282168181415,
          0.7612861204776716
         ]
        },
        {
         "boxpoints": false,
         "line": {
          "width": 1.3
         },
         "marker": {
          "color": "rgba(55, 128, 191, 1.0)"
         },
         "name": "B",
         "orientation": "v",
         "type": "box",
         "y": [
          -1.2411062397873414,
          0.02807914310972193,
          0.31936991465874937,
          -0.936624080293878,
          -2.0397357953994755,
          -1.2961599561491113,
          -2.4774472395187512,
          0.09931069506463953,
          0.26552531364527115,
          0.9335464940691652,
          0.8986794079209267,
          0.29622631233968777,
          0.6437623937325981,
          1.9277184697441778,
          -0.7036554347701831,
          0.2500502636911673,
          1.2350021110504927,
          1.0237531453705104,
          -0.6632947884834026,
          0.9868176338319913,
          1.3453311524356033,
          0.24952513249963243,
          -0.7082905967465567,
          1.2769871222507228,
          -1.9118975786051817,
          -0.8873715742413686,
          1.5378638040470454,
          -0.10710943967908983,
          0.7845777905330139,
          0.8270199278529797,
          0.41947638614534927,
          -0.6103461037142758,
          1.2832756709970892,
          -0.11416461232664675,
          -0.7392920699114925,
          -1.4637285693759212,
          -0.4677850468066235,
          -0.806834032956265,
          -0.3514224740201551,
          -0.08759108947064012,
          1.9604429088767352,
          -1.539498137166316,
          -0.7589306600245808,
          -1.3873313785163255,
          1.12307512963267,
          -1.0874744042664137,
          0.729226021155078,
          0.4351358751294404,
          -1.3587969148637427,
          1.6140817210918543,
          1.2660276312562755,
          -0.8082257649351985,
          0.69704454733331,
          0.4152703294264582,
          0.9034585114511574,
          -0.05924854849022004,
          2.0226182152394614,
          -0.07841380341378705,
          -0.3386092825470693,
          1.4156155845223164,
          -1.9797346660137547,
          -1.841984115363568,
          -0.5154841724459465,
          0.8939062610383636,
          -0.3489922837461976,
          -0.677196875864426,
          -1.0620264960449346,
          -1.1503882870014204,
          0.0042260410358588435,
          -0.5620865442747135,
          0.4115443926705976,
          0.7153717423546805,
          -1.5459819291841044,
          1.3252812663525808,
          0.7538124900180974,
          0.8547986901890187,
          -0.2795176870933874,
          0.763745158149344,
          0.2111943276448071,
          -0.7972437348540449,
          -0.393452740038313,
          0.9953585944717301,
          0.9534378275081842,
          0.052218086558350224,
          1.3181683198717666,
          0.2754614898008423,
          -0.8393112238396853,
          1.3546910993944914,
          0.4372159696747173,
          0.9136047664976019,
          1.443219930139496,
          0.046487522231139576,
          0.99988574453509,
          -0.0042272118759153045,
          -0.5630943395117491,
          -2.124339506586154,
          -0.22020744078220653,
          1.0475830922547424,
          0.14931168810186324,
          0.025470618198708817
         ]
        },
        {
         "boxpoints": false,
         "line": {
          "width": 1.3
         },
         "marker": {
          "color": "rgba(50, 171, 96, 1.0)"
         },
         "name": "C",
         "orientation": "v",
         "type": "box",
         "y": [
          1.99074868674031,
          -0.00465708454709553,
          -0.5755445261127081,
          0.5382443872435205,
          0.1709426834321075,
          0.4329753224811685,
          -0.5651554806569195,
          -0.5382260512861466,
          0.04847066972062829,
          0.08806423847999274,
          -0.79606960465105,
          0.8780084031924762,
          -1.3235085256898664,
          0.7248567525421737,
          -1.5146950623954112,
          -0.5665899094172965,
          1.019728716322084,
          0.6388293181860352,
          1.250817021100408,
          -1.4096077271209306,
          -0.8525157696226018,
          -0.4899635144904453,
          0.13751888465810286,
          0.14718455041977344,
          1.834529039436641,
          0.9084107963171624,
          0.5895130764523258,
          -0.038309296558468424,
          -0.4388820852707616,
          1.4627208308293214,
          1.1776910929138449,
          0.5157145320795943,
          -1.9609777265208228,
          -0.25592226927388523,
          3.1678247950042633,
          0.6846831368718976,
          -0.5005789641863538,
          1.3976315892846005,
          -1.4207617413874387,
          0.7648460769609398,
          0.1365811035395829,
          -1.7804267125521187,
          -1.5838621251058371,
          0.42779170807600814,
          -0.18986991343828116,
          0.29815222688000004,
          0.13371404643256948,
          0.8922931377279383,
          -1.846555638787027,
          -0.056493298038888876,
          1.7527122256491043,
          -0.7124329358839242,
          -0.9841181433991666,
          0.8779756329966848,
          0.8654510077229993,
          1.1968004459990302,
          -1.1250083025882454,
          -1.5258375755988967,
          -0.501217116263024,
          -0.053820139446658005,
          -1.4692798385105381,
          -0.5880506546292816,
          -0.7431529181334172,
          -0.19304032205527322,
          -0.47451713767621806,
          -2.1088297903073228,
          2.0091149763178815,
          -0.24549609142478476,
          -1.9436855874491659,
          -1.0485915236308072,
          0.16613915039287627,
          0.8985420514860681,
          -0.3415662591350445,
          -0.4290461741748661,
          -0.8278170574841253,
          -0.6650263799092747,
          -1.495577624198766,
          1.1527935477724358,
          -0.7222492854569627,
          0.9234615143051651,
          0.03046862993085494,
          1.1288922392026846,
          -0.9692935077617421,
          -0.046178203334927136,
          -0.5109769793720991,
          -0.2521226240125022,
          1.4868369585876753,
          0.7688646976945722,
          0.0633897069989844,
          1.8859575140986533,
          0.286565663426963,
          -0.08974188217200231,
          1.5781239564426428,
          0.06176288122267352,
          -0.4371343104556174,
          -0.7675835389156066,
          -0.072699091327509,
          -0.9378252040684169,
          0.2292594668542032,
          -0.10819490478797017
         ]
        },
        {
         "boxpoints": false,
         "line": {
          "width": 1.3
         },
         "marker": {
          "color": "rgba(128, 0, 128, 1.0)"
         },
         "name": "D",
         "orientation": "v",
         "type": "box",
         "y": [
          -0.9095280516273,
          -0.1900569063753824,
          0.2698374073735738,
          0.44794311046828933,
          0.6288764120114955,
          -0.06262118751111524,
          -0.26110849338128506,
          0.04603596881270804,
          0.5200144469049582,
          -0.2926155418755851,
          0.1510701746371853,
          -0.5877929182944712,
          0.08069558213353756,
          -0.9486654727999834,
          0.7384779219991,
          -0.06410591754527575,
          0.3548260165084111,
          0.9054277579689765,
          -0.06088091502475971,
          -0.9013312571843716,
          2.0972634759275595,
          1.4900101474091065,
          0.40261896097794214,
          -0.7867852691032597,
          -1.1118230564512712,
          1.5755924791406197,
          -0.26121813234467717,
          0.818713933783864,
          -1.8644115325025155,
          -0.27403192527081843,
          1.9576244718277251,
          -0.24605663623256627,
          -0.5123924847226448,
          0.23369135084072537,
          -0.7106808785710417,
          0.6689331481595072,
          1.1110575005073737,
          0.21581313152734466,
          -0.4438586289334656,
          0.1729837762538506,
          -1.7700587075000929,
          0.37143431574323865,
          0.013931457863850364,
          1.064527392567633,
          0.6774940958087046,
          -0.2712353808433596,
          0.6259480440257154,
          0.6094737251907064,
          -1.2716351983656191,
          -0.6962798871997286,
          -1.4955734251208237,
          -1.8834275522361492,
          0.11823678063751057,
          0.18823957275155215,
          0.13155936455322798,
          -1.6520989148959249,
          0.3184852609414845,
          -1.5155816087200382,
          0.265585097295708,
          -0.2028549510446965,
          -0.031449586442298214,
          0.8368611781097274,
          -0.9391191159328348,
          1.2681019891243461,
          1.4441230757810974,
          0.26438228422400245,
          0.697102195169398,
          -0.1922187018955505,
          -0.5192173064225332,
          -1.1883600624748492,
          -0.18156463296776557,
          0.18444151620027213,
          0.7913705740592086,
          0.3246168451101668,
          -0.8099255565615424,
          1.0776555411206108,
          1.0847851664599493,
          1.239370886496258,
          0.9125234655662715,
          -0.19320405393911116,
          0.18672164796475887,
          -1.026260378037688,
          0.08214481737685381,
          -0.0657676414163017,
          0.028634564346487694,
          -1.160917571285121,
          1.0580203509717026,
          0.431179003636367,
          -2.101168181892536,
          -0.20401401031325544,
          0.8297268745308249,
          -0.024495455035140976,
          0.8013374475472247,
          -1.8888564911648995,
          1.258441521160854,
          0.08441207009120676,
          -1.3984125482489753,
          -0.5614214623572323,
          0.8069062068920521,
          1.7134747999012199
         ]
        }
       ],
       "layout": {
        "autosize": true,
        "legend": {
         "bgcolor": "#F5F6F9",
         "font": {
          "color": "#4D5663"
         }
        },
        "paper_bgcolor": "#F5F6F9",
        "plot_bgcolor": "#F5F6F9",
        "template": {
         "data": {
          "bar": [
           {
            "error_x": {
             "color": "#2a3f5f"
            },
            "error_y": {
             "color": "#2a3f5f"
            },
            "marker": {
             "line": {
              "color": "#E5ECF6",
              "width": 0.5
             },
             "pattern": {
              "fillmode": "overlay",
              "size": 10,
              "solidity": 0.2
             }
            },
            "type": "bar"
           }
          ],
          "barpolar": [
           {
            "marker": {
             "line": {
              "color": "#E5ECF6",
              "width": 0.5
             },
             "pattern": {
              "fillmode": "overlay",
              "size": 10,
              "solidity": 0.2
             }
            },
            "type": "barpolar"
           }
          ],
          "carpet": [
           {
            "aaxis": {
             "endlinecolor": "#2a3f5f",
             "gridcolor": "white",
             "linecolor": "white",
             "minorgridcolor": "white",
             "startlinecolor": "#2a3f5f"
            },
            "baxis": {
             "endlinecolor": "#2a3f5f",
             "gridcolor": "white",
             "linecolor": "white",
             "minorgridcolor": "white",
             "startlinecolor": "#2a3f5f"
            },
            "type": "carpet"
           }
          ],
          "choropleth": [
           {
            "colorbar": {
             "outlinewidth": 0,
             "ticks": ""
            },
            "type": "choropleth"
           }
          ],
          "contour": [
           {
            "colorbar": {
             "outlinewidth": 0,
             "ticks": ""
            },
            "colorscale": [
             [
              0,
              "#0d0887"
             ],
             [
              0.1111111111111111,
              "#46039f"
             ],
             [
              0.2222222222222222,
              "#7201a8"
             ],
             [
              0.3333333333333333,
              "#9c179e"
             ],
             [
              0.4444444444444444,
              "#bd3786"
             ],
             [
              0.5555555555555556,
              "#d8576b"
             ],
             [
              0.6666666666666666,
              "#ed7953"
             ],
             [
              0.7777777777777778,
              "#fb9f3a"
             ],
             [
              0.8888888888888888,
              "#fdca26"
             ],
             [
              1,
              "#f0f921"
             ]
            ],
            "type": "contour"
           }
          ],
          "contourcarpet": [
           {
            "colorbar": {
             "outlinewidth": 0,
             "ticks": ""
            },
            "type": "contourcarpet"
           }
          ],
          "heatmap": [
           {
            "colorbar": {
             "outlinewidth": 0,
             "ticks": ""
            },
            "colorscale": [
             [
              0,
              "#0d0887"
             ],
             [
              0.1111111111111111,
              "#46039f"
             ],
             [
              0.2222222222222222,
              "#7201a8"
             ],
             [
              0.3333333333333333,
              "#9c179e"
             ],
             [
              0.4444444444444444,
              "#bd3786"
             ],
             [
              0.5555555555555556,
              "#d8576b"
             ],
             [
              0.6666666666666666,
              "#ed7953"
             ],
             [
              0.7777777777777778,
              "#fb9f3a"
             ],
             [
              0.8888888888888888,
              "#fdca26"
             ],
             [
              1,
              "#f0f921"
             ]
            ],
            "type": "heatmap"
           }
          ],
          "heatmapgl": [
           {
            "colorbar": {
             "outlinewidth": 0,
             "ticks": ""
            },
            "colorscale": [
             [
              0,
              "#0d0887"
             ],
             [
              0.1111111111111111,
              "#46039f"
             ],
             [
              0.2222222222222222,
              "#7201a8"
             ],
             [
              0.3333333333333333,
              "#9c179e"
             ],
             [
              0.4444444444444444,
              "#bd3786"
             ],
             [
              0.5555555555555556,
              "#d8576b"
             ],
             [
              0.6666666666666666,
              "#ed7953"
             ],
             [
              0.7777777777777778,
              "#fb9f3a"
             ],
             [
              0.8888888888888888,
              "#fdca26"
             ],
             [
              1,
              "#f0f921"
             ]
            ],
            "type": "heatmapgl"
           }
          ],
          "histogram": [
           {
            "marker": {
             "pattern": {
              "fillmode": "overlay",
              "size": 10,
              "solidity": 0.2
             }
            },
            "type": "histogram"
           }
          ],
          "histogram2d": [
           {
            "colorbar": {
             "outlinewidth": 0,
             "ticks": ""
            },
            "colorscale": [
             [
              0,
              "#0d0887"
             ],
             [
              0.1111111111111111,
              "#46039f"
             ],
             [
              0.2222222222222222,
              "#7201a8"
             ],
             [
              0.3333333333333333,
              "#9c179e"
             ],
             [
              0.4444444444444444,
              "#bd3786"
             ],
             [
              0.5555555555555556,
              "#d8576b"
             ],
             [
              0.6666666666666666,
              "#ed7953"
             ],
             [
              0.7777777777777778,
              "#fb9f3a"
             ],
             [
              0.8888888888888888,
              "#fdca26"
             ],
             [
              1,
              "#f0f921"
             ]
            ],
            "type": "histogram2d"
           }
          ],
          "histogram2dcontour": [
           {
            "colorbar": {
             "outlinewidth": 0,
             "ticks": ""
            },
            "colorscale": [
             [
              0,
              "#0d0887"
             ],
             [
              0.1111111111111111,
              "#46039f"
             ],
             [
              0.2222222222222222,
              "#7201a8"
             ],
             [
              0.3333333333333333,
              "#9c179e"
             ],
             [
              0.4444444444444444,
              "#bd3786"
             ],
             [
              0.5555555555555556,
              "#d8576b"
             ],
             [
              0.6666666666666666,
              "#ed7953"
             ],
             [
              0.7777777777777778,
              "#fb9f3a"
             ],
             [
              0.8888888888888888,
              "#fdca26"
             ],
             [
              1,
              "#f0f921"
             ]
            ],
            "type": "histogram2dcontour"
           }
          ],
          "mesh3d": [
           {
            "colorbar": {
             "outlinewidth": 0,
             "ticks": ""
            },
            "type": "mesh3d"
           }
          ],
          "parcoords": [
           {
            "line": {
             "colorbar": {
              "outlinewidth": 0,
              "ticks": ""
             }
            },
            "type": "parcoords"
           }
          ],
          "pie": [
           {
            "automargin": true,
            "type": "pie"
           }
          ],
          "scatter": [
           {
            "fillpattern": {
             "fillmode": "overlay",
             "size": 10,
             "solidity": 0.2
            },
            "type": "scatter"
           }
          ],
          "scatter3d": [
           {
            "line": {
             "colorbar": {
              "outlinewidth": 0,
              "ticks": ""
             }
            },
            "marker": {
             "colorbar": {
              "outlinewidth": 0,
              "ticks": ""
             }
            },
            "type": "scatter3d"
           }
          ],
          "scattercarpet": [
           {
            "marker": {
             "colorbar": {
              "outlinewidth": 0,
              "ticks": ""
             }
            },
            "type": "scattercarpet"
           }
          ],
          "scattergeo": [
           {
            "marker": {
             "colorbar": {
              "outlinewidth": 0,
              "ticks": ""
             }
            },
            "type": "scattergeo"
           }
          ],
          "scattergl": [
           {
            "marker": {
             "colorbar": {
              "outlinewidth": 0,
              "ticks": ""
             }
            },
            "type": "scattergl"
           }
          ],
          "scattermapbox": [
           {
            "marker": {
             "colorbar": {
              "outlinewidth": 0,
              "ticks": ""
             }
            },
            "type": "scattermapbox"
           }
          ],
          "scatterpolar": [
           {
            "marker": {
             "colorbar": {
              "outlinewidth": 0,
              "ticks": ""
             }
            },
            "type": "scatterpolar"
           }
          ],
          "scatterpolargl": [
           {
            "marker": {
             "colorbar": {
              "outlinewidth": 0,
              "ticks": ""
             }
            },
            "type": "scatterpolargl"
           }
          ],
          "scatterternary": [
           {
            "marker": {
             "colorbar": {
              "outlinewidth": 0,
              "ticks": ""
             }
            },
            "type": "scatterternary"
           }
          ],
          "surface": [
           {
            "colorbar": {
             "outlinewidth": 0,
             "ticks": ""
            },
            "colorscale": [
             [
              0,
              "#0d0887"
             ],
             [
              0.1111111111111111,
              "#46039f"
             ],
             [
              0.2222222222222222,
              "#7201a8"
             ],
             [
              0.3333333333333333,
              "#9c179e"
             ],
             [
              0.4444444444444444,
              "#bd3786"
             ],
             [
              0.5555555555555556,
              "#d8576b"
             ],
             [
              0.6666666666666666,
              "#ed7953"
             ],
             [
              0.7777777777777778,
              "#fb9f3a"
             ],
             [
              0.8888888888888888,
              "#fdca26"
             ],
             [
              1,
              "#f0f921"
             ]
            ],
            "type": "surface"
           }
          ],
          "table": [
           {
            "cells": {
             "fill": {
              "color": "#EBF0F8"
             },
             "line": {
              "color": "white"
             }
            },
            "header": {
             "fill": {
              "color": "#C8D4E3"
             },
             "line": {
              "color": "white"
             }
            },
            "type": "table"
           }
          ]
         },
         "layout": {
          "annotationdefaults": {
           "arrowcolor": "#2a3f5f",
           "arrowhead": 0,
           "arrowwidth": 1
          },
          "autotypenumbers": "strict",
          "coloraxis": {
           "colorbar": {
            "outlinewidth": 0,
            "ticks": ""
           }
          },
          "colorscale": {
           "diverging": [
            [
             0,
             "#8e0152"
            ],
            [
             0.1,
             "#c51b7d"
            ],
            [
             0.2,
             "#de77ae"
            ],
            [
             0.3,
             "#f1b6da"
            ],
            [
             0.4,
             "#fde0ef"
            ],
            [
             0.5,
             "#f7f7f7"
            ],
            [
             0.6,
             "#e6f5d0"
            ],
            [
             0.7,
             "#b8e186"
            ],
            [
             0.8,
             "#7fbc41"
            ],
            [
             0.9,
             "#4d9221"
            ],
            [
             1,
             "#276419"
            ]
           ],
           "sequential": [
            [
             0,
             "#0d0887"
            ],
            [
             0.1111111111111111,
             "#46039f"
            ],
            [
             0.2222222222222222,
             "#7201a8"
            ],
            [
             0.3333333333333333,
             "#9c179e"
            ],
            [
             0.4444444444444444,
             "#bd3786"
            ],
            [
             0.5555555555555556,
             "#d8576b"
            ],
            [
             0.6666666666666666,
             "#ed7953"
            ],
            [
             0.7777777777777778,
             "#fb9f3a"
            ],
            [
             0.8888888888888888,
             "#fdca26"
            ],
            [
             1,
             "#f0f921"
            ]
           ],
           "sequentialminus": [
            [
             0,
             "#0d0887"
            ],
            [
             0.1111111111111111,
             "#46039f"
            ],
            [
             0.2222222222222222,
             "#7201a8"
            ],
            [
             0.3333333333333333,
             "#9c179e"
            ],
            [
             0.4444444444444444,
             "#bd3786"
            ],
            [
             0.5555555555555556,
             "#d8576b"
            ],
            [
             0.6666666666666666,
             "#ed7953"
            ],
            [
             0.7777777777777778,
             "#fb9f3a"
            ],
            [
             0.8888888888888888,
             "#fdca26"
            ],
            [
             1,
             "#f0f921"
            ]
           ]
          },
          "colorway": [
           "#636efa",
           "#EF553B",
           "#00cc96",
           "#ab63fa",
           "#FFA15A",
           "#19d3f3",
           "#FF6692",
           "#B6E880",
           "#FF97FF",
           "#FECB52"
          ],
          "font": {
           "color": "#2a3f5f"
          },
          "geo": {
           "bgcolor": "white",
           "lakecolor": "white",
           "landcolor": "#E5ECF6",
           "showlakes": true,
           "showland": true,
           "subunitcolor": "white"
          },
          "hoverlabel": {
           "align": "left"
          },
          "hovermode": "closest",
          "mapbox": {
           "style": "light"
          },
          "paper_bgcolor": "white",
          "plot_bgcolor": "#E5ECF6",
          "polar": {
           "angularaxis": {
            "gridcolor": "white",
            "linecolor": "white",
            "ticks": ""
           },
           "bgcolor": "#E5ECF6",
           "radialaxis": {
            "gridcolor": "white",
            "linecolor": "white",
            "ticks": ""
           }
          },
          "scene": {
           "xaxis": {
            "backgroundcolor": "#E5ECF6",
            "gridcolor": "white",
            "gridwidth": 2,
            "linecolor": "white",
            "showbackground": true,
            "ticks": "",
            "zerolinecolor": "white"
           },
           "yaxis": {
            "backgroundcolor": "#E5ECF6",
            "gridcolor": "white",
            "gridwidth": 2,
            "linecolor": "white",
            "showbackground": true,
            "ticks": "",
            "zerolinecolor": "white"
           },
           "zaxis": {
            "backgroundcolor": "#E5ECF6",
            "gridcolor": "white",
            "gridwidth": 2,
            "linecolor": "white",
            "showbackground": true,
            "ticks": "",
            "zerolinecolor": "white"
           }
          },
          "shapedefaults": {
           "line": {
            "color": "#2a3f5f"
           }
          },
          "ternary": {
           "aaxis": {
            "gridcolor": "white",
            "linecolor": "white",
            "ticks": ""
           },
           "baxis": {
            "gridcolor": "white",
            "linecolor": "white",
            "ticks": ""
           },
           "bgcolor": "#E5ECF6",
           "caxis": {
            "gridcolor": "white",
            "linecolor": "white",
            "ticks": ""
           }
          },
          "title": {
           "x": 0.05
          },
          "xaxis": {
           "automargin": true,
           "gridcolor": "white",
           "linecolor": "white",
           "ticks": "",
           "title": {
            "standoff": 15
           },
           "zerolinecolor": "white",
           "zerolinewidth": 2
          },
          "yaxis": {
           "automargin": true,
           "gridcolor": "white",
           "linecolor": "white",
           "ticks": "",
           "title": {
            "standoff": 15
           },
           "zerolinecolor": "white",
           "zerolinewidth": 2
          }
         }
        },
        "title": {
         "font": {
          "color": "#4D5663"
         }
        },
        "xaxis": {
         "autorange": true,
         "gridcolor": "#E1E5ED",
         "range": [
          -0.5,
          3.5
         ],
         "showgrid": true,
         "tickfont": {
          "color": "#4D5663"
         },
         "title": {
          "font": {
           "color": "#4D5663"
          },
          "text": ""
         },
         "type": "category",
         "zerolinecolor": "#E1E5ED"
        },
        "yaxis": {
         "autorange": true,
         "gridcolor": "#E1E5ED",
         "range": [
          -2.7910734636589187,
          3.481451019144431
         ],
         "showgrid": true,
         "tickfont": {
          "color": "#4D5663"
         },
         "title": {
          "font": {
           "color": "#4D5663"
          },
          "text": ""
         },
         "type": "linear",
         "zerolinecolor": "#E1E5ED"
        }
       }
      },
      "image/png": "[encoded data removed]",
      "text/html": [
       "<div>                            <div id=\"d70e08f1-48ae-47c0-adf8-63aa4781a348\" class=\"plotly-graph-div\" style=\"height:525px; width:100%;\"></div>            <script type=\"text/javascript\">                require([\"plotly\"], function(Plotly) {                    window.PLOTLYENV=window.PLOTLYENV || {};\n",
       "                    window.PLOTLYENV.BASE_URL='https://plot.ly';                                    if (document.getElementById(\"d70e08f1-48ae-47c0-adf8-63aa4781a348\")) {                    Plotly.newPlot(                        \"d70e08f1-48ae-47c0-adf8-63aa4781a348\",                        [{\"boxpoints\":false,\"line\":{\"width\":1.3},\"marker\":{\"color\":\"rgba(255, 153, 51, 1.0)\"},\"name\":\"A\",\"orientation\":\"v\",\"y\":[-0.8517614455883655,-0.04342189052762476,-0.5212214967722162,0.3463107666807025,-0.745881714063798,-0.30058773176849457,-2.294340311312299,-0.6512596659917415,0.506280440778242,-0.009690230605172254,0.6878141235775956,0.9626477777248147,1.9166904602701855,-0.45669843310114844,-1.17050493216569,2.2448005418810375,-0.28437845271142315,2.20013599919316,-1.1618106024664825,-0.8567423458194338,-1.0208832664798144,0.5703772004588231,0.9500450320973882,-0.6157420152530569,-0.7506656628682755,-0.16251365544450222,-0.6594437150281366,-0.9953798842138176,-1.0214733410454175,0.9285981310725163,0.33397810418350543,2.004283613512989,-1.0553236237125618,2.2850752156538063,-1.3753565992764296,-0.16501944321362802,0.5859344727051908,-0.18337137906315976,0.5932397316914628,-1.0418591959561794,1.7492129420611109,-0.5817937909383222,1.2316994838318762,0.9294052760388295,0.3520482281449861,0.7995560104582256,-0.41303009169552846,0.6949404983860864,1.5221943621246272,0.9258134979345521,-0.9730478801948261,-0.6262233648414084,-0.7063907512266209,-0.5577707713737803,-1.115285461836506,0.14168470522696505,-0.5008846735922116,-2.132915473280724,-0.4274968629044933,-1.3049965129181547,0.1255639710172537,-0.5779084871828467,-2.3440688331691595,-0.9404043092856896,1.0113599002670215,-1.1581293656750085,-0.3209275331612879,-0.26558229431764846,0.5598700845574042,0.6541742521756773,-0.5044763013189157,1.2664555045492127,-0.7708413334932498,0.7605925642066997,-1.3641341420112059,-0.7014556822610499,0.11434435077903846,0.9554038286070254,-0.570544304958875,-1.073236016265232,-0.16185980233727848,-0.15574260103122203,0.009923580756196683,0.7915328220783816,-1.936094840968455,-0.08462248253141151,0.6989879597069288,-0.5783664463035025,0.29535472856846945,-0.9236655704169129,-2.0291032054275138,-0.34867755292168895,-0.8556589825027233,0.45736269533464113,1.6827814465839737,0.017887806579571335,0.7430841354778721,1.0473851610215101,-0.8759282168181415,0.7612861204776716],\"type\":\"box\"},{\"boxpoints\":false,\"line\":{\"width\":1.3},\"marker\":{\"color\":\"rgba(55, 128, 191, 1.0)\"},\"name\":\"B\",\"orientation\":\"v\",\"y\":[-1.2411062397873414,0.02807914310972193,0.31936991465874937,-0.936624080293878,-2.0397357953994755,-1.2961599561491113,-2.4774472395187512,0.09931069506463953,0.26552531364527115,0.9335464940691652,0.8986794079209267,0.29622631233968777,0.6437623937325981,1.9277184697441778,-0.7036554347701831,0.2500502636911673,1.2350021110504927,1.0237531453705104,-0.6632947884834026,0.9868176338319913,1.3453311524356033,0.24952513249963243,-0.7082905967465567,1.2769871222507228,-1.9118975786051817,-0.8873715742413686,1.5378638040470454,-0.10710943967908983,0.7845777905330139,0.8270199278529797,0.41947638614534927,-0.6103461037142758,1.2832756709970892,-0.11416461232664675,-0.7392920699114925,-1.4637285693759212,-0.4677850468066235,-0.806834032956265,-0.3514224740201551,-0.08759108947064012,1.9604429088767352,-1.539498137166316,-0.7589306600245808,-1.3873313785163255,1.12307512963267,-1.0874744042664137,0.729226021155078,0.4351358751294404,-1.3587969148637427,1.6140817210918543,1.2660276312562755,-0.8082257649351985,0.69704454733331,0.4152703294264582,0.9034585114511574,-0.05924854849022004,2.0226182152394614,-0.07841380341378705,-0.3386092825470693,1.4156155845223164,-1.9797346660137547,-1.841984115363568,-0.5154841724459465,0.8939062610383636,-0.3489922837461976,-0.677196875864426,-1.0620264960449346,-1.1503882870014204,0.0042260410358588435,-0.5620865442747135,0.4115443926705976,0.7153717423546805,-1.5459819291841044,1.3252812663525808,0.7538124900180974,0.8547986901890187,-0.2795176870933874,0.763745158149344,0.2111943276448071,-0.7972437348540449,-0.393452740038313,0.9953585944717301,0.9534378275081842,0.052218086558350224,1.3181683198717666,0.2754614898008423,-0.8393112238396853,1.3546910993944914,0.4372159696747173,0.9136047664976019,1.443219930139496,0.046487522231139576,0.99988574453509,-0.0042272118759153045,-0.5630943395117491,-2.124339506586154,-0.22020744078220653,1.0475830922547424,0.14931168810186324,0.025470618198708817],\"type\":\"box\"},{\"boxpoints\":false,\"line\":{\"width\":1.3},\"marker\":{\"color\":\"rgba(50, 171, 96, 1.0)\"},\"name\":\"C\",\"orientation\":\"v\",\"y\":[1.99074868674031,-0.00465708454709553,-0.5755445261127081,0.5382443872435205,0.1709426834321075,0.4329753224811685,-0.5651554806569195,-0.5382260512861466,0.04847066972062829,0.08806423847999274,-0.79606960465105,0.8780084031924762,-1.3235085256898664,0.7248567525421737,-1.5146950623954112,-0.5665899094172965,1.019728716322084,0.6388293181860352,1.250817021100408,-1.4096077271209306,-0.8525157696226018,-0.4899635144904453,0.13751888465810286,0.14718455041977344,1.834529039436641,0.9084107963171624,0.5895130764523258,-0.038309296558468424,-0.4388820852707616,1.4627208308293214,1.1776910929138449,0.5157145320795943,-1.9609777265208228,-0.25592226927388523,3.1678247950042633,0.6846831368718976,-0.5005789641863538,1.3976315892846005,-1.4207617413874387,0.7648460769609398,0.1365811035395829,-1.7804267125521187,-1.5838621251058371,0.42779170807600814,-0.18986991343828116,0.29815222688000004,0.13371404643256948,0.8922931377279383,-1.846555638787027,-0.056493298038888876,1.7527122256491043,-0.7124329358839242,-0.9841181433991666,0.8779756329966848,0.8654510077229993,1.1968004459990302,-1.1250083025882454,-1.5258375755988967,-0.501217116263024,-0.053820139446658005,-1.4692798385105381,-0.5880506546292816,-0.7431529181334172,-0.19304032205527322,-0.47451713767621806,-2.1088297903073228,2.0091149763178815,-0.24549609142478476,-1.9436855874491659,-1.0485915236308072,0.16613915039287627,0.8985420514860681,-0.3415662591350445,-0.4290461741748661,-0.8278170574841253,-0.6650263799092747,-1.495577624198766,1.1527935477724358,-0.7222492854569627,0.9234615143051651,0.03046862993085494,1.1288922392026846,-0.9692935077617421,-0.046178203334927136,-0.5109769793720991,-0.2521226240125022,1.4868369585876753,0.7688646976945722,0.0633897069989844,1.8859575140986533,0.286565663426963,-0.08974188217200231,1.5781239564426428,0.06176288122267352,-0.4371343104556174,-0.7675835389156066,-0.072699091327509,-0.9378252040684169,0.2292594668542032,-0.10819490478797017],\"type\":\"box\"},{\"boxpoints\":false,\"line\":{\"width\":1.3},\"marker\":{\"color\":\"rgba(128, 0, 128, 1.0)\"},\"name\":\"D\",\"orientation\":\"v\",\"y\":[-0.9095280516273,-0.1900569063753824,0.2698374073735738,0.44794311046828933,0.6288764120114955,-0.06262118751111524,-0.26110849338128506,0.04603596881270804,0.5200144469049582,-0.2926155418755851,0.1510701746371853,-0.5877929182944712,0.08069558213353756,-0.9486654727999834,0.7384779219991,-0.06410591754527575,0.3548260165084111,0.9054277579689765,-0.06088091502475971,-0.9013312571843716,2.0972634759275595,1.4900101474091065,0.40261896097794214,-0.7867852691032597,-1.1118230564512712,1.5755924791406197,-0.26121813234467717,0.818713933783864,-1.8644115325025155,-0.27403192527081843,1.9576244718277251,-0.24605663623256627,-0.5123924847226448,0.23369135084072537,-0.7106808785710417,0.6689331481595072,1.1110575005073737,0.21581313152734466,-0.4438586289334656,0.1729837762538506,-1.7700587075000929,0.37143431574323865,0.013931457863850364,1.064527392567633,0.6774940958087046,-0.2712353808433596,0.6259480440257154,0.6094737251907064,-1.2716351983656191,-0.6962798871997286,-1.4955734251208237,-1.8834275522361492,0.11823678063751057,0.18823957275155215,0.13155936455322798,-1.6520989148959249,0.3184852609414845,-1.5155816087200382,0.265585097295708,-0.2028549510446965,-0.031449586442298214,0.8368611781097274,-0.9391191159328348,1.2681019891243461,1.4441230757810974,0.26438228422400245,0.697102195169398,-0.1922187018955505,-0.5192173064225332,-1.1883600624748492,-0.18156463296776557,0.18444151620027213,0.7913705740592086,0.3246168451101668,-0.8099255565615424,1.0776555411206108,1.0847851664599493,1.239370886496258,0.9125234655662715,-0.19320405393911116,0.18672164796475887,-1.026260378037688,0.08214481737685381,-0.0657676414163017,0.028634564346487694,-1.160917571285121,1.0580203509717026,0.431179003636367,-2.101168181892536,-0.20401401031325544,0.8297268745308249,-0.024495455035140976,0.8013374475472247,-1.8888564911648995,1.258441521160854,0.08441207009120676,-1.3984125482489753,-0.5614214623572323,0.8069062068920521,1.7134747999012199],\"type\":\"box\"}],                        {\"legend\":{\"bgcolor\":\"#F5F6F9\",\"font\":{\"color\":\"#4D5663\"}},\"paper_bgcolor\":\"#F5F6F9\",\"plot_bgcolor\":\"#F5F6F9\",\"template\":{\"data\":{\"barpolar\":[{\"marker\":{\"line\":{\"color\":\"#E5ECF6\",\"width\":0.5},\"pattern\":{\"fillmode\":\"overlay\",\"size\":10,\"solidity\":0.2}},\"type\":\"barpolar\"}],\"bar\":[{\"error_x\":{\"color\":\"#2a3f5f\"},\"error_y\":{\"color\":\"#2a3f5f\"},\"marker\":{\"line\":{\"color\":\"#E5ECF6\",\"width\":0.5},\"pattern\":{\"fillmode\":\"overlay\",\"size\":10,\"solidity\":0.2}},\"type\":\"bar\"}],\"carpet\":[{\"aaxis\":{\"endlinecolor\":\"#2a3f5f\",\"gridcolor\":\"white\",\"linecolor\":\"white\",\"minorgridcolor\":\"white\",\"startlinecolor\":\"#2a3f5f\"},\"baxis\":{\"endlinecolor\":\"#2a3f5f\",\"gridcolor\":\"white\",\"linecolor\":\"white\",\"minorgridcolor\":\"white\",\"startlinecolor\":\"#2a3f5f\"},\"type\":\"carpet\"}],\"choropleth\":[{\"colorbar\":{\"outlinewidth\":0,\"ticks\":\"\"},\"type\":\"choropleth\"}],\"contourcarpet\":[{\"colorbar\":{\"outlinewidth\":0,\"ticks\":\"\"},\"type\":\"contourcarpet\"}],\"contour\":[{\"colorbar\":{\"outlinewidth\":0,\"ticks\":\"\"},\"colorscale\":[[0.0,\"#0d0887\"],[0.1111111111111111,\"#46039f\"],[0.2222222222222222,\"#7201a8\"],[0.3333333333333333,\"#9c179e\"],[0.4444444444444444,\"#bd3786\"],[0.5555555555555556,\"#d8576b\"],[0.6666666666666666,\"#ed7953\"],[0.7777777777777778,\"#fb9f3a\"],[0.8888888888888888,\"#fdca26\"],[1.0,\"#f0f921\"]],\"type\":\"contour\"}],\"heatmapgl\":[{\"colorbar\":{\"outlinewidth\":0,\"ticks\":\"\"},\"colorscale\":[[0.0,\"#0d0887\"],[0.1111111111111111,\"#46039f\"],[0.2222222222222222,\"#7201a8\"],[0.3333333333333333,\"#9c179e\"],[0.4444444444444444,\"#bd3786\"],[0.5555555555555556,\"#d8576b\"],[0.6666666666666666,\"#ed7953\"],[0.7777777777777778,\"#fb9f3a\"],[0.8888888888888888,\"#fdca26\"],[1.0,\"#f0f921\"]],\"type\":\"heatmapgl\"}],\"heatmap\":[{\"colorbar\":{\"outlinewidth\":0,\"ticks\":\"\"},\"colorscale\":[[0.0,\"#0d0887\"],[0.1111111111111111,\"#46039f\"],[0.2222222222222222,\"#7201a8\"],[0.3333333333333333,\"#9c179e\"],[0.4444444444444444,\"#bd3786\"],[0.5555555555555556,\"#d8576b\"],[0.6666666666666666,\"#ed7953\"],[0.7777777777777778,\"#fb9f3a\"],[0.8888888888888888,\"#fdca26\"],[1.0,\"#f0f921\"]],\"type\":\"heatmap\"}],\"histogram2dcontour\":[{\"colorbar\":{\"outlinewidth\":0,\"ticks\":\"\"},\"colorscale\":[[0.0,\"#0d0887\"],[0.1111111111111111,\"#46039f\"],[0.2222222222222222,\"#7201a8\"],[0.3333333333333333,\"#9c179e\"],[0.4444444444444444,\"#bd3786\"],[0.5555555555555556,\"#d8576b\"],[0.6666666666666666,\"#ed7953\"],[0.7777777777777778,\"#fb9f3a\"],[0.8888888888888888,\"#fdca26\"],[1.0,\"#f0f921\"]],\"type\":\"histogram2dcontour\"}],\"histogram2d\":[{\"colorbar\":{\"outlinewidth\":0,\"ticks\":\"\"},\"colorscale\":[[0.0,\"#0d0887\"],[0.1111111111111111,\"#46039f\"],[0.2222222222222222,\"#7201a8\"],[0.3333333333333333,\"#9c179e\"],[0.4444444444444444,\"#bd3786\"],[0.5555555555555556,\"#d8576b\"],[0.6666666666666666,\"#ed7953\"],[0.7777777777777778,\"#fb9f3a\"],[0.8888888888888888,\"#fdca26\"],[1.0,\"#f0f921\"]],\"type\":\"histogram2d\"}],\"histogram\":[{\"marker\":{\"pattern\":{\"fillmode\":\"overlay\",\"size\":10,\"solidity\":0.2}},\"type\":\"histogram\"}],\"mesh3d\":[{\"colorbar\":{\"outlinewidth\":0,\"ticks\":\"\"},\"type\":\"mesh3d\"}],\"parcoords\":[{\"line\":{\"colorbar\":{\"outlinewidth\":0,\"ticks\":\"\"}},\"type\":\"parcoords\"}],\"pie\":[{\"automargin\":true,\"type\":\"pie\"}],\"scatter3d\":[{\"line\":{\"colorbar\":{\"outlinewidth\":0,\"ticks\":\"\"}},\"marker\":{\"colorbar\":{\"outlinewidth\":0,\"ticks\":\"\"}},\"type\":\"scatter3d\"}],\"scattercarpet\":[{\"marker\":{\"colorbar\":{\"outlinewidth\":0,\"ticks\":\"\"}},\"type\":\"scattercarpet\"}],\"scattergeo\":[{\"marker\":{\"colorbar\":{\"outlinewidth\":0,\"ticks\":\"\"}},\"type\":\"scattergeo\"}],\"scattergl\":[{\"marker\":{\"colorbar\":{\"outlinewidth\":0,\"ticks\":\"\"}},\"type\":\"scattergl\"}],\"scattermapbox\":[{\"marker\":{\"colorbar\":{\"outlinewidth\":0,\"ticks\":\"\"}},\"type\":\"scattermapbox\"}],\"scatterpolargl\":[{\"marker\":{\"colorbar\":{\"outlinewidth\":0,\"ticks\":\"\"}},\"type\":\"scatterpolargl\"}],\"scatterpolar\":[{\"marker\":{\"colorbar\":{\"outlinewidth\":0,\"ticks\":\"\"}},\"type\":\"scatterpolar\"}],\"scatter\":[{\"fillpattern\":{\"fillmode\":\"overlay\",\"size\":10,\"solidity\":0.2},\"type\":\"scatter\"}],\"scatterternary\":[{\"marker\":{\"colorbar\":{\"outlinewidth\":0,\"ticks\":\"\"}},\"type\":\"scatterternary\"}],\"surface\":[{\"colorbar\":{\"outlinewidth\":0,\"ticks\":\"\"},\"colorscale\":[[0.0,\"#0d0887\"],[0.1111111111111111,\"#46039f\"],[0.2222222222222222,\"#7201a8\"],[0.3333333333333333,\"#9c179e\"],[0.4444444444444444,\"#bd3786\"],[0.5555555555555556,\"#d8576b\"],[0.6666666666666666,\"#ed7953\"],[0.7777777777777778,\"#fb9f3a\"],[0.8888888888888888,\"#fdca26\"],[1.0,\"#f0f921\"]],\"type\":\"surface\"}],\"table\":[{\"cells\":{\"fill\":{\"color\":\"#EBF0F8\"},\"line\":{\"color\":\"white\"}},\"header\":{\"fill\":{\"color\":\"#C8D4E3\"},\"line\":{\"color\":\"white\"}},\"type\":\"table\"}]},\"layout\":{\"annotationdefaults\":{\"arrowcolor\":\"#2a3f5f\",\"arrowhead\":0,\"arrowwidth\":1},\"autotypenumbers\":\"strict\",\"coloraxis\":{\"colorbar\":{\"outlinewidth\":0,\"ticks\":\"\"}},\"colorscale\":{\"diverging\":[[0,\"#8e0152\"],[0.1,\"#c51b7d\"],[0.2,\"#de77ae\"],[0.3,\"#f1b6da\"],[0.4,\"#fde0ef\"],[0.5,\"#f7f7f7\"],[0.6,\"#e6f5d0\"],[0.7,\"#b8e186\"],[0.8,\"#7fbc41\"],[0.9,\"#4d9221\"],[1,\"#276419\"]],\"sequential\":[[0.0,\"#0d0887\"],[0.1111111111111111,\"#46039f\"],[0.2222222222222222,\"#7201a8\"],[0.3333333333333333,\"#9c179e\"],[0.4444444444444444,\"#bd3786\"],[0.5555555555555556,\"#d8576b\"],[0.6666666666666666,\"#ed7953\"],[0.7777777777777778,\"#fb9f3a\"],[0.8888888888888888,\"#fdca26\"],[1.0,\"#f0f921\"]],\"sequentialminus\":[[0.0,\"#0d0887\"],[0.1111111111111111,\"#46039f\"],[0.2222222222222222,\"#7201a8\"],[0.3333333333333333,\"#9c179e\"],[0.4444444444444444,\"#bd3786\"],[0.5555555555555556,\"#d8576b\"],[0.6666666666666666,\"#ed7953\"],[0.7777777777777778,\"#fb9f3a\"],[0.8888888888888888,\"#fdca26\"],[1.0,\"#f0f921\"]]},\"colorway\":[\"#636efa\",\"#EF553B\",\"#00cc96\",\"#ab63fa\",\"#FFA15A\",\"#19d3f3\",\"#FF6692\",\"#B6E880\",\"#FF97FF\",\"#FECB52\"],\"font\":{\"color\":\"#2a3f5f\"},\"geo\":{\"bgcolor\":\"white\",\"lakecolor\":\"white\",\"landcolor\":\"#E5ECF6\",\"showlakes\":true,\"showland\":true,\"subunitcolor\":\"white\"},\"hoverlabel\":{\"align\":\"left\"},\"hovermode\":\"closest\",\"mapbox\":{\"style\":\"light\"},\"paper_bgcolor\":\"white\",\"plot_bgcolor\":\"#E5ECF6\",\"polar\":{\"angularaxis\":{\"gridcolor\":\"white\",\"linecolor\":\"white\",\"ticks\":\"\"},\"bgcolor\":\"#E5ECF6\",\"radialaxis\":{\"gridcolor\":\"white\",\"linecolor\":\"white\",\"ticks\":\"\"}},\"scene\":{\"xaxis\":{\"backgroundcolor\":\"#E5ECF6\",\"gridcolor\":\"white\",\"gridwidth\":2,\"linecolor\":\"white\",\"showbackground\":true,\"ticks\":\"\",\"zerolinecolor\":\"white\"},\"yaxis\":{\"backgroundcolor\":\"#E5ECF6\",\"gridcolor\":\"white\",\"gridwidth\":2,\"linecolor\":\"white\",\"showbackground\":true,\"ticks\":\"\",\"zerolinecolor\":\"white\"},\"zaxis\":{\"backgroundcolor\":\"#E5ECF6\",\"gridcolor\":\"white\",\"gridwidth\":2,\"linecolor\":\"white\",\"showbackground\":true,\"ticks\":\"\",\"zerolinecolor\":\"white\"}},\"shapedefaults\":{\"line\":{\"color\":\"#2a3f5f\"}},\"ternary\":{\"aaxis\":{\"gridcolor\":\"white\",\"linecolor\":\"white\",\"ticks\":\"\"},\"baxis\":{\"gridcolor\":\"white\",\"linecolor\":\"white\",\"ticks\":\"\"},\"bgcolor\":\"#E5ECF6\",\"caxis\":{\"gridcolor\":\"white\",\"linecolor\":\"white\",\"ticks\":\"\"}},\"title\":{\"x\":0.05},\"xaxis\":{\"automargin\":true,\"gridcolor\":\"white\",\"linecolor\":\"white\",\"ticks\":\"\",\"title\":{\"standoff\":15},\"zerolinecolor\":\"white\",\"zerolinewidth\":2},\"yaxis\":{\"automargin\":true,\"gridcolor\":\"white\",\"linecolor\":\"white\",\"ticks\":\"\",\"title\":{\"standoff\":15},\"zerolinecolor\":\"white\",\"zerolinewidth\":2}}},\"title\":{\"font\":{\"color\":\"#4D5663\"}},\"xaxis\":{\"gridcolor\":\"#E1E5ED\",\"showgrid\":true,\"tickfont\":{\"color\":\"#4D5663\"},\"title\":{\"font\":{\"color\":\"#4D5663\"},\"text\":\"\"},\"zerolinecolor\":\"#E1E5ED\"},\"yaxis\":{\"gridcolor\":\"#E1E5ED\",\"showgrid\":true,\"tickfont\":{\"color\":\"#4D5663\"},\"title\":{\"font\":{\"color\":\"#4D5663\"},\"text\":\"\"},\"zerolinecolor\":\"#E1E5ED\"}},                        {\"showLink\": true, \"linkText\": \"Export to plot.ly\", \"plotlyServerURL\": \"https://plot.ly\", \"responsive\": true}                    ).then(function(){\n",
       "                            \n",
       "var gd = document.getElementById('d70e08f1-48ae-47c0-adf8-63aa4781a348');\n",
       "var x = new MutationObserver(function (mutations, observer) {{\n",
       "        var display = window.getComputedStyle(gd).display;\n",
       "        if (!display || display === 'none') {{\n",
       "            console.log([gd, 'removed!']);\n",
       "            Plotly.purge(gd);\n",
       "            observer.disconnect();\n",
       "        }}\n",
       "}});\n",
       "\n",
       "// Listen for the removal of the full notebook cells\n",
       "var notebookContainer = gd.closest('#notebook-container');\n",
       "if (notebookContainer) {{\n",
       "    x.observe(notebookContainer, {childList: true});\n",
       "}}\n",
       "\n",
       "// Listen for the clearing of the current output cell\n",
       "var outputEl = gd.closest('.output');\n",
       "if (outputEl) {{\n",
       "    x.observe(outputEl, {childList: true});\n",
       "}}\n",
       "\n",
       "                        })                };                });            </script>        </div>"
      ]
     },
     "metadata": {},
     "output_type": "display_data"
    }
   ],
   "source": [
    "df.iplot(kind='box')"
   ]
  },
  {
   "cell_type": "markdown",
   "metadata": {},
   "source": [
    "## 3d Surface"
   ]
  },
  {
   "cell_type": "code",
   "execution_count": 12,
   "metadata": {
    "collapsed": false,
    "jupyter": {
     "outputs_hidden": false
    }
   },
   "outputs": [
    {
     "data": {
      "application/vnd.plotly.v1+json": {
       "config": {
        "linkText": "Export to plot.ly",
        "plotlyServerURL": "https://plot.ly",
        "showLink": true
       },
       "data": [
        {
         "colorscale": [
          [
           0,
           "rgb(165,0,38)"
          ],
          [
           0.1,
           "rgb(215,48,39)"
          ],
          [
           0.2,
           "rgb(244,109,67)"
          ],
          [
           0.3,
           "rgb(253,174,97)"
          ],
          [
           0.4,
           "rgb(254,224,144)"
          ],
          [
           0.5,
           "rgb(255,255,191)"
          ],
          [
           0.6,
           "rgb(224,243,248)"
          ],
          [
           0.7,
           "rgb(171,217,233)"
          ],
          [
           0.8,
           "rgb(116,173,209)"
          ],
          [
           0.9,
           "rgb(69,117,180)"
          ],
          [
           1,
           "rgb(49,54,149)"
          ]
         ],
         "type": "surface",
         "x": [
          0,
          1,
          2,
          3,
          4
         ],
         "y": [
          "x",
          "y",
          "z"
         ],
         "z": [
          [
           1,
           2,
           3,
           4,
           5
          ],
          [
           10,
           20,
           30,
           20,
           10
          ],
          [
           5,
           4,
           3,
           2,
           1
          ]
         ]
        }
       ],
       "layout": {
        "autosize": true,
        "legend": {
         "bgcolor": "#F5F6F9",
         "font": {
          "color": "#4D5663"
         }
        },
        "paper_bgcolor": "#F5F6F9",
        "plot_bgcolor": "#F5F6F9",
        "scene": {
         "aspectmode": "auto",
         "aspectratio": {
          "x": 1,
          "y": 1,
          "z": 1
         },
         "camera": {
          "center": {
           "x": 0,
           "y": 0,
           "z": 0
          },
          "eye": {
           "x": -2.0218976072136234,
           "y": 0.7439132185934512,
           "z": 0.21453015905871245
          },
          "projection": {
           "type": "perspective"
          },
          "up": {
           "x": 0,
           "y": 0,
           "z": 1
          }
         }
        },
        "template": {
         "data": {
          "bar": [
           {
            "error_x": {
             "color": "#2a3f5f"
            },
            "error_y": {
             "color": "#2a3f5f"
            },
            "marker": {
             "line": {
              "color": "#E5ECF6",
              "width": 0.5
             },
             "pattern": {
              "fillmode": "overlay",
              "size": 10,
              "solidity": 0.2
             }
            },
            "type": "bar"
           }
          ],
          "barpolar": [
           {
            "marker": {
             "line": {
              "color": "#E5ECF6",
              "width": 0.5
             },
             "pattern": {
              "fillmode": "overlay",
              "size": 10,
              "solidity": 0.2
             }
            },
            "type": "barpolar"
           }
          ],
          "carpet": [
           {
            "aaxis": {
             "endlinecolor": "#2a3f5f",
             "gridcolor": "white",
             "linecolor": "white",
             "minorgridcolor": "white",
             "startlinecolor": "#2a3f5f"
            },
            "baxis": {
             "endlinecolor": "#2a3f5f",
             "gridcolor": "white",
             "linecolor": "white",
             "minorgridcolor": "white",
             "startlinecolor": "#2a3f5f"
            },
            "type": "carpet"
           }
          ],
          "choropleth": [
           {
            "colorbar": {
             "outlinewidth": 0,
             "ticks": ""
            },
            "type": "choropleth"
           }
          ],
          "contour": [
           {
            "colorbar": {
             "outlinewidth": 0,
             "ticks": ""
            },
            "colorscale": [
             [
              0,
              "#0d0887"
             ],
             [
              0.1111111111111111,
              "#46039f"
             ],
             [
              0.2222222222222222,
              "#7201a8"
             ],
             [
              0.3333333333333333,
              "#9c179e"
             ],
             [
              0.4444444444444444,
              "#bd3786"
             ],
             [
              0.5555555555555556,
              "#d8576b"
             ],
             [
              0.6666666666666666,
              "#ed7953"
             ],
             [
              0.7777777777777778,
              "#fb9f3a"
             ],
             [
              0.8888888888888888,
              "#fdca26"
             ],
             [
              1,
              "#f0f921"
             ]
            ],
            "type": "contour"
           }
          ],
          "contourcarpet": [
           {
            "colorbar": {
             "outlinewidth": 0,
             "ticks": ""
            },
            "type": "contourcarpet"
           }
          ],
          "heatmap": [
           {
            "colorbar": {
             "outlinewidth": 0,
             "ticks": ""
            },
            "colorscale": [
             [
              0,
              "#0d0887"
             ],
             [
              0.1111111111111111,
              "#46039f"
             ],
             [
              0.2222222222222222,
              "#7201a8"
             ],
             [
              0.3333333333333333,
              "#9c179e"
             ],
             [
              0.4444444444444444,
              "#bd3786"
             ],
             [
              0.5555555555555556,
              "#d8576b"
             ],
             [
              0.6666666666666666,
              "#ed7953"
             ],
             [
              0.7777777777777778,
              "#fb9f3a"
             ],
             [
              0.8888888888888888,
              "#fdca26"
             ],
             [
              1,
              "#f0f921"
             ]
            ],
            "type": "heatmap"
           }
          ],
          "heatmapgl": [
           {
            "colorbar": {
             "outlinewidth": 0,
             "ticks": ""
            },
            "colorscale": [
             [
              0,
              "#0d0887"
             ],
             [
              0.1111111111111111,
              "#46039f"
             ],
             [
              0.2222222222222222,
              "#7201a8"
             ],
             [
              0.3333333333333333,
              "#9c179e"
             ],
             [
              0.4444444444444444,
              "#bd3786"
             ],
             [
              0.5555555555555556,
              "#d8576b"
             ],
             [
              0.6666666666666666,
              "#ed7953"
             ],
             [
              0.7777777777777778,
              "#fb9f3a"
             ],
             [
              0.8888888888888888,
              "#fdca26"
             ],
             [
              1,
              "#f0f921"
             ]
            ],
            "type": "heatmapgl"
           }
          ],
          "histogram": [
           {
            "marker": {
             "pattern": {
              "fillmode": "overlay",
              "size": 10,
              "solidity": 0.2
             }
            },
            "type": "histogram"
           }
          ],
          "histogram2d": [
           {
            "colorbar": {
             "outlinewidth": 0,
             "ticks": ""
            },
            "colorscale": [
             [
              0,
              "#0d0887"
             ],
             [
              0.1111111111111111,
              "#46039f"
             ],
             [
              0.2222222222222222,
              "#7201a8"
             ],
             [
              0.3333333333333333,
              "#9c179e"
             ],
             [
              0.4444444444444444,
              "#bd3786"
             ],
             [
              0.5555555555555556,
              "#d8576b"
             ],
             [
              0.6666666666666666,
              "#ed7953"
             ],
             [
              0.7777777777777778,
              "#fb9f3a"
             ],
             [
              0.8888888888888888,
              "#fdca26"
             ],
             [
              1,
              "#f0f921"
             ]
            ],
            "type": "histogram2d"
           }
          ],
          "histogram2dcontour": [
           {
            "colorbar": {
             "outlinewidth": 0,
             "ticks": ""
            },
            "colorscale": [
             [
              0,
              "#0d0887"
             ],
             [
              0.1111111111111111,
              "#46039f"
             ],
             [
              0.2222222222222222,
              "#7201a8"
             ],
             [
              0.3333333333333333,
              "#9c179e"
             ],
             [
              0.4444444444444444,
              "#bd3786"
             ],
             [
              0.5555555555555556,
              "#d8576b"
             ],
             [
              0.6666666666666666,
              "#ed7953"
             ],
             [
              0.7777777777777778,
              "#fb9f3a"
             ],
             [
              0.8888888888888888,
              "#fdca26"
             ],
             [
              1,
              "#f0f921"
             ]
            ],
            "type": "histogram2dcontour"
           }
          ],
          "mesh3d": [
           {
            "colorbar": {
             "outlinewidth": 0,
             "ticks": ""
            },
            "type": "mesh3d"
           }
          ],
          "parcoords": [
           {
            "line": {
             "colorbar": {
              "outlinewidth": 0,
              "ticks": ""
             }
            },
            "type": "parcoords"
           }
          ],
          "pie": [
           {
            "automargin": true,
            "type": "pie"
           }
          ],
          "scatter": [
           {
            "fillpattern": {
             "fillmode": "overlay",
             "size": 10,
             "solidity": 0.2
            },
            "type": "scatter"
           }
          ],
          "scatter3d": [
           {
            "line": {
             "colorbar": {
              "outlinewidth": 0,
              "ticks": ""
             }
            },
            "marker": {
             "colorbar": {
              "outlinewidth": 0,
              "ticks": ""
             }
            },
            "type": "scatter3d"
           }
          ],
          "scattercarpet": [
           {
            "marker": {
             "colorbar": {
              "outlinewidth": 0,
              "ticks": ""
             }
            },
            "type": "scattercarpet"
           }
          ],
          "scattergeo": [
           {
            "marker": {
             "colorbar": {
              "outlinewidth": 0,
              "ticks": ""
             }
            },
            "type": "scattergeo"
           }
          ],
          "scattergl": [
           {
            "marker": {
             "colorbar": {
              "outlinewidth": 0,
              "ticks": ""
             }
            },
            "type": "scattergl"
           }
          ],
          "scattermapbox": [
           {
            "marker": {
             "colorbar": {
              "outlinewidth": 0,
              "ticks": ""
             }
            },
            "type": "scattermapbox"
           }
          ],
          "scatterpolar": [
           {
            "marker": {
             "colorbar": {
              "outlinewidth": 0,
              "ticks": ""
             }
            },
            "type": "scatterpolar"
           }
          ],
          "scatterpolargl": [
           {
            "marker": {
             "colorbar": {
              "outlinewidth": 0,
              "ticks": ""
             }
            },
            "type": "scatterpolargl"
           }
          ],
          "scatterternary": [
           {
            "marker": {
             "colorbar": {
              "outlinewidth": 0,
              "ticks": ""
             }
            },
            "type": "scatterternary"
           }
          ],
          "surface": [
           {
            "colorbar": {
             "outlinewidth": 0,
             "ticks": ""
            },
            "colorscale": [
             [
              0,
              "#0d0887"
             ],
             [
              0.1111111111111111,
              "#46039f"
             ],
             [
              0.2222222222222222,
              "#7201a8"
             ],
             [
              0.3333333333333333,
              "#9c179e"
             ],
             [
              0.4444444444444444,
              "#bd3786"
             ],
             [
              0.5555555555555556,
              "#d8576b"
             ],
             [
              0.6666666666666666,
              "#ed7953"
             ],
             [
              0.7777777777777778,
              "#fb9f3a"
             ],
             [
              0.8888888888888888,
              "#fdca26"
             ],
             [
              1,
              "#f0f921"
             ]
            ],
            "type": "surface"
           }
          ],
          "table": [
           {
            "cells": {
             "fill": {
              "color": "#EBF0F8"
             },
             "line": {
              "color": "white"
             }
            },
            "header": {
             "fill": {
              "color": "#C8D4E3"
             },
             "line": {
              "color": "white"
             }
            },
            "type": "table"
           }
          ]
         },
         "layout": {
          "annotationdefaults": {
           "arrowcolor": "#2a3f5f",
           "arrowhead": 0,
           "arrowwidth": 1
          },
          "autotypenumbers": "strict",
          "coloraxis": {
           "colorbar": {
            "outlinewidth": 0,
            "ticks": ""
           }
          },
          "colorscale": {
           "diverging": [
            [
             0,
             "#8e0152"
            ],
            [
             0.1,
             "#c51b7d"
            ],
            [
             0.2,
             "#de77ae"
            ],
            [
             0.3,
             "#f1b6da"
            ],
            [
             0.4,
             "#fde0ef"
            ],
            [
             0.5,
             "#f7f7f7"
            ],
            [
             0.6,
             "#e6f5d0"
            ],
            [
             0.7,
             "#b8e186"
            ],
            [
             0.8,
             "#7fbc41"
            ],
            [
             0.9,
             "#4d9221"
            ],
            [
             1,
             "#276419"
            ]
           ],
           "sequential": [
            [
             0,
             "#0d0887"
            ],
            [
             0.1111111111111111,
             "#46039f"
            ],
            [
             0.2222222222222222,
             "#7201a8"
            ],
            [
             0.3333333333333333,
             "#9c179e"
            ],
            [
             0.4444444444444444,
             "#bd3786"
            ],
            [
             0.5555555555555556,
             "#d8576b"
            ],
            [
             0.6666666666666666,
             "#ed7953"
            ],
            [
             0.7777777777777778,
             "#fb9f3a"
            ],
            [
             0.8888888888888888,
             "#fdca26"
            ],
            [
             1,
             "#f0f921"
            ]
           ],
           "sequentialminus": [
            [
             0,
             "#0d0887"
            ],
            [
             0.1111111111111111,
             "#46039f"
            ],
            [
             0.2222222222222222,
             "#7201a8"
            ],
            [
             0.3333333333333333,
             "#9c179e"
            ],
            [
             0.4444444444444444,
             "#bd3786"
            ],
            [
             0.5555555555555556,
             "#d8576b"
            ],
            [
             0.6666666666666666,
             "#ed7953"
            ],
            [
             0.7777777777777778,
             "#fb9f3a"
            ],
            [
             0.8888888888888888,
             "#fdca26"
            ],
            [
             1,
             "#f0f921"
            ]
           ]
          },
          "colorway": [
           "#636efa",
           "#EF553B",
           "#00cc96",
           "#ab63fa",
           "#FFA15A",
           "#19d3f3",
           "#FF6692",
           "#B6E880",
           "#FF97FF",
           "#FECB52"
          ],
          "font": {
           "color": "#2a3f5f"
          },
          "geo": {
           "bgcolor": "white",
           "lakecolor": "white",
           "landcolor": "#E5ECF6",
           "showlakes": true,
           "showland": true,
           "subunitcolor": "white"
          },
          "hoverlabel": {
           "align": "left"
          },
          "hovermode": "closest",
          "mapbox": {
           "style": "light"
          },
          "paper_bgcolor": "white",
          "plot_bgcolor": "#E5ECF6",
          "polar": {
           "angularaxis": {
            "gridcolor": "white",
            "linecolor": "white",
            "ticks": ""
           },
           "bgcolor": "#E5ECF6",
           "radialaxis": {
            "gridcolor": "white",
            "linecolor": "white",
            "ticks": ""
           }
          },
          "scene": {
           "xaxis": {
            "backgroundcolor": "#E5ECF6",
            "gridcolor": "white",
            "gridwidth": 2,
            "linecolor": "white",
            "showbackground": true,
            "ticks": "",
            "zerolinecolor": "white"
           },
           "yaxis": {
            "backgroundcolor": "#E5ECF6",
            "gridcolor": "white",
            "gridwidth": 2,
            "linecolor": "white",
            "showbackground": true,
            "ticks": "",
            "zerolinecolor": "white"
           },
           "zaxis": {
            "backgroundcolor": "#E5ECF6",
            "gridcolor": "white",
            "gridwidth": 2,
            "linecolor": "white",
            "showbackground": true,
            "ticks": "",
            "zerolinecolor": "white"
           }
          },
          "shapedefaults": {
           "line": {
            "color": "#2a3f5f"
           }
          },
          "ternary": {
           "aaxis": {
            "gridcolor": "white",
            "linecolor": "white",
            "ticks": ""
           },
           "baxis": {
            "gridcolor": "white",
            "linecolor": "white",
            "ticks": ""
           },
           "bgcolor": "#E5ECF6",
           "caxis": {
            "gridcolor": "white",
            "linecolor": "white",
            "ticks": ""
           }
          },
          "title": {
           "x": 0.05
          },
          "xaxis": {
           "automargin": true,
           "gridcolor": "white",
           "linecolor": "white",
           "ticks": "",
           "title": {
            "standoff": 15
           },
           "zerolinecolor": "white",
           "zerolinewidth": 2
          },
          "yaxis": {
           "automargin": true,
           "gridcolor": "white",
           "linecolor": "white",
           "ticks": "",
           "title": {
            "standoff": 15
           },
           "zerolinecolor": "white",
           "zerolinewidth": 2
          }
         }
        },
        "title": {
         "font": {
          "color": "#4D5663"
         }
        },
        "xaxis": {
         "gridcolor": "#E1E5ED",
         "showgrid": true,
         "tickfont": {
          "color": "#4D5663"
         },
         "title": {
          "font": {
           "color": "#4D5663"
          },
          "text": ""
         },
         "zerolinecolor": "#E1E5ED"
        },
        "yaxis": {
         "gridcolor": "#E1E5ED",
         "showgrid": true,
         "tickfont": {
          "color": "#4D5663"
         },
         "title": {
          "font": {
           "color": "#4D5663"
          },
          "text": ""
         },
         "zerolinecolor": "#E1E5ED"
        }
       }
      },
      "image/png": "[encoded data removed]",
      "text/html": [
       "<div>                            <div id=\"adab2c63-a6e2-4b97-8559-132cc98d6919\" class=\"plotly-graph-div\" style=\"height:525px; width:100%;\"></div>            <script type=\"text/javascript\">                require([\"plotly\"], function(Plotly) {                    window.PLOTLYENV=window.PLOTLYENV || {};\n",
       "                    window.PLOTLYENV.BASE_URL='https://plot.ly';                                    if (document.getElementById(\"adab2c63-a6e2-4b97-8559-132cc98d6919\")) {                    Plotly.newPlot(                        \"adab2c63-a6e2-4b97-8559-132cc98d6919\",                        [{\"colorscale\":[[0.0,\"rgb(165,0,38)\"],[0.1,\"rgb(215,48,39)\"],[0.2,\"rgb(244,109,67)\"],[0.3,\"rgb(253,174,97)\"],[0.4,\"rgb(254,224,144)\"],[0.5,\"rgb(255,255,191)\"],[0.6,\"rgb(224,243,248)\"],[0.7,\"rgb(171,217,233)\"],[0.8,\"rgb(116,173,209)\"],[0.9,\"rgb(69,117,180)\"],[1.0,\"rgb(49,54,149)\"]],\"x\":[0,1,2,3,4],\"y\":[\"x\",\"y\",\"z\"],\"z\":[[1,2,3,4,5],[10,20,30,20,10],[5,4,3,2,1]],\"type\":\"surface\"}],                        {\"legend\":{\"bgcolor\":\"#F5F6F9\",\"font\":{\"color\":\"#4D5663\"}},\"paper_bgcolor\":\"#F5F6F9\",\"plot_bgcolor\":\"#F5F6F9\",\"template\":{\"data\":{\"barpolar\":[{\"marker\":{\"line\":{\"color\":\"#E5ECF6\",\"width\":0.5},\"pattern\":{\"fillmode\":\"overlay\",\"size\":10,\"solidity\":0.2}},\"type\":\"barpolar\"}],\"bar\":[{\"error_x\":{\"color\":\"#2a3f5f\"},\"error_y\":{\"color\":\"#2a3f5f\"},\"marker\":{\"line\":{\"color\":\"#E5ECF6\",\"width\":0.5},\"pattern\":{\"fillmode\":\"overlay\",\"size\":10,\"solidity\":0.2}},\"type\":\"bar\"}],\"carpet\":[{\"aaxis\":{\"endlinecolor\":\"#2a3f5f\",\"gridcolor\":\"white\",\"linecolor\":\"white\",\"minorgridcolor\":\"white\",\"startlinecolor\":\"#2a3f5f\"},\"baxis\":{\"endlinecolor\":\"#2a3f5f\",\"gridcolor\":\"white\",\"linecolor\":\"white\",\"minorgridcolor\":\"white\",\"startlinecolor\":\"#2a3f5f\"},\"type\":\"carpet\"}],\"choropleth\":[{\"colorbar\":{\"outlinewidth\":0,\"ticks\":\"\"},\"type\":\"choropleth\"}],\"contourcarpet\":[{\"colorbar\":{\"outlinewidth\":0,\"ticks\":\"\"},\"type\":\"contourcarpet\"}],\"contour\":[{\"colorbar\":{\"outlinewidth\":0,\"ticks\":\"\"},\"colorscale\":[[0.0,\"#0d0887\"],[0.1111111111111111,\"#46039f\"],[0.2222222222222222,\"#7201a8\"],[0.3333333333333333,\"#9c179e\"],[0.4444444444444444,\"#bd3786\"],[0.5555555555555556,\"#d8576b\"],[0.6666666666666666,\"#ed7953\"],[0.7777777777777778,\"#fb9f3a\"],[0.8888888888888888,\"#fdca26\"],[1.0,\"#f0f921\"]],\"type\":\"contour\"}],\"heatmapgl\":[{\"colorbar\":{\"outlinewidth\":0,\"ticks\":\"\"},\"colorscale\":[[0.0,\"#0d0887\"],[0.1111111111111111,\"#46039f\"],[0.2222222222222222,\"#7201a8\"],[0.3333333333333333,\"#9c179e\"],[0.4444444444444444,\"#bd3786\"],[0.5555555555555556,\"#d8576b\"],[0.6666666666666666,\"#ed7953\"],[0.7777777777777778,\"#fb9f3a\"],[0.8888888888888888,\"#fdca26\"],[1.0,\"#f0f921\"]],\"type\":\"heatmapgl\"}],\"heatmap\":[{\"colorbar\":{\"outlinewidth\":0,\"ticks\":\"\"},\"colorscale\":[[0.0,\"#0d0887\"],[0.1111111111111111,\"#46039f\"],[0.2222222222222222,\"#7201a8\"],[0.3333333333333333,\"#9c179e\"],[0.4444444444444444,\"#bd3786\"],[0.5555555555555556,\"#d8576b\"],[0.6666666666666666,\"#ed7953\"],[0.7777777777777778,\"#fb9f3a\"],[0.8888888888888888,\"#fdca26\"],[1.0,\"#f0f921\"]],\"type\":\"heatmap\"}],\"histogram2dcontour\":[{\"colorbar\":{\"outlinewidth\":0,\"ticks\":\"\"},\"colorscale\":[[0.0,\"#0d0887\"],[0.1111111111111111,\"#46039f\"],[0.2222222222222222,\"#7201a8\"],[0.3333333333333333,\"#9c179e\"],[0.4444444444444444,\"#bd3786\"],[0.5555555555555556,\"#d8576b\"],[0.6666666666666666,\"#ed7953\"],[0.7777777777777778,\"#fb9f3a\"],[0.8888888888888888,\"#fdca26\"],[1.0,\"#f0f921\"]],\"type\":\"histogram2dcontour\"}],\"histogram2d\":[{\"colorbar\":{\"outlinewidth\":0,\"ticks\":\"\"},\"colorscale\":[[0.0,\"#0d0887\"],[0.1111111111111111,\"#46039f\"],[0.2222222222222222,\"#7201a8\"],[0.3333333333333333,\"#9c179e\"],[0.4444444444444444,\"#bd3786\"],[0.5555555555555556,\"#d8576b\"],[0.6666666666666666,\"#ed7953\"],[0.7777777777777778,\"#fb9f3a\"],[0.8888888888888888,\"#fdca26\"],[1.0,\"#f0f921\"]],\"type\":\"histogram2d\"}],\"histogram\":[{\"marker\":{\"pattern\":{\"fillmode\":\"overlay\",\"size\":10,\"solidity\":0.2}},\"type\":\"histogram\"}],\"mesh3d\":[{\"colorbar\":{\"outlinewidth\":0,\"ticks\":\"\"},\"type\":\"mesh3d\"}],\"parcoords\":[{\"line\":{\"colorbar\":{\"outlinewidth\":0,\"ticks\":\"\"}},\"type\":\"parcoords\"}],\"pie\":[{\"automargin\":true,\"type\":\"pie\"}],\"scatter3d\":[{\"line\":{\"colorbar\":{\"outlinewidth\":0,\"ticks\":\"\"}},\"marker\":{\"colorbar\":{\"outlinewidth\":0,\"ticks\":\"\"}},\"type\":\"scatter3d\"}],\"scattercarpet\":[{\"marker\":{\"colorbar\":{\"outlinewidth\":0,\"ticks\":\"\"}},\"type\":\"scattercarpet\"}],\"scattergeo\":[{\"marker\":{\"colorbar\":{\"outlinewidth\":0,\"ticks\":\"\"}},\"type\":\"scattergeo\"}],\"scattergl\":[{\"marker\":{\"colorbar\":{\"outlinewidth\":0,\"ticks\":\"\"}},\"type\":\"scattergl\"}],\"scattermapbox\":[{\"marker\":{\"colorbar\":{\"outlinewidth\":0,\"ticks\":\"\"}},\"type\":\"scattermapbox\"}],\"scatterpolargl\":[{\"marker\":{\"colorbar\":{\"outlinewidth\":0,\"ticks\":\"\"}},\"type\":\"scatterpolargl\"}],\"scatterpolar\":[{\"marker\":{\"colorbar\":{\"outlinewidth\":0,\"ticks\":\"\"}},\"type\":\"scatterpolar\"}],\"scatter\":[{\"fillpattern\":{\"fillmode\":\"overlay\",\"size\":10,\"solidity\":0.2},\"type\":\"scatter\"}],\"scatterternary\":[{\"marker\":{\"colorbar\":{\"outlinewidth\":0,\"ticks\":\"\"}},\"type\":\"scatterternary\"}],\"surface\":[{\"colorbar\":{\"outlinewidth\":0,\"ticks\":\"\"},\"colorscale\":[[0.0,\"#0d0887\"],[0.1111111111111111,\"#46039f\"],[0.2222222222222222,\"#7201a8\"],[0.3333333333333333,\"#9c179e\"],[0.4444444444444444,\"#bd3786\"],[0.5555555555555556,\"#d8576b\"],[0.6666666666666666,\"#ed7953\"],[0.7777777777777778,\"#fb9f3a\"],[0.8888888888888888,\"#fdca26\"],[1.0,\"#f0f921\"]],\"type\":\"surface\"}],\"table\":[{\"cells\":{\"fill\":{\"color\":\"#EBF0F8\"},\"line\":{\"color\":\"white\"}},\"header\":{\"fill\":{\"color\":\"#C8D4E3\"},\"line\":{\"color\":\"white\"}},\"type\":\"table\"}]},\"layout\":{\"annotationdefaults\":{\"arrowcolor\":\"#2a3f5f\",\"arrowhead\":0,\"arrowwidth\":1},\"autotypenumbers\":\"strict\",\"coloraxis\":{\"colorbar\":{\"outlinewidth\":0,\"ticks\":\"\"}},\"colorscale\":{\"diverging\":[[0,\"#8e0152\"],[0.1,\"#c51b7d\"],[0.2,\"#de77ae\"],[0.3,\"#f1b6da\"],[0.4,\"#fde0ef\"],[0.5,\"#f7f7f7\"],[0.6,\"#e6f5d0\"],[0.7,\"#b8e186\"],[0.8,\"#7fbc41\"],[0.9,\"#4d9221\"],[1,\"#276419\"]],\"sequential\":[[0.0,\"#0d0887\"],[0.1111111111111111,\"#46039f\"],[0.2222222222222222,\"#7201a8\"],[0.3333333333333333,\"#9c179e\"],[0.4444444444444444,\"#bd3786\"],[0.5555555555555556,\"#d8576b\"],[0.6666666666666666,\"#ed7953\"],[0.7777777777777778,\"#fb9f3a\"],[0.8888888888888888,\"#fdca26\"],[1.0,\"#f0f921\"]],\"sequentialminus\":[[0.0,\"#0d0887\"],[0.1111111111111111,\"#46039f\"],[0.2222222222222222,\"#7201a8\"],[0.3333333333333333,\"#9c179e\"],[0.4444444444444444,\"#bd3786\"],[0.5555555555555556,\"#d8576b\"],[0.6666666666666666,\"#ed7953\"],[0.7777777777777778,\"#fb9f3a\"],[0.8888888888888888,\"#fdca26\"],[1.0,\"#f0f921\"]]},\"colorway\":[\"#636efa\",\"#EF553B\",\"#00cc96\",\"#ab63fa\",\"#FFA15A\",\"#19d3f3\",\"#FF6692\",\"#B6E880\",\"#FF97FF\",\"#FECB52\"],\"font\":{\"color\":\"#2a3f5f\"},\"geo\":{\"bgcolor\":\"white\",\"lakecolor\":\"white\",\"landcolor\":\"#E5ECF6\",\"showlakes\":true,\"showland\":true,\"subunitcolor\":\"white\"},\"hoverlabel\":{\"align\":\"left\"},\"hovermode\":\"closest\",\"mapbox\":{\"style\":\"light\"},\"paper_bgcolor\":\"white\",\"plot_bgcolor\":\"#E5ECF6\",\"polar\":{\"angularaxis\":{\"gridcolor\":\"white\",\"linecolor\":\"white\",\"ticks\":\"\"},\"bgcolor\":\"#E5ECF6\",\"radialaxis\":{\"gridcolor\":\"white\",\"linecolor\":\"white\",\"ticks\":\"\"}},\"scene\":{\"xaxis\":{\"backgroundcolor\":\"#E5ECF6\",\"gridcolor\":\"white\",\"gridwidth\":2,\"linecolor\":\"white\",\"showbackground\":true,\"ticks\":\"\",\"zerolinecolor\":\"white\"},\"yaxis\":{\"backgroundcolor\":\"#E5ECF6\",\"gridcolor\":\"white\",\"gridwidth\":2,\"linecolor\":\"white\",\"showbackground\":true,\"ticks\":\"\",\"zerolinecolor\":\"white\"},\"zaxis\":{\"backgroundcolor\":\"#E5ECF6\",\"gridcolor\":\"white\",\"gridwidth\":2,\"linecolor\":\"white\",\"showbackground\":true,\"ticks\":\"\",\"zerolinecolor\":\"white\"}},\"shapedefaults\":{\"line\":{\"color\":\"#2a3f5f\"}},\"ternary\":{\"aaxis\":{\"gridcolor\":\"white\",\"linecolor\":\"white\",\"ticks\":\"\"},\"baxis\":{\"gridcolor\":\"white\",\"linecolor\":\"white\",\"ticks\":\"\"},\"bgcolor\":\"#E5ECF6\",\"caxis\":{\"gridcolor\":\"white\",\"linecolor\":\"white\",\"ticks\":\"\"}},\"title\":{\"x\":0.05},\"xaxis\":{\"automargin\":true,\"gridcolor\":\"white\",\"linecolor\":\"white\",\"ticks\":\"\",\"title\":{\"standoff\":15},\"zerolinecolor\":\"white\",\"zerolinewidth\":2},\"yaxis\":{\"automargin\":true,\"gridcolor\":\"white\",\"linecolor\":\"white\",\"ticks\":\"\",\"title\":{\"standoff\":15},\"zerolinecolor\":\"white\",\"zerolinewidth\":2}}},\"title\":{\"font\":{\"color\":\"#4D5663\"}},\"xaxis\":{\"gridcolor\":\"#E1E5ED\",\"showgrid\":true,\"tickfont\":{\"color\":\"#4D5663\"},\"title\":{\"font\":{\"color\":\"#4D5663\"},\"text\":\"\"},\"zerolinecolor\":\"#E1E5ED\"},\"yaxis\":{\"gridcolor\":\"#E1E5ED\",\"showgrid\":true,\"tickfont\":{\"color\":\"#4D5663\"},\"title\":{\"font\":{\"color\":\"#4D5663\"},\"text\":\"\"},\"zerolinecolor\":\"#E1E5ED\"}},                        {\"showLink\": true, \"linkText\": \"Export to plot.ly\", \"plotlyServerURL\": \"https://plot.ly\", \"responsive\": true}                    ).then(function(){\n",
       "                            \n",
       "var gd = document.getElementById('adab2c63-a6e2-4b97-8559-132cc98d6919');\n",
       "var x = new MutationObserver(function (mutations, observer) {{\n",
       "        var display = window.getComputedStyle(gd).display;\n",
       "        if (!display || display === 'none') {{\n",
       "            console.log([gd, 'removed!']);\n",
       "            Plotly.purge(gd);\n",
       "            observer.disconnect();\n",
       "        }}\n",
       "}});\n",
       "\n",
       "// Listen for the removal of the full notebook cells\n",
       "var notebookContainer = gd.closest('#notebook-container');\n",
       "if (notebookContainer) {{\n",
       "    x.observe(notebookContainer, {childList: true});\n",
       "}}\n",
       "\n",
       "// Listen for the clearing of the current output cell\n",
       "var outputEl = gd.closest('.output');\n",
       "if (outputEl) {{\n",
       "    x.observe(outputEl, {childList: true});\n",
       "}}\n",
       "\n",
       "                        })                };                });            </script>        </div>"
      ]
     },
     "metadata": {},
     "output_type": "display_data"
    }
   ],
   "source": [
    "df3 = pd.DataFrame({'x':[1,2,3,4,5],'y':[10,20,30,20,10],'z':[5,4,3,2,1]})\n",
    "df3.iplot(kind='surface',colorscale='rdylbu')"
   ]
  },
  {
   "cell_type": "markdown",
   "metadata": {},
   "source": [
    "## Spread"
   ]
  },
  {
   "cell_type": "code",
   "execution_count": 13,
   "metadata": {
    "collapsed": false,
    "jupyter": {
     "outputs_hidden": false
    }
   },
   "outputs": [
    {
     "name": "stderr",
     "output_type": "stream",
     "text": [
      "/Library/Frameworks/Python.framework/Versions/3.12/lib/python3.12/site-packages/cufflinks/plotlytools.py:848: FutureWarning:\n",
      "\n",
      "Series.__getitem__ treating keys as positions is deprecated. In a future version, integer keys will always be treated as labels (consistent with DataFrame behavior). To access a value by position, use `ser.iloc[pos]`\n",
      "\n"
     ]
    },
    {
     "ename": "AttributeError",
     "evalue": "module 'pandas' has no attribute 'np'",
     "output_type": "error",
     "traceback": [
      "\u001b[0;31m---------------------------------------------------------------------------\u001b[0m",
      "\u001b[0;31mAttributeError\u001b[0m                            Traceback (most recent call last)",
      "Cell \u001b[0;32mIn[13], line 1\u001b[0m\n\u001b[0;32m----> 1\u001b[0m \u001b[43mdf\u001b[49m\u001b[43m[\u001b[49m\u001b[43m[\u001b[49m\u001b[38;5;124;43m'\u001b[39;49m\u001b[38;5;124;43mA\u001b[39;49m\u001b[38;5;124;43m'\u001b[39;49m\u001b[43m,\u001b[49m\u001b[38;5;124;43m'\u001b[39;49m\u001b[38;5;124;43mB\u001b[39;49m\u001b[38;5;124;43m'\u001b[39;49m\u001b[43m]\u001b[49m\u001b[43m]\u001b[49m\u001b[38;5;241;43m.\u001b[39;49m\u001b[43miplot\u001b[49m\u001b[43m(\u001b[49m\u001b[43mkind\u001b[49m\u001b[38;5;241;43m=\u001b[39;49m\u001b[38;5;124;43m'\u001b[39;49m\u001b[38;5;124;43mspread\u001b[39;49m\u001b[38;5;124;43m'\u001b[39;49m\u001b[43m)\u001b[49m\n",
      "File \u001b[0;32m/Library/Frameworks/Python.framework/Versions/3.12/lib/python3.12/site-packages/cufflinks/plotlytools.py:849\u001b[0m, in \u001b[0;36m_iplot\u001b[0;34m(self, kind, data, layout, filename, sharing, title, xTitle, yTitle, zTitle, theme, colors, colorscale, fill, width, dash, mode, interpolation, symbol, size, barmode, sortbars, bargap, bargroupgap, bins, histnorm, histfunc, orientation, boxpoints, annotations, keys, bestfit, bestfit_colors, mean, mean_colors, categories, x, y, z, text, gridcolor, zerolinecolor, margin, labels, values, secondary_y, secondary_y_title, subplots, shape, error_x, error_y, error_type, locations, lon, lat, asFrame, asDates, asFigure, asImage, dimensions, asPlot, asUrl, online, **kwargs)\u001b[0m\n\u001b[1;32m    847\u001b[0m \u001b[38;5;28;01mif\u001b[39;00m kind\u001b[38;5;241m==\u001b[39m\u001b[38;5;124m'\u001b[39m\u001b[38;5;124mspread\u001b[39m\u001b[38;5;124m'\u001b[39m:\n\u001b[1;32m    848\u001b[0m \ttrace\u001b[38;5;241m=\u001b[39m\u001b[38;5;28mself\u001b[39m\u001b[38;5;241m.\u001b[39mapply(\u001b[38;5;28;01mlambda\u001b[39;00m x:x[\u001b[38;5;241m0\u001b[39m]\u001b[38;5;241m-\u001b[39mx[\u001b[38;5;241m1\u001b[39m],axis\u001b[38;5;241m=\u001b[39m\u001b[38;5;241m1\u001b[39m)\n\u001b[0;32m--> 849\u001b[0m \tpositive\u001b[38;5;241m=\u001b[39m\u001b[43mtrace\u001b[49m\u001b[38;5;241;43m.\u001b[39;49m\u001b[43mapply\u001b[49m\u001b[43m(\u001b[49m\u001b[38;5;28;43;01mlambda\u001b[39;49;00m\u001b[43m \u001b[49m\u001b[43mx\u001b[49m\u001b[43m:\u001b[49m\u001b[43mx\u001b[49m\u001b[43m \u001b[49m\u001b[38;5;28;43;01mif\u001b[39;49;00m\u001b[43m \u001b[49m\u001b[43mx\u001b[49m\u001b[38;5;241;43m>\u001b[39;49m\u001b[38;5;241;43m=\u001b[39;49m\u001b[38;5;241;43m0\u001b[39;49m\u001b[43m \u001b[49m\u001b[38;5;28;43;01melse\u001b[39;49;00m\u001b[43m \u001b[49m\u001b[43mpd\u001b[49m\u001b[38;5;241;43m.\u001b[39;49m\u001b[43mnp\u001b[49m\u001b[38;5;241;43m.\u001b[39;49m\u001b[43mnan\u001b[49m\u001b[43m)\u001b[49m\n\u001b[1;32m    850\u001b[0m \tnegative\u001b[38;5;241m=\u001b[39mtrace\u001b[38;5;241m.\u001b[39mapply(\u001b[38;5;28;01mlambda\u001b[39;00m x:x \u001b[38;5;28;01mif\u001b[39;00m x\u001b[38;5;241m<\u001b[39m\u001b[38;5;241m0\u001b[39m \u001b[38;5;28;01melse\u001b[39;00m pd\u001b[38;5;241m.\u001b[39mnp\u001b[38;5;241m.\u001b[39mnan)\n\u001b[1;32m    851\u001b[0m \ttrace\u001b[38;5;241m=\u001b[39mpd\u001b[38;5;241m.\u001b[39mDataFrame({\u001b[38;5;124m'\u001b[39m\u001b[38;5;124mpositive\u001b[39m\u001b[38;5;124m'\u001b[39m:positive,\u001b[38;5;124m'\u001b[39m\u001b[38;5;124mnegative\u001b[39m\u001b[38;5;124m'\u001b[39m:negative})\n",
      "File \u001b[0;32m/Library/Frameworks/Python.framework/Versions/3.12/lib/python3.12/site-packages/pandas/core/series.py:4904\u001b[0m, in \u001b[0;36mSeries.apply\u001b[0;34m(self, func, convert_dtype, args, by_row, **kwargs)\u001b[0m\n\u001b[1;32m   4769\u001b[0m \u001b[38;5;28;01mdef\u001b[39;00m \u001b[38;5;21mapply\u001b[39m(\n\u001b[1;32m   4770\u001b[0m     \u001b[38;5;28mself\u001b[39m,\n\u001b[1;32m   4771\u001b[0m     func: AggFuncType,\n\u001b[0;32m   (...)\u001b[0m\n\u001b[1;32m   4776\u001b[0m     \u001b[38;5;241m*\u001b[39m\u001b[38;5;241m*\u001b[39mkwargs,\n\u001b[1;32m   4777\u001b[0m ) \u001b[38;5;241m-\u001b[39m\u001b[38;5;241m>\u001b[39m DataFrame \u001b[38;5;241m|\u001b[39m Series:\n\u001b[1;32m   4778\u001b[0m \u001b[38;5;250m    \u001b[39m\u001b[38;5;124;03m\"\"\"\u001b[39;00m\n\u001b[1;32m   4779\u001b[0m \u001b[38;5;124;03m    Invoke function on values of Series.\u001b[39;00m\n\u001b[1;32m   4780\u001b[0m \n\u001b[0;32m   (...)\u001b[0m\n\u001b[1;32m   4895\u001b[0m \u001b[38;5;124;03m    dtype: float64\u001b[39;00m\n\u001b[1;32m   4896\u001b[0m \u001b[38;5;124;03m    \"\"\"\u001b[39;00m\n\u001b[1;32m   4897\u001b[0m     \u001b[38;5;28;01mreturn\u001b[39;00m \u001b[43mSeriesApply\u001b[49m\u001b[43m(\u001b[49m\n\u001b[1;32m   4898\u001b[0m \u001b[43m        \u001b[49m\u001b[38;5;28;43mself\u001b[39;49m\u001b[43m,\u001b[49m\n\u001b[1;32m   4899\u001b[0m \u001b[43m        \u001b[49m\u001b[43mfunc\u001b[49m\u001b[43m,\u001b[49m\n\u001b[1;32m   4900\u001b[0m \u001b[43m        \u001b[49m\u001b[43mconvert_dtype\u001b[49m\u001b[38;5;241;43m=\u001b[39;49m\u001b[43mconvert_dtype\u001b[49m\u001b[43m,\u001b[49m\n\u001b[1;32m   4901\u001b[0m \u001b[43m        \u001b[49m\u001b[43mby_row\u001b[49m\u001b[38;5;241;43m=\u001b[39;49m\u001b[43mby_row\u001b[49m\u001b[43m,\u001b[49m\n\u001b[1;32m   4902\u001b[0m \u001b[43m        \u001b[49m\u001b[43margs\u001b[49m\u001b[38;5;241;43m=\u001b[39;49m\u001b[43margs\u001b[49m\u001b[43m,\u001b[49m\n\u001b[1;32m   4903\u001b[0m \u001b[43m        \u001b[49m\u001b[43mkwargs\u001b[49m\u001b[38;5;241;43m=\u001b[39;49m\u001b[43mkwargs\u001b[49m\u001b[43m,\u001b[49m\n\u001b[0;32m-> 4904\u001b[0m \u001b[43m    \u001b[49m\u001b[43m)\u001b[49m\u001b[38;5;241;43m.\u001b[39;49m\u001b[43mapply\u001b[49m\u001b[43m(\u001b[49m\u001b[43m)\u001b[49m\n",
      "File \u001b[0;32m/Library/Frameworks/Python.framework/Versions/3.12/lib/python3.12/site-packages/pandas/core/apply.py:1427\u001b[0m, in \u001b[0;36mSeriesApply.apply\u001b[0;34m(self)\u001b[0m\n\u001b[1;32m   1424\u001b[0m     \u001b[38;5;28;01mreturn\u001b[39;00m \u001b[38;5;28mself\u001b[39m\u001b[38;5;241m.\u001b[39mapply_compat()\n\u001b[1;32m   1426\u001b[0m \u001b[38;5;66;03m# self.func is Callable\u001b[39;00m\n\u001b[0;32m-> 1427\u001b[0m \u001b[38;5;28;01mreturn\u001b[39;00m \u001b[38;5;28;43mself\u001b[39;49m\u001b[38;5;241;43m.\u001b[39;49m\u001b[43mapply_standard\u001b[49m\u001b[43m(\u001b[49m\u001b[43m)\u001b[49m\n",
      "File \u001b[0;32m/Library/Frameworks/Python.framework/Versions/3.12/lib/python3.12/site-packages/pandas/core/apply.py:1507\u001b[0m, in \u001b[0;36mSeriesApply.apply_standard\u001b[0;34m(self)\u001b[0m\n\u001b[1;32m   1501\u001b[0m \u001b[38;5;66;03m# row-wise access\u001b[39;00m\n\u001b[1;32m   1502\u001b[0m \u001b[38;5;66;03m# apply doesn't have a `na_action` keyword and for backward compat reasons\u001b[39;00m\n\u001b[1;32m   1503\u001b[0m \u001b[38;5;66;03m# we need to give `na_action=\"ignore\"` for categorical data.\u001b[39;00m\n\u001b[1;32m   1504\u001b[0m \u001b[38;5;66;03m# TODO: remove the `na_action=\"ignore\"` when that default has been changed in\u001b[39;00m\n\u001b[1;32m   1505\u001b[0m \u001b[38;5;66;03m#  Categorical (GH51645).\u001b[39;00m\n\u001b[1;32m   1506\u001b[0m action \u001b[38;5;241m=\u001b[39m \u001b[38;5;124m\"\u001b[39m\u001b[38;5;124mignore\u001b[39m\u001b[38;5;124m\"\u001b[39m \u001b[38;5;28;01mif\u001b[39;00m \u001b[38;5;28misinstance\u001b[39m(obj\u001b[38;5;241m.\u001b[39mdtype, CategoricalDtype) \u001b[38;5;28;01melse\u001b[39;00m \u001b[38;5;28;01mNone\u001b[39;00m\n\u001b[0;32m-> 1507\u001b[0m mapped \u001b[38;5;241m=\u001b[39m \u001b[43mobj\u001b[49m\u001b[38;5;241;43m.\u001b[39;49m\u001b[43m_map_values\u001b[49m\u001b[43m(\u001b[49m\n\u001b[1;32m   1508\u001b[0m \u001b[43m    \u001b[49m\u001b[43mmapper\u001b[49m\u001b[38;5;241;43m=\u001b[39;49m\u001b[43mcurried\u001b[49m\u001b[43m,\u001b[49m\u001b[43m \u001b[49m\u001b[43mna_action\u001b[49m\u001b[38;5;241;43m=\u001b[39;49m\u001b[43maction\u001b[49m\u001b[43m,\u001b[49m\u001b[43m \u001b[49m\u001b[43mconvert\u001b[49m\u001b[38;5;241;43m=\u001b[39;49m\u001b[38;5;28;43mself\u001b[39;49m\u001b[38;5;241;43m.\u001b[39;49m\u001b[43mconvert_dtype\u001b[49m\n\u001b[1;32m   1509\u001b[0m \u001b[43m\u001b[49m\u001b[43m)\u001b[49m\n\u001b[1;32m   1511\u001b[0m \u001b[38;5;28;01mif\u001b[39;00m \u001b[38;5;28mlen\u001b[39m(mapped) \u001b[38;5;129;01mand\u001b[39;00m \u001b[38;5;28misinstance\u001b[39m(mapped[\u001b[38;5;241m0\u001b[39m], ABCSeries):\n\u001b[1;32m   1512\u001b[0m     \u001b[38;5;66;03m# GH#43986 Need to do list(mapped) in order to get treated as nested\u001b[39;00m\n\u001b[1;32m   1513\u001b[0m     \u001b[38;5;66;03m#  See also GH#25959 regarding EA support\u001b[39;00m\n\u001b[1;32m   1514\u001b[0m     \u001b[38;5;28;01mreturn\u001b[39;00m obj\u001b[38;5;241m.\u001b[39m_constructor_expanddim(\u001b[38;5;28mlist\u001b[39m(mapped), index\u001b[38;5;241m=\u001b[39mobj\u001b[38;5;241m.\u001b[39mindex)\n",
      "File \u001b[0;32m/Library/Frameworks/Python.framework/Versions/3.12/lib/python3.12/site-packages/pandas/core/base.py:921\u001b[0m, in \u001b[0;36mIndexOpsMixin._map_values\u001b[0;34m(self, mapper, na_action, convert)\u001b[0m\n\u001b[1;32m    918\u001b[0m \u001b[38;5;28;01mif\u001b[39;00m \u001b[38;5;28misinstance\u001b[39m(arr, ExtensionArray):\n\u001b[1;32m    919\u001b[0m     \u001b[38;5;28;01mreturn\u001b[39;00m arr\u001b[38;5;241m.\u001b[39mmap(mapper, na_action\u001b[38;5;241m=\u001b[39mna_action)\n\u001b[0;32m--> 921\u001b[0m \u001b[38;5;28;01mreturn\u001b[39;00m \u001b[43malgorithms\u001b[49m\u001b[38;5;241;43m.\u001b[39;49m\u001b[43mmap_array\u001b[49m\u001b[43m(\u001b[49m\u001b[43marr\u001b[49m\u001b[43m,\u001b[49m\u001b[43m \u001b[49m\u001b[43mmapper\u001b[49m\u001b[43m,\u001b[49m\u001b[43m \u001b[49m\u001b[43mna_action\u001b[49m\u001b[38;5;241;43m=\u001b[39;49m\u001b[43mna_action\u001b[49m\u001b[43m,\u001b[49m\u001b[43m \u001b[49m\u001b[43mconvert\u001b[49m\u001b[38;5;241;43m=\u001b[39;49m\u001b[43mconvert\u001b[49m\u001b[43m)\u001b[49m\n",
      "File \u001b[0;32m/Library/Frameworks/Python.framework/Versions/3.12/lib/python3.12/site-packages/pandas/core/algorithms.py:1743\u001b[0m, in \u001b[0;36mmap_array\u001b[0;34m(arr, mapper, na_action, convert)\u001b[0m\n\u001b[1;32m   1741\u001b[0m values \u001b[38;5;241m=\u001b[39m arr\u001b[38;5;241m.\u001b[39mastype(\u001b[38;5;28mobject\u001b[39m, copy\u001b[38;5;241m=\u001b[39m\u001b[38;5;28;01mFalse\u001b[39;00m)\n\u001b[1;32m   1742\u001b[0m \u001b[38;5;28;01mif\u001b[39;00m na_action \u001b[38;5;129;01mis\u001b[39;00m \u001b[38;5;28;01mNone\u001b[39;00m:\n\u001b[0;32m-> 1743\u001b[0m     \u001b[38;5;28;01mreturn\u001b[39;00m \u001b[43mlib\u001b[49m\u001b[38;5;241;43m.\u001b[39;49m\u001b[43mmap_infer\u001b[49m\u001b[43m(\u001b[49m\u001b[43mvalues\u001b[49m\u001b[43m,\u001b[49m\u001b[43m \u001b[49m\u001b[43mmapper\u001b[49m\u001b[43m,\u001b[49m\u001b[43m \u001b[49m\u001b[43mconvert\u001b[49m\u001b[38;5;241;43m=\u001b[39;49m\u001b[43mconvert\u001b[49m\u001b[43m)\u001b[49m\n\u001b[1;32m   1744\u001b[0m \u001b[38;5;28;01melse\u001b[39;00m:\n\u001b[1;32m   1745\u001b[0m     \u001b[38;5;28;01mreturn\u001b[39;00m lib\u001b[38;5;241m.\u001b[39mmap_infer_mask(\n\u001b[1;32m   1746\u001b[0m         values, mapper, mask\u001b[38;5;241m=\u001b[39misna(values)\u001b[38;5;241m.\u001b[39mview(np\u001b[38;5;241m.\u001b[39muint8), convert\u001b[38;5;241m=\u001b[39mconvert\n\u001b[1;32m   1747\u001b[0m     )\n",
      "File \u001b[0;32mlib.pyx:2972\u001b[0m, in \u001b[0;36mpandas._libs.lib.map_infer\u001b[0;34m()\u001b[0m\n",
      "File \u001b[0;32m/Library/Frameworks/Python.framework/Versions/3.12/lib/python3.12/site-packages/cufflinks/plotlytools.py:849\u001b[0m, in \u001b[0;36m_iplot.<locals>.<lambda>\u001b[0;34m(x)\u001b[0m\n\u001b[1;32m    847\u001b[0m \u001b[38;5;28;01mif\u001b[39;00m kind\u001b[38;5;241m==\u001b[39m\u001b[38;5;124m'\u001b[39m\u001b[38;5;124mspread\u001b[39m\u001b[38;5;124m'\u001b[39m:\n\u001b[1;32m    848\u001b[0m \ttrace\u001b[38;5;241m=\u001b[39m\u001b[38;5;28mself\u001b[39m\u001b[38;5;241m.\u001b[39mapply(\u001b[38;5;28;01mlambda\u001b[39;00m x:x[\u001b[38;5;241m0\u001b[39m]\u001b[38;5;241m-\u001b[39mx[\u001b[38;5;241m1\u001b[39m],axis\u001b[38;5;241m=\u001b[39m\u001b[38;5;241m1\u001b[39m)\n\u001b[0;32m--> 849\u001b[0m \tpositive\u001b[38;5;241m=\u001b[39mtrace\u001b[38;5;241m.\u001b[39mapply(\u001b[38;5;28;01mlambda\u001b[39;00m x:x \u001b[38;5;28;01mif\u001b[39;00m x\u001b[38;5;241m>\u001b[39m\u001b[38;5;241m=\u001b[39m\u001b[38;5;241m0\u001b[39m \u001b[38;5;28;01melse\u001b[39;00m \u001b[43mpd\u001b[49m\u001b[38;5;241;43m.\u001b[39;49m\u001b[43mnp\u001b[49m\u001b[38;5;241m.\u001b[39mnan)\n\u001b[1;32m    850\u001b[0m \tnegative\u001b[38;5;241m=\u001b[39mtrace\u001b[38;5;241m.\u001b[39mapply(\u001b[38;5;28;01mlambda\u001b[39;00m x:x \u001b[38;5;28;01mif\u001b[39;00m x\u001b[38;5;241m<\u001b[39m\u001b[38;5;241m0\u001b[39m \u001b[38;5;28;01melse\u001b[39;00m pd\u001b[38;5;241m.\u001b[39mnp\u001b[38;5;241m.\u001b[39mnan)\n\u001b[1;32m    851\u001b[0m \ttrace\u001b[38;5;241m=\u001b[39mpd\u001b[38;5;241m.\u001b[39mDataFrame({\u001b[38;5;124m'\u001b[39m\u001b[38;5;124mpositive\u001b[39m\u001b[38;5;124m'\u001b[39m:positive,\u001b[38;5;124m'\u001b[39m\u001b[38;5;124mnegative\u001b[39m\u001b[38;5;124m'\u001b[39m:negative})\n",
      "\u001b[0;31mAttributeError\u001b[0m: module 'pandas' has no attribute 'np'"
     ]
    }
   ],
   "source": [
    "df[['A','B']].iplot(kind='spread')"
   ]
  },
  {
   "cell_type": "markdown",
   "metadata": {},
   "source": [
    "## histogram"
   ]
  },
  {
   "cell_type": "code",
   "execution_count": 14,
   "metadata": {
    "collapsed": false,
    "jupyter": {
     "outputs_hidden": false
    }
   },
   "outputs": [
    {
     "data": {
      "application/vnd.plotly.v1+json": {
       "config": {
        "linkText": "Export to plot.ly",
        "plotlyServerURL": "https://plot.ly",
        "showLink": true
       },
       "data": [
        {
         "histfunc": "count",
         "histnorm": "",
         "marker": {
          "color": "rgba(255, 153, 51, 1.0)",
          "line": {
           "color": "#4D5663",
           "width": 1.3
          }
         },
         "name": "A",
         "nbinsx": 25,
         "opacity": 0.8,
         "orientation": "v",
         "type": "histogram",
         "x": [
          -0.8517614455883655,
          -0.04342189052762476,
          -0.5212214967722162,
          0.3463107666807025,
          -0.745881714063798,
          -0.30058773176849457,
          -2.294340311312299,
          -0.6512596659917415,
          0.506280440778242,
          -0.009690230605172254,
          0.6878141235775956,
          0.9626477777248147,
          1.9166904602701855,
          -0.45669843310114844,
          -1.17050493216569,
          2.2448005418810375,
          -0.28437845271142315,
          2.20013599919316,
          -1.1618106024664825,
          -0.8567423458194338,
          -1.0208832664798144,
          0.5703772004588231,
          0.9500450320973882,
          -0.6157420152530569,
          -0.7506656628682755,
          -0.16251365544450222,
          -0.6594437150281366,
          -0.9953798842138176,
          -1.0214733410454175,
          0.9285981310725163,
          0.33397810418350543,
          2.004283613512989,
          -1.0553236237125618,
          2.2850752156538063,
          -1.3753565992764296,
          -0.16501944321362802,
          0.5859344727051908,
          -0.18337137906315976,
          0.5932397316914628,
          -1.0418591959561794,
          1.7492129420611109,
          -0.5817937909383222,
          1.2316994838318762,
          0.9294052760388295,
          0.3520482281449861,
          0.7995560104582256,
          -0.41303009169552846,
          0.6949404983860864,
          1.5221943621246272,
          0.9258134979345521,
          -0.9730478801948261,
          -0.6262233648414084,
          -0.7063907512266209,
          -0.5577707713737803,
          -1.115285461836506,
          0.14168470522696505,
          -0.5008846735922116,
          -2.132915473280724,
          -0.4274968629044933,
          -1.3049965129181547,
          0.1255639710172537,
          -0.5779084871828467,
          -2.3440688331691595,
          -0.9404043092856896,
          1.0113599002670215,
          -1.1581293656750085,
          -0.3209275331612879,
          -0.26558229431764846,
          0.5598700845574042,
          0.6541742521756773,
          -0.5044763013189157,
          1.2664555045492127,
          -0.7708413334932498,
          0.7605925642066997,
          -1.3641341420112059,
          -0.7014556822610499,
          0.11434435077903846,
          0.9554038286070254,
          -0.570544304958875,
          -1.073236016265232,
          -0.16185980233727848,
          -0.15574260103122203,
          0.009923580756196683,
          0.7915328220783816,
          -1.936094840968455,
          -0.08462248253141151,
          0.6989879597069288,
          -0.5783664463035025,
          0.29535472856846945,
          -0.9236655704169129,
          -2.0291032054275138,
          -0.34867755292168895,
          -0.8556589825027233,
          0.45736269533464113,
          1.6827814465839737,
          0.017887806579571335,
          0.7430841354778721,
          1.0473851610215101,
          -0.8759282168181415,
          0.7612861204776716
         ]
        }
       ],
       "layout": {
        "autosize": true,
        "barmode": "overlay",
        "legend": {
         "bgcolor": "#F5F6F9",
         "font": {
          "color": "#4D5663"
         }
        },
        "paper_bgcolor": "#F5F6F9",
        "plot_bgcolor": "#F5F6F9",
        "template": {
         "data": {
          "bar": [
           {
            "error_x": {
             "color": "#2a3f5f"
            },
            "error_y": {
             "color": "#2a3f5f"
            },
            "marker": {
             "line": {
              "color": "#E5ECF6",
              "width": 0.5
             },
             "pattern": {
              "fillmode": "overlay",
              "size": 10,
              "solidity": 0.2
             }
            },
            "type": "bar"
           }
          ],
          "barpolar": [
           {
            "marker": {
             "line": {
              "color": "#E5ECF6",
              "width": 0.5
             },
             "pattern": {
              "fillmode": "overlay",
              "size": 10,
              "solidity": 0.2
             }
            },
            "type": "barpolar"
           }
          ],
          "carpet": [
           {
            "aaxis": {
             "endlinecolor": "#2a3f5f",
             "gridcolor": "white",
             "linecolor": "white",
             "minorgridcolor": "white",
             "startlinecolor": "#2a3f5f"
            },
            "baxis": {
             "endlinecolor": "#2a3f5f",
             "gridcolor": "white",
             "linecolor": "white",
             "minorgridcolor": "white",
             "startlinecolor": "#2a3f5f"
            },
            "type": "carpet"
           }
          ],
          "choropleth": [
           {
            "colorbar": {
             "outlinewidth": 0,
             "ticks": ""
            },
            "type": "choropleth"
           }
          ],
          "contour": [
           {
            "colorbar": {
             "outlinewidth": 0,
             "ticks": ""
            },
            "colorscale": [
             [
              0,
              "#0d0887"
             ],
             [
              0.1111111111111111,
              "#46039f"
             ],
             [
              0.2222222222222222,
              "#7201a8"
             ],
             [
              0.3333333333333333,
              "#9c179e"
             ],
             [
              0.4444444444444444,
              "#bd3786"
             ],
             [
              0.5555555555555556,
              "#d8576b"
             ],
             [
              0.6666666666666666,
              "#ed7953"
             ],
             [
              0.7777777777777778,
              "#fb9f3a"
             ],
             [
              0.8888888888888888,
              "#fdca26"
             ],
             [
              1,
              "#f0f921"
             ]
            ],
            "type": "contour"
           }
          ],
          "contourcarpet": [
           {
            "colorbar": {
             "outlinewidth": 0,
             "ticks": ""
            },
            "type": "contourcarpet"
           }
          ],
          "heatmap": [
           {
            "colorbar": {
             "outlinewidth": 0,
             "ticks": ""
            },
            "colorscale": [
             [
              0,
              "#0d0887"
             ],
             [
              0.1111111111111111,
              "#46039f"
             ],
             [
              0.2222222222222222,
              "#7201a8"
             ],
             [
              0.3333333333333333,
              "#9c179e"
             ],
             [
              0.4444444444444444,
              "#bd3786"
             ],
             [
              0.5555555555555556,
              "#d8576b"
             ],
             [
              0.6666666666666666,
              "#ed7953"
             ],
             [
              0.7777777777777778,
              "#fb9f3a"
             ],
             [
              0.8888888888888888,
              "#fdca26"
             ],
             [
              1,
              "#f0f921"
             ]
            ],
            "type": "heatmap"
           }
          ],
          "heatmapgl": [
           {
            "colorbar": {
             "outlinewidth": 0,
             "ticks": ""
            },
            "colorscale": [
             [
              0,
              "#0d0887"
             ],
             [
              0.1111111111111111,
              "#46039f"
             ],
             [
              0.2222222222222222,
              "#7201a8"
             ],
             [
              0.3333333333333333,
              "#9c179e"
             ],
             [
              0.4444444444444444,
              "#bd3786"
             ],
             [
              0.5555555555555556,
              "#d8576b"
             ],
             [
              0.6666666666666666,
              "#ed7953"
             ],
             [
              0.7777777777777778,
              "#fb9f3a"
             ],
             [
              0.8888888888888888,
              "#fdca26"
             ],
             [
              1,
              "#f0f921"
             ]
            ],
            "type": "heatmapgl"
           }
          ],
          "histogram": [
           {
            "marker": {
             "pattern": {
              "fillmode": "overlay",
              "size": 10,
              "solidity": 0.2
             }
            },
            "type": "histogram"
           }
          ],
          "histogram2d": [
           {
            "colorbar": {
             "outlinewidth": 0,
             "ticks": ""
            },
            "colorscale": [
             [
              0,
              "#0d0887"
             ],
             [
              0.1111111111111111,
              "#46039f"
             ],
             [
              0.2222222222222222,
              "#7201a8"
             ],
             [
              0.3333333333333333,
              "#9c179e"
             ],
             [
              0.4444444444444444,
              "#bd3786"
             ],
             [
              0.5555555555555556,
              "#d8576b"
             ],
             [
              0.6666666666666666,
              "#ed7953"
             ],
             [
              0.7777777777777778,
              "#fb9f3a"
             ],
             [
              0.8888888888888888,
              "#fdca26"
             ],
             [
              1,
              "#f0f921"
             ]
            ],
            "type": "histogram2d"
           }
          ],
          "histogram2dcontour": [
           {
            "colorbar": {
             "outlinewidth": 0,
             "ticks": ""
            },
            "colorscale": [
             [
              0,
              "#0d0887"
             ],
             [
              0.1111111111111111,
              "#46039f"
             ],
             [
              0.2222222222222222,
              "#7201a8"
             ],
             [
              0.3333333333333333,
              "#9c179e"
             ],
             [
              0.4444444444444444,
              "#bd3786"
             ],
             [
              0.5555555555555556,
              "#d8576b"
             ],
             [
              0.6666666666666666,
              "#ed7953"
             ],
             [
              0.7777777777777778,
              "#fb9f3a"
             ],
             [
              0.8888888888888888,
              "#fdca26"
             ],
             [
              1,
              "#f0f921"
             ]
            ],
            "type": "histogram2dcontour"
           }
          ],
          "mesh3d": [
           {
            "colorbar": {
             "outlinewidth": 0,
             "ticks": ""
            },
            "type": "mesh3d"
           }
          ],
          "parcoords": [
           {
            "line": {
             "colorbar": {
              "outlinewidth": 0,
              "ticks": ""
             }
            },
            "type": "parcoords"
           }
          ],
          "pie": [
           {
            "automargin": true,
            "type": "pie"
           }
          ],
          "scatter": [
           {
            "fillpattern": {
             "fillmode": "overlay",
             "size": 10,
             "solidity": 0.2
            },
            "type": "scatter"
           }
          ],
          "scatter3d": [
           {
            "line": {
             "colorbar": {
              "outlinewidth": 0,
              "ticks": ""
             }
            },
            "marker": {
             "colorbar": {
              "outlinewidth": 0,
              "ticks": ""
             }
            },
            "type": "scatter3d"
           }
          ],
          "scattercarpet": [
           {
            "marker": {
             "colorbar": {
              "outlinewidth": 0,
              "ticks": ""
             }
            },
            "type": "scattercarpet"
           }
          ],
          "scattergeo": [
           {
            "marker": {
             "colorbar": {
              "outlinewidth": 0,
              "ticks": ""
             }
            },
            "type": "scattergeo"
           }
          ],
          "scattergl": [
           {
            "marker": {
             "colorbar": {
              "outlinewidth": 0,
              "ticks": ""
             }
            },
            "type": "scattergl"
           }
          ],
          "scattermapbox": [
           {
            "marker": {
             "colorbar": {
              "outlinewidth": 0,
              "ticks": ""
             }
            },
            "type": "scattermapbox"
           }
          ],
          "scatterpolar": [
           {
            "marker": {
             "colorbar": {
              "outlinewidth": 0,
              "ticks": ""
             }
            },
            "type": "scatterpolar"
           }
          ],
          "scatterpolargl": [
           {
            "marker": {
             "colorbar": {
              "outlinewidth": 0,
              "ticks": ""
             }
            },
            "type": "scatterpolargl"
           }
          ],
          "scatterternary": [
           {
            "marker": {
             "colorbar": {
              "outlinewidth": 0,
              "ticks": ""
             }
            },
            "type": "scatterternary"
           }
          ],
          "surface": [
           {
            "colorbar": {
             "outlinewidth": 0,
             "ticks": ""
            },
            "colorscale": [
             [
              0,
              "#0d0887"
             ],
             [
              0.1111111111111111,
              "#46039f"
             ],
             [
              0.2222222222222222,
              "#7201a8"
             ],
             [
              0.3333333333333333,
              "#9c179e"
             ],
             [
              0.4444444444444444,
              "#bd3786"
             ],
             [
              0.5555555555555556,
              "#d8576b"
             ],
             [
              0.6666666666666666,
              "#ed7953"
             ],
             [
              0.7777777777777778,
              "#fb9f3a"
             ],
             [
              0.8888888888888888,
              "#fdca26"
             ],
             [
              1,
              "#f0f921"
             ]
            ],
            "type": "surface"
           }
          ],
          "table": [
           {
            "cells": {
             "fill": {
              "color": "#EBF0F8"
             },
             "line": {
              "color": "white"
             }
            },
            "header": {
             "fill": {
              "color": "#C8D4E3"
             },
             "line": {
              "color": "white"
             }
            },
            "type": "table"
           }
          ]
         },
         "layout": {
          "annotationdefaults": {
           "arrowcolor": "#2a3f5f",
           "arrowhead": 0,
           "arrowwidth": 1
          },
          "autotypenumbers": "strict",
          "coloraxis": {
           "colorbar": {
            "outlinewidth": 0,
            "ticks": ""
           }
          },
          "colorscale": {
           "diverging": [
            [
             0,
             "#8e0152"
            ],
            [
             0.1,
             "#c51b7d"
            ],
            [
             0.2,
             "#de77ae"
            ],
            [
             0.3,
             "#f1b6da"
            ],
            [
             0.4,
             "#fde0ef"
            ],
            [
             0.5,
             "#f7f7f7"
            ],
            [
             0.6,
             "#e6f5d0"
            ],
            [
             0.7,
             "#b8e186"
            ],
            [
             0.8,
             "#7fbc41"
            ],
            [
             0.9,
             "#4d9221"
            ],
            [
             1,
             "#276419"
            ]
           ],
           "sequential": [
            [
             0,
             "#0d0887"
            ],
            [
             0.1111111111111111,
             "#46039f"
            ],
            [
             0.2222222222222222,
             "#7201a8"
            ],
            [
             0.3333333333333333,
             "#9c179e"
            ],
            [
             0.4444444444444444,
             "#bd3786"
            ],
            [
             0.5555555555555556,
             "#d8576b"
            ],
            [
             0.6666666666666666,
             "#ed7953"
            ],
            [
             0.7777777777777778,
             "#fb9f3a"
            ],
            [
             0.8888888888888888,
             "#fdca26"
            ],
            [
             1,
             "#f0f921"
            ]
           ],
           "sequentialminus": [
            [
             0,
             "#0d0887"
            ],
            [
             0.1111111111111111,
             "#46039f"
            ],
            [
             0.2222222222222222,
             "#7201a8"
            ],
            [
             0.3333333333333333,
             "#9c179e"
            ],
            [
             0.4444444444444444,
             "#bd3786"
            ],
            [
             0.5555555555555556,
             "#d8576b"
            ],
            [
             0.6666666666666666,
             "#ed7953"
            ],
            [
             0.7777777777777778,
             "#fb9f3a"
            ],
            [
             0.8888888888888888,
             "#fdca26"
            ],
            [
             1,
             "#f0f921"
            ]
           ]
          },
          "colorway": [
           "#636efa",
           "#EF553B",
           "#00cc96",
           "#ab63fa",
           "#FFA15A",
           "#19d3f3",
           "#FF6692",
           "#B6E880",
           "#FF97FF",
           "#FECB52"
          ],
          "font": {
           "color": "#2a3f5f"
          },
          "geo": {
           "bgcolor": "white",
           "lakecolor": "white",
           "landcolor": "#E5ECF6",
           "showlakes": true,
           "showland": true,
           "subunitcolor": "white"
          },
          "hoverlabel": {
           "align": "left"
          },
          "hovermode": "closest",
          "mapbox": {
           "style": "light"
          },
          "paper_bgcolor": "white",
          "plot_bgcolor": "#E5ECF6",
          "polar": {
           "angularaxis": {
            "gridcolor": "white",
            "linecolor": "white",
            "ticks": ""
           },
           "bgcolor": "#E5ECF6",
           "radialaxis": {
            "gridcolor": "white",
            "linecolor": "white",
            "ticks": ""
           }
          },
          "scene": {
           "xaxis": {
            "backgroundcolor": "#E5ECF6",
            "gridcolor": "white",
            "gridwidth": 2,
            "linecolor": "white",
            "showbackground": true,
            "ticks": "",
            "zerolinecolor": "white"
           },
           "yaxis": {
            "backgroundcolor": "#E5ECF6",
            "gridcolor": "white",
            "gridwidth": 2,
            "linecolor": "white",
            "showbackground": true,
            "ticks": "",
            "zerolinecolor": "white"
           },
           "zaxis": {
            "backgroundcolor": "#E5ECF6",
            "gridcolor": "white",
            "gridwidth": 2,
            "linecolor": "white",
            "showbackground": true,
            "ticks": "",
            "zerolinecolor": "white"
           }
          },
          "shapedefaults": {
           "line": {
            "color": "#2a3f5f"
           }
          },
          "ternary": {
           "aaxis": {
            "gridcolor": "white",
            "linecolor": "white",
            "ticks": ""
           },
           "baxis": {
            "gridcolor": "white",
            "linecolor": "white",
            "ticks": ""
           },
           "bgcolor": "#E5ECF6",
           "caxis": {
            "gridcolor": "white",
            "linecolor": "white",
            "ticks": ""
           }
          },
          "title": {
           "x": 0.05
          },
          "xaxis": {
           "automargin": true,
           "gridcolor": "white",
           "linecolor": "white",
           "ticks": "",
           "title": {
            "standoff": 15
           },
           "zerolinecolor": "white",
           "zerolinewidth": 2
          },
          "yaxis": {
           "automargin": true,
           "gridcolor": "white",
           "linecolor": "white",
           "ticks": "",
           "title": {
            "standoff": 15
           },
           "zerolinecolor": "white",
           "zerolinewidth": 2
          }
         }
        },
        "title": {
         "font": {
          "color": "#4D5663"
         }
        },
        "xaxis": {
         "autorange": true,
         "gridcolor": "#E1E5ED",
         "range": [
          -2.3999999999999995,
          2.3999999999999995
         ],
         "showgrid": true,
         "tickfont": {
          "color": "#4D5663"
         },
         "title": {
          "font": {
           "color": "#4D5663"
          },
          "text": ""
         },
         "type": "linear",
         "zerolinecolor": "#E1E5ED"
        },
        "yaxis": {
         "autorange": true,
         "gridcolor": "#E1E5ED",
         "range": [
          0,
          11.578947368421053
         ],
         "showgrid": true,
         "tickfont": {
          "color": "#4D5663"
         },
         "title": {
          "font": {
           "color": "#4D5663"
          },
          "text": ""
         },
         "zerolinecolor": "#E1E5ED"
        }
       }
      },
      "image/png": "[encoded data removed]",
      "text/html": [
       "<div>                            <div id=\"5912a379-6ab9-4ccd-ab98-429919a605ed\" class=\"plotly-graph-div\" style=\"height:525px; width:100%;\"></div>            <script type=\"text/javascript\">                require([\"plotly\"], function(Plotly) {                    window.PLOTLYENV=window.PLOTLYENV || {};\n",
       "                    window.PLOTLYENV.BASE_URL='https://plot.ly';                                    if (document.getElementById(\"5912a379-6ab9-4ccd-ab98-429919a605ed\")) {                    Plotly.newPlot(                        \"5912a379-6ab9-4ccd-ab98-429919a605ed\",                        [{\"histfunc\":\"count\",\"histnorm\":\"\",\"marker\":{\"color\":\"rgba(255, 153, 51, 1.0)\",\"line\":{\"color\":\"#4D5663\",\"width\":1.3}},\"name\":\"A\",\"nbinsx\":25,\"opacity\":0.8,\"orientation\":\"v\",\"x\":[-0.8517614455883655,-0.04342189052762476,-0.5212214967722162,0.3463107666807025,-0.745881714063798,-0.30058773176849457,-2.294340311312299,-0.6512596659917415,0.506280440778242,-0.009690230605172254,0.6878141235775956,0.9626477777248147,1.9166904602701855,-0.45669843310114844,-1.17050493216569,2.2448005418810375,-0.28437845271142315,2.20013599919316,-1.1618106024664825,-0.8567423458194338,-1.0208832664798144,0.5703772004588231,0.9500450320973882,-0.6157420152530569,-0.7506656628682755,-0.16251365544450222,-0.6594437150281366,-0.9953798842138176,-1.0214733410454175,0.9285981310725163,0.33397810418350543,2.004283613512989,-1.0553236237125618,2.2850752156538063,-1.3753565992764296,-0.16501944321362802,0.5859344727051908,-0.18337137906315976,0.5932397316914628,-1.0418591959561794,1.7492129420611109,-0.5817937909383222,1.2316994838318762,0.9294052760388295,0.3520482281449861,0.7995560104582256,-0.41303009169552846,0.6949404983860864,1.5221943621246272,0.9258134979345521,-0.9730478801948261,-0.6262233648414084,-0.7063907512266209,-0.5577707713737803,-1.115285461836506,0.14168470522696505,-0.5008846735922116,-2.132915473280724,-0.4274968629044933,-1.3049965129181547,0.1255639710172537,-0.5779084871828467,-2.3440688331691595,-0.9404043092856896,1.0113599002670215,-1.1581293656750085,-0.3209275331612879,-0.26558229431764846,0.5598700845574042,0.6541742521756773,-0.5044763013189157,1.2664555045492127,-0.7708413334932498,0.7605925642066997,-1.3641341420112059,-0.7014556822610499,0.11434435077903846,0.9554038286070254,-0.570544304958875,-1.073236016265232,-0.16185980233727848,-0.15574260103122203,0.009923580756196683,0.7915328220783816,-1.936094840968455,-0.08462248253141151,0.6989879597069288,-0.5783664463035025,0.29535472856846945,-0.9236655704169129,-2.0291032054275138,-0.34867755292168895,-0.8556589825027233,0.45736269533464113,1.6827814465839737,0.017887806579571335,0.7430841354778721,1.0473851610215101,-0.8759282168181415,0.7612861204776716],\"type\":\"histogram\"}],                        {\"barmode\":\"overlay\",\"legend\":{\"bgcolor\":\"#F5F6F9\",\"font\":{\"color\":\"#4D5663\"}},\"paper_bgcolor\":\"#F5F6F9\",\"plot_bgcolor\":\"#F5F6F9\",\"template\":{\"data\":{\"barpolar\":[{\"marker\":{\"line\":{\"color\":\"#E5ECF6\",\"width\":0.5},\"pattern\":{\"fillmode\":\"overlay\",\"size\":10,\"solidity\":0.2}},\"type\":\"barpolar\"}],\"bar\":[{\"error_x\":{\"color\":\"#2a3f5f\"},\"error_y\":{\"color\":\"#2a3f5f\"},\"marker\":{\"line\":{\"color\":\"#E5ECF6\",\"width\":0.5},\"pattern\":{\"fillmode\":\"overlay\",\"size\":10,\"solidity\":0.2}},\"type\":\"bar\"}],\"carpet\":[{\"aaxis\":{\"endlinecolor\":\"#2a3f5f\",\"gridcolor\":\"white\",\"linecolor\":\"white\",\"minorgridcolor\":\"white\",\"startlinecolor\":\"#2a3f5f\"},\"baxis\":{\"endlinecolor\":\"#2a3f5f\",\"gridcolor\":\"white\",\"linecolor\":\"white\",\"minorgridcolor\":\"white\",\"startlinecolor\":\"#2a3f5f\"},\"type\":\"carpet\"}],\"choropleth\":[{\"colorbar\":{\"outlinewidth\":0,\"ticks\":\"\"},\"type\":\"choropleth\"}],\"contourcarpet\":[{\"colorbar\":{\"outlinewidth\":0,\"ticks\":\"\"},\"type\":\"contourcarpet\"}],\"contour\":[{\"colorbar\":{\"outlinewidth\":0,\"ticks\":\"\"},\"colorscale\":[[0.0,\"#0d0887\"],[0.1111111111111111,\"#46039f\"],[0.2222222222222222,\"#7201a8\"],[0.3333333333333333,\"#9c179e\"],[0.4444444444444444,\"#bd3786\"],[0.5555555555555556,\"#d8576b\"],[0.6666666666666666,\"#ed7953\"],[0.7777777777777778,\"#fb9f3a\"],[0.8888888888888888,\"#fdca26\"],[1.0,\"#f0f921\"]],\"type\":\"contour\"}],\"heatmapgl\":[{\"colorbar\":{\"outlinewidth\":0,\"ticks\":\"\"},\"colorscale\":[[0.0,\"#0d0887\"],[0.1111111111111111,\"#46039f\"],[0.2222222222222222,\"#7201a8\"],[0.3333333333333333,\"#9c179e\"],[0.4444444444444444,\"#bd3786\"],[0.5555555555555556,\"#d8576b\"],[0.6666666666666666,\"#ed7953\"],[0.7777777777777778,\"#fb9f3a\"],[0.8888888888888888,\"#fdca26\"],[1.0,\"#f0f921\"]],\"type\":\"heatmapgl\"}],\"heatmap\":[{\"colorbar\":{\"outlinewidth\":0,\"ticks\":\"\"},\"colorscale\":[[0.0,\"#0d0887\"],[0.1111111111111111,\"#46039f\"],[0.2222222222222222,\"#7201a8\"],[0.3333333333333333,\"#9c179e\"],[0.4444444444444444,\"#bd3786\"],[0.5555555555555556,\"#d8576b\"],[0.6666666666666666,\"#ed7953\"],[0.7777777777777778,\"#fb9f3a\"],[0.8888888888888888,\"#fdca26\"],[1.0,\"#f0f921\"]],\"type\":\"heatmap\"}],\"histogram2dcontour\":[{\"colorbar\":{\"outlinewidth\":0,\"ticks\":\"\"},\"colorscale\":[[0.0,\"#0d0887\"],[0.1111111111111111,\"#46039f\"],[0.2222222222222222,\"#7201a8\"],[0.3333333333333333,\"#9c179e\"],[0.4444444444444444,\"#bd3786\"],[0.5555555555555556,\"#d8576b\"],[0.6666666666666666,\"#ed7953\"],[0.7777777777777778,\"#fb9f3a\"],[0.8888888888888888,\"#fdca26\"],[1.0,\"#f0f921\"]],\"type\":\"histogram2dcontour\"}],\"histogram2d\":[{\"colorbar\":{\"outlinewidth\":0,\"ticks\":\"\"},\"colorscale\":[[0.0,\"#0d0887\"],[0.1111111111111111,\"#46039f\"],[0.2222222222222222,\"#7201a8\"],[0.3333333333333333,\"#9c179e\"],[0.4444444444444444,\"#bd3786\"],[0.5555555555555556,\"#d8576b\"],[0.6666666666666666,\"#ed7953\"],[0.7777777777777778,\"#fb9f3a\"],[0.8888888888888888,\"#fdca26\"],[1.0,\"#f0f921\"]],\"type\":\"histogram2d\"}],\"histogram\":[{\"marker\":{\"pattern\":{\"fillmode\":\"overlay\",\"size\":10,\"solidity\":0.2}},\"type\":\"histogram\"}],\"mesh3d\":[{\"colorbar\":{\"outlinewidth\":0,\"ticks\":\"\"},\"type\":\"mesh3d\"}],\"parcoords\":[{\"line\":{\"colorbar\":{\"outlinewidth\":0,\"ticks\":\"\"}},\"type\":\"parcoords\"}],\"pie\":[{\"automargin\":true,\"type\":\"pie\"}],\"scatter3d\":[{\"line\":{\"colorbar\":{\"outlinewidth\":0,\"ticks\":\"\"}},\"marker\":{\"colorbar\":{\"outlinewidth\":0,\"ticks\":\"\"}},\"type\":\"scatter3d\"}],\"scattercarpet\":[{\"marker\":{\"colorbar\":{\"outlinewidth\":0,\"ticks\":\"\"}},\"type\":\"scattercarpet\"}],\"scattergeo\":[{\"marker\":{\"colorbar\":{\"outlinewidth\":0,\"ticks\":\"\"}},\"type\":\"scattergeo\"}],\"scattergl\":[{\"marker\":{\"colorbar\":{\"outlinewidth\":0,\"ticks\":\"\"}},\"type\":\"scattergl\"}],\"scattermapbox\":[{\"marker\":{\"colorbar\":{\"outlinewidth\":0,\"ticks\":\"\"}},\"type\":\"scattermapbox\"}],\"scatterpolargl\":[{\"marker\":{\"colorbar\":{\"outlinewidth\":0,\"ticks\":\"\"}},\"type\":\"scatterpolargl\"}],\"scatterpolar\":[{\"marker\":{\"colorbar\":{\"outlinewidth\":0,\"ticks\":\"\"}},\"type\":\"scatterpolar\"}],\"scatter\":[{\"fillpattern\":{\"fillmode\":\"overlay\",\"size\":10,\"solidity\":0.2},\"type\":\"scatter\"}],\"scatterternary\":[{\"marker\":{\"colorbar\":{\"outlinewidth\":0,\"ticks\":\"\"}},\"type\":\"scatterternary\"}],\"surface\":[{\"colorbar\":{\"outlinewidth\":0,\"ticks\":\"\"},\"colorscale\":[[0.0,\"#0d0887\"],[0.1111111111111111,\"#46039f\"],[0.2222222222222222,\"#7201a8\"],[0.3333333333333333,\"#9c179e\"],[0.4444444444444444,\"#bd3786\"],[0.5555555555555556,\"#d8576b\"],[0.6666666666666666,\"#ed7953\"],[0.7777777777777778,\"#fb9f3a\"],[0.8888888888888888,\"#fdca26\"],[1.0,\"#f0f921\"]],\"type\":\"surface\"}],\"table\":[{\"cells\":{\"fill\":{\"color\":\"#EBF0F8\"},\"line\":{\"color\":\"white\"}},\"header\":{\"fill\":{\"color\":\"#C8D4E3\"},\"line\":{\"color\":\"white\"}},\"type\":\"table\"}]},\"layout\":{\"annotationdefaults\":{\"arrowcolor\":\"#2a3f5f\",\"arrowhead\":0,\"arrowwidth\":1},\"autotypenumbers\":\"strict\",\"coloraxis\":{\"colorbar\":{\"outlinewidth\":0,\"ticks\":\"\"}},\"colorscale\":{\"diverging\":[[0,\"#8e0152\"],[0.1,\"#c51b7d\"],[0.2,\"#de77ae\"],[0.3,\"#f1b6da\"],[0.4,\"#fde0ef\"],[0.5,\"#f7f7f7\"],[0.6,\"#e6f5d0\"],[0.7,\"#b8e186\"],[0.8,\"#7fbc41\"],[0.9,\"#4d9221\"],[1,\"#276419\"]],\"sequential\":[[0.0,\"#0d0887\"],[0.1111111111111111,\"#46039f\"],[0.2222222222222222,\"#7201a8\"],[0.3333333333333333,\"#9c179e\"],[0.4444444444444444,\"#bd3786\"],[0.5555555555555556,\"#d8576b\"],[0.6666666666666666,\"#ed7953\"],[0.7777777777777778,\"#fb9f3a\"],[0.8888888888888888,\"#fdca26\"],[1.0,\"#f0f921\"]],\"sequentialminus\":[[0.0,\"#0d0887\"],[0.1111111111111111,\"#46039f\"],[0.2222222222222222,\"#7201a8\"],[0.3333333333333333,\"#9c179e\"],[0.4444444444444444,\"#bd3786\"],[0.5555555555555556,\"#d8576b\"],[0.6666666666666666,\"#ed7953\"],[0.7777777777777778,\"#fb9f3a\"],[0.8888888888888888,\"#fdca26\"],[1.0,\"#f0f921\"]]},\"colorway\":[\"#636efa\",\"#EF553B\",\"#00cc96\",\"#ab63fa\",\"#FFA15A\",\"#19d3f3\",\"#FF6692\",\"#B6E880\",\"#FF97FF\",\"#FECB52\"],\"font\":{\"color\":\"#2a3f5f\"},\"geo\":{\"bgcolor\":\"white\",\"lakecolor\":\"white\",\"landcolor\":\"#E5ECF6\",\"showlakes\":true,\"showland\":true,\"subunitcolor\":\"white\"},\"hoverlabel\":{\"align\":\"left\"},\"hovermode\":\"closest\",\"mapbox\":{\"style\":\"light\"},\"paper_bgcolor\":\"white\",\"plot_bgcolor\":\"#E5ECF6\",\"polar\":{\"angularaxis\":{\"gridcolor\":\"white\",\"linecolor\":\"white\",\"ticks\":\"\"},\"bgcolor\":\"#E5ECF6\",\"radialaxis\":{\"gridcolor\":\"white\",\"linecolor\":\"white\",\"ticks\":\"\"}},\"scene\":{\"xaxis\":{\"backgroundcolor\":\"#E5ECF6\",\"gridcolor\":\"white\",\"gridwidth\":2,\"linecolor\":\"white\",\"showbackground\":true,\"ticks\":\"\",\"zerolinecolor\":\"white\"},\"yaxis\":{\"backgroundcolor\":\"#E5ECF6\",\"gridcolor\":\"white\",\"gridwidth\":2,\"linecolor\":\"white\",\"showbackground\":true,\"ticks\":\"\",\"zerolinecolor\":\"white\"},\"zaxis\":{\"backgroundcolor\":\"#E5ECF6\",\"gridcolor\":\"white\",\"gridwidth\":2,\"linecolor\":\"white\",\"showbackground\":true,\"ticks\":\"\",\"zerolinecolor\":\"white\"}},\"shapedefaults\":{\"line\":{\"color\":\"#2a3f5f\"}},\"ternary\":{\"aaxis\":{\"gridcolor\":\"white\",\"linecolor\":\"white\",\"ticks\":\"\"},\"baxis\":{\"gridcolor\":\"white\",\"linecolor\":\"white\",\"ticks\":\"\"},\"bgcolor\":\"#E5ECF6\",\"caxis\":{\"gridcolor\":\"white\",\"linecolor\":\"white\",\"ticks\":\"\"}},\"title\":{\"x\":0.05},\"xaxis\":{\"automargin\":true,\"gridcolor\":\"white\",\"linecolor\":\"white\",\"ticks\":\"\",\"title\":{\"standoff\":15},\"zerolinecolor\":\"white\",\"zerolinewidth\":2},\"yaxis\":{\"automargin\":true,\"gridcolor\":\"white\",\"linecolor\":\"white\",\"ticks\":\"\",\"title\":{\"standoff\":15},\"zerolinecolor\":\"white\",\"zerolinewidth\":2}}},\"title\":{\"font\":{\"color\":\"#4D5663\"}},\"xaxis\":{\"gridcolor\":\"#E1E5ED\",\"showgrid\":true,\"tickfont\":{\"color\":\"#4D5663\"},\"title\":{\"font\":{\"color\":\"#4D5663\"},\"text\":\"\"},\"zerolinecolor\":\"#E1E5ED\"},\"yaxis\":{\"gridcolor\":\"#E1E5ED\",\"showgrid\":true,\"tickfont\":{\"color\":\"#4D5663\"},\"title\":{\"font\":{\"color\":\"#4D5663\"},\"text\":\"\"},\"zerolinecolor\":\"#E1E5ED\"}},                        {\"showLink\": true, \"linkText\": \"Export to plot.ly\", \"plotlyServerURL\": \"https://plot.ly\", \"responsive\": true}                    ).then(function(){\n",
       "                            \n",
       "var gd = document.getElementById('5912a379-6ab9-4ccd-ab98-429919a605ed');\n",
       "var x = new MutationObserver(function (mutations, observer) {{\n",
       "        var display = window.getComputedStyle(gd).display;\n",
       "        if (!display || display === 'none') {{\n",
       "            console.log([gd, 'removed!']);\n",
       "            Plotly.purge(gd);\n",
       "            observer.disconnect();\n",
       "        }}\n",
       "}});\n",
       "\n",
       "// Listen for the removal of the full notebook cells\n",
       "var notebookContainer = gd.closest('#notebook-container');\n",
       "if (notebookContainer) {{\n",
       "    x.observe(notebookContainer, {childList: true});\n",
       "}}\n",
       "\n",
       "// Listen for the clearing of the current output cell\n",
       "var outputEl = gd.closest('.output');\n",
       "if (outputEl) {{\n",
       "    x.observe(outputEl, {childList: true});\n",
       "}}\n",
       "\n",
       "                        })                };                });            </script>        </div>"
      ]
     },
     "metadata": {},
     "output_type": "display_data"
    }
   ],
   "source": [
    "df['A'].iplot(kind='hist',bins=25)"
   ]
  },
  {
   "cell_type": "code",
   "execution_count": 15,
   "metadata": {
    "collapsed": false,
    "jupyter": {
     "outputs_hidden": false
    }
   },
   "outputs": [
    {
     "data": {
      "application/vnd.plotly.v1+json": {
       "config": {
        "linkText": "Export to plot.ly",
        "plotlyServerURL": "https://plot.ly",
        "showLink": true
       },
       "data": [
        {
         "marker": {
          "color": [
           "rgb(255, 153, 51)",
           "rgb(55, 128, 191)",
           "rgb(50, 171, 96)",
           "rgb(128, 0, 128)",
           "rgb(219, 64, 82)",
           "rgb(0, 128, 128)",
           "rgb(255, 255, 51)",
           "rgb(128, 128, 0)",
           "rgb(251, 128, 114)",
           "rgb(128, 177, 211)"
          ],
          "line": {
           "width": 1.3
          },
          "size": [
           89,
           51,
           41,
           62,
           55,
           60,
           41,
           41,
           52,
           53,
           36,
           68,
           26,
           65,
           23,
           41,
           71,
           64,
           75,
           25,
           35,
           42,
           54,
           54,
           86,
           69,
           63,
           51,
           43,
           79,
           74,
           61,
           14,
           47,
           111,
           64,
           42,
           78,
           25,
           66,
           54,
           18,
           21,
           60,
           48,
           57,
           54,
           68,
           16,
           50,
           85,
           38,
           33,
           68,
           68,
           74,
           30,
           23,
           42,
           50,
           24,
           40,
           37,
           48,
           42,
           12,
           90,
           47,
           15,
           32,
           55,
           68,
           45,
           43,
           36,
           39,
           23,
           73,
           38,
           69,
           52,
           73,
           33,
           51,
           42,
           47,
           80,
           66,
           53,
           87,
           57,
           50,
           81,
           53,
           43,
           37,
           50,
           34,
           56,
           49
          ],
          "symbol": "circle"
         },
         "mode": "markers",
         "text": "",
         "type": "scatter",
         "x": [
          -0.8517614455883655,
          -0.04342189052762476,
          -0.5212214967722162,
          0.3463107666807025,
          -0.745881714063798,
          -0.30058773176849457,
          -2.294340311312299,
          -0.6512596659917415,
          0.506280440778242,
          -0.009690230605172254,
          0.6878141235775956,
          0.9626477777248147,
          1.9166904602701855,
          -0.45669843310114844,
          -1.17050493216569,
          2.2448005418810375,
          -0.28437845271142315,
          2.20013599919316,
          -1.1618106024664825,
          -0.8567423458194338,
          -1.0208832664798144,
          0.5703772004588231,
          0.9500450320973882,
          -0.6157420152530569,
          -0.7506656628682755,
          -0.16251365544450222,
          -0.6594437150281366,
          -0.9953798842138176,
          -1.0214733410454175,
          0.9285981310725163,
          0.33397810418350543,
          2.004283613512989,
          -1.0553236237125618,
          2.2850752156538063,
          -1.3753565992764296,
          -0.16501944321362802,
          0.5859344727051908,
          -0.18337137906315976,
          0.5932397316914628,
          -1.0418591959561794,
          1.7492129420611109,
          -0.5817937909383222,
          1.2316994838318762,
          0.9294052760388295,
          0.3520482281449861,
          0.7995560104582256,
          -0.41303009169552846,
          0.6949404983860864,
          1.5221943621246272,
          0.9258134979345521,
          -0.9730478801948261,
          -0.6262233648414084,
          -0.7063907512266209,
          -0.5577707713737803,
          -1.115285461836506,
          0.14168470522696505,
          -0.5008846735922116,
          -2.132915473280724,
          -0.4274968629044933,
          -1.3049965129181547,
          0.1255639710172537,
          -0.5779084871828467,
          -2.3440688331691595,
          -0.9404043092856896,
          1.0113599002670215,
          -1.1581293656750085,
          -0.3209275331612879,
          -0.26558229431764846,
          0.5598700845574042,
          0.6541742521756773,
          -0.5044763013189157,
          1.2664555045492127,
          -0.7708413334932498,
          0.7605925642066997,
          -1.3641341420112059,
          -0.7014556822610499,
          0.11434435077903846,
          0.9554038286070254,
          -0.570544304958875,
          -1.073236016265232,
          -0.16185980233727848,
          -0.15574260103122203,
          0.009923580756196683,
          0.7915328220783816,
          -1.936094840968455,
          -0.08462248253141151,
          0.6989879597069288,
          -0.5783664463035025,
          0.29535472856846945,
          -0.9236655704169129,
          -2.0291032054275138,
          -0.34867755292168895,
          -0.8556589825027233,
          0.45736269533464113,
          1.6827814465839737,
          0.017887806579571335,
          0.7430841354778721,
          1.0473851610215101,
          -0.8759282168181415,
          0.7612861204776716
         ],
         "y": [
          -1.2411062397873414,
          0.02807914310972193,
          0.31936991465874937,
          -0.936624080293878,
          -2.0397357953994755,
          -1.2961599561491113,
          -2.4774472395187512,
          0.09931069506463953,
          0.26552531364527115,
          0.9335464940691652,
          0.8986794079209267,
          0.29622631233968777,
          0.6437623937325981,
          1.9277184697441778,
          -0.7036554347701831,
          0.2500502636911673,
          1.2350021110504927,
          1.0237531453705104,
          -0.6632947884834026,
          0.9868176338319913,
          1.3453311524356033,
          0.24952513249963243,
          -0.7082905967465567,
          1.2769871222507228,
          -1.9118975786051817,
          -0.8873715742413686,
          1.5378638040470454,
          -0.10710943967908983,
          0.7845777905330139,
          0.8270199278529797,
          0.41947638614534927,
          -0.6103461037142758,
          1.2832756709970892,
          -0.11416461232664675,
          -0.7392920699114925,
          -1.4637285693759212,
          -0.4677850468066235,
          -0.806834032956265,
          -0.3514224740201551,
          -0.08759108947064012,
          1.9604429088767352,
          -1.539498137166316,
          -0.7589306600245808,
          -1.3873313785163255,
          1.12307512963267,
          -1.0874744042664137,
          0.729226021155078,
          0.4351358751294404,
          -1.3587969148637427,
          1.6140817210918543,
          1.2660276312562755,
          -0.8082257649351985,
          0.69704454733331,
          0.4152703294264582,
          0.9034585114511574,
          -0.05924854849022004,
          2.0226182152394614,
          -0.07841380341378705,
          -0.3386092825470693,
          1.4156155845223164,
          -1.9797346660137547,
          -1.841984115363568,
          -0.5154841724459465,
          0.8939062610383636,
          -0.3489922837461976,
          -0.677196875864426,
          -1.0620264960449346,
          -1.1503882870014204,
          0.0042260410358588435,
          -0.5620865442747135,
          0.4115443926705976,
          0.7153717423546805,
          -1.5459819291841044,
          1.3252812663525808,
          0.7538124900180974,
          0.8547986901890187,
          -0.2795176870933874,
          0.763745158149344,
          0.2111943276448071,
          -0.7972437348540449,
          -0.393452740038313,
          0.9953585944717301,
          0.9534378275081842,
          0.052218086558350224,
          1.3181683198717666,
          0.2754614898008423,
          -0.8393112238396853,
          1.3546910993944914,
          0.4372159696747173,
          0.9136047664976019,
          1.443219930139496,
          0.046487522231139576,
          0.99988574453509,
          -0.0042272118759153045,
          -0.5630943395117491,
          -2.124339506586154,
          -0.22020744078220653,
          1.0475830922547424,
          0.14931168810186324,
          0.025470618198708817
         ]
        }
       ],
       "layout": {
        "autosize": true,
        "legend": {
         "bgcolor": "#F5F6F9",
         "font": {
          "color": "#4D5663"
         }
        },
        "paper_bgcolor": "#F5F6F9",
        "plot_bgcolor": "#F5F6F9",
        "template": {
         "data": {
          "bar": [
           {
            "error_x": {
             "color": "#2a3f5f"
            },
            "error_y": {
             "color": "#2a3f5f"
            },
            "marker": {
             "line": {
              "color": "#E5ECF6",
              "width": 0.5
             },
             "pattern": {
              "fillmode": "overlay",
              "size": 10,
              "solidity": 0.2
             }
            },
            "type": "bar"
           }
          ],
          "barpolar": [
           {
            "marker": {
             "line": {
              "color": "#E5ECF6",
              "width": 0.5
             },
             "pattern": {
              "fillmode": "overlay",
              "size": 10,
              "solidity": 0.2
             }
            },
            "type": "barpolar"
           }
          ],
          "carpet": [
           {
            "aaxis": {
             "endlinecolor": "#2a3f5f",
             "gridcolor": "white",
             "linecolor": "white",
             "minorgridcolor": "white",
             "startlinecolor": "#2a3f5f"
            },
            "baxis": {
             "endlinecolor": "#2a3f5f",
             "gridcolor": "white",
             "linecolor": "white",
             "minorgridcolor": "white",
             "startlinecolor": "#2a3f5f"
            },
            "type": "carpet"
           }
          ],
          "choropleth": [
           {
            "colorbar": {
             "outlinewidth": 0,
             "ticks": ""
            },
            "type": "choropleth"
           }
          ],
          "contour": [
           {
            "colorbar": {
             "outlinewidth": 0,
             "ticks": ""
            },
            "colorscale": [
             [
              0,
              "#0d0887"
             ],
             [
              0.1111111111111111,
              "#46039f"
             ],
             [
              0.2222222222222222,
              "#7201a8"
             ],
             [
              0.3333333333333333,
              "#9c179e"
             ],
             [
              0.4444444444444444,
              "#bd3786"
             ],
             [
              0.5555555555555556,
              "#d8576b"
             ],
             [
              0.6666666666666666,
              "#ed7953"
             ],
             [
              0.7777777777777778,
              "#fb9f3a"
             ],
             [
              0.8888888888888888,
              "#fdca26"
             ],
             [
              1,
              "#f0f921"
             ]
            ],
            "type": "contour"
           }
          ],
          "contourcarpet": [
           {
            "colorbar": {
             "outlinewidth": 0,
             "ticks": ""
            },
            "type": "contourcarpet"
           }
          ],
          "heatmap": [
           {
            "colorbar": {
             "outlinewidth": 0,
             "ticks": ""
            },
            "colorscale": [
             [
              0,
              "#0d0887"
             ],
             [
              0.1111111111111111,
              "#46039f"
             ],
             [
              0.2222222222222222,
              "#7201a8"
             ],
             [
              0.3333333333333333,
              "#9c179e"
             ],
             [
              0.4444444444444444,
              "#bd3786"
             ],
             [
              0.5555555555555556,
              "#d8576b"
             ],
             [
              0.6666666666666666,
              "#ed7953"
             ],
             [
              0.7777777777777778,
              "#fb9f3a"
             ],
             [
              0.8888888888888888,
              "#fdca26"
             ],
             [
              1,
              "#f0f921"
             ]
            ],
            "type": "heatmap"
           }
          ],
          "heatmapgl": [
           {
            "colorbar": {
             "outlinewidth": 0,
             "ticks": ""
            },
            "colorscale": [
             [
              0,
              "#0d0887"
             ],
             [
              0.1111111111111111,
              "#46039f"
             ],
             [
              0.2222222222222222,
              "#7201a8"
             ],
             [
              0.3333333333333333,
              "#9c179e"
             ],
             [
              0.4444444444444444,
              "#bd3786"
             ],
             [
              0.5555555555555556,
              "#d8576b"
             ],
             [
              0.6666666666666666,
              "#ed7953"
             ],
             [
              0.7777777777777778,
              "#fb9f3a"
             ],
             [
              0.8888888888888888,
              "#fdca26"
             ],
             [
              1,
              "#f0f921"
             ]
            ],
            "type": "heatmapgl"
           }
          ],
          "histogram": [
           {
            "marker": {
             "pattern": {
              "fillmode": "overlay",
              "size": 10,
              "solidity": 0.2
             }
            },
            "type": "histogram"
           }
          ],
          "histogram2d": [
           {
            "colorbar": {
             "outlinewidth": 0,
             "ticks": ""
            },
            "colorscale": [
             [
              0,
              "#0d0887"
             ],
             [
              0.1111111111111111,
              "#46039f"
             ],
             [
              0.2222222222222222,
              "#7201a8"
             ],
             [
              0.3333333333333333,
              "#9c179e"
             ],
             [
              0.4444444444444444,
              "#bd3786"
             ],
             [
              0.5555555555555556,
              "#d8576b"
             ],
             [
              0.6666666666666666,
              "#ed7953"
             ],
             [
              0.7777777777777778,
              "#fb9f3a"
             ],
             [
              0.8888888888888888,
              "#fdca26"
             ],
             [
              1,
              "#f0f921"
             ]
            ],
            "type": "histogram2d"
           }
          ],
          "histogram2dcontour": [
           {
            "colorbar": {
             "outlinewidth": 0,
             "ticks": ""
            },
            "colorscale": [
             [
              0,
              "#0d0887"
             ],
             [
              0.1111111111111111,
              "#46039f"
             ],
             [
              0.2222222222222222,
              "#7201a8"
             ],
             [
              0.3333333333333333,
              "#9c179e"
             ],
             [
              0.4444444444444444,
              "#bd3786"
             ],
             [
              0.5555555555555556,
              "#d8576b"
             ],
             [
              0.6666666666666666,
              "#ed7953"
             ],
             [
              0.7777777777777778,
              "#fb9f3a"
             ],
             [
              0.8888888888888888,
              "#fdca26"
             ],
             [
              1,
              "#f0f921"
             ]
            ],
            "type": "histogram2dcontour"
           }
          ],
          "mesh3d": [
           {
            "colorbar": {
             "outlinewidth": 0,
             "ticks": ""
            },
            "type": "mesh3d"
           }
          ],
          "parcoords": [
           {
            "line": {
             "colorbar": {
              "outlinewidth": 0,
              "ticks": ""
             }
            },
            "type": "parcoords"
           }
          ],
          "pie": [
           {
            "automargin": true,
            "type": "pie"
           }
          ],
          "scatter": [
           {
            "fillpattern": {
             "fillmode": "overlay",
             "size": 10,
             "solidity": 0.2
            },
            "type": "scatter"
           }
          ],
          "scatter3d": [
           {
            "line": {
             "colorbar": {
              "outlinewidth": 0,
              "ticks": ""
             }
            },
            "marker": {
             "colorbar": {
              "outlinewidth": 0,
              "ticks": ""
             }
            },
            "type": "scatter3d"
           }
          ],
          "scattercarpet": [
           {
            "marker": {
             "colorbar": {
              "outlinewidth": 0,
              "ticks": ""
             }
            },
            "type": "scattercarpet"
           }
          ],
          "scattergeo": [
           {
            "marker": {
             "colorbar": {
              "outlinewidth": 0,
              "ticks": ""
             }
            },
            "type": "scattergeo"
           }
          ],
          "scattergl": [
           {
            "marker": {
             "colorbar": {
              "outlinewidth": 0,
              "ticks": ""
             }
            },
            "type": "scattergl"
           }
          ],
          "scattermapbox": [
           {
            "marker": {
             "colorbar": {
              "outlinewidth": 0,
              "ticks": ""
             }
            },
            "type": "scattermapbox"
           }
          ],
          "scatterpolar": [
           {
            "marker": {
             "colorbar": {
              "outlinewidth": 0,
              "ticks": ""
             }
            },
            "type": "scatterpolar"
           }
          ],
          "scatterpolargl": [
           {
            "marker": {
             "colorbar": {
              "outlinewidth": 0,
              "ticks": ""
             }
            },
            "type": "scatterpolargl"
           }
          ],
          "scatterternary": [
           {
            "marker": {
             "colorbar": {
              "outlinewidth": 0,
              "ticks": ""
             }
            },
            "type": "scatterternary"
           }
          ],
          "surface": [
           {
            "colorbar": {
             "outlinewidth": 0,
             "ticks": ""
            },
            "colorscale": [
             [
              0,
              "#0d0887"
             ],
             [
              0.1111111111111111,
              "#46039f"
             ],
             [
              0.2222222222222222,
              "#7201a8"
             ],
             [
              0.3333333333333333,
              "#9c179e"
             ],
             [
              0.4444444444444444,
              "#bd3786"
             ],
             [
              0.5555555555555556,
              "#d8576b"
             ],
             [
              0.6666666666666666,
              "#ed7953"
             ],
             [
              0.7777777777777778,
              "#fb9f3a"
             ],
             [
              0.8888888888888888,
              "#fdca26"
             ],
             [
              1,
              "#f0f921"
             ]
            ],
            "type": "surface"
           }
          ],
          "table": [
           {
            "cells": {
             "fill": {
              "color": "#EBF0F8"
             },
             "line": {
              "color": "white"
             }
            },
            "header": {
             "fill": {
              "color": "#C8D4E3"
             },
             "line": {
              "color": "white"
             }
            },
            "type": "table"
           }
          ]
         },
         "layout": {
          "annotationdefaults": {
           "arrowcolor": "#2a3f5f",
           "arrowhead": 0,
           "arrowwidth": 1
          },
          "autotypenumbers": "strict",
          "coloraxis": {
           "colorbar": {
            "outlinewidth": 0,
            "ticks": ""
           }
          },
          "colorscale": {
           "diverging": [
            [
             0,
             "#8e0152"
            ],
            [
             0.1,
             "#c51b7d"
            ],
            [
             0.2,
             "#de77ae"
            ],
            [
             0.3,
             "#f1b6da"
            ],
            [
             0.4,
             "#fde0ef"
            ],
            [
             0.5,
             "#f7f7f7"
            ],
            [
             0.6,
             "#e6f5d0"
            ],
            [
             0.7,
             "#b8e186"
            ],
            [
             0.8,
             "#7fbc41"
            ],
            [
             0.9,
             "#4d9221"
            ],
            [
             1,
             "#276419"
            ]
           ],
           "sequential": [
            [
             0,
             "#0d0887"
            ],
            [
             0.1111111111111111,
             "#46039f"
            ],
            [
             0.2222222222222222,
             "#7201a8"
            ],
            [
             0.3333333333333333,
             "#9c179e"
            ],
            [
             0.4444444444444444,
             "#bd3786"
            ],
            [
             0.5555555555555556,
             "#d8576b"
            ],
            [
             0.6666666666666666,
             "#ed7953"
            ],
            [
             0.7777777777777778,
             "#fb9f3a"
            ],
            [
             0.8888888888888888,
             "#fdca26"
            ],
            [
             1,
             "#f0f921"
            ]
           ],
           "sequentialminus": [
            [
             0,
             "#0d0887"
            ],
            [
             0.1111111111111111,
             "#46039f"
            ],
            [
             0.2222222222222222,
             "#7201a8"
            ],
            [
             0.3333333333333333,
             "#9c179e"
            ],
            [
             0.4444444444444444,
             "#bd3786"
            ],
            [
             0.5555555555555556,
             "#d8576b"
            ],
            [
             0.6666666666666666,
             "#ed7953"
            ],
            [
             0.7777777777777778,
             "#fb9f3a"
            ],
            [
             0.8888888888888888,
             "#fdca26"
            ],
            [
             1,
             "#f0f921"
            ]
           ]
          },
          "colorway": [
           "#636efa",
           "#EF553B",
           "#00cc96",
           "#ab63fa",
           "#FFA15A",
           "#19d3f3",
           "#FF6692",
           "#B6E880",
           "#FF97FF",
           "#FECB52"
          ],
          "font": {
           "color": "#2a3f5f"
          },
          "geo": {
           "bgcolor": "white",
           "lakecolor": "white",
           "landcolor": "#E5ECF6",
           "showlakes": true,
           "showland": true,
           "subunitcolor": "white"
          },
          "hoverlabel": {
           "align": "left"
          },
          "hovermode": "closest",
          "mapbox": {
           "style": "light"
          },
          "paper_bgcolor": "white",
          "plot_bgcolor": "#E5ECF6",
          "polar": {
           "angularaxis": {
            "gridcolor": "white",
            "linecolor": "white",
            "ticks": ""
           },
           "bgcolor": "#E5ECF6",
           "radialaxis": {
            "gridcolor": "white",
            "linecolor": "white",
            "ticks": ""
           }
          },
          "scene": {
           "xaxis": {
            "backgroundcolor": "#E5ECF6",
            "gridcolor": "white",
            "gridwidth": 2,
            "linecolor": "white",
            "showbackground": true,
            "ticks": "",
            "zerolinecolor": "white"
           },
           "yaxis": {
            "backgroundcolor": "#E5ECF6",
            "gridcolor": "white",
            "gridwidth": 2,
            "linecolor": "white",
            "showbackground": true,
            "ticks": "",
            "zerolinecolor": "white"
           },
           "zaxis": {
            "backgroundcolor": "#E5ECF6",
            "gridcolor": "white",
            "gridwidth": 2,
            "linecolor": "white",
            "showbackground": true,
            "ticks": "",
            "zerolinecolor": "white"
           }
          },
          "shapedefaults": {
           "line": {
            "color": "#2a3f5f"
           }
          },
          "ternary": {
           "aaxis": {
            "gridcolor": "white",
            "linecolor": "white",
            "ticks": ""
           },
           "baxis": {
            "gridcolor": "white",
            "linecolor": "white",
            "ticks": ""
           },
           "bgcolor": "#E5ECF6",
           "caxis": {
            "gridcolor": "white",
            "linecolor": "white",
            "ticks": ""
           }
          },
          "title": {
           "x": 0.05
          },
          "xaxis": {
           "automargin": true,
           "gridcolor": "white",
           "linecolor": "white",
           "ticks": "",
           "title": {
            "standoff": 15
           },
           "zerolinecolor": "white",
           "zerolinewidth": 2
          },
          "yaxis": {
           "automargin": true,
           "gridcolor": "white",
           "linecolor": "white",
           "ticks": "",
           "title": {
            "standoff": 15
           },
           "zerolinecolor": "white",
           "zerolinewidth": 2
          }
         }
        },
        "title": {
         "font": {
          "color": "#4D5663"
         }
        },
        "xaxis": {
         "autorange": true,
         "gridcolor": "#E1E5ED",
         "range": [
          -2.7526509708619926,
          2.7299951457419467
         ],
         "showgrid": true,
         "showspikes": false,
         "tickfont": {
          "color": "#4D5663"
         },
         "title": {
          "font": {
           "color": "#4D5663"
          },
          "text": ""
         },
         "type": "linear",
         "zerolinecolor": "#E1E5ED"
        },
        "yaxis": {
         "autorange": true,
         "gridcolor": "#E1E5ED",
         "range": [
          -5.529399744932736,
          4.847498899512838
         ],
         "showgrid": true,
         "showspikes": false,
         "tickfont": {
          "color": "#4D5663"
         },
         "title": {
          "font": {
           "color": "#4D5663"
          },
          "text": ""
         },
         "type": "linear",
         "zerolinecolor": "#E1E5ED"
        }
       }
      },
      "image/png": "[encoded data removed]",
      "text/html": [
       "<div>                            <div id=\"5d43e73b-743b-43c7-ac28-48538312ddec\" class=\"plotly-graph-div\" style=\"height:525px; width:100%;\"></div>            <script type=\"text/javascript\">                require([\"plotly\"], function(Plotly) {                    window.PLOTLYENV=window.PLOTLYENV || {};\n",
       "                    window.PLOTLYENV.BASE_URL='https://plot.ly';                                    if (document.getElementById(\"5d43e73b-743b-43c7-ac28-48538312ddec\")) {                    Plotly.newPlot(                        \"5d43e73b-743b-43c7-ac28-48538312ddec\",                        [{\"marker\":{\"color\":[\"rgb(255, 153, 51)\",\"rgb(55, 128, 191)\",\"rgb(50, 171, 96)\",\"rgb(128, 0, 128)\",\"rgb(219, 64, 82)\",\"rgb(0, 128, 128)\",\"rgb(255, 255, 51)\",\"rgb(128, 128, 0)\",\"rgb(251, 128, 114)\",\"rgb(128, 177, 211)\"],\"line\":{\"width\":1.3},\"size\":[89,51,41,62,55,60,41,41,52,53,36,68,26,65,23,41,71,64,75,25,35,42,54,54,86,69,63,51,43,79,74,61,14,47,111,64,42,78,25,66,54,18,21,60,48,57,54,68,16,50,85,38,33,68,68,74,30,23,42,50,24,40,37,48,42,12,90,47,15,32,55,68,45,43,36,39,23,73,38,69,52,73,33,51,42,47,80,66,53,87,57,50,81,53,43,37,50,34,56,49],\"symbol\":\"circle\"},\"mode\":\"markers\",\"text\":\"\",\"x\":[-0.8517614455883655,-0.04342189052762476,-0.5212214967722162,0.3463107666807025,-0.745881714063798,-0.30058773176849457,-2.294340311312299,-0.6512596659917415,0.506280440778242,-0.009690230605172254,0.6878141235775956,0.9626477777248147,1.9166904602701855,-0.45669843310114844,-1.17050493216569,2.2448005418810375,-0.28437845271142315,2.20013599919316,-1.1618106024664825,-0.8567423458194338,-1.0208832664798144,0.5703772004588231,0.9500450320973882,-0.6157420152530569,-0.7506656628682755,-0.16251365544450222,-0.6594437150281366,-0.9953798842138176,-1.0214733410454175,0.9285981310725163,0.33397810418350543,2.004283613512989,-1.0553236237125618,2.2850752156538063,-1.3753565992764296,-0.16501944321362802,0.5859344727051908,-0.18337137906315976,0.5932397316914628,-1.0418591959561794,1.7492129420611109,-0.5817937909383222,1.2316994838318762,0.9294052760388295,0.3520482281449861,0.7995560104582256,-0.41303009169552846,0.6949404983860864,1.5221943621246272,0.9258134979345521,-0.9730478801948261,-0.6262233648414084,-0.7063907512266209,-0.5577707713737803,-1.115285461836506,0.14168470522696505,-0.5008846735922116,-2.132915473280724,-0.4274968629044933,-1.3049965129181547,0.1255639710172537,-0.5779084871828467,-2.3440688331691595,-0.9404043092856896,1.0113599002670215,-1.1581293656750085,-0.3209275331612879,-0.26558229431764846,0.5598700845574042,0.6541742521756773,-0.5044763013189157,1.2664555045492127,-0.7708413334932498,0.7605925642066997,-1.3641341420112059,-0.7014556822610499,0.11434435077903846,0.9554038286070254,-0.570544304958875,-1.073236016265232,-0.16185980233727848,-0.15574260103122203,0.009923580756196683,0.7915328220783816,-1.936094840968455,-0.08462248253141151,0.6989879597069288,-0.5783664463035025,0.29535472856846945,-0.9236655704169129,-2.0291032054275138,-0.34867755292168895,-0.8556589825027233,0.45736269533464113,1.6827814465839737,0.017887806579571335,0.7430841354778721,1.0473851610215101,-0.8759282168181415,0.7612861204776716],\"y\":[-1.2411062397873414,0.02807914310972193,0.31936991465874937,-0.936624080293878,-2.0397357953994755,-1.2961599561491113,-2.4774472395187512,0.09931069506463953,0.26552531364527115,0.9335464940691652,0.8986794079209267,0.29622631233968777,0.6437623937325981,1.9277184697441778,-0.7036554347701831,0.2500502636911673,1.2350021110504927,1.0237531453705104,-0.6632947884834026,0.9868176338319913,1.3453311524356033,0.24952513249963243,-0.7082905967465567,1.2769871222507228,-1.9118975786051817,-0.8873715742413686,1.5378638040470454,-0.10710943967908983,0.7845777905330139,0.8270199278529797,0.41947638614534927,-0.6103461037142758,1.2832756709970892,-0.11416461232664675,-0.7392920699114925,-1.4637285693759212,-0.4677850468066235,-0.806834032956265,-0.3514224740201551,-0.08759108947064012,1.9604429088767352,-1.539498137166316,-0.7589306600245808,-1.3873313785163255,1.12307512963267,-1.0874744042664137,0.729226021155078,0.4351358751294404,-1.3587969148637427,1.6140817210918543,1.2660276312562755,-0.8082257649351985,0.69704454733331,0.4152703294264582,0.9034585114511574,-0.05924854849022004,2.0226182152394614,-0.07841380341378705,-0.3386092825470693,1.4156155845223164,-1.9797346660137547,-1.841984115363568,-0.5154841724459465,0.8939062610383636,-0.3489922837461976,-0.677196875864426,-1.0620264960449346,-1.1503882870014204,0.0042260410358588435,-0.5620865442747135,0.4115443926705976,0.7153717423546805,-1.5459819291841044,1.3252812663525808,0.7538124900180974,0.8547986901890187,-0.2795176870933874,0.763745158149344,0.2111943276448071,-0.7972437348540449,-0.393452740038313,0.9953585944717301,0.9534378275081842,0.052218086558350224,1.3181683198717666,0.2754614898008423,-0.8393112238396853,1.3546910993944914,0.4372159696747173,0.9136047664976019,1.443219930139496,0.046487522231139576,0.99988574453509,-0.0042272118759153045,-0.5630943395117491,-2.124339506586154,-0.22020744078220653,1.0475830922547424,0.14931168810186324,0.025470618198708817],\"type\":\"scatter\"}],                        {\"legend\":{\"bgcolor\":\"#F5F6F9\",\"font\":{\"color\":\"#4D5663\"}},\"paper_bgcolor\":\"#F5F6F9\",\"plot_bgcolor\":\"#F5F6F9\",\"template\":{\"data\":{\"barpolar\":[{\"marker\":{\"line\":{\"color\":\"#E5ECF6\",\"width\":0.5},\"pattern\":{\"fillmode\":\"overlay\",\"size\":10,\"solidity\":0.2}},\"type\":\"barpolar\"}],\"bar\":[{\"error_x\":{\"color\":\"#2a3f5f\"},\"error_y\":{\"color\":\"#2a3f5f\"},\"marker\":{\"line\":{\"color\":\"#E5ECF6\",\"width\":0.5},\"pattern\":{\"fillmode\":\"overlay\",\"size\":10,\"solidity\":0.2}},\"type\":\"bar\"}],\"carpet\":[{\"aaxis\":{\"endlinecolor\":\"#2a3f5f\",\"gridcolor\":\"white\",\"linecolor\":\"white\",\"minorgridcolor\":\"white\",\"startlinecolor\":\"#2a3f5f\"},\"baxis\":{\"endlinecolor\":\"#2a3f5f\",\"gridcolor\":\"white\",\"linecolor\":\"white\",\"minorgridcolor\":\"white\",\"startlinecolor\":\"#2a3f5f\"},\"type\":\"carpet\"}],\"choropleth\":[{\"colorbar\":{\"outlinewidth\":0,\"ticks\":\"\"},\"type\":\"choropleth\"}],\"contourcarpet\":[{\"colorbar\":{\"outlinewidth\":0,\"ticks\":\"\"},\"type\":\"contourcarpet\"}],\"contour\":[{\"colorbar\":{\"outlinewidth\":0,\"ticks\":\"\"},\"colorscale\":[[0.0,\"#0d0887\"],[0.1111111111111111,\"#46039f\"],[0.2222222222222222,\"#7201a8\"],[0.3333333333333333,\"#9c179e\"],[0.4444444444444444,\"#bd3786\"],[0.5555555555555556,\"#d8576b\"],[0.6666666666666666,\"#ed7953\"],[0.7777777777777778,\"#fb9f3a\"],[0.8888888888888888,\"#fdca26\"],[1.0,\"#f0f921\"]],\"type\":\"contour\"}],\"heatmapgl\":[{\"colorbar\":{\"outlinewidth\":0,\"ticks\":\"\"},\"colorscale\":[[0.0,\"#0d0887\"],[0.1111111111111111,\"#46039f\"],[0.2222222222222222,\"#7201a8\"],[0.3333333333333333,\"#9c179e\"],[0.4444444444444444,\"#bd3786\"],[0.5555555555555556,\"#d8576b\"],[0.6666666666666666,\"#ed7953\"],[0.7777777777777778,\"#fb9f3a\"],[0.8888888888888888,\"#fdca26\"],[1.0,\"#f0f921\"]],\"type\":\"heatmapgl\"}],\"heatmap\":[{\"colorbar\":{\"outlinewidth\":0,\"ticks\":\"\"},\"colorscale\":[[0.0,\"#0d0887\"],[0.1111111111111111,\"#46039f\"],[0.2222222222222222,\"#7201a8\"],[0.3333333333333333,\"#9c179e\"],[0.4444444444444444,\"#bd3786\"],[0.5555555555555556,\"#d8576b\"],[0.6666666666666666,\"#ed7953\"],[0.7777777777777778,\"#fb9f3a\"],[0.8888888888888888,\"#fdca26\"],[1.0,\"#f0f921\"]],\"type\":\"heatmap\"}],\"histogram2dcontour\":[{\"colorbar\":{\"outlinewidth\":0,\"ticks\":\"\"},\"colorscale\":[[0.0,\"#0d0887\"],[0.1111111111111111,\"#46039f\"],[0.2222222222222222,\"#7201a8\"],[0.3333333333333333,\"#9c179e\"],[0.4444444444444444,\"#bd3786\"],[0.5555555555555556,\"#d8576b\"],[0.6666666666666666,\"#ed7953\"],[0.7777777777777778,\"#fb9f3a\"],[0.8888888888888888,\"#fdca26\"],[1.0,\"#f0f921\"]],\"type\":\"histogram2dcontour\"}],\"histogram2d\":[{\"colorbar\":{\"outlinewidth\":0,\"ticks\":\"\"},\"colorscale\":[[0.0,\"#0d0887\"],[0.1111111111111111,\"#46039f\"],[0.2222222222222222,\"#7201a8\"],[0.3333333333333333,\"#9c179e\"],[0.4444444444444444,\"#bd3786\"],[0.5555555555555556,\"#d8576b\"],[0.6666666666666666,\"#ed7953\"],[0.7777777777777778,\"#fb9f3a\"],[0.8888888888888888,\"#fdca26\"],[1.0,\"#f0f921\"]],\"type\":\"histogram2d\"}],\"histogram\":[{\"marker\":{\"pattern\":{\"fillmode\":\"overlay\",\"size\":10,\"solidity\":0.2}},\"type\":\"histogram\"}],\"mesh3d\":[{\"colorbar\":{\"outlinewidth\":0,\"ticks\":\"\"},\"type\":\"mesh3d\"}],\"parcoords\":[{\"line\":{\"colorbar\":{\"outlinewidth\":0,\"ticks\":\"\"}},\"type\":\"parcoords\"}],\"pie\":[{\"automargin\":true,\"type\":\"pie\"}],\"scatter3d\":[{\"line\":{\"colorbar\":{\"outlinewidth\":0,\"ticks\":\"\"}},\"marker\":{\"colorbar\":{\"outlinewidth\":0,\"ticks\":\"\"}},\"type\":\"scatter3d\"}],\"scattercarpet\":[{\"marker\":{\"colorbar\":{\"outlinewidth\":0,\"ticks\":\"\"}},\"type\":\"scattercarpet\"}],\"scattergeo\":[{\"marker\":{\"colorbar\":{\"outlinewidth\":0,\"ticks\":\"\"}},\"type\":\"scattergeo\"}],\"scattergl\":[{\"marker\":{\"colorbar\":{\"outlinewidth\":0,\"ticks\":\"\"}},\"type\":\"scattergl\"}],\"scattermapbox\":[{\"marker\":{\"colorbar\":{\"outlinewidth\":0,\"ticks\":\"\"}},\"type\":\"scattermapbox\"}],\"scatterpolargl\":[{\"marker\":{\"colorbar\":{\"outlinewidth\":0,\"ticks\":\"\"}},\"type\":\"scatterpolargl\"}],\"scatterpolar\":[{\"marker\":{\"colorbar\":{\"outlinewidth\":0,\"ticks\":\"\"}},\"type\":\"scatterpolar\"}],\"scatter\":[{\"fillpattern\":{\"fillmode\":\"overlay\",\"size\":10,\"solidity\":0.2},\"type\":\"scatter\"}],\"scatterternary\":[{\"marker\":{\"colorbar\":{\"outlinewidth\":0,\"ticks\":\"\"}},\"type\":\"scatterternary\"}],\"surface\":[{\"colorbar\":{\"outlinewidth\":0,\"ticks\":\"\"},\"colorscale\":[[0.0,\"#0d0887\"],[0.1111111111111111,\"#46039f\"],[0.2222222222222222,\"#7201a8\"],[0.3333333333333333,\"#9c179e\"],[0.4444444444444444,\"#bd3786\"],[0.5555555555555556,\"#d8576b\"],[0.6666666666666666,\"#ed7953\"],[0.7777777777777778,\"#fb9f3a\"],[0.8888888888888888,\"#fdca26\"],[1.0,\"#f0f921\"]],\"type\":\"surface\"}],\"table\":[{\"cells\":{\"fill\":{\"color\":\"#EBF0F8\"},\"line\":{\"color\":\"white\"}},\"header\":{\"fill\":{\"color\":\"#C8D4E3\"},\"line\":{\"color\":\"white\"}},\"type\":\"table\"}]},\"layout\":{\"annotationdefaults\":{\"arrowcolor\":\"#2a3f5f\",\"arrowhead\":0,\"arrowwidth\":1},\"autotypenumbers\":\"strict\",\"coloraxis\":{\"colorbar\":{\"outlinewidth\":0,\"ticks\":\"\"}},\"colorscale\":{\"diverging\":[[0,\"#8e0152\"],[0.1,\"#c51b7d\"],[0.2,\"#de77ae\"],[0.3,\"#f1b6da\"],[0.4,\"#fde0ef\"],[0.5,\"#f7f7f7\"],[0.6,\"#e6f5d0\"],[0.7,\"#b8e186\"],[0.8,\"#7fbc41\"],[0.9,\"#4d9221\"],[1,\"#276419\"]],\"sequential\":[[0.0,\"#0d0887\"],[0.1111111111111111,\"#46039f\"],[0.2222222222222222,\"#7201a8\"],[0.3333333333333333,\"#9c179e\"],[0.4444444444444444,\"#bd3786\"],[0.5555555555555556,\"#d8576b\"],[0.6666666666666666,\"#ed7953\"],[0.7777777777777778,\"#fb9f3a\"],[0.8888888888888888,\"#fdca26\"],[1.0,\"#f0f921\"]],\"sequentialminus\":[[0.0,\"#0d0887\"],[0.1111111111111111,\"#46039f\"],[0.2222222222222222,\"#7201a8\"],[0.3333333333333333,\"#9c179e\"],[0.4444444444444444,\"#bd3786\"],[0.5555555555555556,\"#d8576b\"],[0.6666666666666666,\"#ed7953\"],[0.7777777777777778,\"#fb9f3a\"],[0.8888888888888888,\"#fdca26\"],[1.0,\"#f0f921\"]]},\"colorway\":[\"#636efa\",\"#EF553B\",\"#00cc96\",\"#ab63fa\",\"#FFA15A\",\"#19d3f3\",\"#FF6692\",\"#B6E880\",\"#FF97FF\",\"#FECB52\"],\"font\":{\"color\":\"#2a3f5f\"},\"geo\":{\"bgcolor\":\"white\",\"lakecolor\":\"white\",\"landcolor\":\"#E5ECF6\",\"showlakes\":true,\"showland\":true,\"subunitcolor\":\"white\"},\"hoverlabel\":{\"align\":\"left\"},\"hovermode\":\"closest\",\"mapbox\":{\"style\":\"light\"},\"paper_bgcolor\":\"white\",\"plot_bgcolor\":\"#E5ECF6\",\"polar\":{\"angularaxis\":{\"gridcolor\":\"white\",\"linecolor\":\"white\",\"ticks\":\"\"},\"bgcolor\":\"#E5ECF6\",\"radialaxis\":{\"gridcolor\":\"white\",\"linecolor\":\"white\",\"ticks\":\"\"}},\"scene\":{\"xaxis\":{\"backgroundcolor\":\"#E5ECF6\",\"gridcolor\":\"white\",\"gridwidth\":2,\"linecolor\":\"white\",\"showbackground\":true,\"ticks\":\"\",\"zerolinecolor\":\"white\"},\"yaxis\":{\"backgroundcolor\":\"#E5ECF6\",\"gridcolor\":\"white\",\"gridwidth\":2,\"linecolor\":\"white\",\"showbackground\":true,\"ticks\":\"\",\"zerolinecolor\":\"white\"},\"zaxis\":{\"backgroundcolor\":\"#E5ECF6\",\"gridcolor\":\"white\",\"gridwidth\":2,\"linecolor\":\"white\",\"showbackground\":true,\"ticks\":\"\",\"zerolinecolor\":\"white\"}},\"shapedefaults\":{\"line\":{\"color\":\"#2a3f5f\"}},\"ternary\":{\"aaxis\":{\"gridcolor\":\"white\",\"linecolor\":\"white\",\"ticks\":\"\"},\"baxis\":{\"gridcolor\":\"white\",\"linecolor\":\"white\",\"ticks\":\"\"},\"bgcolor\":\"#E5ECF6\",\"caxis\":{\"gridcolor\":\"white\",\"linecolor\":\"white\",\"ticks\":\"\"}},\"title\":{\"x\":0.05},\"xaxis\":{\"automargin\":true,\"gridcolor\":\"white\",\"linecolor\":\"white\",\"ticks\":\"\",\"title\":{\"standoff\":15},\"zerolinecolor\":\"white\",\"zerolinewidth\":2},\"yaxis\":{\"automargin\":true,\"gridcolor\":\"white\",\"linecolor\":\"white\",\"ticks\":\"\",\"title\":{\"standoff\":15},\"zerolinecolor\":\"white\",\"zerolinewidth\":2}}},\"title\":{\"font\":{\"color\":\"#4D5663\"}},\"xaxis\":{\"gridcolor\":\"#E1E5ED\",\"showgrid\":true,\"tickfont\":{\"color\":\"#4D5663\"},\"title\":{\"font\":{\"color\":\"#4D5663\"},\"text\":\"\"},\"zerolinecolor\":\"#E1E5ED\"},\"yaxis\":{\"gridcolor\":\"#E1E5ED\",\"showgrid\":true,\"tickfont\":{\"color\":\"#4D5663\"},\"title\":{\"font\":{\"color\":\"#4D5663\"},\"text\":\"\"},\"zerolinecolor\":\"#E1E5ED\"}},                        {\"showLink\": true, \"linkText\": \"Export to plot.ly\", \"plotlyServerURL\": \"https://plot.ly\", \"responsive\": true}                    ).then(function(){\n",
       "                            \n",
       "var gd = document.getElementById('5d43e73b-743b-43c7-ac28-48538312ddec');\n",
       "var x = new MutationObserver(function (mutations, observer) {{\n",
       "        var display = window.getComputedStyle(gd).display;\n",
       "        if (!display || display === 'none') {{\n",
       "            console.log([gd, 'removed!']);\n",
       "            Plotly.purge(gd);\n",
       "            observer.disconnect();\n",
       "        }}\n",
       "}});\n",
       "\n",
       "// Listen for the removal of the full notebook cells\n",
       "var notebookContainer = gd.closest('#notebook-container');\n",
       "if (notebookContainer) {{\n",
       "    x.observe(notebookContainer, {childList: true});\n",
       "}}\n",
       "\n",
       "// Listen for the clearing of the current output cell\n",
       "var outputEl = gd.closest('.output');\n",
       "if (outputEl) {{\n",
       "    x.observe(outputEl, {childList: true});\n",
       "}}\n",
       "\n",
       "                        })                };                });            </script>        </div>"
      ]
     },
     "metadata": {},
     "output_type": "display_data"
    }
   ],
   "source": [
    "df.iplot(kind='bubble',x='A',y='B',size='C')"
   ]
  },
  {
   "cell_type": "markdown",
   "metadata": {},
   "source": [
    "## scatter_matrix()\n",
    "\n",
    "Similar to sns.pairplot()"
   ]
  },
  {
   "cell_type": "code",
   "execution_count": 16,
   "metadata": {
    "collapsed": false,
    "jupyter": {
     "outputs_hidden": false
    }
   },
   "outputs": [
    {
     "data": {
      "application/vnd.plotly.v1+json": {
       "config": {
        "linkText": "Export to plot.ly",
        "plotlyServerURL": "https://plot.ly",
        "showLink": true
       },
       "data": [
        {
         "histfunc": "count",
         "histnorm": "",
         "marker": {
          "color": "rgba(255, 153, 51, 1.0)",
          "line": {
           "color": "#4D5663",
           "width": 1.3
          }
         },
         "name": "A",
         "nbinsx": 10,
         "opacity": 0.8,
         "orientation": "v",
         "type": "histogram",
         "x": [
          -0.8517614455883655,
          -0.04342189052762476,
          -0.5212214967722162,
          0.3463107666807025,
          -0.745881714063798,
          -0.30058773176849457,
          -2.294340311312299,
          -0.6512596659917415,
          0.506280440778242,
          -0.009690230605172254,
          0.6878141235775956,
          0.9626477777248147,
          1.9166904602701855,
          -0.45669843310114844,
          -1.17050493216569,
          2.2448005418810375,
          -0.28437845271142315,
          2.20013599919316,
          -1.1618106024664825,
          -0.8567423458194338,
          -1.0208832664798144,
          0.5703772004588231,
          0.9500450320973882,
          -0.6157420152530569,
          -0.7506656628682755,
          -0.16251365544450222,
          -0.6594437150281366,
          -0.9953798842138176,
          -1.0214733410454175,
          0.9285981310725163,
          0.33397810418350543,
          2.004283613512989,
          -1.0553236237125618,
          2.2850752156538063,
          -1.3753565992764296,
          -0.16501944321362802,
          0.5859344727051908,
          -0.18337137906315976,
          0.5932397316914628,
          -1.0418591959561794,
          1.7492129420611109,
          -0.5817937909383222,
          1.2316994838318762,
          0.9294052760388295,
          0.3520482281449861,
          0.7995560104582256,
          -0.41303009169552846,
          0.6949404983860864,
          1.5221943621246272,
          0.9258134979345521,
          -0.9730478801948261,
          -0.6262233648414084,
          -0.7063907512266209,
          -0.5577707713737803,
          -1.115285461836506,
          0.14168470522696505,
          -0.5008846735922116,
          -2.132915473280724,
          -0.4274968629044933,
          -1.3049965129181547,
          0.1255639710172537,
          -0.5779084871828467,
          -2.3440688331691595,
          -0.9404043092856896,
          1.0113599002670215,
          -1.1581293656750085,
          -0.3209275331612879,
          -0.26558229431764846,
          0.5598700845574042,
          0.6541742521756773,
          -0.5044763013189157,
          1.2664555045492127,
          -0.7708413334932498,
          0.7605925642066997,
          -1.3641341420112059,
          -0.7014556822610499,
          0.11434435077903846,
          0.9554038286070254,
          -0.570544304958875,
          -1.073236016265232,
          -0.16185980233727848,
          -0.15574260103122203,
          0.009923580756196683,
          0.7915328220783816,
          -1.936094840968455,
          -0.08462248253141151,
          0.6989879597069288,
          -0.5783664463035025,
          0.29535472856846945,
          -0.9236655704169129,
          -2.0291032054275138,
          -0.34867755292168895,
          -0.8556589825027233,
          0.45736269533464113,
          1.6827814465839737,
          0.017887806579571335,
          0.7430841354778721,
          1.0473851610215101,
          -0.8759282168181415,
          0.7612861204776716
         ],
         "xaxis": "x",
         "yaxis": "y"
        },
        {
         "line": {
          "color": "rgba(128, 128, 128, 1.0)",
          "dash": "solid",
          "shape": "linear",
          "width": 1.3
         },
         "marker": {
          "size": 2,
          "symbol": "circle"
         },
         "mode": "markers",
         "name": "A",
         "text": "",
         "type": "scatter",
         "x": [
          -1.2411062397873414,
          0.02807914310972193,
          0.31936991465874937,
          -0.936624080293878,
          -2.0397357953994755,
          -1.2961599561491113,
          -2.4774472395187512,
          0.09931069506463953,
          0.26552531364527115,
          0.9335464940691652,
          0.8986794079209267,
          0.29622631233968777,
          0.6437623937325981,
          1.9277184697441778,
          -0.7036554347701831,
          0.2500502636911673,
          1.2350021110504927,
          1.0237531453705104,
          -0.6632947884834026,
          0.9868176338319913,
          1.3453311524356033,
          0.24952513249963243,
          -0.7082905967465567,
          1.2769871222507228,
          -1.9118975786051817,
          -0.8873715742413686,
          1.5378638040470454,
          -0.10710943967908983,
          0.7845777905330139,
          0.8270199278529797,
          0.41947638614534927,
          -0.6103461037142758,
          1.2832756709970892,
          -0.11416461232664675,
          -0.7392920699114925,
          -1.4637285693759212,
          -0.4677850468066235,
          -0.806834032956265,
          -0.3514224740201551,
          -0.08759108947064012,
          1.9604429088767352,
          -1.539498137166316,
          -0.7589306600245808,
          -1.3873313785163255,
          1.12307512963267,
          -1.0874744042664137,
          0.729226021155078,
          0.4351358751294404,
          -1.3587969148637427,
          1.6140817210918543,
          1.2660276312562755,
          -0.8082257649351985,
          0.69704454733331,
          0.4152703294264582,
          0.9034585114511574,
          -0.05924854849022004,
          2.0226182152394614,
          -0.07841380341378705,
          -0.3386092825470693,
          1.4156155845223164,
          -1.9797346660137547,
          -1.841984115363568,
          -0.5154841724459465,
          0.8939062610383636,
          -0.3489922837461976,
          -0.677196875864426,
          -1.0620264960449346,
          -1.1503882870014204,
          0.0042260410358588435,
          -0.5620865442747135,
          0.4115443926705976,
          0.7153717423546805,
          -1.5459819291841044,
          1.3252812663525808,
          0.7538124900180974,
          0.8547986901890187,
          -0.2795176870933874,
          0.763745158149344,
          0.2111943276448071,
          -0.7972437348540449,
          -0.393452740038313,
          0.9953585944717301,
          0.9534378275081842,
          0.052218086558350224,
          1.3181683198717666,
          0.2754614898008423,
          -0.8393112238396853,
          1.3546910993944914,
          0.4372159696747173,
          0.9136047664976019,
          1.443219930139496,
          0.046487522231139576,
          0.99988574453509,
          -0.0042272118759153045,
          -0.5630943395117491,
          -2.124339506586154,
          -0.22020744078220653,
          1.0475830922547424,
          0.14931168810186324,
          0.025470618198708817
         ],
         "xaxis": "x2",
         "y": [
          -0.8517614455883655,
          -0.04342189052762476,
          -0.5212214967722162,
          0.3463107666807025,
          -0.745881714063798,
          -0.30058773176849457,
          -2.294340311312299,
          -0.6512596659917415,
          0.506280440778242,
          -0.009690230605172254,
          0.6878141235775956,
          0.9626477777248147,
          1.9166904602701855,
          -0.45669843310114844,
          -1.17050493216569,
          2.2448005418810375,
          -0.28437845271142315,
          2.20013599919316,
          -1.1618106024664825,
          -0.8567423458194338,
          -1.0208832664798144,
          0.5703772004588231,
          0.9500450320973882,
          -0.6157420152530569,
          -0.7506656628682755,
          -0.16251365544450222,
          -0.6594437150281366,
          -0.9953798842138176,
          -1.0214733410454175,
          0.9285981310725163,
          0.33397810418350543,
          2.004283613512989,
          -1.0553236237125618,
          2.2850752156538063,
          -1.3753565992764296,
          -0.16501944321362802,
          0.5859344727051908,
          -0.18337137906315976,
          0.5932397316914628,
          -1.0418591959561794,
          1.7492129420611109,
          -0.5817937909383222,
          1.2316994838318762,
          0.9294052760388295,
          0.3520482281449861,
          0.7995560104582256,
          -0.41303009169552846,
          0.6949404983860864,
          1.5221943621246272,
          0.9258134979345521,
          -0.9730478801948261,
          -0.6262233648414084,
          -0.7063907512266209,
          -0.5577707713737803,
          -1.115285461836506,
          0.14168470522696505,
          -0.5008846735922116,
          -2.132915473280724,
          -0.4274968629044933,
          -1.3049965129181547,
          0.1255639710172537,
          -0.5779084871828467,
          -2.3440688331691595,
          -0.9404043092856896,
          1.0113599002670215,
          -1.1581293656750085,
          -0.3209275331612879,
          -0.26558229431764846,
          0.5598700845574042,
          0.6541742521756773,
          -0.5044763013189157,
          1.2664555045492127,
          -0.7708413334932498,
          0.7605925642066997,
          -1.3641341420112059,
          -0.7014556822610499,
          0.11434435077903846,
          0.9554038286070254,
          -0.570544304958875,
          -1.073236016265232,
          -0.16185980233727848,
          -0.15574260103122203,
          0.009923580756196683,
          0.7915328220783816,
          -1.936094840968455,
          -0.08462248253141151,
          0.6989879597069288,
          -0.5783664463035025,
          0.29535472856846945,
          -0.9236655704169129,
          -2.0291032054275138,
          -0.34867755292168895,
          -0.8556589825027233,
          0.45736269533464113,
          1.6827814465839737,
          0.017887806579571335,
          0.7430841354778721,
          1.0473851610215101,
          -0.8759282168181415,
          0.7612861204776716
         ],
         "yaxis": "y2"
        },
        {
         "line": {
          "color": "rgba(128, 128, 128, 1.0)",
          "dash": "solid",
          "shape": "linear",
          "width": 1.3
         },
         "marker": {
          "size": 2,
          "symbol": "circle"
         },
         "mode": "markers",
         "name": "A",
         "text": "",
         "type": "scatter",
         "x": [
          1.99074868674031,
          -0.00465708454709553,
          -0.5755445261127081,
          0.5382443872435205,
          0.1709426834321075,
          0.4329753224811685,
          -0.5651554806569195,
          -0.5382260512861466,
          0.04847066972062829,
          0.08806423847999274,
          -0.79606960465105,
          0.8780084031924762,
          -1.3235085256898664,
          0.7248567525421737,
          -1.5146950623954112,
          -0.5665899094172965,
          1.019728716322084,
          0.6388293181860352,
          1.250817021100408,
          -1.4096077271209306,
          -0.8525157696226018,
          -0.4899635144904453,
          0.13751888465810286,
          0.14718455041977344,
          1.834529039436641,
          0.9084107963171624,
          0.5895130764523258,
          -0.038309296558468424,
          -0.4388820852707616,
          1.4627208308293214,
          1.1776910929138449,
          0.5157145320795943,
          -1.9609777265208228,
          -0.25592226927388523,
          3.1678247950042633,
          0.6846831368718976,
          -0.5005789641863538,
          1.3976315892846005,
          -1.4207617413874387,
          0.7648460769609398,
          0.1365811035395829,
          -1.7804267125521187,
          -1.5838621251058371,
          0.42779170807600814,
          -0.18986991343828116,
          0.29815222688000004,
          0.13371404643256948,
          0.8922931377279383,
          -1.846555638787027,
          -0.056493298038888876,
          1.7527122256491043,
          -0.7124329358839242,
          -0.9841181433991666,
          0.8779756329966848,
          0.8654510077229993,
          1.1968004459990302,
          -1.1250083025882454,
          -1.5258375755988967,
          -0.501217116263024,
          -0.053820139446658005,
          -1.4692798385105381,
          -0.5880506546292816,
          -0.7431529181334172,
          -0.19304032205527322,
          -0.47451713767621806,
          -2.1088297903073228,
          2.0091149763178815,
          -0.24549609142478476,
          -1.9436855874491659,
          -1.0485915236308072,
          0.16613915039287627,
          0.8985420514860681,
          -0.3415662591350445,
          -0.4290461741748661,
          -0.8278170574841253,
          -0.6650263799092747,
          -1.495577624198766,
          1.1527935477724358,
          -0.7222492854569627,
          0.9234615143051651,
          0.03046862993085494,
          1.1288922392026846,
          -0.9692935077617421,
          -0.046178203334927136,
          -0.5109769793720991,
          -0.2521226240125022,
          1.4868369585876753,
          0.7688646976945722,
          0.0633897069989844,
          1.8859575140986533,
          0.286565663426963,
          -0.08974188217200231,
          1.5781239564426428,
          0.06176288122267352,
          -0.4371343104556174,
          -0.7675835389156066,
          -0.072699091327509,
          -0.9378252040684169,
          0.2292594668542032,
          -0.10819490478797017
         ],
         "xaxis": "x3",
         "y": [
          -0.8517614455883655,
          -0.04342189052762476,
          -0.5212214967722162,
          0.3463107666807025,
          -0.745881714063798,
          -0.30058773176849457,
          -2.294340311312299,
          -0.6512596659917415,
          0.506280440778242,
          -0.009690230605172254,
          0.6878141235775956,
          0.9626477777248147,
          1.9166904602701855,
          -0.45669843310114844,
          -1.17050493216569,
          2.2448005418810375,
          -0.28437845271142315,
          2.20013599919316,
          -1.1618106024664825,
          -0.8567423458194338,
          -1.0208832664798144,
          0.5703772004588231,
          0.9500450320973882,
          -0.6157420152530569,
          -0.7506656628682755,
          -0.16251365544450222,
          -0.6594437150281366,
          -0.9953798842138176,
          -1.0214733410454175,
          0.9285981310725163,
          0.33397810418350543,
          2.004283613512989,
          -1.0553236237125618,
          2.2850752156538063,
          -1.3753565992764296,
          -0.16501944321362802,
          0.5859344727051908,
          -0.18337137906315976,
          0.5932397316914628,
          -1.0418591959561794,
          1.7492129420611109,
          -0.5817937909383222,
          1.2316994838318762,
          0.9294052760388295,
          0.3520482281449861,
          0.7995560104582256,
          -0.41303009169552846,
          0.6949404983860864,
          1.5221943621246272,
          0.9258134979345521,
          -0.9730478801948261,
          -0.6262233648414084,
          -0.7063907512266209,
          -0.5577707713737803,
          -1.115285461836506,
          0.14168470522696505,
          -0.5008846735922116,
          -2.132915473280724,
          -0.4274968629044933,
          -1.3049965129181547,
          0.1255639710172537,
          -0.5779084871828467,
          -2.3440688331691595,
          -0.9404043092856896,
          1.0113599002670215,
          -1.1581293656750085,
          -0.3209275331612879,
          -0.26558229431764846,
          0.5598700845574042,
          0.6541742521756773,
          -0.5044763013189157,
          1.2664555045492127,
          -0.7708413334932498,
          0.7605925642066997,
          -1.3641341420112059,
          -0.7014556822610499,
          0.11434435077903846,
          0.9554038286070254,
          -0.570544304958875,
          -1.073236016265232,
          -0.16185980233727848,
          -0.15574260103122203,
          0.009923580756196683,
          0.7915328220783816,
          -1.936094840968455,
          -0.08462248253141151,
          0.6989879597069288,
          -0.5783664463035025,
          0.29535472856846945,
          -0.9236655704169129,
          -2.0291032054275138,
          -0.34867755292168895,
          -0.8556589825027233,
          0.45736269533464113,
          1.6827814465839737,
          0.017887806579571335,
          0.7430841354778721,
          1.0473851610215101,
          -0.8759282168181415,
          0.7612861204776716
         ],
         "yaxis": "y3"
        },
        {
         "line": {
          "color": "rgba(128, 128, 128, 1.0)",
          "dash": "solid",
          "shape": "linear",
          "width": 1.3
         },
         "marker": {
          "size": 2,
          "symbol": "circle"
         },
         "mode": "markers",
         "name": "A",
         "text": "",
         "type": "scatter",
         "x": [
          -0.9095280516273,
          -0.1900569063753824,
          0.2698374073735738,
          0.44794311046828933,
          0.6288764120114955,
          -0.06262118751111524,
          -0.26110849338128506,
          0.04603596881270804,
          0.5200144469049582,
          -0.2926155418755851,
          0.1510701746371853,
          -0.5877929182944712,
          0.08069558213353756,
          -0.9486654727999834,
          0.7384779219991,
          -0.06410591754527575,
          0.3548260165084111,
          0.9054277579689765,
          -0.06088091502475971,
          -0.9013312571843716,
          2.0972634759275595,
          1.4900101474091065,
          0.40261896097794214,
          -0.7867852691032597,
          -1.1118230564512712,
          1.5755924791406197,
          -0.26121813234467717,
          0.818713933783864,
          -1.8644115325025155,
          -0.27403192527081843,
          1.9576244718277251,
          -0.24605663623256627,
          -0.5123924847226448,
          0.23369135084072537,
          -0.7106808785710417,
          0.6689331481595072,
          1.1110575005073737,
          0.21581313152734466,
          -0.4438586289334656,
          0.1729837762538506,
          -1.7700587075000929,
          0.37143431574323865,
          0.013931457863850364,
          1.064527392567633,
          0.6774940958087046,
          -0.2712353808433596,
          0.6259480440257154,
          0.6094737251907064,
          -1.2716351983656191,
          -0.6962798871997286,
          -1.4955734251208237,
          -1.8834275522361492,
          0.11823678063751057,
          0.18823957275155215,
          0.13155936455322798,
          -1.6520989148959249,
          0.3184852609414845,
          -1.5155816087200382,
          0.265585097295708,
          -0.2028549510446965,
          -0.031449586442298214,
          0.8368611781097274,
          -0.9391191159328348,
          1.2681019891243461,
          1.4441230757810974,
          0.26438228422400245,
          0.697102195169398,
          -0.1922187018955505,
          -0.5192173064225332,
          -1.1883600624748492,
          -0.18156463296776557,
          0.18444151620027213,
          0.7913705740592086,
          0.3246168451101668,
          -0.8099255565615424,
          1.0776555411206108,
          1.0847851664599493,
          1.239370886496258,
          0.9125234655662715,
          -0.19320405393911116,
          0.18672164796475887,
          -1.026260378037688,
          0.08214481737685381,
          -0.0657676414163017,
          0.028634564346487694,
          -1.160917571285121,
          1.0580203509717026,
          0.431179003636367,
          -2.101168181892536,
          -0.20401401031325544,
          0.8297268745308249,
          -0.024495455035140976,
          0.8013374475472247,
          -1.8888564911648995,
          1.258441521160854,
          0.08441207009120676,
          -1.3984125482489753,
          -0.5614214623572323,
          0.8069062068920521,
          1.7134747999012199
         ],
         "xaxis": "x4",
         "y": [
          -0.8517614455883655,
          -0.04342189052762476,
          -0.5212214967722162,
          0.3463107666807025,
          -0.745881714063798,
          -0.30058773176849457,
          -2.294340311312299,
          -0.6512596659917415,
          0.506280440778242,
          -0.009690230605172254,
          0.6878141235775956,
          0.9626477777248147,
          1.9166904602701855,
          -0.45669843310114844,
          -1.17050493216569,
          2.2448005418810375,
          -0.28437845271142315,
          2.20013599919316,
          -1.1618106024664825,
          -0.8567423458194338,
          -1.0208832664798144,
          0.5703772004588231,
          0.9500450320973882,
          -0.6157420152530569,
          -0.7506656628682755,
          -0.16251365544450222,
          -0.6594437150281366,
          -0.9953798842138176,
          -1.0214733410454175,
          0.9285981310725163,
          0.33397810418350543,
          2.004283613512989,
          -1.0553236237125618,
          2.2850752156538063,
          -1.3753565992764296,
          -0.16501944321362802,
          0.5859344727051908,
          -0.18337137906315976,
          0.5932397316914628,
          -1.0418591959561794,
          1.7492129420611109,
          -0.5817937909383222,
          1.2316994838318762,
          0.9294052760388295,
          0.3520482281449861,
          0.7995560104582256,
          -0.41303009169552846,
          0.6949404983860864,
          1.5221943621246272,
          0.9258134979345521,
          -0.9730478801948261,
          -0.6262233648414084,
          -0.7063907512266209,
          -0.5577707713737803,
          -1.115285461836506,
          0.14168470522696505,
          -0.5008846735922116,
          -2.132915473280724,
          -0.4274968629044933,
          -1.3049965129181547,
          0.1255639710172537,
          -0.5779084871828467,
          -2.3440688331691595,
          -0.9404043092856896,
          1.0113599002670215,
          -1.1581293656750085,
          -0.3209275331612879,
          -0.26558229431764846,
          0.5598700845574042,
          0.6541742521756773,
          -0.5044763013189157,
          1.2664555045492127,
          -0.7708413334932498,
          0.7605925642066997,
          -1.3641341420112059,
          -0.7014556822610499,
          0.11434435077903846,
          0.9554038286070254,
          -0.570544304958875,
          -1.073236016265232,
          -0.16185980233727848,
          -0.15574260103122203,
          0.009923580756196683,
          0.7915328220783816,
          -1.936094840968455,
          -0.08462248253141151,
          0.6989879597069288,
          -0.5783664463035025,
          0.29535472856846945,
          -0.9236655704169129,
          -2.0291032054275138,
          -0.34867755292168895,
          -0.8556589825027233,
          0.45736269533464113,
          1.6827814465839737,
          0.017887806579571335,
          0.7430841354778721,
          1.0473851610215101,
          -0.8759282168181415,
          0.7612861204776716
         ],
         "yaxis": "y4"
        },
        {
         "line": {
          "color": "rgba(128, 128, 128, 1.0)",
          "dash": "solid",
          "shape": "linear",
          "width": 1.3
         },
         "marker": {
          "size": 2,
          "symbol": "circle"
         },
         "mode": "markers",
         "name": "B",
         "text": "",
         "type": "scatter",
         "x": [
          -0.8517614455883655,
          -0.04342189052762476,
          -0.5212214967722162,
          0.3463107666807025,
          -0.745881714063798,
          -0.30058773176849457,
          -2.294340311312299,
          -0.6512596659917415,
          0.506280440778242,
          -0.009690230605172254,
          0.6878141235775956,
          0.9626477777248147,
          1.9166904602701855,
          -0.45669843310114844,
          -1.17050493216569,
          2.2448005418810375,
          -0.28437845271142315,
          2.20013599919316,
          -1.1618106024664825,
          -0.8567423458194338,
          -1.0208832664798144,
          0.5703772004588231,
          0.9500450320973882,
          -0.6157420152530569,
          -0.7506656628682755,
          -0.16251365544450222,
          -0.6594437150281366,
          -0.9953798842138176,
          -1.0214733410454175,
          0.9285981310725163,
          0.33397810418350543,
          2.004283613512989,
          -1.0553236237125618,
          2.2850752156538063,
          -1.3753565992764296,
          -0.16501944321362802,
          0.5859344727051908,
          -0.18337137906315976,
          0.5932397316914628,
          -1.0418591959561794,
          1.7492129420611109,
          -0.5817937909383222,
          1.2316994838318762,
          0.9294052760388295,
          0.3520482281449861,
          0.7995560104582256,
          -0.41303009169552846,
          0.6949404983860864,
          1.5221943621246272,
          0.9258134979345521,
          -0.9730478801948261,
          -0.6262233648414084,
          -0.7063907512266209,
          -0.5577707713737803,
          -1.115285461836506,
          0.14168470522696505,
          -0.5008846735922116,
          -2.132915473280724,
          -0.4274968629044933,
          -1.3049965129181547,
          0.1255639710172537,
          -0.5779084871828467,
          -2.3440688331691595,
          -0.9404043092856896,
          1.0113599002670215,
          -1.1581293656750085,
          -0.3209275331612879,
          -0.26558229431764846,
          0.5598700845574042,
          0.6541742521756773,
          -0.5044763013189157,
          1.2664555045492127,
          -0.7708413334932498,
          0.7605925642066997,
          -1.3641341420112059,
          -0.7014556822610499,
          0.11434435077903846,
          0.9554038286070254,
          -0.570544304958875,
          -1.073236016265232,
          -0.16185980233727848,
          -0.15574260103122203,
          0.009923580756196683,
          0.7915328220783816,
          -1.936094840968455,
          -0.08462248253141151,
          0.6989879597069288,
          -0.5783664463035025,
          0.29535472856846945,
          -0.9236655704169129,
          -2.0291032054275138,
          -0.34867755292168895,
          -0.8556589825027233,
          0.45736269533464113,
          1.6827814465839737,
          0.017887806579571335,
          0.7430841354778721,
          1.0473851610215101,
          -0.8759282168181415,
          0.7612861204776716
         ],
         "xaxis": "x5",
         "y": [
          -1.2411062397873414,
          0.02807914310972193,
          0.31936991465874937,
          -0.936624080293878,
          -2.0397357953994755,
          -1.2961599561491113,
          -2.4774472395187512,
          0.09931069506463953,
          0.26552531364527115,
          0.9335464940691652,
          0.8986794079209267,
          0.29622631233968777,
          0.6437623937325981,
          1.9277184697441778,
          -0.7036554347701831,
          0.2500502636911673,
          1.2350021110504927,
          1.0237531453705104,
          -0.6632947884834026,
          0.9868176338319913,
          1.3453311524356033,
          0.24952513249963243,
          -0.7082905967465567,
          1.2769871222507228,
          -1.9118975786051817,
          -0.8873715742413686,
          1.5378638040470454,
          -0.10710943967908983,
          0.7845777905330139,
          0.8270199278529797,
          0.41947638614534927,
          -0.6103461037142758,
          1.2832756709970892,
          -0.11416461232664675,
          -0.7392920699114925,
          -1.4637285693759212,
          -0.4677850468066235,
          -0.806834032956265,
          -0.3514224740201551,
          -0.08759108947064012,
          1.9604429088767352,
          -1.539498137166316,
          -0.7589306600245808,
          -1.3873313785163255,
          1.12307512963267,
          -1.0874744042664137,
          0.729226021155078,
          0.4351358751294404,
          -1.3587969148637427,
          1.6140817210918543,
          1.2660276312562755,
          -0.8082257649351985,
          0.69704454733331,
          0.4152703294264582,
          0.9034585114511574,
          -0.05924854849022004,
          2.0226182152394614,
          -0.07841380341378705,
          -0.3386092825470693,
          1.4156155845223164,
          -1.9797346660137547,
          -1.841984115363568,
          -0.5154841724459465,
          0.8939062610383636,
          -0.3489922837461976,
          -0.677196875864426,
          -1.0620264960449346,
          -1.1503882870014204,
          0.0042260410358588435,
          -0.5620865442747135,
          0.4115443926705976,
          0.7153717423546805,
          -1.5459819291841044,
          1.3252812663525808,
          0.7538124900180974,
          0.8547986901890187,
          -0.2795176870933874,
          0.763745158149344,
          0.2111943276448071,
          -0.7972437348540449,
          -0.393452740038313,
          0.9953585944717301,
          0.9534378275081842,
          0.052218086558350224,
          1.3181683198717666,
          0.2754614898008423,
          -0.8393112238396853,
          1.3546910993944914,
          0.4372159696747173,
          0.9136047664976019,
          1.443219930139496,
          0.046487522231139576,
          0.99988574453509,
          -0.0042272118759153045,
          -0.5630943395117491,
          -2.124339506586154,
          -0.22020744078220653,
          1.0475830922547424,
          0.14931168810186324,
          0.025470618198708817
         ],
         "yaxis": "y5"
        },
        {
         "histfunc": "count",
         "histnorm": "",
         "marker": {
          "color": "rgba(55, 128, 191, 1.0)",
          "line": {
           "color": "#4D5663",
           "width": 1.3
          }
         },
         "name": "B",
         "nbinsx": 10,
         "opacity": 0.8,
         "orientation": "v",
         "type": "histogram",
         "x": [
          -1.2411062397873414,
          0.02807914310972193,
          0.31936991465874937,
          -0.936624080293878,
          -2.0397357953994755,
          -1.2961599561491113,
          -2.4774472395187512,
          0.09931069506463953,
          0.26552531364527115,
          0.9335464940691652,
          0.8986794079209267,
          0.29622631233968777,
          0.6437623937325981,
          1.9277184697441778,
          -0.7036554347701831,
          0.2500502636911673,
          1.2350021110504927,
          1.0237531453705104,
          -0.6632947884834026,
          0.9868176338319913,
          1.3453311524356033,
          0.24952513249963243,
          -0.7082905967465567,
          1.2769871222507228,
          -1.9118975786051817,
          -0.8873715742413686,
          1.5378638040470454,
          -0.10710943967908983,
          0.7845777905330139,
          0.8270199278529797,
          0.41947638614534927,
          -0.6103461037142758,
          1.2832756709970892,
          -0.11416461232664675,
          -0.7392920699114925,
          -1.4637285693759212,
          -0.4677850468066235,
          -0.806834032956265,
          -0.3514224740201551,
          -0.08759108947064012,
          1.9604429088767352,
          -1.539498137166316,
          -0.7589306600245808,
          -1.3873313785163255,
          1.12307512963267,
          -1.0874744042664137,
          0.729226021155078,
          0.4351358751294404,
          -1.3587969148637427,
          1.6140817210918543,
          1.2660276312562755,
          -0.8082257649351985,
          0.69704454733331,
          0.4152703294264582,
          0.9034585114511574,
          -0.05924854849022004,
          2.0226182152394614,
          -0.07841380341378705,
          -0.3386092825470693,
          1.4156155845223164,
          -1.9797346660137547,
          -1.841984115363568,
          -0.5154841724459465,
          0.8939062610383636,
          -0.3489922837461976,
          -0.677196875864426,
          -1.0620264960449346,
          -1.1503882870014204,
          0.0042260410358588435,
          -0.5620865442747135,
          0.4115443926705976,
          0.7153717423546805,
          -1.5459819291841044,
          1.3252812663525808,
          0.7538124900180974,
          0.8547986901890187,
          -0.2795176870933874,
          0.763745158149344,
          0.2111943276448071,
          -0.7972437348540449,
          -0.393452740038313,
          0.9953585944717301,
          0.9534378275081842,
          0.052218086558350224,
          1.3181683198717666,
          0.2754614898008423,
          -0.8393112238396853,
          1.3546910993944914,
          0.4372159696747173,
          0.9136047664976019,
          1.443219930139496,
          0.046487522231139576,
          0.99988574453509,
          -0.0042272118759153045,
          -0.5630943395117491,
          -2.124339506586154,
          -0.22020744078220653,
          1.0475830922547424,
          0.14931168810186324,
          0.025470618198708817
         ],
         "xaxis": "x6",
         "yaxis": "y6"
        },
        {
         "line": {
          "color": "rgba(128, 128, 128, 1.0)",
          "dash": "solid",
          "shape": "linear",
          "width": 1.3
         },
         "marker": {
          "size": 2,
          "symbol": "circle"
         },
         "mode": "markers",
         "name": "B",
         "text": "",
         "type": "scatter",
         "x": [
          1.99074868674031,
          -0.00465708454709553,
          -0.5755445261127081,
          0.5382443872435205,
          0.1709426834321075,
          0.4329753224811685,
          -0.5651554806569195,
          -0.5382260512861466,
          0.04847066972062829,
          0.08806423847999274,
          -0.79606960465105,
          0.8780084031924762,
          -1.3235085256898664,
          0.7248567525421737,
          -1.5146950623954112,
          -0.5665899094172965,
          1.019728716322084,
          0.6388293181860352,
          1.250817021100408,
          -1.4096077271209306,
          -0.8525157696226018,
          -0.4899635144904453,
          0.13751888465810286,
          0.14718455041977344,
          1.834529039436641,
          0.9084107963171624,
          0.5895130764523258,
          -0.038309296558468424,
          -0.4388820852707616,
          1.4627208308293214,
          1.1776910929138449,
          0.5157145320795943,
          -1.9609777265208228,
          -0.25592226927388523,
          3.1678247950042633,
          0.6846831368718976,
          -0.5005789641863538,
          1.3976315892846005,
          -1.4207617413874387,
          0.7648460769609398,
          0.1365811035395829,
          -1.7804267125521187,
          -1.5838621251058371,
          0.42779170807600814,
          -0.18986991343828116,
          0.29815222688000004,
          0.13371404643256948,
          0.8922931377279383,
          -1.846555638787027,
          -0.056493298038888876,
          1.7527122256491043,
          -0.7124329358839242,
          -0.9841181433991666,
          0.8779756329966848,
          0.8654510077229993,
          1.1968004459990302,
          -1.1250083025882454,
          -1.5258375755988967,
          -0.501217116263024,
          -0.053820139446658005,
          -1.4692798385105381,
          -0.5880506546292816,
          -0.7431529181334172,
          -0.19304032205527322,
          -0.47451713767621806,
          -2.1088297903073228,
          2.0091149763178815,
          -0.24549609142478476,
          -1.9436855874491659,
          -1.0485915236308072,
          0.16613915039287627,
          0.8985420514860681,
          -0.3415662591350445,
          -0.4290461741748661,
          -0.8278170574841253,
          -0.6650263799092747,
          -1.495577624198766,
          1.1527935477724358,
          -0.7222492854569627,
          0.9234615143051651,
          0.03046862993085494,
          1.1288922392026846,
          -0.9692935077617421,
          -0.046178203334927136,
          -0.5109769793720991,
          -0.2521226240125022,
          1.4868369585876753,
          0.7688646976945722,
          0.0633897069989844,
          1.8859575140986533,
          0.286565663426963,
          -0.08974188217200231,
          1.5781239564426428,
          0.06176288122267352,
          -0.4371343104556174,
          -0.7675835389156066,
          -0.072699091327509,
          -0.9378252040684169,
          0.2292594668542032,
          -0.10819490478797017
         ],
         "xaxis": "x7",
         "y": [
          -1.2411062397873414,
          0.02807914310972193,
          0.31936991465874937,
          -0.936624080293878,
          -2.0397357953994755,
          -1.2961599561491113,
          -2.4774472395187512,
          0.09931069506463953,
          0.26552531364527115,
          0.9335464940691652,
          0.8986794079209267,
          0.29622631233968777,
          0.6437623937325981,
          1.9277184697441778,
          -0.7036554347701831,
          0.2500502636911673,
          1.2350021110504927,
          1.0237531453705104,
          -0.6632947884834026,
          0.9868176338319913,
          1.3453311524356033,
          0.24952513249963243,
          -0.7082905967465567,
          1.2769871222507228,
          -1.9118975786051817,
          -0.8873715742413686,
          1.5378638040470454,
          -0.10710943967908983,
          0.7845777905330139,
          0.8270199278529797,
          0.41947638614534927,
          -0.6103461037142758,
          1.2832756709970892,
          -0.11416461232664675,
          -0.7392920699114925,
          -1.4637285693759212,
          -0.4677850468066235,
          -0.806834032956265,
          -0.3514224740201551,
          -0.08759108947064012,
          1.9604429088767352,
          -1.539498137166316,
          -0.7589306600245808,
          -1.3873313785163255,
          1.12307512963267,
          -1.0874744042664137,
          0.729226021155078,
          0.4351358751294404,
          -1.3587969148637427,
          1.6140817210918543,
          1.2660276312562755,
          -0.8082257649351985,
          0.69704454733331,
          0.4152703294264582,
          0.9034585114511574,
          -0.05924854849022004,
          2.0226182152394614,
          -0.07841380341378705,
          -0.3386092825470693,
          1.4156155845223164,
          -1.9797346660137547,
          -1.841984115363568,
          -0.5154841724459465,
          0.8939062610383636,
          -0.3489922837461976,
          -0.677196875864426,
          -1.0620264960449346,
          -1.1503882870014204,
          0.0042260410358588435,
          -0.5620865442747135,
          0.4115443926705976,
          0.7153717423546805,
          -1.5459819291841044,
          1.3252812663525808,
          0.7538124900180974,
          0.8547986901890187,
          -0.2795176870933874,
          0.763745158149344,
          0.2111943276448071,
          -0.7972437348540449,
          -0.393452740038313,
          0.9953585944717301,
          0.9534378275081842,
          0.052218086558350224,
          1.3181683198717666,
          0.2754614898008423,
          -0.8393112238396853,
          1.3546910993944914,
          0.4372159696747173,
          0.9136047664976019,
          1.443219930139496,
          0.046487522231139576,
          0.99988574453509,
          -0.0042272118759153045,
          -0.5630943395117491,
          -2.124339506586154,
          -0.22020744078220653,
          1.0475830922547424,
          0.14931168810186324,
          0.025470618198708817
         ],
         "yaxis": "y7"
        },
        {
         "line": {
          "color": "rgba(128, 128, 128, 1.0)",
          "dash": "solid",
          "shape": "linear",
          "width": 1.3
         },
         "marker": {
          "size": 2,
          "symbol": "circle"
         },
         "mode": "markers",
         "name": "B",
         "text": "",
         "type": "scatter",
         "x": [
          -0.9095280516273,
          -0.1900569063753824,
          0.2698374073735738,
          0.44794311046828933,
          0.6288764120114955,
          -0.06262118751111524,
          -0.26110849338128506,
          0.04603596881270804,
          0.5200144469049582,
          -0.2926155418755851,
          0.1510701746371853,
          -0.5877929182944712,
          0.08069558213353756,
          -0.9486654727999834,
          0.7384779219991,
          -0.06410591754527575,
          0.3548260165084111,
          0.9054277579689765,
          -0.06088091502475971,
          -0.9013312571843716,
          2.0972634759275595,
          1.4900101474091065,
          0.40261896097794214,
          -0.7867852691032597,
          -1.1118230564512712,
          1.5755924791406197,
          -0.26121813234467717,
          0.818713933783864,
          -1.8644115325025155,
          -0.27403192527081843,
          1.9576244718277251,
          -0.24605663623256627,
          -0.5123924847226448,
          0.23369135084072537,
          -0.7106808785710417,
          0.6689331481595072,
          1.1110575005073737,
          0.21581313152734466,
          -0.4438586289334656,
          0.1729837762538506,
          -1.7700587075000929,
          0.37143431574323865,
          0.013931457863850364,
          1.064527392567633,
          0.6774940958087046,
          -0.2712353808433596,
          0.6259480440257154,
          0.6094737251907064,
          -1.2716351983656191,
          -0.6962798871997286,
          -1.4955734251208237,
          -1.8834275522361492,
          0.11823678063751057,
          0.18823957275155215,
          0.13155936455322798,
          -1.6520989148959249,
          0.3184852609414845,
          -1.5155816087200382,
          0.265585097295708,
          -0.2028549510446965,
          -0.031449586442298214,
          0.8368611781097274,
          -0.9391191159328348,
          1.2681019891243461,
          1.4441230757810974,
          0.26438228422400245,
          0.697102195169398,
          -0.1922187018955505,
          -0.5192173064225332,
          -1.1883600624748492,
          -0.18156463296776557,
          0.18444151620027213,
          0.7913705740592086,
          0.3246168451101668,
          -0.8099255565615424,
          1.0776555411206108,
          1.0847851664599493,
          1.239370886496258,
          0.9125234655662715,
          -0.19320405393911116,
          0.18672164796475887,
          -1.026260378037688,
          0.08214481737685381,
          -0.0657676414163017,
          0.028634564346487694,
          -1.160917571285121,
          1.0580203509717026,
          0.431179003636367,
          -2.101168181892536,
          -0.20401401031325544,
          0.8297268745308249,
          -0.024495455035140976,
          0.8013374475472247,
          -1.8888564911648995,
          1.258441521160854,
          0.08441207009120676,
          -1.3984125482489753,
          -0.5614214623572323,
          0.8069062068920521,
          1.7134747999012199
         ],
         "xaxis": "x8",
         "y": [
          -1.2411062397873414,
          0.02807914310972193,
          0.31936991465874937,
          -0.936624080293878,
          -2.0397357953994755,
          -1.2961599561491113,
          -2.4774472395187512,
          0.09931069506463953,
          0.26552531364527115,
          0.9335464940691652,
          0.8986794079209267,
          0.29622631233968777,
          0.6437623937325981,
          1.9277184697441778,
          -0.7036554347701831,
          0.2500502636911673,
          1.2350021110504927,
          1.0237531453705104,
          -0.6632947884834026,
          0.9868176338319913,
          1.3453311524356033,
          0.24952513249963243,
          -0.7082905967465567,
          1.2769871222507228,
          -1.9118975786051817,
          -0.8873715742413686,
          1.5378638040470454,
          -0.10710943967908983,
          0.7845777905330139,
          0.8270199278529797,
          0.41947638614534927,
          -0.6103461037142758,
          1.2832756709970892,
          -0.11416461232664675,
          -0.7392920699114925,
          -1.4637285693759212,
          -0.4677850468066235,
          -0.806834032956265,
          -0.3514224740201551,
          -0.08759108947064012,
          1.9604429088767352,
          -1.539498137166316,
          -0.7589306600245808,
          -1.3873313785163255,
          1.12307512963267,
          -1.0874744042664137,
          0.729226021155078,
          0.4351358751294404,
          -1.3587969148637427,
          1.6140817210918543,
          1.2660276312562755,
          -0.8082257649351985,
          0.69704454733331,
          0.4152703294264582,
          0.9034585114511574,
          -0.05924854849022004,
          2.0226182152394614,
          -0.07841380341378705,
          -0.3386092825470693,
          1.4156155845223164,
          -1.9797346660137547,
          -1.841984115363568,
          -0.5154841724459465,
          0.8939062610383636,
          -0.3489922837461976,
          -0.677196875864426,
          -1.0620264960449346,
          -1.1503882870014204,
          0.0042260410358588435,
          -0.5620865442747135,
          0.4115443926705976,
          0.7153717423546805,
          -1.5459819291841044,
          1.3252812663525808,
          0.7538124900180974,
          0.8547986901890187,
          -0.2795176870933874,
          0.763745158149344,
          0.2111943276448071,
          -0.7972437348540449,
          -0.393452740038313,
          0.9953585944717301,
          0.9534378275081842,
          0.052218086558350224,
          1.3181683198717666,
          0.2754614898008423,
          -0.8393112238396853,
          1.3546910993944914,
          0.4372159696747173,
          0.9136047664976019,
          1.443219930139496,
          0.046487522231139576,
          0.99988574453509,
          -0.0042272118759153045,
          -0.5630943395117491,
          -2.124339506586154,
          -0.22020744078220653,
          1.0475830922547424,
          0.14931168810186324,
          0.025470618198708817
         ],
         "yaxis": "y8"
        },
        {
         "line": {
          "color": "rgba(128, 128, 128, 1.0)",
          "dash": "solid",
          "shape": "linear",
          "width": 1.3
         },
         "marker": {
          "size": 2,
          "symbol": "circle"
         },
         "mode": "markers",
         "name": "C",
         "text": "",
         "type": "scatter",
         "x": [
          -0.8517614455883655,
          -0.04342189052762476,
          -0.5212214967722162,
          0.3463107666807025,
          -0.745881714063798,
          -0.30058773176849457,
          -2.294340311312299,
          -0.6512596659917415,
          0.506280440778242,
          -0.009690230605172254,
          0.6878141235775956,
          0.9626477777248147,
          1.9166904602701855,
          -0.45669843310114844,
          -1.17050493216569,
          2.2448005418810375,
          -0.28437845271142315,
          2.20013599919316,
          -1.1618106024664825,
          -0.8567423458194338,
          -1.0208832664798144,
          0.5703772004588231,
          0.9500450320973882,
          -0.6157420152530569,
          -0.7506656628682755,
          -0.16251365544450222,
          -0.6594437150281366,
          -0.9953798842138176,
          -1.0214733410454175,
          0.9285981310725163,
          0.33397810418350543,
          2.004283613512989,
          -1.0553236237125618,
          2.2850752156538063,
          -1.3753565992764296,
          -0.16501944321362802,
          0.5859344727051908,
          -0.18337137906315976,
          0.5932397316914628,
          -1.0418591959561794,
          1.7492129420611109,
          -0.5817937909383222,
          1.2316994838318762,
          0.9294052760388295,
          0.3520482281449861,
          0.7995560104582256,
          -0.41303009169552846,
          0.6949404983860864,
          1.5221943621246272,
          0.9258134979345521,
          -0.9730478801948261,
          -0.6262233648414084,
          -0.7063907512266209,
          -0.5577707713737803,
          -1.115285461836506,
          0.14168470522696505,
          -0.5008846735922116,
          -2.132915473280724,
          -0.4274968629044933,
          -1.3049965129181547,
          0.1255639710172537,
          -0.5779084871828467,
          -2.3440688331691595,
          -0.9404043092856896,
          1.0113599002670215,
          -1.1581293656750085,
          -0.3209275331612879,
          -0.26558229431764846,
          0.5598700845574042,
          0.6541742521756773,
          -0.5044763013189157,
          1.2664555045492127,
          -0.7708413334932498,
          0.7605925642066997,
          -1.3641341420112059,
          -0.7014556822610499,
          0.11434435077903846,
          0.9554038286070254,
          -0.570544304958875,
          -1.073236016265232,
          -0.16185980233727848,
          -0.15574260103122203,
          0.009923580756196683,
          0.7915328220783816,
          -1.936094840968455,
          -0.08462248253141151,
          0.6989879597069288,
          -0.5783664463035025,
          0.29535472856846945,
          -0.9236655704169129,
          -2.0291032054275138,
          -0.34867755292168895,
          -0.8556589825027233,
          0.45736269533464113,
          1.6827814465839737,
          0.017887806579571335,
          0.7430841354778721,
          1.0473851610215101,
          -0.8759282168181415,
          0.7612861204776716
         ],
         "xaxis": "x9",
         "y": [
          1.99074868674031,
          -0.00465708454709553,
          -0.5755445261127081,
          0.5382443872435205,
          0.1709426834321075,
          0.4329753224811685,
          -0.5651554806569195,
          -0.5382260512861466,
          0.04847066972062829,
          0.08806423847999274,
          -0.79606960465105,
          0.8780084031924762,
          -1.3235085256898664,
          0.7248567525421737,
          -1.5146950623954112,
          -0.5665899094172965,
          1.019728716322084,
          0.6388293181860352,
          1.250817021100408,
          -1.4096077271209306,
          -0.8525157696226018,
          -0.4899635144904453,
          0.13751888465810286,
          0.14718455041977344,
          1.834529039436641,
          0.9084107963171624,
          0.5895130764523258,
          -0.038309296558468424,
          -0.4388820852707616,
          1.4627208308293214,
          1.1776910929138449,
          0.5157145320795943,
          -1.9609777265208228,
          -0.25592226927388523,
          3.1678247950042633,
          0.6846831368718976,
          -0.5005789641863538,
          1.3976315892846005,
          -1.4207617413874387,
          0.7648460769609398,
          0.1365811035395829,
          -1.7804267125521187,
          -1.5838621251058371,
          0.42779170807600814,
          -0.18986991343828116,
          0.29815222688000004,
          0.13371404643256948,
          0.8922931377279383,
          -1.846555638787027,
          -0.056493298038888876,
          1.7527122256491043,
          -0.7124329358839242,
          -0.9841181433991666,
          0.8779756329966848,
          0.8654510077229993,
          1.1968004459990302,
          -1.1250083025882454,
          -1.5258375755988967,
          -0.501217116263024,
          -0.053820139446658005,
          -1.4692798385105381,
          -0.5880506546292816,
          -0.7431529181334172,
          -0.19304032205527322,
          -0.47451713767621806,
          -2.1088297903073228,
          2.0091149763178815,
          -0.24549609142478476,
          -1.9436855874491659,
          -1.0485915236308072,
          0.16613915039287627,
          0.8985420514860681,
          -0.3415662591350445,
          -0.4290461741748661,
          -0.8278170574841253,
          -0.6650263799092747,
          -1.495577624198766,
          1.1527935477724358,
          -0.7222492854569627,
          0.9234615143051651,
          0.03046862993085494,
          1.1288922392026846,
          -0.9692935077617421,
          -0.046178203334927136,
          -0.5109769793720991,
          -0.2521226240125022,
          1.4868369585876753,
          0.7688646976945722,
          0.0633897069989844,
          1.8859575140986533,
          0.286565663426963,
          -0.08974188217200231,
          1.5781239564426428,
          0.06176288122267352,
          -0.4371343104556174,
          -0.7675835389156066,
          -0.072699091327509,
          -0.9378252040684169,
          0.2292594668542032,
          -0.10819490478797017
         ],
         "yaxis": "y9"
        },
        {
         "line": {
          "color": "rgba(128, 128, 128, 1.0)",
          "dash": "solid",
          "shape": "linear",
          "width": 1.3
         },
         "marker": {
          "size": 2,
          "symbol": "circle"
         },
         "mode": "markers",
         "name": "C",
         "text": "",
         "type": "scatter",
         "x": [
          -1.2411062397873414,
          0.02807914310972193,
          0.31936991465874937,
          -0.936624080293878,
          -2.0397357953994755,
          -1.2961599561491113,
          -2.4774472395187512,
          0.09931069506463953,
          0.26552531364527115,
          0.9335464940691652,
          0.8986794079209267,
          0.29622631233968777,
          0.6437623937325981,
          1.9277184697441778,
          -0.7036554347701831,
          0.2500502636911673,
          1.2350021110504927,
          1.0237531453705104,
          -0.6632947884834026,
          0.9868176338319913,
          1.3453311524356033,
          0.24952513249963243,
          -0.7082905967465567,
          1.2769871222507228,
          -1.9118975786051817,
          -0.8873715742413686,
          1.5378638040470454,
          -0.10710943967908983,
          0.7845777905330139,
          0.8270199278529797,
          0.41947638614534927,
          -0.6103461037142758,
          1.2832756709970892,
          -0.11416461232664675,
          -0.7392920699114925,
          -1.4637285693759212,
          -0.4677850468066235,
          -0.806834032956265,
          -0.3514224740201551,
          -0.08759108947064012,
          1.9604429088767352,
          -1.539498137166316,
          -0.7589306600245808,
          -1.3873313785163255,
          1.12307512963267,
          -1.0874744042664137,
          0.729226021155078,
          0.4351358751294404,
          -1.3587969148637427,
          1.6140817210918543,
          1.2660276312562755,
          -0.8082257649351985,
          0.69704454733331,
          0.4152703294264582,
          0.9034585114511574,
          -0.05924854849022004,
          2.0226182152394614,
          -0.07841380341378705,
          -0.3386092825470693,
          1.4156155845223164,
          -1.9797346660137547,
          -1.841984115363568,
          -0.5154841724459465,
          0.8939062610383636,
          -0.3489922837461976,
          -0.677196875864426,
          -1.0620264960449346,
          -1.1503882870014204,
          0.0042260410358588435,
          -0.5620865442747135,
          0.4115443926705976,
          0.7153717423546805,
          -1.5459819291841044,
          1.3252812663525808,
          0.7538124900180974,
          0.8547986901890187,
          -0.2795176870933874,
          0.763745158149344,
          0.2111943276448071,
          -0.7972437348540449,
          -0.393452740038313,
          0.9953585944717301,
          0.9534378275081842,
          0.052218086558350224,
          1.3181683198717666,
          0.2754614898008423,
          -0.8393112238396853,
          1.3546910993944914,
          0.4372159696747173,
          0.9136047664976019,
          1.443219930139496,
          0.046487522231139576,
          0.99988574453509,
          -0.0042272118759153045,
          -0.5630943395117491,
          -2.124339506586154,
          -0.22020744078220653,
          1.0475830922547424,
          0.14931168810186324,
          0.025470618198708817
         ],
         "xaxis": "x10",
         "y": [
          1.99074868674031,
          -0.00465708454709553,
          -0.5755445261127081,
          0.5382443872435205,
          0.1709426834321075,
          0.4329753224811685,
          -0.5651554806569195,
          -0.5382260512861466,
          0.04847066972062829,
          0.08806423847999274,
          -0.79606960465105,
          0.8780084031924762,
          -1.3235085256898664,
          0.7248567525421737,
          -1.5146950623954112,
          -0.5665899094172965,
          1.019728716322084,
          0.6388293181860352,
          1.250817021100408,
          -1.4096077271209306,
          -0.8525157696226018,
          -0.4899635144904453,
          0.13751888465810286,
          0.14718455041977344,
          1.834529039436641,
          0.9084107963171624,
          0.5895130764523258,
          -0.038309296558468424,
          -0.4388820852707616,
          1.4627208308293214,
          1.1776910929138449,
          0.5157145320795943,
          -1.9609777265208228,
          -0.25592226927388523,
          3.1678247950042633,
          0.6846831368718976,
          -0.5005789641863538,
          1.3976315892846005,
          -1.4207617413874387,
          0.7648460769609398,
          0.1365811035395829,
          -1.7804267125521187,
          -1.5838621251058371,
          0.42779170807600814,
          -0.18986991343828116,
          0.29815222688000004,
          0.13371404643256948,
          0.8922931377279383,
          -1.846555638787027,
          -0.056493298038888876,
          1.7527122256491043,
          -0.7124329358839242,
          -0.9841181433991666,
          0.8779756329966848,
          0.8654510077229993,
          1.1968004459990302,
          -1.1250083025882454,
          -1.5258375755988967,
          -0.501217116263024,
          -0.053820139446658005,
          -1.4692798385105381,
          -0.5880506546292816,
          -0.7431529181334172,
          -0.19304032205527322,
          -0.47451713767621806,
          -2.1088297903073228,
          2.0091149763178815,
          -0.24549609142478476,
          -1.9436855874491659,
          -1.0485915236308072,
          0.16613915039287627,
          0.8985420514860681,
          -0.3415662591350445,
          -0.4290461741748661,
          -0.8278170574841253,
          -0.6650263799092747,
          -1.495577624198766,
          1.1527935477724358,
          -0.7222492854569627,
          0.9234615143051651,
          0.03046862993085494,
          1.1288922392026846,
          -0.9692935077617421,
          -0.046178203334927136,
          -0.5109769793720991,
          -0.2521226240125022,
          1.4868369585876753,
          0.7688646976945722,
          0.0633897069989844,
          1.8859575140986533,
          0.286565663426963,
          -0.08974188217200231,
          1.5781239564426428,
          0.06176288122267352,
          -0.4371343104556174,
          -0.7675835389156066,
          -0.072699091327509,
          -0.9378252040684169,
          0.2292594668542032,
          -0.10819490478797017
         ],
         "yaxis": "y10"
        },
        {
         "histfunc": "count",
         "histnorm": "",
         "marker": {
          "color": "rgba(50, 171, 96, 1.0)",
          "line": {
           "color": "#4D5663",
           "width": 1.3
          }
         },
         "name": "C",
         "nbinsx": 10,
         "opacity": 0.8,
         "orientation": "v",
         "type": "histogram",
         "x": [
          1.99074868674031,
          -0.00465708454709553,
          -0.5755445261127081,
          0.5382443872435205,
          0.1709426834321075,
          0.4329753224811685,
          -0.5651554806569195,
          -0.5382260512861466,
          0.04847066972062829,
          0.08806423847999274,
          -0.79606960465105,
          0.8780084031924762,
          -1.3235085256898664,
          0.7248567525421737,
          -1.5146950623954112,
          -0.5665899094172965,
          1.019728716322084,
          0.6388293181860352,
          1.250817021100408,
          -1.4096077271209306,
          -0.8525157696226018,
          -0.4899635144904453,
          0.13751888465810286,
          0.14718455041977344,
          1.834529039436641,
          0.9084107963171624,
          0.5895130764523258,
          -0.038309296558468424,
          -0.4388820852707616,
          1.4627208308293214,
          1.1776910929138449,
          0.5157145320795943,
          -1.9609777265208228,
          -0.25592226927388523,
          3.1678247950042633,
          0.6846831368718976,
          -0.5005789641863538,
          1.3976315892846005,
          -1.4207617413874387,
          0.7648460769609398,
          0.1365811035395829,
          -1.7804267125521187,
          -1.5838621251058371,
          0.42779170807600814,
          -0.18986991343828116,
          0.29815222688000004,
          0.13371404643256948,
          0.8922931377279383,
          -1.846555638787027,
          -0.056493298038888876,
          1.7527122256491043,
          -0.7124329358839242,
          -0.9841181433991666,
          0.8779756329966848,
          0.8654510077229993,
          1.1968004459990302,
          -1.1250083025882454,
          -1.5258375755988967,
          -0.501217116263024,
          -0.053820139446658005,
          -1.4692798385105381,
          -0.5880506546292816,
          -0.7431529181334172,
          -0.19304032205527322,
          -0.47451713767621806,
          -2.1088297903073228,
          2.0091149763178815,
          -0.24549609142478476,
          -1.9436855874491659,
          -1.0485915236308072,
          0.16613915039287627,
          0.8985420514860681,
          -0.3415662591350445,
          -0.4290461741748661,
          -0.8278170574841253,
          -0.6650263799092747,
          -1.495577624198766,
          1.1527935477724358,
          -0.7222492854569627,
          0.9234615143051651,
          0.03046862993085494,
          1.1288922392026846,
          -0.9692935077617421,
          -0.046178203334927136,
          -0.5109769793720991,
          -0.2521226240125022,
          1.4868369585876753,
          0.7688646976945722,
          0.0633897069989844,
          1.8859575140986533,
          0.286565663426963,
          -0.08974188217200231,
          1.5781239564426428,
          0.06176288122267352,
          -0.4371343104556174,
          -0.7675835389156066,
          -0.072699091327509,
          -0.9378252040684169,
          0.2292594668542032,
          -0.10819490478797017
         ],
         "xaxis": "x11",
         "yaxis": "y11"
        },
        {
         "line": {
          "color": "rgba(128, 128, 128, 1.0)",
          "dash": "solid",
          "shape": "linear",
          "width": 1.3
         },
         "marker": {
          "size": 2,
          "symbol": "circle"
         },
         "mode": "markers",
         "name": "C",
         "text": "",
         "type": "scatter",
         "x": [
          -0.9095280516273,
          -0.1900569063753824,
          0.2698374073735738,
          0.44794311046828933,
          0.6288764120114955,
          -0.06262118751111524,
          -0.26110849338128506,
          0.04603596881270804,
          0.5200144469049582,
          -0.2926155418755851,
          0.1510701746371853,
          -0.5877929182944712,
          0.08069558213353756,
          -0.9486654727999834,
          0.7384779219991,
          -0.06410591754527575,
          0.3548260165084111,
          0.9054277579689765,
          -0.06088091502475971,
          -0.9013312571843716,
          2.0972634759275595,
          1.4900101474091065,
          0.40261896097794214,
          -0.7867852691032597,
          -1.1118230564512712,
          1.5755924791406197,
          -0.26121813234467717,
          0.818713933783864,
          -1.8644115325025155,
          -0.27403192527081843,
          1.9576244718277251,
          -0.24605663623256627,
          -0.5123924847226448,
          0.23369135084072537,
          -0.7106808785710417,
          0.6689331481595072,
          1.1110575005073737,
          0.21581313152734466,
          -0.4438586289334656,
          0.1729837762538506,
          -1.7700587075000929,
          0.37143431574323865,
          0.013931457863850364,
          1.064527392567633,
          0.6774940958087046,
          -0.2712353808433596,
          0.6259480440257154,
          0.6094737251907064,
          -1.2716351983656191,
          -0.6962798871997286,
          -1.4955734251208237,
          -1.8834275522361492,
          0.11823678063751057,
          0.18823957275155215,
          0.13155936455322798,
          -1.6520989148959249,
          0.3184852609414845,
          -1.5155816087200382,
          0.265585097295708,
          -0.2028549510446965,
          -0.031449586442298214,
          0.8368611781097274,
          -0.9391191159328348,
          1.2681019891243461,
          1.4441230757810974,
          0.26438228422400245,
          0.697102195169398,
          -0.1922187018955505,
          -0.5192173064225332,
          -1.1883600624748492,
          -0.18156463296776557,
          0.18444151620027213,
          0.7913705740592086,
          0.3246168451101668,
          -0.8099255565615424,
          1.0776555411206108,
          1.0847851664599493,
          1.239370886496258,
          0.9125234655662715,
          -0.19320405393911116,
          0.18672164796475887,
          -1.026260378037688,
          0.08214481737685381,
          -0.0657676414163017,
          0.028634564346487694,
          -1.160917571285121,
          1.0580203509717026,
          0.431179003636367,
          -2.101168181892536,
          -0.20401401031325544,
          0.8297268745308249,
          -0.024495455035140976,
          0.8013374475472247,
          -1.8888564911648995,
          1.258441521160854,
          0.08441207009120676,
          -1.3984125482489753,
          -0.5614214623572323,
          0.8069062068920521,
          1.7134747999012199
         ],
         "xaxis": "x12",
         "y": [
          1.99074868674031,
          -0.00465708454709553,
          -0.5755445261127081,
          0.5382443872435205,
          0.1709426834321075,
          0.4329753224811685,
          -0.5651554806569195,
          -0.5382260512861466,
          0.04847066972062829,
          0.08806423847999274,
          -0.79606960465105,
          0.8780084031924762,
          -1.3235085256898664,
          0.7248567525421737,
          -1.5146950623954112,
          -0.5665899094172965,
          1.019728716322084,
          0.6388293181860352,
          1.250817021100408,
          -1.4096077271209306,
          -0.8525157696226018,
          -0.4899635144904453,
          0.13751888465810286,
          0.14718455041977344,
          1.834529039436641,
          0.9084107963171624,
          0.5895130764523258,
          -0.038309296558468424,
          -0.4388820852707616,
          1.4627208308293214,
          1.1776910929138449,
          0.5157145320795943,
          -1.9609777265208228,
          -0.25592226927388523,
          3.1678247950042633,
          0.6846831368718976,
          -0.5005789641863538,
          1.3976315892846005,
          -1.4207617413874387,
          0.7648460769609398,
          0.1365811035395829,
          -1.7804267125521187,
          -1.5838621251058371,
          0.42779170807600814,
          -0.18986991343828116,
          0.29815222688000004,
          0.13371404643256948,
          0.8922931377279383,
          -1.846555638787027,
          -0.056493298038888876,
          1.7527122256491043,
          -0.7124329358839242,
          -0.9841181433991666,
          0.8779756329966848,
          0.8654510077229993,
          1.1968004459990302,
          -1.1250083025882454,
          -1.5258375755988967,
          -0.501217116263024,
          -0.053820139446658005,
          -1.4692798385105381,
          -0.5880506546292816,
          -0.7431529181334172,
          -0.19304032205527322,
          -0.47451713767621806,
          -2.1088297903073228,
          2.0091149763178815,
          -0.24549609142478476,
          -1.9436855874491659,
          -1.0485915236308072,
          0.16613915039287627,
          0.8985420514860681,
          -0.3415662591350445,
          -0.4290461741748661,
          -0.8278170574841253,
          -0.6650263799092747,
          -1.495577624198766,
          1.1527935477724358,
          -0.7222492854569627,
          0.9234615143051651,
          0.03046862993085494,
          1.1288922392026846,
          -0.9692935077617421,
          -0.046178203334927136,
          -0.5109769793720991,
          -0.2521226240125022,
          1.4868369585876753,
          0.7688646976945722,
          0.0633897069989844,
          1.8859575140986533,
          0.286565663426963,
          -0.08974188217200231,
          1.5781239564426428,
          0.06176288122267352,
          -0.4371343104556174,
          -0.7675835389156066,
          -0.072699091327509,
          -0.9378252040684169,
          0.2292594668542032,
          -0.10819490478797017
         ],
         "yaxis": "y12"
        },
        {
         "line": {
          "color": "rgba(128, 128, 128, 1.0)",
          "dash": "solid",
          "shape": "linear",
          "width": 1.3
         },
         "marker": {
          "size": 2,
          "symbol": "circle"
         },
         "mode": "markers",
         "name": "D",
         "text": "",
         "type": "scatter",
         "x": [
          -0.8517614455883655,
          -0.04342189052762476,
          -0.5212214967722162,
          0.3463107666807025,
          -0.745881714063798,
          -0.30058773176849457,
          -2.294340311312299,
          -0.6512596659917415,
          0.506280440778242,
          -0.009690230605172254,
          0.6878141235775956,
          0.9626477777248147,
          1.9166904602701855,
          -0.45669843310114844,
          -1.17050493216569,
          2.2448005418810375,
          -0.28437845271142315,
          2.20013599919316,
          -1.1618106024664825,
          -0.8567423458194338,
          -1.0208832664798144,
          0.5703772004588231,
          0.9500450320973882,
          -0.6157420152530569,
          -0.7506656628682755,
          -0.16251365544450222,
          -0.6594437150281366,
          -0.9953798842138176,
          -1.0214733410454175,
          0.9285981310725163,
          0.33397810418350543,
          2.004283613512989,
          -1.0553236237125618,
          2.2850752156538063,
          -1.3753565992764296,
          -0.16501944321362802,
          0.5859344727051908,
          -0.18337137906315976,
          0.5932397316914628,
          -1.0418591959561794,
          1.7492129420611109,
          -0.5817937909383222,
          1.2316994838318762,
          0.9294052760388295,
          0.3520482281449861,
          0.7995560104582256,
          -0.41303009169552846,
          0.6949404983860864,
          1.5221943621246272,
          0.9258134979345521,
          -0.9730478801948261,
          -0.6262233648414084,
          -0.7063907512266209,
          -0.5577707713737803,
          -1.115285461836506,
          0.14168470522696505,
          -0.5008846735922116,
          -2.132915473280724,
          -0.4274968629044933,
          -1.3049965129181547,
          0.1255639710172537,
          -0.5779084871828467,
          -2.3440688331691595,
          -0.9404043092856896,
          1.0113599002670215,
          -1.1581293656750085,
          -0.3209275331612879,
          -0.26558229431764846,
          0.5598700845574042,
          0.6541742521756773,
          -0.5044763013189157,
          1.2664555045492127,
          -0.7708413334932498,
          0.7605925642066997,
          -1.3641341420112059,
          -0.7014556822610499,
          0.11434435077903846,
          0.9554038286070254,
          -0.570544304958875,
          -1.073236016265232,
          -0.16185980233727848,
          -0.15574260103122203,
          0.009923580756196683,
          0.7915328220783816,
          -1.936094840968455,
          -0.08462248253141151,
          0.6989879597069288,
          -0.5783664463035025,
          0.29535472856846945,
          -0.9236655704169129,
          -2.0291032054275138,
          -0.34867755292168895,
          -0.8556589825027233,
          0.45736269533464113,
          1.6827814465839737,
          0.017887806579571335,
          0.7430841354778721,
          1.0473851610215101,
          -0.8759282168181415,
          0.7612861204776716
         ],
         "xaxis": "x13",
         "y": [
          -0.9095280516273,
          -0.1900569063753824,
          0.2698374073735738,
          0.44794311046828933,
          0.6288764120114955,
          -0.06262118751111524,
          -0.26110849338128506,
          0.04603596881270804,
          0.5200144469049582,
          -0.2926155418755851,
          0.1510701746371853,
          -0.5877929182944712,
          0.08069558213353756,
          -0.9486654727999834,
          0.7384779219991,
          -0.06410591754527575,
          0.3548260165084111,
          0.9054277579689765,
          -0.06088091502475971,
          -0.9013312571843716,
          2.0972634759275595,
          1.4900101474091065,
          0.40261896097794214,
          -0.7867852691032597,
          -1.1118230564512712,
          1.5755924791406197,
          -0.26121813234467717,
          0.818713933783864,
          -1.8644115325025155,
          -0.27403192527081843,
          1.9576244718277251,
          -0.24605663623256627,
          -0.5123924847226448,
          0.23369135084072537,
          -0.7106808785710417,
          0.6689331481595072,
          1.1110575005073737,
          0.21581313152734466,
          -0.4438586289334656,
          0.1729837762538506,
          -1.7700587075000929,
          0.37143431574323865,
          0.013931457863850364,
          1.064527392567633,
          0.6774940958087046,
          -0.2712353808433596,
          0.6259480440257154,
          0.6094737251907064,
          -1.2716351983656191,
          -0.6962798871997286,
          -1.4955734251208237,
          -1.8834275522361492,
          0.11823678063751057,
          0.18823957275155215,
          0.13155936455322798,
          -1.6520989148959249,
          0.3184852609414845,
          -1.5155816087200382,
          0.265585097295708,
          -0.2028549510446965,
          -0.031449586442298214,
          0.8368611781097274,
          -0.9391191159328348,
          1.2681019891243461,
          1.4441230757810974,
          0.26438228422400245,
          0.697102195169398,
          -0.1922187018955505,
          -0.5192173064225332,
          -1.1883600624748492,
          -0.18156463296776557,
          0.18444151620027213,
          0.7913705740592086,
          0.3246168451101668,
          -0.8099255565615424,
          1.0776555411206108,
          1.0847851664599493,
          1.239370886496258,
          0.9125234655662715,
          -0.19320405393911116,
          0.18672164796475887,
          -1.026260378037688,
          0.08214481737685381,
          -0.0657676414163017,
          0.028634564346487694,
          -1.160917571285121,
          1.0580203509717026,
          0.431179003636367,
          -2.101168181892536,
          -0.20401401031325544,
          0.8297268745308249,
          -0.024495455035140976,
          0.8013374475472247,
          -1.8888564911648995,
          1.258441521160854,
          0.08441207009120676,
          -1.3984125482489753,
          -0.5614214623572323,
          0.8069062068920521,
          1.7134747999012199
         ],
         "yaxis": "y13"
        },
        {
         "line": {
          "color": "rgba(128, 128, 128, 1.0)",
          "dash": "solid",
          "shape": "linear",
          "width": 1.3
         },
         "marker": {
          "size": 2,
          "symbol": "circle"
         },
         "mode": "markers",
         "name": "D",
         "text": "",
         "type": "scatter",
         "x": [
          -1.2411062397873414,
          0.02807914310972193,
          0.31936991465874937,
          -0.936624080293878,
          -2.0397357953994755,
          -1.2961599561491113,
          -2.4774472395187512,
          0.09931069506463953,
          0.26552531364527115,
          0.9335464940691652,
          0.8986794079209267,
          0.29622631233968777,
          0.6437623937325981,
          1.9277184697441778,
          -0.7036554347701831,
          0.2500502636911673,
          1.2350021110504927,
          1.0237531453705104,
          -0.6632947884834026,
          0.9868176338319913,
          1.3453311524356033,
          0.24952513249963243,
          -0.7082905967465567,
          1.2769871222507228,
          -1.9118975786051817,
          -0.8873715742413686,
          1.5378638040470454,
          -0.10710943967908983,
          0.7845777905330139,
          0.8270199278529797,
          0.41947638614534927,
          -0.6103461037142758,
          1.2832756709970892,
          -0.11416461232664675,
          -0.7392920699114925,
          -1.4637285693759212,
          -0.4677850468066235,
          -0.806834032956265,
          -0.3514224740201551,
          -0.08759108947064012,
          1.9604429088767352,
          -1.539498137166316,
          -0.7589306600245808,
          -1.3873313785163255,
          1.12307512963267,
          -1.0874744042664137,
          0.729226021155078,
          0.4351358751294404,
          -1.3587969148637427,
          1.6140817210918543,
          1.2660276312562755,
          -0.8082257649351985,
          0.69704454733331,
          0.4152703294264582,
          0.9034585114511574,
          -0.05924854849022004,
          2.0226182152394614,
          -0.07841380341378705,
          -0.3386092825470693,
          1.4156155845223164,
          -1.9797346660137547,
          -1.841984115363568,
          -0.5154841724459465,
          0.8939062610383636,
          -0.3489922837461976,
          -0.677196875864426,
          -1.0620264960449346,
          -1.1503882870014204,
          0.0042260410358588435,
          -0.5620865442747135,
          0.4115443926705976,
          0.7153717423546805,
          -1.5459819291841044,
          1.3252812663525808,
          0.7538124900180974,
          0.8547986901890187,
          -0.2795176870933874,
          0.763745158149344,
          0.2111943276448071,
          -0.7972437348540449,
          -0.393452740038313,
          0.9953585944717301,
          0.9534378275081842,
          0.052218086558350224,
          1.3181683198717666,
          0.2754614898008423,
          -0.8393112238396853,
          1.3546910993944914,
          0.4372159696747173,
          0.9136047664976019,
          1.443219930139496,
          0.046487522231139576,
          0.99988574453509,
          -0.0042272118759153045,
          -0.5630943395117491,
          -2.124339506586154,
          -0.22020744078220653,
          1.0475830922547424,
          0.14931168810186324,
          0.025470618198708817
         ],
         "xaxis": "x14",
         "y": [
          -0.9095280516273,
          -0.1900569063753824,
          0.2698374073735738,
          0.44794311046828933,
          0.6288764120114955,
          -0.06262118751111524,
          -0.26110849338128506,
          0.04603596881270804,
          0.5200144469049582,
          -0.2926155418755851,
          0.1510701746371853,
          -0.5877929182944712,
          0.08069558213353756,
          -0.9486654727999834,
          0.7384779219991,
          -0.06410591754527575,
          0.3548260165084111,
          0.9054277579689765,
          -0.06088091502475971,
          -0.9013312571843716,
          2.0972634759275595,
          1.4900101474091065,
          0.40261896097794214,
          -0.7867852691032597,
          -1.1118230564512712,
          1.5755924791406197,
          -0.26121813234467717,
          0.818713933783864,
          -1.8644115325025155,
          -0.27403192527081843,
          1.9576244718277251,
          -0.24605663623256627,
          -0.5123924847226448,
          0.23369135084072537,
          -0.7106808785710417,
          0.6689331481595072,
          1.1110575005073737,
          0.21581313152734466,
          -0.4438586289334656,
          0.1729837762538506,
          -1.7700587075000929,
          0.37143431574323865,
          0.013931457863850364,
          1.064527392567633,
          0.6774940958087046,
          -0.2712353808433596,
          0.6259480440257154,
          0.6094737251907064,
          -1.2716351983656191,
          -0.6962798871997286,
          -1.4955734251208237,
          -1.8834275522361492,
          0.11823678063751057,
          0.18823957275155215,
          0.13155936455322798,
          -1.6520989148959249,
          0.3184852609414845,
          -1.5155816087200382,
          0.265585097295708,
          -0.2028549510446965,
          -0.031449586442298214,
          0.8368611781097274,
          -0.9391191159328348,
          1.2681019891243461,
          1.4441230757810974,
          0.26438228422400245,
          0.697102195169398,
          -0.1922187018955505,
          -0.5192173064225332,
          -1.1883600624748492,
          -0.18156463296776557,
          0.18444151620027213,
          0.7913705740592086,
          0.3246168451101668,
          -0.8099255565615424,
          1.0776555411206108,
          1.0847851664599493,
          1.239370886496258,
          0.9125234655662715,
          -0.19320405393911116,
          0.18672164796475887,
          -1.026260378037688,
          0.08214481737685381,
          -0.0657676414163017,
          0.028634564346487694,
          -1.160917571285121,
          1.0580203509717026,
          0.431179003636367,
          -2.101168181892536,
          -0.20401401031325544,
          0.8297268745308249,
          -0.024495455035140976,
          0.8013374475472247,
          -1.8888564911648995,
          1.258441521160854,
          0.08441207009120676,
          -1.3984125482489753,
          -0.5614214623572323,
          0.8069062068920521,
          1.7134747999012199
         ],
         "yaxis": "y14"
        },
        {
         "line": {
          "color": "rgba(128, 128, 128, 1.0)",
          "dash": "solid",
          "shape": "linear",
          "width": 1.3
         },
         "marker": {
          "size": 2,
          "symbol": "circle"
         },
         "mode": "markers",
         "name": "D",
         "text": "",
         "type": "scatter",
         "x": [
          1.99074868674031,
          -0.00465708454709553,
          -0.5755445261127081,
          0.5382443872435205,
          0.1709426834321075,
          0.4329753224811685,
          -0.5651554806569195,
          -0.5382260512861466,
          0.04847066972062829,
          0.08806423847999274,
          -0.79606960465105,
          0.8780084031924762,
          -1.3235085256898664,
          0.7248567525421737,
          -1.5146950623954112,
          -0.5665899094172965,
          1.019728716322084,
          0.6388293181860352,
          1.250817021100408,
          -1.4096077271209306,
          -0.8525157696226018,
          -0.4899635144904453,
          0.13751888465810286,
          0.14718455041977344,
          1.834529039436641,
          0.9084107963171624,
          0.5895130764523258,
          -0.038309296558468424,
          -0.4388820852707616,
          1.4627208308293214,
          1.1776910929138449,
          0.5157145320795943,
          -1.9609777265208228,
          -0.25592226927388523,
          3.1678247950042633,
          0.6846831368718976,
          -0.5005789641863538,
          1.3976315892846005,
          -1.4207617413874387,
          0.7648460769609398,
          0.1365811035395829,
          -1.7804267125521187,
          -1.5838621251058371,
          0.42779170807600814,
          -0.18986991343828116,
          0.29815222688000004,
          0.13371404643256948,
          0.8922931377279383,
          -1.846555638787027,
          -0.056493298038888876,
          1.7527122256491043,
          -0.7124329358839242,
          -0.9841181433991666,
          0.8779756329966848,
          0.8654510077229993,
          1.1968004459990302,
          -1.1250083025882454,
          -1.5258375755988967,
          -0.501217116263024,
          -0.053820139446658005,
          -1.4692798385105381,
          -0.5880506546292816,
          -0.7431529181334172,
          -0.19304032205527322,
          -0.47451713767621806,
          -2.1088297903073228,
          2.0091149763178815,
          -0.24549609142478476,
          -1.9436855874491659,
          -1.0485915236308072,
          0.16613915039287627,
          0.8985420514860681,
          -0.3415662591350445,
          -0.4290461741748661,
          -0.8278170574841253,
          -0.6650263799092747,
          -1.495577624198766,
          1.1527935477724358,
          -0.7222492854569627,
          0.9234615143051651,
          0.03046862993085494,
          1.1288922392026846,
          -0.9692935077617421,
          -0.046178203334927136,
          -0.5109769793720991,
          -0.2521226240125022,
          1.4868369585876753,
          0.7688646976945722,
          0.0633897069989844,
          1.8859575140986533,
          0.286565663426963,
          -0.08974188217200231,
          1.5781239564426428,
          0.06176288122267352,
          -0.4371343104556174,
          -0.7675835389156066,
          -0.072699091327509,
          -0.9378252040684169,
          0.2292594668542032,
          -0.10819490478797017
         ],
         "xaxis": "x15",
         "y": [
          -0.9095280516273,
          -0.1900569063753824,
          0.2698374073735738,
          0.44794311046828933,
          0.6288764120114955,
          -0.06262118751111524,
          -0.26110849338128506,
          0.04603596881270804,
          0.5200144469049582,
          -0.2926155418755851,
          0.1510701746371853,
          -0.5877929182944712,
          0.08069558213353756,
          -0.9486654727999834,
          0.7384779219991,
          -0.06410591754527575,
          0.3548260165084111,
          0.9054277579689765,
          -0.06088091502475971,
          -0.9013312571843716,
          2.0972634759275595,
          1.4900101474091065,
          0.40261896097794214,
          -0.7867852691032597,
          -1.1118230564512712,
          1.5755924791406197,
          -0.26121813234467717,
          0.818713933783864,
          -1.8644115325025155,
          -0.27403192527081843,
          1.9576244718277251,
          -0.24605663623256627,
          -0.5123924847226448,
          0.23369135084072537,
          -0.7106808785710417,
          0.6689331481595072,
          1.1110575005073737,
          0.21581313152734466,
          -0.4438586289334656,
          0.1729837762538506,
          -1.7700587075000929,
          0.37143431574323865,
          0.013931457863850364,
          1.064527392567633,
          0.6774940958087046,
          -0.2712353808433596,
          0.6259480440257154,
          0.6094737251907064,
          -1.2716351983656191,
          -0.6962798871997286,
          -1.4955734251208237,
          -1.8834275522361492,
          0.11823678063751057,
          0.18823957275155215,
          0.13155936455322798,
          -1.6520989148959249,
          0.3184852609414845,
          -1.5155816087200382,
          0.265585097295708,
          -0.2028549510446965,
          -0.031449586442298214,
          0.8368611781097274,
          -0.9391191159328348,
          1.2681019891243461,
          1.4441230757810974,
          0.26438228422400245,
          0.697102195169398,
          -0.1922187018955505,
          -0.5192173064225332,
          -1.1883600624748492,
          -0.18156463296776557,
          0.18444151620027213,
          0.7913705740592086,
          0.3246168451101668,
          -0.8099255565615424,
          1.0776555411206108,
          1.0847851664599493,
          1.239370886496258,
          0.9125234655662715,
          -0.19320405393911116,
          0.18672164796475887,
          -1.026260378037688,
          0.08214481737685381,
          -0.0657676414163017,
          0.028634564346487694,
          -1.160917571285121,
          1.0580203509717026,
          0.431179003636367,
          -2.101168181892536,
          -0.20401401031325544,
          0.8297268745308249,
          -0.024495455035140976,
          0.8013374475472247,
          -1.8888564911648995,
          1.258441521160854,
          0.08441207009120676,
          -1.3984125482489753,
          -0.5614214623572323,
          0.8069062068920521,
          1.7134747999012199
         ],
         "yaxis": "y15"
        },
        {
         "histfunc": "count",
         "histnorm": "",
         "marker": {
          "color": "rgba(128, 0, 128, 1.0)",
          "line": {
           "color": "#4D5663",
           "width": 1.3
          }
         },
         "name": "D",
         "nbinsx": 10,
         "opacity": 0.8,
         "orientation": "v",
         "type": "histogram",
         "x": [
          -0.9095280516273,
          -0.1900569063753824,
          0.2698374073735738,
          0.44794311046828933,
          0.6288764120114955,
          -0.06262118751111524,
          -0.26110849338128506,
          0.04603596881270804,
          0.5200144469049582,
          -0.2926155418755851,
          0.1510701746371853,
          -0.5877929182944712,
          0.08069558213353756,
          -0.9486654727999834,
          0.7384779219991,
          -0.06410591754527575,
          0.3548260165084111,
          0.9054277579689765,
          -0.06088091502475971,
          -0.9013312571843716,
          2.0972634759275595,
          1.4900101474091065,
          0.40261896097794214,
          -0.7867852691032597,
          -1.1118230564512712,
          1.5755924791406197,
          -0.26121813234467717,
          0.818713933783864,
          -1.8644115325025155,
          -0.27403192527081843,
          1.9576244718277251,
          -0.24605663623256627,
          -0.5123924847226448,
          0.23369135084072537,
          -0.7106808785710417,
          0.6689331481595072,
          1.1110575005073737,
          0.21581313152734466,
          -0.4438586289334656,
          0.1729837762538506,
          -1.7700587075000929,
          0.37143431574323865,
          0.013931457863850364,
          1.064527392567633,
          0.6774940958087046,
          -0.2712353808433596,
          0.6259480440257154,
          0.6094737251907064,
          -1.2716351983656191,
          -0.6962798871997286,
          -1.4955734251208237,
          -1.8834275522361492,
          0.11823678063751057,
          0.18823957275155215,
          0.13155936455322798,
          -1.6520989148959249,
          0.3184852609414845,
          -1.5155816087200382,
          0.265585097295708,
          -0.2028549510446965,
          -0.031449586442298214,
          0.8368611781097274,
          -0.9391191159328348,
          1.2681019891243461,
          1.4441230757810974,
          0.26438228422400245,
          0.697102195169398,
          -0.1922187018955505,
          -0.5192173064225332,
          -1.1883600624748492,
          -0.18156463296776557,
          0.18444151620027213,
          0.7913705740592086,
          0.3246168451101668,
          -0.8099255565615424,
          1.0776555411206108,
          1.0847851664599493,
          1.239370886496258,
          0.9125234655662715,
          -0.19320405393911116,
          0.18672164796475887,
          -1.026260378037688,
          0.08214481737685381,
          -0.0657676414163017,
          0.028634564346487694,
          -1.160917571285121,
          1.0580203509717026,
          0.431179003636367,
          -2.101168181892536,
          -0.20401401031325544,
          0.8297268745308249,
          -0.024495455035140976,
          0.8013374475472247,
          -1.8888564911648995,
          1.258441521160854,
          0.08441207009120676,
          -1.3984125482489753,
          -0.5614214623572323,
          0.8069062068920521,
          1.7134747999012199
         ],
         "xaxis": "x16",
         "yaxis": "y16"
        }
       ],
       "layout": {
        "autosize": true,
        "bargap": 0.02,
        "legend": {
         "bgcolor": "#F5F6F9",
         "font": {
          "color": "#4D5663"
         }
        },
        "paper_bgcolor": "#F5F6F9",
        "plot_bgcolor": "#F5F6F9",
        "showlegend": false,
        "template": {
         "data": {
          "bar": [
           {
            "error_x": {
             "color": "#2a3f5f"
            },
            "error_y": {
             "color": "#2a3f5f"
            },
            "marker": {
             "line": {
              "color": "#E5ECF6",
              "width": 0.5
             },
             "pattern": {
              "fillmode": "overlay",
              "size": 10,
              "solidity": 0.2
             }
            },
            "type": "bar"
           }
          ],
          "barpolar": [
           {
            "marker": {
             "line": {
              "color": "#E5ECF6",
              "width": 0.5
             },
             "pattern": {
              "fillmode": "overlay",
              "size": 10,
              "solidity": 0.2
             }
            },
            "type": "barpolar"
           }
          ],
          "carpet": [
           {
            "aaxis": {
             "endlinecolor": "#2a3f5f",
             "gridcolor": "white",
             "linecolor": "white",
             "minorgridcolor": "white",
             "startlinecolor": "#2a3f5f"
            },
            "baxis": {
             "endlinecolor": "#2a3f5f",
             "gridcolor": "white",
             "linecolor": "white",
             "minorgridcolor": "white",
             "startlinecolor": "#2a3f5f"
            },
            "type": "carpet"
           }
          ],
          "choropleth": [
           {
            "colorbar": {
             "outlinewidth": 0,
             "ticks": ""
            },
            "type": "choropleth"
           }
          ],
          "contour": [
           {
            "colorbar": {
             "outlinewidth": 0,
             "ticks": ""
            },
            "colorscale": [
             [
              0,
              "#0d0887"
             ],
             [
              0.1111111111111111,
              "#46039f"
             ],
             [
              0.2222222222222222,
              "#7201a8"
             ],
             [
              0.3333333333333333,
              "#9c179e"
             ],
             [
              0.4444444444444444,
              "#bd3786"
             ],
             [
              0.5555555555555556,
              "#d8576b"
             ],
             [
              0.6666666666666666,
              "#ed7953"
             ],
             [
              0.7777777777777778,
              "#fb9f3a"
             ],
             [
              0.8888888888888888,
              "#fdca26"
             ],
             [
              1,
              "#f0f921"
             ]
            ],
            "type": "contour"
           }
          ],
          "contourcarpet": [
           {
            "colorbar": {
             "outlinewidth": 0,
             "ticks": ""
            },
            "type": "contourcarpet"
           }
          ],
          "heatmap": [
           {
            "colorbar": {
             "outlinewidth": 0,
             "ticks": ""
            },
            "colorscale": [
             [
              0,
              "#0d0887"
             ],
             [
              0.1111111111111111,
              "#46039f"
             ],
             [
              0.2222222222222222,
              "#7201a8"
             ],
             [
              0.3333333333333333,
              "#9c179e"
             ],
             [
              0.4444444444444444,
              "#bd3786"
             ],
             [
              0.5555555555555556,
              "#d8576b"
             ],
             [
              0.6666666666666666,
              "#ed7953"
             ],
             [
              0.7777777777777778,
              "#fb9f3a"
             ],
             [
              0.8888888888888888,
              "#fdca26"
             ],
             [
              1,
              "#f0f921"
             ]
            ],
            "type": "heatmap"
           }
          ],
          "heatmapgl": [
           {
            "colorbar": {
             "outlinewidth": 0,
             "ticks": ""
            },
            "colorscale": [
             [
              0,
              "#0d0887"
             ],
             [
              0.1111111111111111,
              "#46039f"
             ],
             [
              0.2222222222222222,
              "#7201a8"
             ],
             [
              0.3333333333333333,
              "#9c179e"
             ],
             [
              0.4444444444444444,
              "#bd3786"
             ],
             [
              0.5555555555555556,
              "#d8576b"
             ],
             [
              0.6666666666666666,
              "#ed7953"
             ],
             [
              0.7777777777777778,
              "#fb9f3a"
             ],
             [
              0.8888888888888888,
              "#fdca26"
             ],
             [
              1,
              "#f0f921"
             ]
            ],
            "type": "heatmapgl"
           }
          ],
          "histogram": [
           {
            "marker": {
             "pattern": {
              "fillmode": "overlay",
              "size": 10,
              "solidity": 0.2
             }
            },
            "type": "histogram"
           }
          ],
          "histogram2d": [
           {
            "colorbar": {
             "outlinewidth": 0,
             "ticks": ""
            },
            "colorscale": [
             [
              0,
              "#0d0887"
             ],
             [
              0.1111111111111111,
              "#46039f"
             ],
             [
              0.2222222222222222,
              "#7201a8"
             ],
             [
              0.3333333333333333,
              "#9c179e"
             ],
             [
              0.4444444444444444,
              "#bd3786"
             ],
             [
              0.5555555555555556,
              "#d8576b"
             ],
             [
              0.6666666666666666,
              "#ed7953"
             ],
             [
              0.7777777777777778,
              "#fb9f3a"
             ],
             [
              0.8888888888888888,
              "#fdca26"
             ],
             [
              1,
              "#f0f921"
             ]
            ],
            "type": "histogram2d"
           }
          ],
          "histogram2dcontour": [
           {
            "colorbar": {
             "outlinewidth": 0,
             "ticks": ""
            },
            "colorscale": [
             [
              0,
              "#0d0887"
             ],
             [
              0.1111111111111111,
              "#46039f"
             ],
             [
              0.2222222222222222,
              "#7201a8"
             ],
             [
              0.3333333333333333,
              "#9c179e"
             ],
             [
              0.4444444444444444,
              "#bd3786"
             ],
             [
              0.5555555555555556,
              "#d8576b"
             ],
             [
              0.6666666666666666,
              "#ed7953"
             ],
             [
              0.7777777777777778,
              "#fb9f3a"
             ],
             [
              0.8888888888888888,
              "#fdca26"
             ],
             [
              1,
              "#f0f921"
             ]
            ],
            "type": "histogram2dcontour"
           }
          ],
          "mesh3d": [
           {
            "colorbar": {
             "outlinewidth": 0,
             "ticks": ""
            },
            "type": "mesh3d"
           }
          ],
          "parcoords": [
           {
            "line": {
             "colorbar": {
              "outlinewidth": 0,
              "ticks": ""
             }
            },
            "type": "parcoords"
           }
          ],
          "pie": [
           {
            "automargin": true,
            "type": "pie"
           }
          ],
          "scatter": [
           {
            "fillpattern": {
             "fillmode": "overlay",
             "size": 10,
             "solidity": 0.2
            },
            "type": "scatter"
           }
          ],
          "scatter3d": [
           {
            "line": {
             "colorbar": {
              "outlinewidth": 0,
              "ticks": ""
             }
            },
            "marker": {
             "colorbar": {
              "outlinewidth": 0,
              "ticks": ""
             }
            },
            "type": "scatter3d"
           }
          ],
          "scattercarpet": [
           {
            "marker": {
             "colorbar": {
              "outlinewidth": 0,
              "ticks": ""
             }
            },
            "type": "scattercarpet"
           }
          ],
          "scattergeo": [
           {
            "marker": {
             "colorbar": {
              "outlinewidth": 0,
              "ticks": ""
             }
            },
            "type": "scattergeo"
           }
          ],
          "scattergl": [
           {
            "marker": {
             "colorbar": {
              "outlinewidth": 0,
              "ticks": ""
             }
            },
            "type": "scattergl"
           }
          ],
          "scattermapbox": [
           {
            "marker": {
             "colorbar": {
              "outlinewidth": 0,
              "ticks": ""
             }
            },
            "type": "scattermapbox"
           }
          ],
          "scatterpolar": [
           {
            "marker": {
             "colorbar": {
              "outlinewidth": 0,
              "ticks": ""
             }
            },
            "type": "scatterpolar"
           }
          ],
          "scatterpolargl": [
           {
            "marker": {
             "colorbar": {
              "outlinewidth": 0,
              "ticks": ""
             }
            },
            "type": "scatterpolargl"
           }
          ],
          "scatterternary": [
           {
            "marker": {
             "colorbar": {
              "outlinewidth": 0,
              "ticks": ""
             }
            },
            "type": "scatterternary"
           }
          ],
          "surface": [
           {
            "colorbar": {
             "outlinewidth": 0,
             "ticks": ""
            },
            "colorscale": [
             [
              0,
              "#0d0887"
             ],
             [
              0.1111111111111111,
              "#46039f"
             ],
             [
              0.2222222222222222,
              "#7201a8"
             ],
             [
              0.3333333333333333,
              "#9c179e"
             ],
             [
              0.4444444444444444,
              "#bd3786"
             ],
             [
              0.5555555555555556,
              "#d8576b"
             ],
             [
              0.6666666666666666,
              "#ed7953"
             ],
             [
              0.7777777777777778,
              "#fb9f3a"
             ],
             [
              0.8888888888888888,
              "#fdca26"
             ],
             [
              1,
              "#f0f921"
             ]
            ],
            "type": "surface"
           }
          ],
          "table": [
           {
            "cells": {
             "fill": {
              "color": "#EBF0F8"
             },
             "line": {
              "color": "white"
             }
            },
            "header": {
             "fill": {
              "color": "#C8D4E3"
             },
             "line": {
              "color": "white"
             }
            },
            "type": "table"
           }
          ]
         },
         "layout": {
          "annotationdefaults": {
           "arrowcolor": "#2a3f5f",
           "arrowhead": 0,
           "arrowwidth": 1
          },
          "autotypenumbers": "strict",
          "coloraxis": {
           "colorbar": {
            "outlinewidth": 0,
            "ticks": ""
           }
          },
          "colorscale": {
           "diverging": [
            [
             0,
             "#8e0152"
            ],
            [
             0.1,
             "#c51b7d"
            ],
            [
             0.2,
             "#de77ae"
            ],
            [
             0.3,
             "#f1b6da"
            ],
            [
             0.4,
             "#fde0ef"
            ],
            [
             0.5,
             "#f7f7f7"
            ],
            [
             0.6,
             "#e6f5d0"
            ],
            [
             0.7,
             "#b8e186"
            ],
            [
             0.8,
             "#7fbc41"
            ],
            [
             0.9,
             "#4d9221"
            ],
            [
             1,
             "#276419"
            ]
           ],
           "sequential": [
            [
             0,
             "#0d0887"
            ],
            [
             0.1111111111111111,
             "#46039f"
            ],
            [
             0.2222222222222222,
             "#7201a8"
            ],
            [
             0.3333333333333333,
             "#9c179e"
            ],
            [
             0.4444444444444444,
             "#bd3786"
            ],
            [
             0.5555555555555556,
             "#d8576b"
            ],
            [
             0.6666666666666666,
             "#ed7953"
            ],
            [
             0.7777777777777778,
             "#fb9f3a"
            ],
            [
             0.8888888888888888,
             "#fdca26"
            ],
            [
             1,
             "#f0f921"
            ]
           ],
           "sequentialminus": [
            [
             0,
             "#0d0887"
            ],
            [
             0.1111111111111111,
             "#46039f"
            ],
            [
             0.2222222222222222,
             "#7201a8"
            ],
            [
             0.3333333333333333,
             "#9c179e"
            ],
            [
             0.4444444444444444,
             "#bd3786"
            ],
            [
             0.5555555555555556,
             "#d8576b"
            ],
            [
             0.6666666666666666,
             "#ed7953"
            ],
            [
             0.7777777777777778,
             "#fb9f3a"
            ],
            [
             0.8888888888888888,
             "#fdca26"
            ],
            [
             1,
             "#f0f921"
            ]
           ]
          },
          "colorway": [
           "#636efa",
           "#EF553B",
           "#00cc96",
           "#ab63fa",
           "#FFA15A",
           "#19d3f3",
           "#FF6692",
           "#B6E880",
           "#FF97FF",
           "#FECB52"
          ],
          "font": {
           "color": "#2a3f5f"
          },
          "geo": {
           "bgcolor": "white",
           "lakecolor": "white",
           "landcolor": "#E5ECF6",
           "showlakes": true,
           "showland": true,
           "subunitcolor": "white"
          },
          "hoverlabel": {
           "align": "left"
          },
          "hovermode": "closest",
          "mapbox": {
           "style": "light"
          },
          "paper_bgcolor": "white",
          "plot_bgcolor": "#E5ECF6",
          "polar": {
           "angularaxis": {
            "gridcolor": "white",
            "linecolor": "white",
            "ticks": ""
           },
           "bgcolor": "#E5ECF6",
           "radialaxis": {
            "gridcolor": "white",
            "linecolor": "white",
            "ticks": ""
           }
          },
          "scene": {
           "xaxis": {
            "backgroundcolor": "#E5ECF6",
            "gridcolor": "white",
            "gridwidth": 2,
            "linecolor": "white",
            "showbackground": true,
            "ticks": "",
            "zerolinecolor": "white"
           },
           "yaxis": {
            "backgroundcolor": "#E5ECF6",
            "gridcolor": "white",
            "gridwidth": 2,
            "linecolor": "white",
            "showbackground": true,
            "ticks": "",
            "zerolinecolor": "white"
           },
           "zaxis": {
            "backgroundcolor": "#E5ECF6",
            "gridcolor": "white",
            "gridwidth": 2,
            "linecolor": "white",
            "showbackground": true,
            "ticks": "",
            "zerolinecolor": "white"
           }
          },
          "shapedefaults": {
           "line": {
            "color": "#2a3f5f"
           }
          },
          "ternary": {
           "aaxis": {
            "gridcolor": "white",
            "linecolor": "white",
            "ticks": ""
           },
           "baxis": {
            "gridcolor": "white",
            "linecolor": "white",
            "ticks": ""
           },
           "bgcolor": "#E5ECF6",
           "caxis": {
            "gridcolor": "white",
            "linecolor": "white",
            "ticks": ""
           }
          },
          "title": {
           "x": 0.05
          },
          "xaxis": {
           "automargin": true,
           "gridcolor": "white",
           "linecolor": "white",
           "ticks": "",
           "title": {
            "standoff": 15
           },
           "zerolinecolor": "white",
           "zerolinewidth": 2
          },
          "yaxis": {
           "automargin": true,
           "gridcolor": "white",
           "linecolor": "white",
           "ticks": "",
           "title": {
            "standoff": 15
           },
           "zerolinecolor": "white",
           "zerolinewidth": 2
          }
         }
        },
        "title": {
         "font": {
          "color": "#4D5663"
         }
        },
        "xaxis": {
         "anchor": "y",
         "autorange": true,
         "domain": [
          0,
          0.2125
         ],
         "gridcolor": "#E1E5ED",
         "range": [
          -2.5,
          2.5
         ],
         "showgrid": false,
         "tickfont": {
          "color": "#4D5663"
         },
         "title": {
          "font": {
           "color": "#4D5663"
          },
          "text": ""
         },
         "type": "linear",
         "zerolinecolor": "#E1E5ED"
        },
        "xaxis10": {
         "anchor": "y10",
         "autorange": true,
         "domain": [
          0.2625,
          0.475
         ],
         "gridcolor": "#E1E5ED",
         "range": [
          -2.8134865841085044,
          2.3586575598292145
         ],
         "showgrid": false,
         "tickfont": {
          "color": "#4D5663"
         },
         "title": {
          "font": {
           "color": "#4D5663"
          },
          "text": ""
         },
         "type": "linear",
         "zerolinecolor": "#E1E5ED"
        },
        "xaxis11": {
         "anchor": "y11",
         "autorange": true,
         "domain": [
          0.525,
          0.7375
         ],
         "gridcolor": "#E1E5ED",
         "range": [
          -3,
          4
         ],
         "showgrid": false,
         "tickfont": {
          "color": "#4D5663"
         },
         "title": {
          "font": {
           "color": "#4D5663"
          },
          "text": ""
         },
         "type": "linear",
         "zerolinecolor": "#E1E5ED"
        },
        "xaxis12": {
         "anchor": "y12",
         "autorange": true,
         "domain": [
          0.7875,
          1
         ],
         "gridcolor": "#E1E5ED",
         "range": [
          -2.414683226680821,
          2.4107785207158443
         ],
         "showgrid": false,
         "tickfont": {
          "color": "#4D5663"
         },
         "title": {
          "font": {
           "color": "#4D5663"
          },
          "text": ""
         },
         "type": "linear",
         "zerolinecolor": "#E1E5ED"
        },
        "xaxis13": {
         "anchor": "y13",
         "autorange": true,
         "domain": [
          0,
          0.2125
         ],
         "gridcolor": "#E1E5ED",
         "range": [
          -2.689747034479146,
          2.6307534169637927
         ],
         "showgrid": false,
         "tickfont": {
          "color": "#4D5663"
         },
         "title": {
          "font": {
           "color": "#4D5663"
          },
          "text": ""
         },
         "type": "linear",
         "zerolinecolor": "#E1E5ED"
        },
        "xaxis14": {
         "anchor": "y14",
         "autorange": true,
         "domain": [
          0.2625,
          0.475
         ],
         "gridcolor": "#E1E5ED",
         "range": [
          -2.8134865841085044,
          2.3586575598292145
         ],
         "showgrid": false,
         "tickfont": {
          "color": "#4D5663"
         },
         "title": {
          "font": {
           "color": "#4D5663"
          },
          "text": ""
         },
         "type": "linear",
         "zerolinecolor": "#E1E5ED"
        },
        "xaxis15": {
         "anchor": "y15",
         "autorange": true,
         "domain": [
          0.525,
          0.7375
         ],
         "gridcolor": "#E1E5ED",
         "range": [
          -2.502860403039797,
          3.561855407736738
         ],
         "showgrid": false,
         "tickfont": {
          "color": "#4D5663"
         },
         "title": {
          "font": {
           "color": "#4D5663"
          },
          "text": ""
         },
         "type": "linear",
         "zerolinecolor": "#E1E5ED"
        },
        "xaxis16": {
         "anchor": "y16",
         "autorange": true,
         "domain": [
          0.7875,
          1
         ],
         "gridcolor": "#E1E5ED",
         "range": [
          -2.5,
          2.5
         ],
         "showgrid": false,
         "tickfont": {
          "color": "#4D5663"
         },
         "title": {
          "font": {
           "color": "#4D5663"
          },
          "text": ""
         },
         "type": "linear",
         "zerolinecolor": "#E1E5ED"
        },
        "xaxis2": {
         "anchor": "y2",
         "autorange": true,
         "domain": [
          0.2625,
          0.475
         ],
         "gridcolor": "#E1E5ED",
         "range": [
          -2.8134865841085044,
          2.3586575598292145
         ],
         "showgrid": false,
         "tickfont": {
          "color": "#4D5663"
         },
         "title": {
          "font": {
           "color": "#4D5663"
          },
          "text": ""
         },
         "type": "linear",
         "zerolinecolor": "#E1E5ED"
        },
        "xaxis3": {
         "anchor": "y3",
         "autorange": true,
         "domain": [
          0.525,
          0.7375
         ],
         "gridcolor": "#E1E5ED",
         "range": [
          -2.502860403039797,
          3.561855407736738
         ],
         "showgrid": false,
         "tickfont": {
          "color": "#4D5663"
         },
         "title": {
          "font": {
           "color": "#4D5663"
          },
          "text": ""
         },
         "type": "linear",
         "zerolinecolor": "#E1E5ED"
        },
        "xaxis4": {
         "anchor": "y4",
         "autorange": true,
         "domain": [
          0.7875,
          1
         ],
         "gridcolor": "#E1E5ED",
         "range": [
          -2.414683226680821,
          2.4107785207158443
         ],
         "showgrid": false,
         "tickfont": {
          "color": "#4D5663"
         },
         "title": {
          "font": {
           "color": "#4D5663"
          },
          "text": ""
         },
         "type": "linear",
         "zerolinecolor": "#E1E5ED"
        },
        "xaxis5": {
         "anchor": "y5",
         "autorange": true,
         "domain": [
          0,
          0.2125
         ],
         "gridcolor": "#E1E5ED",
         "range": [
          -2.689747034479146,
          2.6307534169637927
         ],
         "showgrid": false,
         "tickfont": {
          "color": "#4D5663"
         },
         "title": {
          "font": {
           "color": "#4D5663"
          },
          "text": ""
         },
         "type": "linear",
         "zerolinecolor": "#E1E5ED"
        },
        "xaxis6": {
         "anchor": "y6",
         "autorange": true,
         "domain": [
          0.2625,
          0.475
         ],
         "gridcolor": "#E1E5ED",
         "range": [
          -2.5,
          2.5
         ],
         "showgrid": false,
         "tickfont": {
          "color": "#4D5663"
         },
         "title": {
          "font": {
           "color": "#4D5663"
          },
          "text": ""
         },
         "type": "linear",
         "zerolinecolor": "#E1E5ED"
        },
        "xaxis7": {
         "anchor": "y7",
         "autorange": true,
         "domain": [
          0.525,
          0.7375
         ],
         "gridcolor": "#E1E5ED",
         "range": [
          -2.502860403039797,
          3.561855407736738
         ],
         "showgrid": false,
         "tickfont": {
          "color": "#4D5663"
         },
         "title": {
          "font": {
           "color": "#4D5663"
          },
          "text": ""
         },
         "type": "linear",
         "zerolinecolor": "#E1E5ED"
        },
        "xaxis8": {
         "anchor": "y8",
         "autorange": true,
         "domain": [
          0.7875,
          1
         ],
         "gridcolor": "#E1E5ED",
         "range": [
          -2.414683226680821,
          2.4107785207158443
         ],
         "showgrid": false,
         "tickfont": {
          "color": "#4D5663"
         },
         "title": {
          "font": {
           "color": "#4D5663"
          },
          "text": ""
         },
         "type": "linear",
         "zerolinecolor": "#E1E5ED"
        },
        "xaxis9": {
         "anchor": "y9",
         "autorange": true,
         "domain": [
          0,
          0.2125
         ],
         "gridcolor": "#E1E5ED",
         "range": [
          -2.689747034479146,
          2.6307534169637927
         ],
         "showgrid": false,
         "tickfont": {
          "color": "#4D5663"
         },
         "title": {
          "font": {
           "color": "#4D5663"
          },
          "text": ""
         },
         "type": "linear",
         "zerolinecolor": "#E1E5ED"
        },
        "yaxis": {
         "anchor": "x",
         "autorange": true,
         "domain": [
          0.8025,
          1
         ],
         "gridcolor": "#E1E5ED",
         "range": [
          0,
          26.315789473684212
         ],
         "showgrid": false,
         "tickfont": {
          "color": "#4D5663"
         },
         "title": {
          "font": {
           "color": "#4D5663"
          },
          "text": ""
         },
         "zerolinecolor": "#E1E5ED"
        },
        "yaxis10": {
         "anchor": "x10",
         "autorange": true,
         "domain": [
          0.2675,
          0.465
         ],
         "gridcolor": "#E1E5ED",
         "range": [
          -3.0786015649303695,
          4.13759656962731
         ],
         "showgrid": false,
         "tickfont": {
          "color": "#4D5663"
         },
         "title": {
          "font": {
           "color": "#4D5663"
          },
          "text": ""
         },
         "type": "linear",
         "zerolinecolor": "#E1E5ED"
        },
        "yaxis11": {
         "anchor": "x11",
         "autorange": true,
         "domain": [
          0.2675,
          0.465
         ],
         "gridcolor": "#E1E5ED",
         "range": [
          0,
          40
         ],
         "showgrid": false,
         "tickfont": {
          "color": "#4D5663"
         },
         "title": {
          "font": {
           "color": "#4D5663"
          },
          "text": ""
         },
         "zerolinecolor": "#E1E5ED"
        },
        "yaxis12": {
         "anchor": "x12",
         "autorange": true,
         "domain": [
          0.2675,
          0.465
         ],
         "gridcolor": "#E1E5ED",
         "range": [
          -3.0786015649303695,
          4.13759656962731
         ],
         "showgrid": false,
         "tickfont": {
          "color": "#4D5663"
         },
         "title": {
          "font": {
           "color": "#4D5663"
          },
          "text": ""
         },
         "type": "linear",
         "zerolinecolor": "#E1E5ED"
        },
        "yaxis13": {
         "anchor": "x13",
         "autorange": true,
         "domain": [
          0,
          0.1975
         ],
         "gridcolor": "#E1E5ED",
         "range": [
          -2.8727783855946134,
          2.868873679629637
         ],
         "showgrid": false,
         "tickfont": {
          "color": "#4D5663"
         },
         "title": {
          "font": {
           "color": "#4D5663"
          },
          "text": ""
         },
         "type": "linear",
         "zerolinecolor": "#E1E5ED"
        },
        "yaxis14": {
         "anchor": "x14",
         "autorange": true,
         "domain": [
          0,
          0.1975
         ],
         "gridcolor": "#E1E5ED",
         "range": [
          -2.8727783855946134,
          2.868873679629637
         ],
         "showgrid": false,
         "tickfont": {
          "color": "#4D5663"
         },
         "title": {
          "font": {
           "color": "#4D5663"
          },
          "text": ""
         },
         "type": "linear",
         "zerolinecolor": "#E1E5ED"
        },
        "yaxis15": {
         "anchor": "x15",
         "autorange": true,
         "domain": [
          0,
          0.1975
         ],
         "gridcolor": "#E1E5ED",
         "range": [
          -2.8727783855946134,
          2.868873679629637
         ],
         "showgrid": false,
         "tickfont": {
          "color": "#4D5663"
         },
         "title": {
          "font": {
           "color": "#4D5663"
          },
          "text": ""
         },
         "type": "linear",
         "zerolinecolor": "#E1E5ED"
        },
        "yaxis16": {
         "anchor": "x16",
         "autorange": true,
         "domain": [
          0,
          0.1975
         ],
         "gridcolor": "#E1E5ED",
         "range": [
          0,
          26.315789473684212
         ],
         "showgrid": false,
         "tickfont": {
          "color": "#4D5663"
         },
         "title": {
          "font": {
           "color": "#4D5663"
          },
          "text": ""
         },
         "zerolinecolor": "#E1E5ED"
        },
        "yaxis2": {
         "anchor": "x2",
         "autorange": true,
         "domain": [
          0.8025,
          1
         ],
         "gridcolor": "#E1E5ED",
         "range": [
          -3.194837661530449,
          3.135844044015095
         ],
         "showgrid": false,
         "tickfont": {
          "color": "#4D5663"
         },
         "title": {
          "font": {
           "color": "#4D5663"
          },
          "text": ""
         },
         "type": "linear",
         "zerolinecolor": "#E1E5ED"
        },
        "yaxis3": {
         "anchor": "x3",
         "autorange": true,
         "domain": [
          0.8025,
          1
         ],
         "gridcolor": "#E1E5ED",
         "range": [
          -3.194837661530449,
          3.135844044015095
         ],
         "showgrid": false,
         "tickfont": {
          "color": "#4D5663"
         },
         "title": {
          "font": {
           "color": "#4D5663"
          },
          "text": ""
         },
         "type": "linear",
         "zerolinecolor": "#E1E5ED"
        },
        "yaxis4": {
         "anchor": "x4",
         "autorange": true,
         "domain": [
          0.8025,
          1
         ],
         "gridcolor": "#E1E5ED",
         "range": [
          -3.194837661530449,
          3.135844044015095
         ],
         "showgrid": false,
         "tickfont": {
          "color": "#4D5663"
         },
         "title": {
          "font": {
           "color": "#4D5663"
          },
          "text": ""
         },
         "type": "linear",
         "zerolinecolor": "#E1E5ED"
        },
        "yaxis5": {
         "anchor": "x5",
         "autorange": true,
         "domain": [
          0.535,
          0.7325
         ],
         "gridcolor": "#E1E5ED",
         "range": [
          -3.3044933141526176,
          2.8496642898733278
         ],
         "showgrid": false,
         "tickfont": {
          "color": "#4D5663"
         },
         "title": {
          "font": {
           "color": "#4D5663"
          },
          "text": ""
         },
         "type": "linear",
         "zerolinecolor": "#E1E5ED"
        },
        "yaxis6": {
         "anchor": "x6",
         "autorange": true,
         "domain": [
          0.535,
          0.7325
         ],
         "gridcolor": "#E1E5ED",
         "range": [
          0,
          20
         ],
         "showgrid": false,
         "tickfont": {
          "color": "#4D5663"
         },
         "title": {
          "font": {
           "color": "#4D5663"
          },
          "text": ""
         },
         "zerolinecolor": "#E1E5ED"
        },
        "yaxis7": {
         "anchor": "x7",
         "autorange": true,
         "domain": [
          0.535,
          0.7325
         ],
         "gridcolor": "#E1E5ED",
         "range": [
          -3.3044933141526176,
          2.8496642898733278
         ],
         "showgrid": false,
         "tickfont": {
          "color": "#4D5663"
         },
         "title": {
          "font": {
           "color": "#4D5663"
          },
          "text": ""
         },
         "type": "linear",
         "zerolinecolor": "#E1E5ED"
        },
        "yaxis8": {
         "anchor": "x8",
         "autorange": true,
         "domain": [
          0.535,
          0.7325
         ],
         "gridcolor": "#E1E5ED",
         "range": [
          -3.3044933141526176,
          2.8496642898733278
         ],
         "showgrid": false,
         "tickfont": {
          "color": "#4D5663"
         },
         "title": {
          "font": {
           "color": "#4D5663"
          },
          "text": ""
         },
         "type": "linear",
         "zerolinecolor": "#E1E5ED"
        },
        "yaxis9": {
         "anchor": "x9",
         "autorange": true,
         "domain": [
          0.2675,
          0.465
         ],
         "gridcolor": "#E1E5ED",
         "range": [
          -3.0786015649303695,
          4.13759656962731
         ],
         "showgrid": false,
         "tickfont": {
          "color": "#4D5663"
         },
         "title": {
          "font": {
           "color": "#4D5663"
          },
          "text": ""
         },
         "type": "linear",
         "zerolinecolor": "#E1E5ED"
        }
       }
      },
      "image/png": "[encoded data removed]",
      "text/html": [
       "<div>                            <div id=\"a010e224-856c-449d-ad53-e611a1c8251b\" class=\"plotly-graph-div\" style=\"height:525px; width:100%;\"></div>            <script type=\"text/javascript\">                require([\"plotly\"], function(Plotly) {                    window.PLOTLYENV=window.PLOTLYENV || {};\n",
       "                    window.PLOTLYENV.BASE_URL='https://plot.ly';                                    if (document.getElementById(\"a010e224-856c-449d-ad53-e611a1c8251b\")) {                    Plotly.newPlot(                        \"a010e224-856c-449d-ad53-e611a1c8251b\",                        [{\"histfunc\":\"count\",\"histnorm\":\"\",\"marker\":{\"color\":\"rgba(255, 153, 51, 1.0)\",\"line\":{\"color\":\"#4D5663\",\"width\":1.3}},\"name\":\"A\",\"nbinsx\":10,\"opacity\":0.8,\"orientation\":\"v\",\"x\":[-0.8517614455883655,-0.04342189052762476,-0.5212214967722162,0.3463107666807025,-0.745881714063798,-0.30058773176849457,-2.294340311312299,-0.6512596659917415,0.506280440778242,-0.009690230605172254,0.6878141235775956,0.9626477777248147,1.9166904602701855,-0.45669843310114844,-1.17050493216569,2.2448005418810375,-0.28437845271142315,2.20013599919316,-1.1618106024664825,-0.8567423458194338,-1.0208832664798144,0.5703772004588231,0.9500450320973882,-0.6157420152530569,-0.7506656628682755,-0.16251365544450222,-0.6594437150281366,-0.9953798842138176,-1.0214733410454175,0.9285981310725163,0.33397810418350543,2.004283613512989,-1.0553236237125618,2.2850752156538063,-1.3753565992764296,-0.16501944321362802,0.5859344727051908,-0.18337137906315976,0.5932397316914628,-1.0418591959561794,1.7492129420611109,-0.5817937909383222,1.2316994838318762,0.9294052760388295,0.3520482281449861,0.7995560104582256,-0.41303009169552846,0.6949404983860864,1.5221943621246272,0.9258134979345521,-0.9730478801948261,-0.6262233648414084,-0.7063907512266209,-0.5577707713737803,-1.115285461836506,0.14168470522696505,-0.5008846735922116,-2.132915473280724,-0.4274968629044933,-1.3049965129181547,0.1255639710172537,-0.5779084871828467,-2.3440688331691595,-0.9404043092856896,1.0113599002670215,-1.1581293656750085,-0.3209275331612879,-0.26558229431764846,0.5598700845574042,0.6541742521756773,-0.5044763013189157,1.2664555045492127,-0.7708413334932498,0.7605925642066997,-1.3641341420112059,-0.7014556822610499,0.11434435077903846,0.9554038286070254,-0.570544304958875,-1.073236016265232,-0.16185980233727848,-0.15574260103122203,0.009923580756196683,0.7915328220783816,-1.936094840968455,-0.08462248253141151,0.6989879597069288,-0.5783664463035025,0.29535472856846945,-0.9236655704169129,-2.0291032054275138,-0.34867755292168895,-0.8556589825027233,0.45736269533464113,1.6827814465839737,0.017887806579571335,0.7430841354778721,1.0473851610215101,-0.8759282168181415,0.7612861204776716],\"xaxis\":\"x\",\"yaxis\":\"y\",\"type\":\"histogram\"},{\"line\":{\"color\":\"rgba(128, 128, 128, 1.0)\",\"dash\":\"solid\",\"shape\":\"linear\",\"width\":1.3},\"marker\":{\"size\":2,\"symbol\":\"circle\"},\"mode\":\"markers\",\"name\":\"A\",\"text\":\"\",\"x\":[-1.2411062397873414,0.02807914310972193,0.31936991465874937,-0.936624080293878,-2.0397357953994755,-1.2961599561491113,-2.4774472395187512,0.09931069506463953,0.26552531364527115,0.9335464940691652,0.8986794079209267,0.29622631233968777,0.6437623937325981,1.9277184697441778,-0.7036554347701831,0.2500502636911673,1.2350021110504927,1.0237531453705104,-0.6632947884834026,0.9868176338319913,1.3453311524356033,0.24952513249963243,-0.7082905967465567,1.2769871222507228,-1.9118975786051817,-0.8873715742413686,1.5378638040470454,-0.10710943967908983,0.7845777905330139,0.8270199278529797,0.41947638614534927,-0.6103461037142758,1.2832756709970892,-0.11416461232664675,-0.7392920699114925,-1.4637285693759212,-0.4677850468066235,-0.806834032956265,-0.3514224740201551,-0.08759108947064012,1.9604429088767352,-1.539498137166316,-0.7589306600245808,-1.3873313785163255,1.12307512963267,-1.0874744042664137,0.729226021155078,0.4351358751294404,-1.3587969148637427,1.6140817210918543,1.2660276312562755,-0.8082257649351985,0.69704454733331,0.4152703294264582,0.9034585114511574,-0.05924854849022004,2.0226182152394614,-0.07841380341378705,-0.3386092825470693,1.4156155845223164,-1.9797346660137547,-1.841984115363568,-0.5154841724459465,0.8939062610383636,-0.3489922837461976,-0.677196875864426,-1.0620264960449346,-1.1503882870014204,0.0042260410358588435,-0.5620865442747135,0.4115443926705976,0.7153717423546805,-1.5459819291841044,1.3252812663525808,0.7538124900180974,0.8547986901890187,-0.2795176870933874,0.763745158149344,0.2111943276448071,-0.7972437348540449,-0.393452740038313,0.9953585944717301,0.9534378275081842,0.052218086558350224,1.3181683198717666,0.2754614898008423,-0.8393112238396853,1.3546910993944914,0.4372159696747173,0.9136047664976019,1.443219930139496,0.046487522231139576,0.99988574453509,-0.0042272118759153045,-0.5630943395117491,-2.124339506586154,-0.22020744078220653,1.0475830922547424,0.14931168810186324,0.025470618198708817],\"xaxis\":\"x2\",\"y\":[-0.8517614455883655,-0.04342189052762476,-0.5212214967722162,0.3463107666807025,-0.745881714063798,-0.30058773176849457,-2.294340311312299,-0.6512596659917415,0.506280440778242,-0.009690230605172254,0.6878141235775956,0.9626477777248147,1.9166904602701855,-0.45669843310114844,-1.17050493216569,2.2448005418810375,-0.28437845271142315,2.20013599919316,-1.1618106024664825,-0.8567423458194338,-1.0208832664798144,0.5703772004588231,0.9500450320973882,-0.6157420152530569,-0.7506656628682755,-0.16251365544450222,-0.6594437150281366,-0.9953798842138176,-1.0214733410454175,0.9285981310725163,0.33397810418350543,2.004283613512989,-1.0553236237125618,2.2850752156538063,-1.3753565992764296,-0.16501944321362802,0.5859344727051908,-0.18337137906315976,0.5932397316914628,-1.0418591959561794,1.7492129420611109,-0.5817937909383222,1.2316994838318762,0.9294052760388295,0.3520482281449861,0.7995560104582256,-0.41303009169552846,0.6949404983860864,1.5221943621246272,0.9258134979345521,-0.9730478801948261,-0.6262233648414084,-0.7063907512266209,-0.5577707713737803,-1.115285461836506,0.14168470522696505,-0.5008846735922116,-2.132915473280724,-0.4274968629044933,-1.3049965129181547,0.1255639710172537,-0.5779084871828467,-2.3440688331691595,-0.9404043092856896,1.0113599002670215,-1.1581293656750085,-0.3209275331612879,-0.26558229431764846,0.5598700845574042,0.6541742521756773,-0.5044763013189157,1.2664555045492127,-0.7708413334932498,0.7605925642066997,-1.3641341420112059,-0.7014556822610499,0.11434435077903846,0.9554038286070254,-0.570544304958875,-1.073236016265232,-0.16185980233727848,-0.15574260103122203,0.009923580756196683,0.7915328220783816,-1.936094840968455,-0.08462248253141151,0.6989879597069288,-0.5783664463035025,0.29535472856846945,-0.9236655704169129,-2.0291032054275138,-0.34867755292168895,-0.8556589825027233,0.45736269533464113,1.6827814465839737,0.017887806579571335,0.7430841354778721,1.0473851610215101,-0.8759282168181415,0.7612861204776716],\"yaxis\":\"y2\",\"type\":\"scatter\"},{\"line\":{\"color\":\"rgba(128, 128, 128, 1.0)\",\"dash\":\"solid\",\"shape\":\"linear\",\"width\":1.3},\"marker\":{\"size\":2,\"symbol\":\"circle\"},\"mode\":\"markers\",\"name\":\"A\",\"text\":\"\",\"x\":[1.99074868674031,-0.00465708454709553,-0.5755445261127081,0.5382443872435205,0.1709426834321075,0.4329753224811685,-0.5651554806569195,-0.5382260512861466,0.04847066972062829,0.08806423847999274,-0.79606960465105,0.8780084031924762,-1.3235085256898664,0.7248567525421737,-1.5146950623954112,-0.5665899094172965,1.019728716322084,0.6388293181860352,1.250817021100408,-1.4096077271209306,-0.8525157696226018,-0.4899635144904453,0.13751888465810286,0.14718455041977344,1.834529039436641,0.9084107963171624,0.5895130764523258,-0.038309296558468424,-0.4388820852707616,1.4627208308293214,1.1776910929138449,0.5157145320795943,-1.9609777265208228,-0.25592226927388523,3.1678247950042633,0.6846831368718976,-0.5005789641863538,1.3976315892846005,-1.4207617413874387,0.7648460769609398,0.1365811035395829,-1.7804267125521187,-1.5838621251058371,0.42779170807600814,-0.18986991343828116,0.29815222688000004,0.13371404643256948,0.8922931377279383,-1.846555638787027,-0.056493298038888876,1.7527122256491043,-0.7124329358839242,-0.9841181433991666,0.8779756329966848,0.8654510077229993,1.1968004459990302,-1.1250083025882454,-1.5258375755988967,-0.501217116263024,-0.053820139446658005,-1.4692798385105381,-0.5880506546292816,-0.7431529181334172,-0.19304032205527322,-0.47451713767621806,-2.1088297903073228,2.0091149763178815,-0.24549609142478476,-1.9436855874491659,-1.0485915236308072,0.16613915039287627,0.8985420514860681,-0.3415662591350445,-0.4290461741748661,-0.8278170574841253,-0.6650263799092747,-1.495577624198766,1.1527935477724358,-0.7222492854569627,0.9234615143051651,0.03046862993085494,1.1288922392026846,-0.9692935077617421,-0.046178203334927136,-0.5109769793720991,-0.2521226240125022,1.4868369585876753,0.7688646976945722,0.0633897069989844,1.8859575140986533,0.286565663426963,-0.08974188217200231,1.5781239564426428,0.06176288122267352,-0.4371343104556174,-0.7675835389156066,-0.072699091327509,-0.9378252040684169,0.2292594668542032,-0.10819490478797017],\"xaxis\":\"x3\",\"y\":[-0.8517614455883655,-0.04342189052762476,-0.5212214967722162,0.3463107666807025,-0.745881714063798,-0.30058773176849457,-2.294340311312299,-0.6512596659917415,0.506280440778242,-0.009690230605172254,0.6878141235775956,0.9626477777248147,1.9166904602701855,-0.45669843310114844,-1.17050493216569,2.2448005418810375,-0.28437845271142315,2.20013599919316,-1.1618106024664825,-0.8567423458194338,-1.0208832664798144,0.5703772004588231,0.9500450320973882,-0.6157420152530569,-0.7506656628682755,-0.16251365544450222,-0.6594437150281366,-0.9953798842138176,-1.0214733410454175,0.9285981310725163,0.33397810418350543,2.004283613512989,-1.0553236237125618,2.2850752156538063,-1.3753565992764296,-0.16501944321362802,0.5859344727051908,-0.18337137906315976,0.5932397316914628,-1.0418591959561794,1.7492129420611109,-0.5817937909383222,1.2316994838318762,0.9294052760388295,0.3520482281449861,0.7995560104582256,-0.41303009169552846,0.6949404983860864,1.5221943621246272,0.9258134979345521,-0.9730478801948261,-0.6262233648414084,-0.7063907512266209,-0.5577707713737803,-1.115285461836506,0.14168470522696505,-0.5008846735922116,-2.132915473280724,-0.4274968629044933,-1.3049965129181547,0.1255639710172537,-0.5779084871828467,-2.3440688331691595,-0.9404043092856896,1.0113599002670215,-1.1581293656750085,-0.3209275331612879,-0.26558229431764846,0.5598700845574042,0.6541742521756773,-0.5044763013189157,1.2664555045492127,-0.7708413334932498,0.7605925642066997,-1.3641341420112059,-0.7014556822610499,0.11434435077903846,0.9554038286070254,-0.570544304958875,-1.073236016265232,-0.16185980233727848,-0.15574260103122203,0.009923580756196683,0.7915328220783816,-1.936094840968455,-0.08462248253141151,0.6989879597069288,-0.5783664463035025,0.29535472856846945,-0.9236655704169129,-2.0291032054275138,-0.34867755292168895,-0.8556589825027233,0.45736269533464113,1.6827814465839737,0.017887806579571335,0.7430841354778721,1.0473851610215101,-0.8759282168181415,0.7612861204776716],\"yaxis\":\"y3\",\"type\":\"scatter\"},{\"line\":{\"color\":\"rgba(128, 128, 128, 1.0)\",\"dash\":\"solid\",\"shape\":\"linear\",\"width\":1.3},\"marker\":{\"size\":2,\"symbol\":\"circle\"},\"mode\":\"markers\",\"name\":\"A\",\"text\":\"\",\"x\":[-0.9095280516273,-0.1900569063753824,0.2698374073735738,0.44794311046828933,0.6288764120114955,-0.06262118751111524,-0.26110849338128506,0.04603596881270804,0.5200144469049582,-0.2926155418755851,0.1510701746371853,-0.5877929182944712,0.08069558213353756,-0.9486654727999834,0.7384779219991,-0.06410591754527575,0.3548260165084111,0.9054277579689765,-0.06088091502475971,-0.9013312571843716,2.0972634759275595,1.4900101474091065,0.40261896097794214,-0.7867852691032597,-1.1118230564512712,1.5755924791406197,-0.26121813234467717,0.818713933783864,-1.8644115325025155,-0.27403192527081843,1.9576244718277251,-0.24605663623256627,-0.5123924847226448,0.23369135084072537,-0.7106808785710417,0.6689331481595072,1.1110575005073737,0.21581313152734466,-0.4438586289334656,0.1729837762538506,-1.7700587075000929,0.37143431574323865,0.013931457863850364,1.064527392567633,0.6774940958087046,-0.2712353808433596,0.6259480440257154,0.6094737251907064,-1.2716351983656191,-0.6962798871997286,-1.4955734251208237,-1.8834275522361492,0.11823678063751057,0.18823957275155215,0.13155936455322798,-1.6520989148959249,0.3184852609414845,-1.5155816087200382,0.265585097295708,-0.2028549510446965,-0.031449586442298214,0.8368611781097274,-0.9391191159328348,1.2681019891243461,1.4441230757810974,0.26438228422400245,0.697102195169398,-0.1922187018955505,-0.5192173064225332,-1.1883600624748492,-0.18156463296776557,0.18444151620027213,0.7913705740592086,0.3246168451101668,-0.8099255565615424,1.0776555411206108,1.0847851664599493,1.239370886496258,0.9125234655662715,-0.19320405393911116,0.18672164796475887,-1.026260378037688,0.08214481737685381,-0.0657676414163017,0.028634564346487694,-1.160917571285121,1.0580203509717026,0.431179003636367,-2.101168181892536,-0.20401401031325544,0.8297268745308249,-0.024495455035140976,0.8013374475472247,-1.8888564911648995,1.258441521160854,0.08441207009120676,-1.3984125482489753,-0.5614214623572323,0.8069062068920521,1.7134747999012199],\"xaxis\":\"x4\",\"y\":[-0.8517614455883655,-0.04342189052762476,-0.5212214967722162,0.3463107666807025,-0.745881714063798,-0.30058773176849457,-2.294340311312299,-0.6512596659917415,0.506280440778242,-0.009690230605172254,0.6878141235775956,0.9626477777248147,1.9166904602701855,-0.45669843310114844,-1.17050493216569,2.2448005418810375,-0.28437845271142315,2.20013599919316,-1.1618106024664825,-0.8567423458194338,-1.0208832664798144,0.5703772004588231,0.9500450320973882,-0.6157420152530569,-0.7506656628682755,-0.16251365544450222,-0.6594437150281366,-0.9953798842138176,-1.0214733410454175,0.9285981310725163,0.33397810418350543,2.004283613512989,-1.0553236237125618,2.2850752156538063,-1.3753565992764296,-0.16501944321362802,0.5859344727051908,-0.18337137906315976,0.5932397316914628,-1.0418591959561794,1.7492129420611109,-0.5817937909383222,1.2316994838318762,0.9294052760388295,0.3520482281449861,0.7995560104582256,-0.41303009169552846,0.6949404983860864,1.5221943621246272,0.9258134979345521,-0.9730478801948261,-0.6262233648414084,-0.7063907512266209,-0.5577707713737803,-1.115285461836506,0.14168470522696505,-0.5008846735922116,-2.132915473280724,-0.4274968629044933,-1.3049965129181547,0.1255639710172537,-0.5779084871828467,-2.3440688331691595,-0.9404043092856896,1.0113599002670215,-1.1581293656750085,-0.3209275331612879,-0.26558229431764846,0.5598700845574042,0.6541742521756773,-0.5044763013189157,1.2664555045492127,-0.7708413334932498,0.7605925642066997,-1.3641341420112059,-0.7014556822610499,0.11434435077903846,0.9554038286070254,-0.570544304958875,-1.073236016265232,-0.16185980233727848,-0.15574260103122203,0.009923580756196683,0.7915328220783816,-1.936094840968455,-0.08462248253141151,0.6989879597069288,-0.5783664463035025,0.29535472856846945,-0.9236655704169129,-2.0291032054275138,-0.34867755292168895,-0.8556589825027233,0.45736269533464113,1.6827814465839737,0.017887806579571335,0.7430841354778721,1.0473851610215101,-0.8759282168181415,0.7612861204776716],\"yaxis\":\"y4\",\"type\":\"scatter\"},{\"line\":{\"color\":\"rgba(128, 128, 128, 1.0)\",\"dash\":\"solid\",\"shape\":\"linear\",\"width\":1.3},\"marker\":{\"size\":2,\"symbol\":\"circle\"},\"mode\":\"markers\",\"name\":\"B\",\"text\":\"\",\"x\":[-0.8517614455883655,-0.04342189052762476,-0.5212214967722162,0.3463107666807025,-0.745881714063798,-0.30058773176849457,-2.294340311312299,-0.6512596659917415,0.506280440778242,-0.009690230605172254,0.6878141235775956,0.9626477777248147,1.9166904602701855,-0.45669843310114844,-1.17050493216569,2.2448005418810375,-0.28437845271142315,2.20013599919316,-1.1618106024664825,-0.8567423458194338,-1.0208832664798144,0.5703772004588231,0.9500450320973882,-0.6157420152530569,-0.7506656628682755,-0.16251365544450222,-0.6594437150281366,-0.9953798842138176,-1.0214733410454175,0.9285981310725163,0.33397810418350543,2.004283613512989,-1.0553236237125618,2.2850752156538063,-1.3753565992764296,-0.16501944321362802,0.5859344727051908,-0.18337137906315976,0.5932397316914628,-1.0418591959561794,1.7492129420611109,-0.5817937909383222,1.2316994838318762,0.9294052760388295,0.3520482281449861,0.7995560104582256,-0.41303009169552846,0.6949404983860864,1.5221943621246272,0.9258134979345521,-0.9730478801948261,-0.6262233648414084,-0.7063907512266209,-0.5577707713737803,-1.115285461836506,0.14168470522696505,-0.5008846735922116,-2.132915473280724,-0.4274968629044933,-1.3049965129181547,0.1255639710172537,-0.5779084871828467,-2.3440688331691595,-0.9404043092856896,1.0113599002670215,-1.1581293656750085,-0.3209275331612879,-0.26558229431764846,0.5598700845574042,0.6541742521756773,-0.5044763013189157,1.2664555045492127,-0.7708413334932498,0.7605925642066997,-1.3641341420112059,-0.7014556822610499,0.11434435077903846,0.9554038286070254,-0.570544304958875,-1.073236016265232,-0.16185980233727848,-0.15574260103122203,0.009923580756196683,0.7915328220783816,-1.936094840968455,-0.08462248253141151,0.6989879597069288,-0.5783664463035025,0.29535472856846945,-0.9236655704169129,-2.0291032054275138,-0.34867755292168895,-0.8556589825027233,0.45736269533464113,1.6827814465839737,0.017887806579571335,0.7430841354778721,1.0473851610215101,-0.8759282168181415,0.7612861204776716],\"xaxis\":\"x5\",\"y\":[-1.2411062397873414,0.02807914310972193,0.31936991465874937,-0.936624080293878,-2.0397357953994755,-1.2961599561491113,-2.4774472395187512,0.09931069506463953,0.26552531364527115,0.9335464940691652,0.8986794079209267,0.29622631233968777,0.6437623937325981,1.9277184697441778,-0.7036554347701831,0.2500502636911673,1.2350021110504927,1.0237531453705104,-0.6632947884834026,0.9868176338319913,1.3453311524356033,0.24952513249963243,-0.7082905967465567,1.2769871222507228,-1.9118975786051817,-0.8873715742413686,1.5378638040470454,-0.10710943967908983,0.7845777905330139,0.8270199278529797,0.41947638614534927,-0.6103461037142758,1.2832756709970892,-0.11416461232664675,-0.7392920699114925,-1.4637285693759212,-0.4677850468066235,-0.806834032956265,-0.3514224740201551,-0.08759108947064012,1.9604429088767352,-1.539498137166316,-0.7589306600245808,-1.3873313785163255,1.12307512963267,-1.0874744042664137,0.729226021155078,0.4351358751294404,-1.3587969148637427,1.6140817210918543,1.2660276312562755,-0.8082257649351985,0.69704454733331,0.4152703294264582,0.9034585114511574,-0.05924854849022004,2.0226182152394614,-0.07841380341378705,-0.3386092825470693,1.4156155845223164,-1.9797346660137547,-1.841984115363568,-0.5154841724459465,0.8939062610383636,-0.3489922837461976,-0.677196875864426,-1.0620264960449346,-1.1503882870014204,0.0042260410358588435,-0.5620865442747135,0.4115443926705976,0.7153717423546805,-1.5459819291841044,1.3252812663525808,0.7538124900180974,0.8547986901890187,-0.2795176870933874,0.763745158149344,0.2111943276448071,-0.7972437348540449,-0.393452740038313,0.9953585944717301,0.9534378275081842,0.052218086558350224,1.3181683198717666,0.2754614898008423,-0.8393112238396853,1.3546910993944914,0.4372159696747173,0.9136047664976019,1.443219930139496,0.046487522231139576,0.99988574453509,-0.0042272118759153045,-0.5630943395117491,-2.124339506586154,-0.22020744078220653,1.0475830922547424,0.14931168810186324,0.025470618198708817],\"yaxis\":\"y5\",\"type\":\"scatter\"},{\"histfunc\":\"count\",\"histnorm\":\"\",\"marker\":{\"color\":\"rgba(55, 128, 191, 1.0)\",\"line\":{\"color\":\"#4D5663\",\"width\":1.3}},\"name\":\"B\",\"nbinsx\":10,\"opacity\":0.8,\"orientation\":\"v\",\"x\":[-1.2411062397873414,0.02807914310972193,0.31936991465874937,-0.936624080293878,-2.0397357953994755,-1.2961599561491113,-2.4774472395187512,0.09931069506463953,0.26552531364527115,0.9335464940691652,0.8986794079209267,0.29622631233968777,0.6437623937325981,1.9277184697441778,-0.7036554347701831,0.2500502636911673,1.2350021110504927,1.0237531453705104,-0.6632947884834026,0.9868176338319913,1.3453311524356033,0.24952513249963243,-0.7082905967465567,1.2769871222507228,-1.9118975786051817,-0.8873715742413686,1.5378638040470454,-0.10710943967908983,0.7845777905330139,0.8270199278529797,0.41947638614534927,-0.6103461037142758,1.2832756709970892,-0.11416461232664675,-0.7392920699114925,-1.4637285693759212,-0.4677850468066235,-0.806834032956265,-0.3514224740201551,-0.08759108947064012,1.9604429088767352,-1.539498137166316,-0.7589306600245808,-1.3873313785163255,1.12307512963267,-1.0874744042664137,0.729226021155078,0.4351358751294404,-1.3587969148637427,1.6140817210918543,1.2660276312562755,-0.8082257649351985,0.69704454733331,0.4152703294264582,0.9034585114511574,-0.05924854849022004,2.0226182152394614,-0.07841380341378705,-0.3386092825470693,1.4156155845223164,-1.9797346660137547,-1.841984115363568,-0.5154841724459465,0.8939062610383636,-0.3489922837461976,-0.677196875864426,-1.0620264960449346,-1.1503882870014204,0.0042260410358588435,-0.5620865442747135,0.4115443926705976,0.7153717423546805,-1.5459819291841044,1.3252812663525808,0.7538124900180974,0.8547986901890187,-0.2795176870933874,0.763745158149344,0.2111943276448071,-0.7972437348540449,-0.393452740038313,0.9953585944717301,0.9534378275081842,0.052218086558350224,1.3181683198717666,0.2754614898008423,-0.8393112238396853,1.3546910993944914,0.4372159696747173,0.9136047664976019,1.443219930139496,0.046487522231139576,0.99988574453509,-0.0042272118759153045,-0.5630943395117491,-2.124339506586154,-0.22020744078220653,1.0475830922547424,0.14931168810186324,0.025470618198708817],\"xaxis\":\"x6\",\"yaxis\":\"y6\",\"type\":\"histogram\"},{\"line\":{\"color\":\"rgba(128, 128, 128, 1.0)\",\"dash\":\"solid\",\"shape\":\"linear\",\"width\":1.3},\"marker\":{\"size\":2,\"symbol\":\"circle\"},\"mode\":\"markers\",\"name\":\"B\",\"text\":\"\",\"x\":[1.99074868674031,-0.00465708454709553,-0.5755445261127081,0.5382443872435205,0.1709426834321075,0.4329753224811685,-0.5651554806569195,-0.5382260512861466,0.04847066972062829,0.08806423847999274,-0.79606960465105,0.8780084031924762,-1.3235085256898664,0.7248567525421737,-1.5146950623954112,-0.5665899094172965,1.019728716322084,0.6388293181860352,1.250817021100408,-1.4096077271209306,-0.8525157696226018,-0.4899635144904453,0.13751888465810286,0.14718455041977344,1.834529039436641,0.9084107963171624,0.5895130764523258,-0.038309296558468424,-0.4388820852707616,1.4627208308293214,1.1776910929138449,0.5157145320795943,-1.9609777265208228,-0.25592226927388523,3.1678247950042633,0.6846831368718976,-0.5005789641863538,1.3976315892846005,-1.4207617413874387,0.7648460769609398,0.1365811035395829,-1.7804267125521187,-1.5838621251058371,0.42779170807600814,-0.18986991343828116,0.29815222688000004,0.13371404643256948,0.8922931377279383,-1.846555638787027,-0.056493298038888876,1.7527122256491043,-0.7124329358839242,-0.9841181433991666,0.8779756329966848,0.8654510077229993,1.1968004459990302,-1.1250083025882454,-1.5258375755988967,-0.501217116263024,-0.053820139446658005,-1.4692798385105381,-0.5880506546292816,-0.7431529181334172,-0.19304032205527322,-0.47451713767621806,-2.1088297903073228,2.0091149763178815,-0.24549609142478476,-1.9436855874491659,-1.0485915236308072,0.16613915039287627,0.8985420514860681,-0.3415662591350445,-0.4290461741748661,-0.8278170574841253,-0.6650263799092747,-1.495577624198766,1.1527935477724358,-0.7222492854569627,0.9234615143051651,0.03046862993085494,1.1288922392026846,-0.9692935077617421,-0.046178203334927136,-0.5109769793720991,-0.2521226240125022,1.4868369585876753,0.7688646976945722,0.0633897069989844,1.8859575140986533,0.286565663426963,-0.08974188217200231,1.5781239564426428,0.06176288122267352,-0.4371343104556174,-0.7675835389156066,-0.072699091327509,-0.9378252040684169,0.2292594668542032,-0.10819490478797017],\"xaxis\":\"x7\",\"y\":[-1.2411062397873414,0.02807914310972193,0.31936991465874937,-0.936624080293878,-2.0397357953994755,-1.2961599561491113,-2.4774472395187512,0.09931069506463953,0.26552531364527115,0.9335464940691652,0.8986794079209267,0.29622631233968777,0.6437623937325981,1.9277184697441778,-0.7036554347701831,0.2500502636911673,1.2350021110504927,1.0237531453705104,-0.6632947884834026,0.9868176338319913,1.3453311524356033,0.24952513249963243,-0.7082905967465567,1.2769871222507228,-1.9118975786051817,-0.8873715742413686,1.5378638040470454,-0.10710943967908983,0.7845777905330139,0.8270199278529797,0.41947638614534927,-0.6103461037142758,1.2832756709970892,-0.11416461232664675,-0.7392920699114925,-1.4637285693759212,-0.4677850468066235,-0.806834032956265,-0.3514224740201551,-0.08759108947064012,1.9604429088767352,-1.539498137166316,-0.7589306600245808,-1.3873313785163255,1.12307512963267,-1.0874744042664137,0.729226021155078,0.4351358751294404,-1.3587969148637427,1.6140817210918543,1.2660276312562755,-0.8082257649351985,0.69704454733331,0.4152703294264582,0.9034585114511574,-0.05924854849022004,2.0226182152394614,-0.07841380341378705,-0.3386092825470693,1.4156155845223164,-1.9797346660137547,-1.841984115363568,-0.5154841724459465,0.8939062610383636,-0.3489922837461976,-0.677196875864426,-1.0620264960449346,-1.1503882870014204,0.0042260410358588435,-0.5620865442747135,0.4115443926705976,0.7153717423546805,-1.5459819291841044,1.3252812663525808,0.7538124900180974,0.8547986901890187,-0.2795176870933874,0.763745158149344,0.2111943276448071,-0.7972437348540449,-0.393452740038313,0.9953585944717301,0.9534378275081842,0.052218086558350224,1.3181683198717666,0.2754614898008423,-0.8393112238396853,1.3546910993944914,0.4372159696747173,0.9136047664976019,1.443219930139496,0.046487522231139576,0.99988574453509,-0.0042272118759153045,-0.5630943395117491,-2.124339506586154,-0.22020744078220653,1.0475830922547424,0.14931168810186324,0.025470618198708817],\"yaxis\":\"y7\",\"type\":\"scatter\"},{\"line\":{\"color\":\"rgba(128, 128, 128, 1.0)\",\"dash\":\"solid\",\"shape\":\"linear\",\"width\":1.3},\"marker\":{\"size\":2,\"symbol\":\"circle\"},\"mode\":\"markers\",\"name\":\"B\",\"text\":\"\",\"x\":[-0.9095280516273,-0.1900569063753824,0.2698374073735738,0.44794311046828933,0.6288764120114955,-0.06262118751111524,-0.26110849338128506,0.04603596881270804,0.5200144469049582,-0.2926155418755851,0.1510701746371853,-0.5877929182944712,0.08069558213353756,-0.9486654727999834,0.7384779219991,-0.06410591754527575,0.3548260165084111,0.9054277579689765,-0.06088091502475971,-0.9013312571843716,2.0972634759275595,1.4900101474091065,0.40261896097794214,-0.7867852691032597,-1.1118230564512712,1.5755924791406197,-0.26121813234467717,0.818713933783864,-1.8644115325025155,-0.27403192527081843,1.9576244718277251,-0.24605663623256627,-0.5123924847226448,0.23369135084072537,-0.7106808785710417,0.6689331481595072,1.1110575005073737,0.21581313152734466,-0.4438586289334656,0.1729837762538506,-1.7700587075000929,0.37143431574323865,0.013931457863850364,1.064527392567633,0.6774940958087046,-0.2712353808433596,0.6259480440257154,0.6094737251907064,-1.2716351983656191,-0.6962798871997286,-1.4955734251208237,-1.8834275522361492,0.11823678063751057,0.18823957275155215,0.13155936455322798,-1.6520989148959249,0.3184852609414845,-1.5155816087200382,0.265585097295708,-0.2028549510446965,-0.031449586442298214,0.8368611781097274,-0.9391191159328348,1.2681019891243461,1.4441230757810974,0.26438228422400245,0.697102195169398,-0.1922187018955505,-0.5192173064225332,-1.1883600624748492,-0.18156463296776557,0.18444151620027213,0.7913705740592086,0.3246168451101668,-0.8099255565615424,1.0776555411206108,1.0847851664599493,1.239370886496258,0.9125234655662715,-0.19320405393911116,0.18672164796475887,-1.026260378037688,0.08214481737685381,-0.0657676414163017,0.028634564346487694,-1.160917571285121,1.0580203509717026,0.431179003636367,-2.101168181892536,-0.20401401031325544,0.8297268745308249,-0.024495455035140976,0.8013374475472247,-1.8888564911648995,1.258441521160854,0.08441207009120676,-1.3984125482489753,-0.5614214623572323,0.8069062068920521,1.7134747999012199],\"xaxis\":\"x8\",\"y\":[-1.2411062397873414,0.02807914310972193,0.31936991465874937,-0.936624080293878,-2.0397357953994755,-1.2961599561491113,-2.4774472395187512,0.09931069506463953,0.26552531364527115,0.9335464940691652,0.8986794079209267,0.29622631233968777,0.6437623937325981,1.9277184697441778,-0.7036554347701831,0.2500502636911673,1.2350021110504927,1.0237531453705104,-0.6632947884834026,0.9868176338319913,1.3453311524356033,0.24952513249963243,-0.7082905967465567,1.2769871222507228,-1.9118975786051817,-0.8873715742413686,1.5378638040470454,-0.10710943967908983,0.7845777905330139,0.8270199278529797,0.41947638614534927,-0.6103461037142758,1.2832756709970892,-0.11416461232664675,-0.7392920699114925,-1.4637285693759212,-0.4677850468066235,-0.806834032956265,-0.3514224740201551,-0.08759108947064012,1.9604429088767352,-1.539498137166316,-0.7589306600245808,-1.3873313785163255,1.12307512963267,-1.0874744042664137,0.729226021155078,0.4351358751294404,-1.3587969148637427,1.6140817210918543,1.2660276312562755,-0.8082257649351985,0.69704454733331,0.4152703294264582,0.9034585114511574,-0.05924854849022004,2.0226182152394614,-0.07841380341378705,-0.3386092825470693,1.4156155845223164,-1.9797346660137547,-1.841984115363568,-0.5154841724459465,0.8939062610383636,-0.3489922837461976,-0.677196875864426,-1.0620264960449346,-1.1503882870014204,0.0042260410358588435,-0.5620865442747135,0.4115443926705976,0.7153717423546805,-1.5459819291841044,1.3252812663525808,0.7538124900180974,0.8547986901890187,-0.2795176870933874,0.763745158149344,0.2111943276448071,-0.7972437348540449,-0.393452740038313,0.9953585944717301,0.9534378275081842,0.052218086558350224,1.3181683198717666,0.2754614898008423,-0.8393112238396853,1.3546910993944914,0.4372159696747173,0.9136047664976019,1.443219930139496,0.046487522231139576,0.99988574453509,-0.0042272118759153045,-0.5630943395117491,-2.124339506586154,-0.22020744078220653,1.0475830922547424,0.14931168810186324,0.025470618198708817],\"yaxis\":\"y8\",\"type\":\"scatter\"},{\"line\":{\"color\":\"rgba(128, 128, 128, 1.0)\",\"dash\":\"solid\",\"shape\":\"linear\",\"width\":1.3},\"marker\":{\"size\":2,\"symbol\":\"circle\"},\"mode\":\"markers\",\"name\":\"C\",\"text\":\"\",\"x\":[-0.8517614455883655,-0.04342189052762476,-0.5212214967722162,0.3463107666807025,-0.745881714063798,-0.30058773176849457,-2.294340311312299,-0.6512596659917415,0.506280440778242,-0.009690230605172254,0.6878141235775956,0.9626477777248147,1.9166904602701855,-0.45669843310114844,-1.17050493216569,2.2448005418810375,-0.28437845271142315,2.20013599919316,-1.1618106024664825,-0.8567423458194338,-1.0208832664798144,0.5703772004588231,0.9500450320973882,-0.6157420152530569,-0.7506656628682755,-0.16251365544450222,-0.6594437150281366,-0.9953798842138176,-1.0214733410454175,0.9285981310725163,0.33397810418350543,2.004283613512989,-1.0553236237125618,2.2850752156538063,-1.3753565992764296,-0.16501944321362802,0.5859344727051908,-0.18337137906315976,0.5932397316914628,-1.0418591959561794,1.7492129420611109,-0.5817937909383222,1.2316994838318762,0.9294052760388295,0.3520482281449861,0.7995560104582256,-0.41303009169552846,0.6949404983860864,1.5221943621246272,0.9258134979345521,-0.9730478801948261,-0.6262233648414084,-0.7063907512266209,-0.5577707713737803,-1.115285461836506,0.14168470522696505,-0.5008846735922116,-2.132915473280724,-0.4274968629044933,-1.3049965129181547,0.1255639710172537,-0.5779084871828467,-2.3440688331691595,-0.9404043092856896,1.0113599002670215,-1.1581293656750085,-0.3209275331612879,-0.26558229431764846,0.5598700845574042,0.6541742521756773,-0.5044763013189157,1.2664555045492127,-0.7708413334932498,0.7605925642066997,-1.3641341420112059,-0.7014556822610499,0.11434435077903846,0.9554038286070254,-0.570544304958875,-1.073236016265232,-0.16185980233727848,-0.15574260103122203,0.009923580756196683,0.7915328220783816,-1.936094840968455,-0.08462248253141151,0.6989879597069288,-0.5783664463035025,0.29535472856846945,-0.9236655704169129,-2.0291032054275138,-0.34867755292168895,-0.8556589825027233,0.45736269533464113,1.6827814465839737,0.017887806579571335,0.7430841354778721,1.0473851610215101,-0.8759282168181415,0.7612861204776716],\"xaxis\":\"x9\",\"y\":[1.99074868674031,-0.00465708454709553,-0.5755445261127081,0.5382443872435205,0.1709426834321075,0.4329753224811685,-0.5651554806569195,-0.5382260512861466,0.04847066972062829,0.08806423847999274,-0.79606960465105,0.8780084031924762,-1.3235085256898664,0.7248567525421737,-1.5146950623954112,-0.5665899094172965,1.019728716322084,0.6388293181860352,1.250817021100408,-1.4096077271209306,-0.8525157696226018,-0.4899635144904453,0.13751888465810286,0.14718455041977344,1.834529039436641,0.9084107963171624,0.5895130764523258,-0.038309296558468424,-0.4388820852707616,1.4627208308293214,1.1776910929138449,0.5157145320795943,-1.9609777265208228,-0.25592226927388523,3.1678247950042633,0.6846831368718976,-0.5005789641863538,1.3976315892846005,-1.4207617413874387,0.7648460769609398,0.1365811035395829,-1.7804267125521187,-1.5838621251058371,0.42779170807600814,-0.18986991343828116,0.29815222688000004,0.13371404643256948,0.8922931377279383,-1.846555638787027,-0.056493298038888876,1.7527122256491043,-0.7124329358839242,-0.9841181433991666,0.8779756329966848,0.8654510077229993,1.1968004459990302,-1.1250083025882454,-1.5258375755988967,-0.501217116263024,-0.053820139446658005,-1.4692798385105381,-0.5880506546292816,-0.7431529181334172,-0.19304032205527322,-0.47451713767621806,-2.1088297903073228,2.0091149763178815,-0.24549609142478476,-1.9436855874491659,-1.0485915236308072,0.16613915039287627,0.8985420514860681,-0.3415662591350445,-0.4290461741748661,-0.8278170574841253,-0.6650263799092747,-1.495577624198766,1.1527935477724358,-0.7222492854569627,0.9234615143051651,0.03046862993085494,1.1288922392026846,-0.9692935077617421,-0.046178203334927136,-0.5109769793720991,-0.2521226240125022,1.4868369585876753,0.7688646976945722,0.0633897069989844,1.8859575140986533,0.286565663426963,-0.08974188217200231,1.5781239564426428,0.06176288122267352,-0.4371343104556174,-0.7675835389156066,-0.072699091327509,-0.9378252040684169,0.2292594668542032,-0.10819490478797017],\"yaxis\":\"y9\",\"type\":\"scatter\"},{\"line\":{\"color\":\"rgba(128, 128, 128, 1.0)\",\"dash\":\"solid\",\"shape\":\"linear\",\"width\":1.3},\"marker\":{\"size\":2,\"symbol\":\"circle\"},\"mode\":\"markers\",\"name\":\"C\",\"text\":\"\",\"x\":[-1.2411062397873414,0.02807914310972193,0.31936991465874937,-0.936624080293878,-2.0397357953994755,-1.2961599561491113,-2.4774472395187512,0.09931069506463953,0.26552531364527115,0.9335464940691652,0.8986794079209267,0.29622631233968777,0.6437623937325981,1.9277184697441778,-0.7036554347701831,0.2500502636911673,1.2350021110504927,1.0237531453705104,-0.6632947884834026,0.9868176338319913,1.3453311524356033,0.24952513249963243,-0.7082905967465567,1.2769871222507228,-1.9118975786051817,-0.8873715742413686,1.5378638040470454,-0.10710943967908983,0.7845777905330139,0.8270199278529797,0.41947638614534927,-0.6103461037142758,1.2832756709970892,-0.11416461232664675,-0.7392920699114925,-1.4637285693759212,-0.4677850468066235,-0.806834032956265,-0.3514224740201551,-0.08759108947064012,1.9604429088767352,-1.539498137166316,-0.7589306600245808,-1.3873313785163255,1.12307512963267,-1.0874744042664137,0.729226021155078,0.4351358751294404,-1.3587969148637427,1.6140817210918543,1.2660276312562755,-0.8082257649351985,0.69704454733331,0.4152703294264582,0.9034585114511574,-0.05924854849022004,2.0226182152394614,-0.07841380341378705,-0.3386092825470693,1.4156155845223164,-1.9797346660137547,-1.841984115363568,-0.5154841724459465,0.8939062610383636,-0.3489922837461976,-0.677196875864426,-1.0620264960449346,-1.1503882870014204,0.0042260410358588435,-0.5620865442747135,0.4115443926705976,0.7153717423546805,-1.5459819291841044,1.3252812663525808,0.7538124900180974,0.8547986901890187,-0.2795176870933874,0.763745158149344,0.2111943276448071,-0.7972437348540449,-0.393452740038313,0.9953585944717301,0.9534378275081842,0.052218086558350224,1.3181683198717666,0.2754614898008423,-0.8393112238396853,1.3546910993944914,0.4372159696747173,0.9136047664976019,1.443219930139496,0.046487522231139576,0.99988574453509,-0.0042272118759153045,-0.5630943395117491,-2.124339506586154,-0.22020744078220653,1.0475830922547424,0.14931168810186324,0.025470618198708817],\"xaxis\":\"x10\",\"y\":[1.99074868674031,-0.00465708454709553,-0.5755445261127081,0.5382443872435205,0.1709426834321075,0.4329753224811685,-0.5651554806569195,-0.5382260512861466,0.04847066972062829,0.08806423847999274,-0.79606960465105,0.8780084031924762,-1.3235085256898664,0.7248567525421737,-1.5146950623954112,-0.5665899094172965,1.019728716322084,0.6388293181860352,1.250817021100408,-1.4096077271209306,-0.8525157696226018,-0.4899635144904453,0.13751888465810286,0.14718455041977344,1.834529039436641,0.9084107963171624,0.5895130764523258,-0.038309296558468424,-0.4388820852707616,1.4627208308293214,1.1776910929138449,0.5157145320795943,-1.9609777265208228,-0.25592226927388523,3.1678247950042633,0.6846831368718976,-0.5005789641863538,1.3976315892846005,-1.4207617413874387,0.7648460769609398,0.1365811035395829,-1.7804267125521187,-1.5838621251058371,0.42779170807600814,-0.18986991343828116,0.29815222688000004,0.13371404643256948,0.8922931377279383,-1.846555638787027,-0.056493298038888876,1.7527122256491043,-0.7124329358839242,-0.9841181433991666,0.8779756329966848,0.8654510077229993,1.1968004459990302,-1.1250083025882454,-1.5258375755988967,-0.501217116263024,-0.053820139446658005,-1.4692798385105381,-0.5880506546292816,-0.7431529181334172,-0.19304032205527322,-0.47451713767621806,-2.1088297903073228,2.0091149763178815,-0.24549609142478476,-1.9436855874491659,-1.0485915236308072,0.16613915039287627,0.8985420514860681,-0.3415662591350445,-0.4290461741748661,-0.8278170574841253,-0.6650263799092747,-1.495577624198766,1.1527935477724358,-0.7222492854569627,0.9234615143051651,0.03046862993085494,1.1288922392026846,-0.9692935077617421,-0.046178203334927136,-0.5109769793720991,-0.2521226240125022,1.4868369585876753,0.7688646976945722,0.0633897069989844,1.8859575140986533,0.286565663426963,-0.08974188217200231,1.5781239564426428,0.06176288122267352,-0.4371343104556174,-0.7675835389156066,-0.072699091327509,-0.9378252040684169,0.2292594668542032,-0.10819490478797017],\"yaxis\":\"y10\",\"type\":\"scatter\"},{\"histfunc\":\"count\",\"histnorm\":\"\",\"marker\":{\"color\":\"rgba(50, 171, 96, 1.0)\",\"line\":{\"color\":\"#4D5663\",\"width\":1.3}},\"name\":\"C\",\"nbinsx\":10,\"opacity\":0.8,\"orientation\":\"v\",\"x\":[1.99074868674031,-0.00465708454709553,-0.5755445261127081,0.5382443872435205,0.1709426834321075,0.4329753224811685,-0.5651554806569195,-0.5382260512861466,0.04847066972062829,0.08806423847999274,-0.79606960465105,0.8780084031924762,-1.3235085256898664,0.7248567525421737,-1.5146950623954112,-0.5665899094172965,1.019728716322084,0.6388293181860352,1.250817021100408,-1.4096077271209306,-0.8525157696226018,-0.4899635144904453,0.13751888465810286,0.14718455041977344,1.834529039436641,0.9084107963171624,0.5895130764523258,-0.038309296558468424,-0.4388820852707616,1.4627208308293214,1.1776910929138449,0.5157145320795943,-1.9609777265208228,-0.25592226927388523,3.1678247950042633,0.6846831368718976,-0.5005789641863538,1.3976315892846005,-1.4207617413874387,0.7648460769609398,0.1365811035395829,-1.7804267125521187,-1.5838621251058371,0.42779170807600814,-0.18986991343828116,0.29815222688000004,0.13371404643256948,0.8922931377279383,-1.846555638787027,-0.056493298038888876,1.7527122256491043,-0.7124329358839242,-0.9841181433991666,0.8779756329966848,0.8654510077229993,1.1968004459990302,-1.1250083025882454,-1.5258375755988967,-0.501217116263024,-0.053820139446658005,-1.4692798385105381,-0.5880506546292816,-0.7431529181334172,-0.19304032205527322,-0.47451713767621806,-2.1088297903073228,2.0091149763178815,-0.24549609142478476,-1.9436855874491659,-1.0485915236308072,0.16613915039287627,0.8985420514860681,-0.3415662591350445,-0.4290461741748661,-0.8278170574841253,-0.6650263799092747,-1.495577624198766,1.1527935477724358,-0.7222492854569627,0.9234615143051651,0.03046862993085494,1.1288922392026846,-0.9692935077617421,-0.046178203334927136,-0.5109769793720991,-0.2521226240125022,1.4868369585876753,0.7688646976945722,0.0633897069989844,1.8859575140986533,0.286565663426963,-0.08974188217200231,1.5781239564426428,0.06176288122267352,-0.4371343104556174,-0.7675835389156066,-0.072699091327509,-0.9378252040684169,0.2292594668542032,-0.10819490478797017],\"xaxis\":\"x11\",\"yaxis\":\"y11\",\"type\":\"histogram\"},{\"line\":{\"color\":\"rgba(128, 128, 128, 1.0)\",\"dash\":\"solid\",\"shape\":\"linear\",\"width\":1.3},\"marker\":{\"size\":2,\"symbol\":\"circle\"},\"mode\":\"markers\",\"name\":\"C\",\"text\":\"\",\"x\":[-0.9095280516273,-0.1900569063753824,0.2698374073735738,0.44794311046828933,0.6288764120114955,-0.06262118751111524,-0.26110849338128506,0.04603596881270804,0.5200144469049582,-0.2926155418755851,0.1510701746371853,-0.5877929182944712,0.08069558213353756,-0.9486654727999834,0.7384779219991,-0.06410591754527575,0.3548260165084111,0.9054277579689765,-0.06088091502475971,-0.9013312571843716,2.0972634759275595,1.4900101474091065,0.40261896097794214,-0.7867852691032597,-1.1118230564512712,1.5755924791406197,-0.26121813234467717,0.818713933783864,-1.8644115325025155,-0.27403192527081843,1.9576244718277251,-0.24605663623256627,-0.5123924847226448,0.23369135084072537,-0.7106808785710417,0.6689331481595072,1.1110575005073737,0.21581313152734466,-0.4438586289334656,0.1729837762538506,-1.7700587075000929,0.37143431574323865,0.013931457863850364,1.064527392567633,0.6774940958087046,-0.2712353808433596,0.6259480440257154,0.6094737251907064,-1.2716351983656191,-0.6962798871997286,-1.4955734251208237,-1.8834275522361492,0.11823678063751057,0.18823957275155215,0.13155936455322798,-1.6520989148959249,0.3184852609414845,-1.5155816087200382,0.265585097295708,-0.2028549510446965,-0.031449586442298214,0.8368611781097274,-0.9391191159328348,1.2681019891243461,1.4441230757810974,0.26438228422400245,0.697102195169398,-0.1922187018955505,-0.5192173064225332,-1.1883600624748492,-0.18156463296776557,0.18444151620027213,0.7913705740592086,0.3246168451101668,-0.8099255565615424,1.0776555411206108,1.0847851664599493,1.239370886496258,0.9125234655662715,-0.19320405393911116,0.18672164796475887,-1.026260378037688,0.08214481737685381,-0.0657676414163017,0.028634564346487694,-1.160917571285121,1.0580203509717026,0.431179003636367,-2.101168181892536,-0.20401401031325544,0.8297268745308249,-0.024495455035140976,0.8013374475472247,-1.8888564911648995,1.258441521160854,0.08441207009120676,-1.3984125482489753,-0.5614214623572323,0.8069062068920521,1.7134747999012199],\"xaxis\":\"x12\",\"y\":[1.99074868674031,-0.00465708454709553,-0.5755445261127081,0.5382443872435205,0.1709426834321075,0.4329753224811685,-0.5651554806569195,-0.5382260512861466,0.04847066972062829,0.08806423847999274,-0.79606960465105,0.8780084031924762,-1.3235085256898664,0.7248567525421737,-1.5146950623954112,-0.5665899094172965,1.019728716322084,0.6388293181860352,1.250817021100408,-1.4096077271209306,-0.8525157696226018,-0.4899635144904453,0.13751888465810286,0.14718455041977344,1.834529039436641,0.9084107963171624,0.5895130764523258,-0.038309296558468424,-0.4388820852707616,1.4627208308293214,1.1776910929138449,0.5157145320795943,-1.9609777265208228,-0.25592226927388523,3.1678247950042633,0.6846831368718976,-0.5005789641863538,1.3976315892846005,-1.4207617413874387,0.7648460769609398,0.1365811035395829,-1.7804267125521187,-1.5838621251058371,0.42779170807600814,-0.18986991343828116,0.29815222688000004,0.13371404643256948,0.8922931377279383,-1.846555638787027,-0.056493298038888876,1.7527122256491043,-0.7124329358839242,-0.9841181433991666,0.8779756329966848,0.8654510077229993,1.1968004459990302,-1.1250083025882454,-1.5258375755988967,-0.501217116263024,-0.053820139446658005,-1.4692798385105381,-0.5880506546292816,-0.7431529181334172,-0.19304032205527322,-0.47451713767621806,-2.1088297903073228,2.0091149763178815,-0.24549609142478476,-1.9436855874491659,-1.0485915236308072,0.16613915039287627,0.8985420514860681,-0.3415662591350445,-0.4290461741748661,-0.8278170574841253,-0.6650263799092747,-1.495577624198766,1.1527935477724358,-0.7222492854569627,0.9234615143051651,0.03046862993085494,1.1288922392026846,-0.9692935077617421,-0.046178203334927136,-0.5109769793720991,-0.2521226240125022,1.4868369585876753,0.7688646976945722,0.0633897069989844,1.8859575140986533,0.286565663426963,-0.08974188217200231,1.5781239564426428,0.06176288122267352,-0.4371343104556174,-0.7675835389156066,-0.072699091327509,-0.9378252040684169,0.2292594668542032,-0.10819490478797017],\"yaxis\":\"y12\",\"type\":\"scatter\"},{\"line\":{\"color\":\"rgba(128, 128, 128, 1.0)\",\"dash\":\"solid\",\"shape\":\"linear\",\"width\":1.3},\"marker\":{\"size\":2,\"symbol\":\"circle\"},\"mode\":\"markers\",\"name\":\"D\",\"text\":\"\",\"x\":[-0.8517614455883655,-0.04342189052762476,-0.5212214967722162,0.3463107666807025,-0.745881714063798,-0.30058773176849457,-2.294340311312299,-0.6512596659917415,0.506280440778242,-0.009690230605172254,0.6878141235775956,0.9626477777248147,1.9166904602701855,-0.45669843310114844,-1.17050493216569,2.2448005418810375,-0.28437845271142315,2.20013599919316,-1.1618106024664825,-0.8567423458194338,-1.0208832664798144,0.5703772004588231,0.9500450320973882,-0.6157420152530569,-0.7506656628682755,-0.16251365544450222,-0.6594437150281366,-0.9953798842138176,-1.0214733410454175,0.9285981310725163,0.33397810418350543,2.004283613512989,-1.0553236237125618,2.2850752156538063,-1.3753565992764296,-0.16501944321362802,0.5859344727051908,-0.18337137906315976,0.5932397316914628,-1.0418591959561794,1.7492129420611109,-0.5817937909383222,1.2316994838318762,0.9294052760388295,0.3520482281449861,0.7995560104582256,-0.41303009169552846,0.6949404983860864,1.5221943621246272,0.9258134979345521,-0.9730478801948261,-0.6262233648414084,-0.7063907512266209,-0.5577707713737803,-1.115285461836506,0.14168470522696505,-0.5008846735922116,-2.132915473280724,-0.4274968629044933,-1.3049965129181547,0.1255639710172537,-0.5779084871828467,-2.3440688331691595,-0.9404043092856896,1.0113599002670215,-1.1581293656750085,-0.3209275331612879,-0.26558229431764846,0.5598700845574042,0.6541742521756773,-0.5044763013189157,1.2664555045492127,-0.7708413334932498,0.7605925642066997,-1.3641341420112059,-0.7014556822610499,0.11434435077903846,0.9554038286070254,-0.570544304958875,-1.073236016265232,-0.16185980233727848,-0.15574260103122203,0.009923580756196683,0.7915328220783816,-1.936094840968455,-0.08462248253141151,0.6989879597069288,-0.5783664463035025,0.29535472856846945,-0.9236655704169129,-2.0291032054275138,-0.34867755292168895,-0.8556589825027233,0.45736269533464113,1.6827814465839737,0.017887806579571335,0.7430841354778721,1.0473851610215101,-0.8759282168181415,0.7612861204776716],\"xaxis\":\"x13\",\"y\":[-0.9095280516273,-0.1900569063753824,0.2698374073735738,0.44794311046828933,0.6288764120114955,-0.06262118751111524,-0.26110849338128506,0.04603596881270804,0.5200144469049582,-0.2926155418755851,0.1510701746371853,-0.5877929182944712,0.08069558213353756,-0.9486654727999834,0.7384779219991,-0.06410591754527575,0.3548260165084111,0.9054277579689765,-0.06088091502475971,-0.9013312571843716,2.0972634759275595,1.4900101474091065,0.40261896097794214,-0.7867852691032597,-1.1118230564512712,1.5755924791406197,-0.26121813234467717,0.818713933783864,-1.8644115325025155,-0.27403192527081843,1.9576244718277251,-0.24605663623256627,-0.5123924847226448,0.23369135084072537,-0.7106808785710417,0.6689331481595072,1.1110575005073737,0.21581313152734466,-0.4438586289334656,0.1729837762538506,-1.7700587075000929,0.37143431574323865,0.013931457863850364,1.064527392567633,0.6774940958087046,-0.2712353808433596,0.6259480440257154,0.6094737251907064,-1.2716351983656191,-0.6962798871997286,-1.4955734251208237,-1.8834275522361492,0.11823678063751057,0.18823957275155215,0.13155936455322798,-1.6520989148959249,0.3184852609414845,-1.5155816087200382,0.265585097295708,-0.2028549510446965,-0.031449586442298214,0.8368611781097274,-0.9391191159328348,1.2681019891243461,1.4441230757810974,0.26438228422400245,0.697102195169398,-0.1922187018955505,-0.5192173064225332,-1.1883600624748492,-0.18156463296776557,0.18444151620027213,0.7913705740592086,0.3246168451101668,-0.8099255565615424,1.0776555411206108,1.0847851664599493,1.239370886496258,0.9125234655662715,-0.19320405393911116,0.18672164796475887,-1.026260378037688,0.08214481737685381,-0.0657676414163017,0.028634564346487694,-1.160917571285121,1.0580203509717026,0.431179003636367,-2.101168181892536,-0.20401401031325544,0.8297268745308249,-0.024495455035140976,0.8013374475472247,-1.8888564911648995,1.258441521160854,0.08441207009120676,-1.3984125482489753,-0.5614214623572323,0.8069062068920521,1.7134747999012199],\"yaxis\":\"y13\",\"type\":\"scatter\"},{\"line\":{\"color\":\"rgba(128, 128, 128, 1.0)\",\"dash\":\"solid\",\"shape\":\"linear\",\"width\":1.3},\"marker\":{\"size\":2,\"symbol\":\"circle\"},\"mode\":\"markers\",\"name\":\"D\",\"text\":\"\",\"x\":[-1.2411062397873414,0.02807914310972193,0.31936991465874937,-0.936624080293878,-2.0397357953994755,-1.2961599561491113,-2.4774472395187512,0.09931069506463953,0.26552531364527115,0.9335464940691652,0.8986794079209267,0.29622631233968777,0.6437623937325981,1.9277184697441778,-0.7036554347701831,0.2500502636911673,1.2350021110504927,1.0237531453705104,-0.6632947884834026,0.9868176338319913,1.3453311524356033,0.24952513249963243,-0.7082905967465567,1.2769871222507228,-1.9118975786051817,-0.8873715742413686,1.5378638040470454,-0.10710943967908983,0.7845777905330139,0.8270199278529797,0.41947638614534927,-0.6103461037142758,1.2832756709970892,-0.11416461232664675,-0.7392920699114925,-1.4637285693759212,-0.4677850468066235,-0.806834032956265,-0.3514224740201551,-0.08759108947064012,1.9604429088767352,-1.539498137166316,-0.7589306600245808,-1.3873313785163255,1.12307512963267,-1.0874744042664137,0.729226021155078,0.4351358751294404,-1.3587969148637427,1.6140817210918543,1.2660276312562755,-0.8082257649351985,0.69704454733331,0.4152703294264582,0.9034585114511574,-0.05924854849022004,2.0226182152394614,-0.07841380341378705,-0.3386092825470693,1.4156155845223164,-1.9797346660137547,-1.841984115363568,-0.5154841724459465,0.8939062610383636,-0.3489922837461976,-0.677196875864426,-1.0620264960449346,-1.1503882870014204,0.0042260410358588435,-0.5620865442747135,0.4115443926705976,0.7153717423546805,-1.5459819291841044,1.3252812663525808,0.7538124900180974,0.8547986901890187,-0.2795176870933874,0.763745158149344,0.2111943276448071,-0.7972437348540449,-0.393452740038313,0.9953585944717301,0.9534378275081842,0.052218086558350224,1.3181683198717666,0.2754614898008423,-0.8393112238396853,1.3546910993944914,0.4372159696747173,0.9136047664976019,1.443219930139496,0.046487522231139576,0.99988574453509,-0.0042272118759153045,-0.5630943395117491,-2.124339506586154,-0.22020744078220653,1.0475830922547424,0.14931168810186324,0.025470618198708817],\"xaxis\":\"x14\",\"y\":[-0.9095280516273,-0.1900569063753824,0.2698374073735738,0.44794311046828933,0.6288764120114955,-0.06262118751111524,-0.26110849338128506,0.04603596881270804,0.5200144469049582,-0.2926155418755851,0.1510701746371853,-0.5877929182944712,0.08069558213353756,-0.9486654727999834,0.7384779219991,-0.06410591754527575,0.3548260165084111,0.9054277579689765,-0.06088091502475971,-0.9013312571843716,2.0972634759275595,1.4900101474091065,0.40261896097794214,-0.7867852691032597,-1.1118230564512712,1.5755924791406197,-0.26121813234467717,0.818713933783864,-1.8644115325025155,-0.27403192527081843,1.9576244718277251,-0.24605663623256627,-0.5123924847226448,0.23369135084072537,-0.7106808785710417,0.6689331481595072,1.1110575005073737,0.21581313152734466,-0.4438586289334656,0.1729837762538506,-1.7700587075000929,0.37143431574323865,0.013931457863850364,1.064527392567633,0.6774940958087046,-0.2712353808433596,0.6259480440257154,0.6094737251907064,-1.2716351983656191,-0.6962798871997286,-1.4955734251208237,-1.8834275522361492,0.11823678063751057,0.18823957275155215,0.13155936455322798,-1.6520989148959249,0.3184852609414845,-1.5155816087200382,0.265585097295708,-0.2028549510446965,-0.031449586442298214,0.8368611781097274,-0.9391191159328348,1.2681019891243461,1.4441230757810974,0.26438228422400245,0.697102195169398,-0.1922187018955505,-0.5192173064225332,-1.1883600624748492,-0.18156463296776557,0.18444151620027213,0.7913705740592086,0.3246168451101668,-0.8099255565615424,1.0776555411206108,1.0847851664599493,1.239370886496258,0.9125234655662715,-0.19320405393911116,0.18672164796475887,-1.026260378037688,0.08214481737685381,-0.0657676414163017,0.028634564346487694,-1.160917571285121,1.0580203509717026,0.431179003636367,-2.101168181892536,-0.20401401031325544,0.8297268745308249,-0.024495455035140976,0.8013374475472247,-1.8888564911648995,1.258441521160854,0.08441207009120676,-1.3984125482489753,-0.5614214623572323,0.8069062068920521,1.7134747999012199],\"yaxis\":\"y14\",\"type\":\"scatter\"},{\"line\":{\"color\":\"rgba(128, 128, 128, 1.0)\",\"dash\":\"solid\",\"shape\":\"linear\",\"width\":1.3},\"marker\":{\"size\":2,\"symbol\":\"circle\"},\"mode\":\"markers\",\"name\":\"D\",\"text\":\"\",\"x\":[1.99074868674031,-0.00465708454709553,-0.5755445261127081,0.5382443872435205,0.1709426834321075,0.4329753224811685,-0.5651554806569195,-0.5382260512861466,0.04847066972062829,0.08806423847999274,-0.79606960465105,0.8780084031924762,-1.3235085256898664,0.7248567525421737,-1.5146950623954112,-0.5665899094172965,1.019728716322084,0.6388293181860352,1.250817021100408,-1.4096077271209306,-0.8525157696226018,-0.4899635144904453,0.13751888465810286,0.14718455041977344,1.834529039436641,0.9084107963171624,0.5895130764523258,-0.038309296558468424,-0.4388820852707616,1.4627208308293214,1.1776910929138449,0.5157145320795943,-1.9609777265208228,-0.25592226927388523,3.1678247950042633,0.6846831368718976,-0.5005789641863538,1.3976315892846005,-1.4207617413874387,0.7648460769609398,0.1365811035395829,-1.7804267125521187,-1.5838621251058371,0.42779170807600814,-0.18986991343828116,0.29815222688000004,0.13371404643256948,0.8922931377279383,-1.846555638787027,-0.056493298038888876,1.7527122256491043,-0.7124329358839242,-0.9841181433991666,0.8779756329966848,0.8654510077229993,1.1968004459990302,-1.1250083025882454,-1.5258375755988967,-0.501217116263024,-0.053820139446658005,-1.4692798385105381,-0.5880506546292816,-0.7431529181334172,-0.19304032205527322,-0.47451713767621806,-2.1088297903073228,2.0091149763178815,-0.24549609142478476,-1.9436855874491659,-1.0485915236308072,0.16613915039287627,0.8985420514860681,-0.3415662591350445,-0.4290461741748661,-0.8278170574841253,-0.6650263799092747,-1.495577624198766,1.1527935477724358,-0.7222492854569627,0.9234615143051651,0.03046862993085494,1.1288922392026846,-0.9692935077617421,-0.046178203334927136,-0.5109769793720991,-0.2521226240125022,1.4868369585876753,0.7688646976945722,0.0633897069989844,1.8859575140986533,0.286565663426963,-0.08974188217200231,1.5781239564426428,0.06176288122267352,-0.4371343104556174,-0.7675835389156066,-0.072699091327509,-0.9378252040684169,0.2292594668542032,-0.10819490478797017],\"xaxis\":\"x15\",\"y\":[-0.9095280516273,-0.1900569063753824,0.2698374073735738,0.44794311046828933,0.6288764120114955,-0.06262118751111524,-0.26110849338128506,0.04603596881270804,0.5200144469049582,-0.2926155418755851,0.1510701746371853,-0.5877929182944712,0.08069558213353756,-0.9486654727999834,0.7384779219991,-0.06410591754527575,0.3548260165084111,0.9054277579689765,-0.06088091502475971,-0.9013312571843716,2.0972634759275595,1.4900101474091065,0.40261896097794214,-0.7867852691032597,-1.1118230564512712,1.5755924791406197,-0.26121813234467717,0.818713933783864,-1.8644115325025155,-0.27403192527081843,1.9576244718277251,-0.24605663623256627,-0.5123924847226448,0.23369135084072537,-0.7106808785710417,0.6689331481595072,1.1110575005073737,0.21581313152734466,-0.4438586289334656,0.1729837762538506,-1.7700587075000929,0.37143431574323865,0.013931457863850364,1.064527392567633,0.6774940958087046,-0.2712353808433596,0.6259480440257154,0.6094737251907064,-1.2716351983656191,-0.6962798871997286,-1.4955734251208237,-1.8834275522361492,0.11823678063751057,0.18823957275155215,0.13155936455322798,-1.6520989148959249,0.3184852609414845,-1.5155816087200382,0.265585097295708,-0.2028549510446965,-0.031449586442298214,0.8368611781097274,-0.9391191159328348,1.2681019891243461,1.4441230757810974,0.26438228422400245,0.697102195169398,-0.1922187018955505,-0.5192173064225332,-1.1883600624748492,-0.18156463296776557,0.18444151620027213,0.7913705740592086,0.3246168451101668,-0.8099255565615424,1.0776555411206108,1.0847851664599493,1.239370886496258,0.9125234655662715,-0.19320405393911116,0.18672164796475887,-1.026260378037688,0.08214481737685381,-0.0657676414163017,0.028634564346487694,-1.160917571285121,1.0580203509717026,0.431179003636367,-2.101168181892536,-0.20401401031325544,0.8297268745308249,-0.024495455035140976,0.8013374475472247,-1.8888564911648995,1.258441521160854,0.08441207009120676,-1.3984125482489753,-0.5614214623572323,0.8069062068920521,1.7134747999012199],\"yaxis\":\"y15\",\"type\":\"scatter\"},{\"histfunc\":\"count\",\"histnorm\":\"\",\"marker\":{\"color\":\"rgba(128, 0, 128, 1.0)\",\"line\":{\"color\":\"#4D5663\",\"width\":1.3}},\"name\":\"D\",\"nbinsx\":10,\"opacity\":0.8,\"orientation\":\"v\",\"x\":[-0.9095280516273,-0.1900569063753824,0.2698374073735738,0.44794311046828933,0.6288764120114955,-0.06262118751111524,-0.26110849338128506,0.04603596881270804,0.5200144469049582,-0.2926155418755851,0.1510701746371853,-0.5877929182944712,0.08069558213353756,-0.9486654727999834,0.7384779219991,-0.06410591754527575,0.3548260165084111,0.9054277579689765,-0.06088091502475971,-0.9013312571843716,2.0972634759275595,1.4900101474091065,0.40261896097794214,-0.7867852691032597,-1.1118230564512712,1.5755924791406197,-0.26121813234467717,0.818713933783864,-1.8644115325025155,-0.27403192527081843,1.9576244718277251,-0.24605663623256627,-0.5123924847226448,0.23369135084072537,-0.7106808785710417,0.6689331481595072,1.1110575005073737,0.21581313152734466,-0.4438586289334656,0.1729837762538506,-1.7700587075000929,0.37143431574323865,0.013931457863850364,1.064527392567633,0.6774940958087046,-0.2712353808433596,0.6259480440257154,0.6094737251907064,-1.2716351983656191,-0.6962798871997286,-1.4955734251208237,-1.8834275522361492,0.11823678063751057,0.18823957275155215,0.13155936455322798,-1.6520989148959249,0.3184852609414845,-1.5155816087200382,0.265585097295708,-0.2028549510446965,-0.031449586442298214,0.8368611781097274,-0.9391191159328348,1.2681019891243461,1.4441230757810974,0.26438228422400245,0.697102195169398,-0.1922187018955505,-0.5192173064225332,-1.1883600624748492,-0.18156463296776557,0.18444151620027213,0.7913705740592086,0.3246168451101668,-0.8099255565615424,1.0776555411206108,1.0847851664599493,1.239370886496258,0.9125234655662715,-0.19320405393911116,0.18672164796475887,-1.026260378037688,0.08214481737685381,-0.0657676414163017,0.028634564346487694,-1.160917571285121,1.0580203509717026,0.431179003636367,-2.101168181892536,-0.20401401031325544,0.8297268745308249,-0.024495455035140976,0.8013374475472247,-1.8888564911648995,1.258441521160854,0.08441207009120676,-1.3984125482489753,-0.5614214623572323,0.8069062068920521,1.7134747999012199],\"xaxis\":\"x16\",\"yaxis\":\"y16\",\"type\":\"histogram\"}],                        {\"bargap\":0.02,\"legend\":{\"bgcolor\":\"#F5F6F9\",\"font\":{\"color\":\"#4D5663\"}},\"paper_bgcolor\":\"#F5F6F9\",\"plot_bgcolor\":\"#F5F6F9\",\"showlegend\":false,\"template\":{\"data\":{\"barpolar\":[{\"marker\":{\"line\":{\"color\":\"#E5ECF6\",\"width\":0.5},\"pattern\":{\"fillmode\":\"overlay\",\"size\":10,\"solidity\":0.2}},\"type\":\"barpolar\"}],\"bar\":[{\"error_x\":{\"color\":\"#2a3f5f\"},\"error_y\":{\"color\":\"#2a3f5f\"},\"marker\":{\"line\":{\"color\":\"#E5ECF6\",\"width\":0.5},\"pattern\":{\"fillmode\":\"overlay\",\"size\":10,\"solidity\":0.2}},\"type\":\"bar\"}],\"carpet\":[{\"aaxis\":{\"endlinecolor\":\"#2a3f5f\",\"gridcolor\":\"white\",\"linecolor\":\"white\",\"minorgridcolor\":\"white\",\"startlinecolor\":\"#2a3f5f\"},\"baxis\":{\"endlinecolor\":\"#2a3f5f\",\"gridcolor\":\"white\",\"linecolor\":\"white\",\"minorgridcolor\":\"white\",\"startlinecolor\":\"#2a3f5f\"},\"type\":\"carpet\"}],\"choropleth\":[{\"colorbar\":{\"outlinewidth\":0,\"ticks\":\"\"},\"type\":\"choropleth\"}],\"contourcarpet\":[{\"colorbar\":{\"outlinewidth\":0,\"ticks\":\"\"},\"type\":\"contourcarpet\"}],\"contour\":[{\"colorbar\":{\"outlinewidth\":0,\"ticks\":\"\"},\"colorscale\":[[0.0,\"#0d0887\"],[0.1111111111111111,\"#46039f\"],[0.2222222222222222,\"#7201a8\"],[0.3333333333333333,\"#9c179e\"],[0.4444444444444444,\"#bd3786\"],[0.5555555555555556,\"#d8576b\"],[0.6666666666666666,\"#ed7953\"],[0.7777777777777778,\"#fb9f3a\"],[0.8888888888888888,\"#fdca26\"],[1.0,\"#f0f921\"]],\"type\":\"contour\"}],\"heatmapgl\":[{\"colorbar\":{\"outlinewidth\":0,\"ticks\":\"\"},\"colorscale\":[[0.0,\"#0d0887\"],[0.1111111111111111,\"#46039f\"],[0.2222222222222222,\"#7201a8\"],[0.3333333333333333,\"#9c179e\"],[0.4444444444444444,\"#bd3786\"],[0.5555555555555556,\"#d8576b\"],[0.6666666666666666,\"#ed7953\"],[0.7777777777777778,\"#fb9f3a\"],[0.8888888888888888,\"#fdca26\"],[1.0,\"#f0f921\"]],\"type\":\"heatmapgl\"}],\"heatmap\":[{\"colorbar\":{\"outlinewidth\":0,\"ticks\":\"\"},\"colorscale\":[[0.0,\"#0d0887\"],[0.1111111111111111,\"#46039f\"],[0.2222222222222222,\"#7201a8\"],[0.3333333333333333,\"#9c179e\"],[0.4444444444444444,\"#bd3786\"],[0.5555555555555556,\"#d8576b\"],[0.6666666666666666,\"#ed7953\"],[0.7777777777777778,\"#fb9f3a\"],[0.8888888888888888,\"#fdca26\"],[1.0,\"#f0f921\"]],\"type\":\"heatmap\"}],\"histogram2dcontour\":[{\"colorbar\":{\"outlinewidth\":0,\"ticks\":\"\"},\"colorscale\":[[0.0,\"#0d0887\"],[0.1111111111111111,\"#46039f\"],[0.2222222222222222,\"#7201a8\"],[0.3333333333333333,\"#9c179e\"],[0.4444444444444444,\"#bd3786\"],[0.5555555555555556,\"#d8576b\"],[0.6666666666666666,\"#ed7953\"],[0.7777777777777778,\"#fb9f3a\"],[0.8888888888888888,\"#fdca26\"],[1.0,\"#f0f921\"]],\"type\":\"histogram2dcontour\"}],\"histogram2d\":[{\"colorbar\":{\"outlinewidth\":0,\"ticks\":\"\"},\"colorscale\":[[0.0,\"#0d0887\"],[0.1111111111111111,\"#46039f\"],[0.2222222222222222,\"#7201a8\"],[0.3333333333333333,\"#9c179e\"],[0.4444444444444444,\"#bd3786\"],[0.5555555555555556,\"#d8576b\"],[0.6666666666666666,\"#ed7953\"],[0.7777777777777778,\"#fb9f3a\"],[0.8888888888888888,\"#fdca26\"],[1.0,\"#f0f921\"]],\"type\":\"histogram2d\"}],\"histogram\":[{\"marker\":{\"pattern\":{\"fillmode\":\"overlay\",\"size\":10,\"solidity\":0.2}},\"type\":\"histogram\"}],\"mesh3d\":[{\"colorbar\":{\"outlinewidth\":0,\"ticks\":\"\"},\"type\":\"mesh3d\"}],\"parcoords\":[{\"line\":{\"colorbar\":{\"outlinewidth\":0,\"ticks\":\"\"}},\"type\":\"parcoords\"}],\"pie\":[{\"automargin\":true,\"type\":\"pie\"}],\"scatter3d\":[{\"line\":{\"colorbar\":{\"outlinewidth\":0,\"ticks\":\"\"}},\"marker\":{\"colorbar\":{\"outlinewidth\":0,\"ticks\":\"\"}},\"type\":\"scatter3d\"}],\"scattercarpet\":[{\"marker\":{\"colorbar\":{\"outlinewidth\":0,\"ticks\":\"\"}},\"type\":\"scattercarpet\"}],\"scattergeo\":[{\"marker\":{\"colorbar\":{\"outlinewidth\":0,\"ticks\":\"\"}},\"type\":\"scattergeo\"}],\"scattergl\":[{\"marker\":{\"colorbar\":{\"outlinewidth\":0,\"ticks\":\"\"}},\"type\":\"scattergl\"}],\"scattermapbox\":[{\"marker\":{\"colorbar\":{\"outlinewidth\":0,\"ticks\":\"\"}},\"type\":\"scattermapbox\"}],\"scatterpolargl\":[{\"marker\":{\"colorbar\":{\"outlinewidth\":0,\"ticks\":\"\"}},\"type\":\"scatterpolargl\"}],\"scatterpolar\":[{\"marker\":{\"colorbar\":{\"outlinewidth\":0,\"ticks\":\"\"}},\"type\":\"scatterpolar\"}],\"scatter\":[{\"fillpattern\":{\"fillmode\":\"overlay\",\"size\":10,\"solidity\":0.2},\"type\":\"scatter\"}],\"scatterternary\":[{\"marker\":{\"colorbar\":{\"outlinewidth\":0,\"ticks\":\"\"}},\"type\":\"scatterternary\"}],\"surface\":[{\"colorbar\":{\"outlinewidth\":0,\"ticks\":\"\"},\"colorscale\":[[0.0,\"#0d0887\"],[0.1111111111111111,\"#46039f\"],[0.2222222222222222,\"#7201a8\"],[0.3333333333333333,\"#9c179e\"],[0.4444444444444444,\"#bd3786\"],[0.5555555555555556,\"#d8576b\"],[0.6666666666666666,\"#ed7953\"],[0.7777777777777778,\"#fb9f3a\"],[0.8888888888888888,\"#fdca26\"],[1.0,\"#f0f921\"]],\"type\":\"surface\"}],\"table\":[{\"cells\":{\"fill\":{\"color\":\"#EBF0F8\"},\"line\":{\"color\":\"white\"}},\"header\":{\"fill\":{\"color\":\"#C8D4E3\"},\"line\":{\"color\":\"white\"}},\"type\":\"table\"}]},\"layout\":{\"annotationdefaults\":{\"arrowcolor\":\"#2a3f5f\",\"arrowhead\":0,\"arrowwidth\":1},\"autotypenumbers\":\"strict\",\"coloraxis\":{\"colorbar\":{\"outlinewidth\":0,\"ticks\":\"\"}},\"colorscale\":{\"diverging\":[[0,\"#8e0152\"],[0.1,\"#c51b7d\"],[0.2,\"#de77ae\"],[0.3,\"#f1b6da\"],[0.4,\"#fde0ef\"],[0.5,\"#f7f7f7\"],[0.6,\"#e6f5d0\"],[0.7,\"#b8e186\"],[0.8,\"#7fbc41\"],[0.9,\"#4d9221\"],[1,\"#276419\"]],\"sequential\":[[0.0,\"#0d0887\"],[0.1111111111111111,\"#46039f\"],[0.2222222222222222,\"#7201a8\"],[0.3333333333333333,\"#9c179e\"],[0.4444444444444444,\"#bd3786\"],[0.5555555555555556,\"#d8576b\"],[0.6666666666666666,\"#ed7953\"],[0.7777777777777778,\"#fb9f3a\"],[0.8888888888888888,\"#fdca26\"],[1.0,\"#f0f921\"]],\"sequentialminus\":[[0.0,\"#0d0887\"],[0.1111111111111111,\"#46039f\"],[0.2222222222222222,\"#7201a8\"],[0.3333333333333333,\"#9c179e\"],[0.4444444444444444,\"#bd3786\"],[0.5555555555555556,\"#d8576b\"],[0.6666666666666666,\"#ed7953\"],[0.7777777777777778,\"#fb9f3a\"],[0.8888888888888888,\"#fdca26\"],[1.0,\"#f0f921\"]]},\"colorway\":[\"#636efa\",\"#EF553B\",\"#00cc96\",\"#ab63fa\",\"#FFA15A\",\"#19d3f3\",\"#FF6692\",\"#B6E880\",\"#FF97FF\",\"#FECB52\"],\"font\":{\"color\":\"#2a3f5f\"},\"geo\":{\"bgcolor\":\"white\",\"lakecolor\":\"white\",\"landcolor\":\"#E5ECF6\",\"showlakes\":true,\"showland\":true,\"subunitcolor\":\"white\"},\"hoverlabel\":{\"align\":\"left\"},\"hovermode\":\"closest\",\"mapbox\":{\"style\":\"light\"},\"paper_bgcolor\":\"white\",\"plot_bgcolor\":\"#E5ECF6\",\"polar\":{\"angularaxis\":{\"gridcolor\":\"white\",\"linecolor\":\"white\",\"ticks\":\"\"},\"bgcolor\":\"#E5ECF6\",\"radialaxis\":{\"gridcolor\":\"white\",\"linecolor\":\"white\",\"ticks\":\"\"}},\"scene\":{\"xaxis\":{\"backgroundcolor\":\"#E5ECF6\",\"gridcolor\":\"white\",\"gridwidth\":2,\"linecolor\":\"white\",\"showbackground\":true,\"ticks\":\"\",\"zerolinecolor\":\"white\"},\"yaxis\":{\"backgroundcolor\":\"#E5ECF6\",\"gridcolor\":\"white\",\"gridwidth\":2,\"linecolor\":\"white\",\"showbackground\":true,\"ticks\":\"\",\"zerolinecolor\":\"white\"},\"zaxis\":{\"backgroundcolor\":\"#E5ECF6\",\"gridcolor\":\"white\",\"gridwidth\":2,\"linecolor\":\"white\",\"showbackground\":true,\"ticks\":\"\",\"zerolinecolor\":\"white\"}},\"shapedefaults\":{\"line\":{\"color\":\"#2a3f5f\"}},\"ternary\":{\"aaxis\":{\"gridcolor\":\"white\",\"linecolor\":\"white\",\"ticks\":\"\"},\"baxis\":{\"gridcolor\":\"white\",\"linecolor\":\"white\",\"ticks\":\"\"},\"bgcolor\":\"#E5ECF6\",\"caxis\":{\"gridcolor\":\"white\",\"linecolor\":\"white\",\"ticks\":\"\"}},\"title\":{\"x\":0.05},\"xaxis\":{\"automargin\":true,\"gridcolor\":\"white\",\"linecolor\":\"white\",\"ticks\":\"\",\"title\":{\"standoff\":15},\"zerolinecolor\":\"white\",\"zerolinewidth\":2},\"yaxis\":{\"automargin\":true,\"gridcolor\":\"white\",\"linecolor\":\"white\",\"ticks\":\"\",\"title\":{\"standoff\":15},\"zerolinecolor\":\"white\",\"zerolinewidth\":2}}},\"title\":{\"font\":{\"color\":\"#4D5663\"}},\"xaxis\":{\"anchor\":\"y\",\"domain\":[0.0,0.2125],\"gridcolor\":\"#E1E5ED\",\"showgrid\":false,\"tickfont\":{\"color\":\"#4D5663\"},\"title\":{\"font\":{\"color\":\"#4D5663\"},\"text\":\"\"},\"zerolinecolor\":\"#E1E5ED\"},\"yaxis\":{\"anchor\":\"x\",\"domain\":[0.8025,1.0],\"gridcolor\":\"#E1E5ED\",\"showgrid\":false,\"tickfont\":{\"color\":\"#4D5663\"},\"title\":{\"font\":{\"color\":\"#4D5663\"},\"text\":\"\"},\"zerolinecolor\":\"#E1E5ED\"},\"xaxis2\":{\"anchor\":\"y2\",\"domain\":[0.2625,0.475],\"gridcolor\":\"#E1E5ED\",\"showgrid\":false,\"tickfont\":{\"color\":\"#4D5663\"},\"title\":{\"font\":{\"color\":\"#4D5663\"},\"text\":\"\"},\"zerolinecolor\":\"#E1E5ED\"},\"yaxis2\":{\"anchor\":\"x2\",\"domain\":[0.8025,1.0],\"gridcolor\":\"#E1E5ED\",\"showgrid\":false,\"tickfont\":{\"color\":\"#4D5663\"},\"title\":{\"font\":{\"color\":\"#4D5663\"},\"text\":\"\"},\"zerolinecolor\":\"#E1E5ED\"},\"xaxis3\":{\"anchor\":\"y3\",\"domain\":[0.525,0.7375],\"gridcolor\":\"#E1E5ED\",\"showgrid\":false,\"tickfont\":{\"color\":\"#4D5663\"},\"title\":{\"font\":{\"color\":\"#4D5663\"},\"text\":\"\"},\"zerolinecolor\":\"#E1E5ED\"},\"yaxis3\":{\"anchor\":\"x3\",\"domain\":[0.8025,1.0],\"gridcolor\":\"#E1E5ED\",\"showgrid\":false,\"tickfont\":{\"color\":\"#4D5663\"},\"title\":{\"font\":{\"color\":\"#4D5663\"},\"text\":\"\"},\"zerolinecolor\":\"#E1E5ED\"},\"xaxis4\":{\"anchor\":\"y4\",\"domain\":[0.7875,1.0],\"gridcolor\":\"#E1E5ED\",\"showgrid\":false,\"tickfont\":{\"color\":\"#4D5663\"},\"title\":{\"font\":{\"color\":\"#4D5663\"},\"text\":\"\"},\"zerolinecolor\":\"#E1E5ED\"},\"yaxis4\":{\"anchor\":\"x4\",\"domain\":[0.8025,1.0],\"gridcolor\":\"#E1E5ED\",\"showgrid\":false,\"tickfont\":{\"color\":\"#4D5663\"},\"title\":{\"font\":{\"color\":\"#4D5663\"},\"text\":\"\"},\"zerolinecolor\":\"#E1E5ED\"},\"xaxis5\":{\"anchor\":\"y5\",\"domain\":[0.0,0.2125],\"gridcolor\":\"#E1E5ED\",\"showgrid\":false,\"tickfont\":{\"color\":\"#4D5663\"},\"title\":{\"font\":{\"color\":\"#4D5663\"},\"text\":\"\"},\"zerolinecolor\":\"#E1E5ED\"},\"yaxis5\":{\"anchor\":\"x5\",\"domain\":[0.535,0.7325],\"gridcolor\":\"#E1E5ED\",\"showgrid\":false,\"tickfont\":{\"color\":\"#4D5663\"},\"title\":{\"font\":{\"color\":\"#4D5663\"},\"text\":\"\"},\"zerolinecolor\":\"#E1E5ED\"},\"xaxis6\":{\"anchor\":\"y6\",\"domain\":[0.2625,0.475],\"gridcolor\":\"#E1E5ED\",\"showgrid\":false,\"tickfont\":{\"color\":\"#4D5663\"},\"title\":{\"font\":{\"color\":\"#4D5663\"},\"text\":\"\"},\"zerolinecolor\":\"#E1E5ED\"},\"yaxis6\":{\"anchor\":\"x6\",\"domain\":[0.535,0.7325],\"gridcolor\":\"#E1E5ED\",\"showgrid\":false,\"tickfont\":{\"color\":\"#4D5663\"},\"title\":{\"font\":{\"color\":\"#4D5663\"},\"text\":\"\"},\"zerolinecolor\":\"#E1E5ED\"},\"xaxis7\":{\"anchor\":\"y7\",\"domain\":[0.525,0.7375],\"gridcolor\":\"#E1E5ED\",\"showgrid\":false,\"tickfont\":{\"color\":\"#4D5663\"},\"title\":{\"font\":{\"color\":\"#4D5663\"},\"text\":\"\"},\"zerolinecolor\":\"#E1E5ED\"},\"yaxis7\":{\"anchor\":\"x7\",\"domain\":[0.535,0.7325],\"gridcolor\":\"#E1E5ED\",\"showgrid\":false,\"tickfont\":{\"color\":\"#4D5663\"},\"title\":{\"font\":{\"color\":\"#4D5663\"},\"text\":\"\"},\"zerolinecolor\":\"#E1E5ED\"},\"xaxis8\":{\"anchor\":\"y8\",\"domain\":[0.7875,1.0],\"gridcolor\":\"#E1E5ED\",\"showgrid\":false,\"tickfont\":{\"color\":\"#4D5663\"},\"title\":{\"font\":{\"color\":\"#4D5663\"},\"text\":\"\"},\"zerolinecolor\":\"#E1E5ED\"},\"yaxis8\":{\"anchor\":\"x8\",\"domain\":[0.535,0.7325],\"gridcolor\":\"#E1E5ED\",\"showgrid\":false,\"tickfont\":{\"color\":\"#4D5663\"},\"title\":{\"font\":{\"color\":\"#4D5663\"},\"text\":\"\"},\"zerolinecolor\":\"#E1E5ED\"},\"xaxis9\":{\"anchor\":\"y9\",\"domain\":[0.0,0.2125],\"gridcolor\":\"#E1E5ED\",\"showgrid\":false,\"tickfont\":{\"color\":\"#4D5663\"},\"title\":{\"font\":{\"color\":\"#4D5663\"},\"text\":\"\"},\"zerolinecolor\":\"#E1E5ED\"},\"yaxis9\":{\"anchor\":\"x9\",\"domain\":[0.2675,0.465],\"gridcolor\":\"#E1E5ED\",\"showgrid\":false,\"tickfont\":{\"color\":\"#4D5663\"},\"title\":{\"font\":{\"color\":\"#4D5663\"},\"text\":\"\"},\"zerolinecolor\":\"#E1E5ED\"},\"xaxis10\":{\"anchor\":\"y10\",\"domain\":[0.2625,0.475],\"gridcolor\":\"#E1E5ED\",\"showgrid\":false,\"tickfont\":{\"color\":\"#4D5663\"},\"title\":{\"font\":{\"color\":\"#4D5663\"},\"text\":\"\"},\"zerolinecolor\":\"#E1E5ED\"},\"yaxis10\":{\"anchor\":\"x10\",\"domain\":[0.2675,0.465],\"gridcolor\":\"#E1E5ED\",\"showgrid\":false,\"tickfont\":{\"color\":\"#4D5663\"},\"title\":{\"font\":{\"color\":\"#4D5663\"},\"text\":\"\"},\"zerolinecolor\":\"#E1E5ED\"},\"xaxis11\":{\"anchor\":\"y11\",\"domain\":[0.525,0.7375],\"gridcolor\":\"#E1E5ED\",\"showgrid\":false,\"tickfont\":{\"color\":\"#4D5663\"},\"title\":{\"font\":{\"color\":\"#4D5663\"},\"text\":\"\"},\"zerolinecolor\":\"#E1E5ED\"},\"yaxis11\":{\"anchor\":\"x11\",\"domain\":[0.2675,0.465],\"gridcolor\":\"#E1E5ED\",\"showgrid\":false,\"tickfont\":{\"color\":\"#4D5663\"},\"title\":{\"font\":{\"color\":\"#4D5663\"},\"text\":\"\"},\"zerolinecolor\":\"#E1E5ED\"},\"xaxis12\":{\"anchor\":\"y12\",\"domain\":[0.7875,1.0],\"gridcolor\":\"#E1E5ED\",\"showgrid\":false,\"tickfont\":{\"color\":\"#4D5663\"},\"title\":{\"font\":{\"color\":\"#4D5663\"},\"text\":\"\"},\"zerolinecolor\":\"#E1E5ED\"},\"yaxis12\":{\"anchor\":\"x12\",\"domain\":[0.2675,0.465],\"gridcolor\":\"#E1E5ED\",\"showgrid\":false,\"tickfont\":{\"color\":\"#4D5663\"},\"title\":{\"font\":{\"color\":\"#4D5663\"},\"text\":\"\"},\"zerolinecolor\":\"#E1E5ED\"},\"xaxis13\":{\"anchor\":\"y13\",\"domain\":[0.0,0.2125],\"gridcolor\":\"#E1E5ED\",\"showgrid\":false,\"tickfont\":{\"color\":\"#4D5663\"},\"title\":{\"font\":{\"color\":\"#4D5663\"},\"text\":\"\"},\"zerolinecolor\":\"#E1E5ED\"},\"yaxis13\":{\"anchor\":\"x13\",\"domain\":[0.0,0.1975],\"gridcolor\":\"#E1E5ED\",\"showgrid\":false,\"tickfont\":{\"color\":\"#4D5663\"},\"title\":{\"font\":{\"color\":\"#4D5663\"},\"text\":\"\"},\"zerolinecolor\":\"#E1E5ED\"},\"xaxis14\":{\"anchor\":\"y14\",\"domain\":[0.2625,0.475],\"gridcolor\":\"#E1E5ED\",\"showgrid\":false,\"tickfont\":{\"color\":\"#4D5663\"},\"title\":{\"font\":{\"color\":\"#4D5663\"},\"text\":\"\"},\"zerolinecolor\":\"#E1E5ED\"},\"yaxis14\":{\"anchor\":\"x14\",\"domain\":[0.0,0.1975],\"gridcolor\":\"#E1E5ED\",\"showgrid\":false,\"tickfont\":{\"color\":\"#4D5663\"},\"title\":{\"font\":{\"color\":\"#4D5663\"},\"text\":\"\"},\"zerolinecolor\":\"#E1E5ED\"},\"xaxis15\":{\"anchor\":\"y15\",\"domain\":[0.525,0.7375],\"gridcolor\":\"#E1E5ED\",\"showgrid\":false,\"tickfont\":{\"color\":\"#4D5663\"},\"title\":{\"font\":{\"color\":\"#4D5663\"},\"text\":\"\"},\"zerolinecolor\":\"#E1E5ED\"},\"yaxis15\":{\"anchor\":\"x15\",\"domain\":[0.0,0.1975],\"gridcolor\":\"#E1E5ED\",\"showgrid\":false,\"tickfont\":{\"color\":\"#4D5663\"},\"title\":{\"font\":{\"color\":\"#4D5663\"},\"text\":\"\"},\"zerolinecolor\":\"#E1E5ED\"},\"xaxis16\":{\"anchor\":\"y16\",\"domain\":[0.7875,1.0],\"gridcolor\":\"#E1E5ED\",\"showgrid\":false,\"tickfont\":{\"color\":\"#4D5663\"},\"title\":{\"font\":{\"color\":\"#4D5663\"},\"text\":\"\"},\"zerolinecolor\":\"#E1E5ED\"},\"yaxis16\":{\"anchor\":\"x16\",\"domain\":[0.0,0.1975],\"gridcolor\":\"#E1E5ED\",\"showgrid\":false,\"tickfont\":{\"color\":\"#4D5663\"},\"title\":{\"font\":{\"color\":\"#4D5663\"},\"text\":\"\"},\"zerolinecolor\":\"#E1E5ED\"}},                        {\"showLink\": true, \"linkText\": \"Export to plot.ly\", \"plotlyServerURL\": \"https://plot.ly\", \"responsive\": true}                    ).then(function(){\n",
       "                            \n",
       "var gd = document.getElementById('a010e224-856c-449d-ad53-e611a1c8251b');\n",
       "var x = new MutationObserver(function (mutations, observer) {{\n",
       "        var display = window.getComputedStyle(gd).display;\n",
       "        if (!display || display === 'none') {{\n",
       "            console.log([gd, 'removed!']);\n",
       "            Plotly.purge(gd);\n",
       "            observer.disconnect();\n",
       "        }}\n",
       "}});\n",
       "\n",
       "// Listen for the removal of the full notebook cells\n",
       "var notebookContainer = gd.closest('#notebook-container');\n",
       "if (notebookContainer) {{\n",
       "    x.observe(notebookContainer, {childList: true});\n",
       "}}\n",
       "\n",
       "// Listen for the clearing of the current output cell\n",
       "var outputEl = gd.closest('.output');\n",
       "if (outputEl) {{\n",
       "    x.observe(outputEl, {childList: true});\n",
       "}}\n",
       "\n",
       "                        })                };                });            </script>        </div>"
      ]
     },
     "metadata": {},
     "output_type": "display_data"
    }
   ],
   "source": [
    "df.scatter_matrix()"
   ]
  },
  {
   "cell_type": "markdown",
   "metadata": {
    "collapsed": true,
    "jupyter": {
     "outputs_hidden": true
    }
   },
   "source": [
    "# Great Job!"
   ]
  }
 ],
 "metadata": {
  "kernelspec": {
   "display_name": "Python 3 (ipykernel)",
   "language": "python",
   "name": "python3"
  },
  "language_info": {
   "codemirror_mode": {
    "name": "ipython",
    "version": 3
   },
   "file_extension": ".py",
   "mimetype": "text/x-python",
   "name": "python",
   "nbconvert_exporter": "python",
   "pygments_lexer": "ipython3",
   "version": "3.12.1"
  }
 },
 "nbformat": 4,
 "nbformat_minor": 4
}
